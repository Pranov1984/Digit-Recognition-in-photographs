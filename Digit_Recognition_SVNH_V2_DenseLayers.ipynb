{
  "nbformat": 4,
  "nbformat_minor": 0,
  "metadata": {
    "colab": {
      "name": "Digit Recognition_SVNH_V2_DenseLayers.ipynb",
      "provenance": [],
      "collapsed_sections": [],
      "authorship_tag": "ABX9TyNG2hf17u93kmPySxAec+cb",
      "include_colab_link": true
    },
    "kernelspec": {
      "name": "python3",
      "display_name": "Python 3"
    }
  },
  "cells": [
    {
      "cell_type": "markdown",
      "metadata": {
        "id": "view-in-github",
        "colab_type": "text"
      },
      "source": [
        "<a href=\"https://colab.research.google.com/github/Pranov1984/Digit-Recognition-in-photographs/blob/master/Digit_Recognition_SVNH_V2_DenseLayers.ipynb\" target=\"_parent\"><img src=\"https://colab.research.google.com/assets/colab-badge.svg\" alt=\"Open In Colab\"/></a>"
      ]
    },
    {
      "cell_type": "code",
      "metadata": {
        "id": "LfTXBBW4-Cgh",
        "outputId": "2f5b058c-464c-4f92-903a-85f3b6dc148f",
        "colab": {
          "base_uri": "https://localhost:8080/",
          "height": 34
        }
      },
      "source": [
        "from google.colab import drive\n",
        "drive.mount('/content/drive')"
      ],
      "execution_count": null,
      "outputs": [
        {
          "output_type": "stream",
          "text": [
            "Mounted at /content/drive\n"
          ],
          "name": "stdout"
        }
      ]
    },
    {
      "cell_type": "code",
      "metadata": {
        "id": "unhrbf3H-QUI"
      },
      "source": [
        "# Import the data\n",
        "import h5py\n",
        "import numpy as np\n",
        "\n",
        "ds=h5py.File('/content/drive/My Drive/Colab Notebooks/AIML/ANN/Project SVNH - NN & DL/SVHN_single_grey1.h5','r')\n",
        "\n",
        "X_train = ds['X_train'][:]\n",
        "y_train = ds['y_train'][:]\n",
        "X_test = ds['X_test'][:]\n",
        "y_test = ds['y_test'][:]\n",
        "\n",
        "# Close this file\n",
        "ds.close()"
      ],
      "execution_count": null,
      "outputs": []
    },
    {
      "cell_type": "code",
      "metadata": {
        "id": "ouX6lFij-Y7b",
        "outputId": "71122b41-604d-48a0-e9ed-f1a0afe05add",
        "colab": {
          "base_uri": "https://localhost:8080/",
          "height": 34
        }
      },
      "source": [
        "X_train.shape , X_test.shape, y_train.shape, y_test.shape"
      ],
      "execution_count": null,
      "outputs": [
        {
          "output_type": "execute_result",
          "data": {
            "text/plain": [
              "((42000, 32, 32), (18000, 32, 32), (42000,), (18000,))"
            ]
          },
          "metadata": {
            "tags": []
          },
          "execution_count": 6
        }
      ]
    },
    {
      "cell_type": "code",
      "metadata": {
        "id": "5AQj_BDO-y4S",
        "outputId": "a3e7fcee-84aa-4ec3-dc93-06c5bf4da502",
        "colab": {
          "base_uri": "https://localhost:8080/",
          "height": 34
        }
      },
      "source": [
        "type(X_train), type(y_train)"
      ],
      "execution_count": null,
      "outputs": [
        {
          "output_type": "execute_result",
          "data": {
            "text/plain": [
              "(numpy.ndarray, numpy.ndarray)"
            ]
          },
          "metadata": {
            "tags": []
          },
          "execution_count": 7
        }
      ]
    },
    {
      "cell_type": "code",
      "metadata": {
        "id": "A2c4vocz-cZD"
      },
      "source": [
        "import matplotlib.pyplot as plt\n",
        "%matplotlib inline"
      ],
      "execution_count": null,
      "outputs": []
    },
    {
      "cell_type": "code",
      "metadata": {
        "id": "4ZIOcE3y-nca",
        "outputId": "af693edd-2c90-4deb-a834-cec29a69e03d",
        "colab": {
          "base_uri": "https://localhost:8080/",
          "height": 300
        }
      },
      "source": [
        "print(y_train[0])\n",
        "plt.imshow(X_train[0], cmap='gray')"
      ],
      "execution_count": null,
      "outputs": [
        {
          "output_type": "stream",
          "text": [
            "2\n"
          ],
          "name": "stdout"
        },
        {
          "output_type": "execute_result",
          "data": {
            "text/plain": [
              "<matplotlib.image.AxesImage at 0x7fc5772e3898>"
            ]
          },
          "metadata": {
            "tags": []
          },
          "execution_count": 23
        },
        {
          "output_type": "display_data",
          "data": {
            "image/png": "[encoded data removed]",
            "text/plain": [
              "<Figure size 432x288 with 1 Axes>"
            ]
          },
          "metadata": {
            "tags": [],
            "needs_background": "light"
          }
        }
      ]
    },
    {
      "cell_type": "code",
      "metadata": {
        "id": "2MQLidYK_DuY",
        "outputId": "1df81097-652d-43d9-b217-5ec0483e7eeb",
        "colab": {
          "base_uri": "https://localhost:8080/",
          "height": 166
        }
      },
      "source": [
        "plt.figure(figsize=(25,15))\n",
        "col=10\n",
        "rows=1\n",
        "for i in range(10):\n",
        "  plt.subplot(rows,col,i+1)\n",
        "  plt.imshow(X_train[i])\n",
        "  plt.axis('off')\n",
        "plt.show()\n",
        "\n",
        "print('label for each of the above image: %s' % (y_train[0:10]))"
      ],
      "execution_count": null,
      "outputs": [
        {
          "output_type": "display_data",
          "data": {
            "image/png": "[encoded data removed]",
            "text/plain": [
              "<Figure size 1800x1080 with 10 Axes>"
            ]
          },
          "metadata": {
            "tags": [],
            "needs_background": "light"
          }
        },
        {
          "output_type": "stream",
          "text": [
            "label for each of the above image: [2 6 7 4 4 0 3 0 7 3]\n"
          ],
          "name": "stdout"
        }
      ]
    },
    {
      "cell_type": "markdown",
      "metadata": {
        "id": "gfsfz8jCBa8b"
      },
      "source": [
        "## PreProcessing\n",
        "\n",
        "*   Flatten the data i.e. reduce it to grey scale (1 channel)\n",
        "*   Normalize the data\n",
        "\n",
        "\n"
      ]
    },
    {
      "cell_type": "code",
      "metadata": {
        "id": "HJlWHvi1_2j-"
      },
      "source": [
        "train_X = X_train.reshape(X_train.shape[0], 32*32)\n",
        "train_X = train_X.astype('float64')/255.0\n",
        "test_X  = X_test.reshape(X_test.shape[0], 32*32)\n",
        "test_X  = test_X.astype('float64')/255.0"
      ],
      "execution_count": null,
      "outputs": []
    },
    {
      "cell_type": "markdown",
      "metadata": {
        "id": "xgD9IcZgDVp1"
      },
      "source": [
        "### One Hot encode the y variable"
      ]
    },
    {
      "cell_type": "code",
      "metadata": {
        "id": "e1DGgL7aDT8Y"
      },
      "source": [
        "from keras.utils import to_categorical\n",
        "\n",
        "train_y = to_categorical(y_train, 10)\n",
        "test_y = to_categorical(y_test, 10)"
      ],
      "execution_count": null,
      "outputs": []
    },
    {
      "cell_type": "markdown",
      "metadata": {
        "id": "0qIhvlFYC5OF"
      },
      "source": [
        "# Split the training data to have another set for validtion of the model"
      ]
    },
    {
      "cell_type": "code",
      "metadata": {
        "id": "49_Nl1psBx4c"
      },
      "source": [
        "from sklearn.model_selection import train_test_split\n",
        "\n",
        "train_X, val_X, train_y, val_y = train_test_split(train_X, train_y, random_state = 1 , test_size=0.2)"
      ],
      "execution_count": null,
      "outputs": []
    },
    {
      "cell_type": "code",
      "metadata": {
        "id": "VG_JPD02ERJZ",
        "outputId": "ddfc2163-0cba-4d7a-8b43-a5c557098d6a",
        "colab": {
          "base_uri": "https://localhost:8080/",
          "height": 118
        }
      },
      "source": [
        "train_X.shape , train_y.shape, test_X.shape, test_y.shape, val_X.shape, val_y.shape"
      ],
      "execution_count": null,
      "outputs": [
        {
          "output_type": "execute_result",
          "data": {
            "text/plain": [
              "((26880, 1024),\n",
              " (26880, 10),\n",
              " (18000, 1024),\n",
              " (18000, 10),\n",
              " (6720, 1024),\n",
              " (6720, 10))"
            ]
          },
          "metadata": {
            "tags": []
          },
          "execution_count": 38
        }
      ]
    },
    {
      "cell_type": "markdown",
      "metadata": {
        "id": "NGcZub0NEv3T"
      },
      "source": [
        "### Model Building"
      ]
    },
    {
      "cell_type": "code",
      "metadata": {
        "id": "p5jtcbMFEk0x"
      },
      "source": [
        "from keras.models import Sequential\n",
        "from keras.layers import Dense, BatchNormalization, Activation, Dropout\n",
        "from keras import optimizers"
      ],
      "execution_count": null,
      "outputs": []
    },
    {
      "cell_type": "code",
      "metadata": {
        "id": "pTYh9EHvFF97",
        "outputId": "9b53dbc7-2b4d-4747-edcd-059c59bfe77f",
        "colab": {
          "base_uri": "https://localhost:8080/",
          "height": 252
        }
      },
      "source": [
        "model =  Sequential()\n",
        "model.add(Dense(512, input_shape = (32*32,), activation='relu', kernel_initializer='he_normal'))\n",
        "model.add(BatchNormalization())\n",
        "model.add(Dense(10, activation='softmax'))\n",
        "model.summary()"
      ],
      "execution_count": null,
      "outputs": [
        {
          "output_type": "stream",
          "text": [
            "Model: \"sequential_9\"\n",
            "_________________________________________________________________\n",
            "Layer (type)                 Output Shape              Param #   \n",
            "=================================================================\n",
            "dense_9 (Dense)              (None, 512)               524800    \n",
            "_________________________________________________________________\n",
            "batch_normalization_3 (Batch (None, 512)               2048      \n",
            "_________________________________________________________________\n",
            "dense_10 (Dense)             (None, 10)                5130      \n",
            "=================================================================\n",
            "Total params: 531,978\n",
            "Trainable params: 530,954\n",
            "Non-trainable params: 1,024\n",
            "_________________________________________________________________\n"
          ],
          "name": "stdout"
        }
      ]
    },
    {
      "cell_type": "code",
      "metadata": {
        "id": "caEeQGphJSs3"
      },
      "source": [
        "opt = optimizers.Adam(learning_rate=0.01)\n",
        "model.compile(optimizer = opt, loss='categorical_crossentropy', metrics='accuracy')"
      ],
      "execution_count": null,
      "outputs": []
    },
    {
      "cell_type": "code",
      "metadata": {
        "id": "E8cnUMqQK2OP",
        "outputId": "9975f7ca-4b59-400c-a0fc-e2dafe3d872f",
        "colab": {
          "base_uri": "https://localhost:8080/",
          "height": 1000
        }
      },
      "source": [
        "model.fit(train_X, train_y, validation_data=(test_X, test_y), batch_size=1024, epochs=50)"
      ],
      "execution_count": null,
      "outputs": [
        {
          "output_type": "stream",
          "text": [
            "Epoch 1/50\n",
            "27/27 [==============================] - 2s 79ms/step - loss: 2.4821 - accuracy: 0.1381 - val_loss: 4.6193 - val_accuracy: 0.0973\n",
            "Epoch 2/50\n",
            "27/27 [==============================] - 2s 71ms/step - loss: 2.0498 - accuracy: 0.2679 - val_loss: 2.1651 - val_accuracy: 0.2582\n",
            "Epoch 3/50\n",
            "27/27 [==============================] - 2s 70ms/step - loss: 1.7819 - accuracy: 0.3874 - val_loss: 1.9087 - val_accuracy: 0.3141\n",
            "Epoch 4/50\n",
            "27/27 [==============================] - 2s 69ms/step - loss: 1.5470 - accuracy: 0.4839 - val_loss: 1.9704 - val_accuracy: 0.3373\n",
            "Epoch 5/50\n",
            "27/27 [==============================] - 2s 68ms/step - loss: 1.4126 - accuracy: 0.5414 - val_loss: 1.8156 - val_accuracy: 0.3903\n",
            "Epoch 6/50\n",
            "27/27 [==============================] - 2s 69ms/step - loss: 1.2955 - accuracy: 0.5898 - val_loss: 1.6517 - val_accuracy: 0.4487\n",
            "Epoch 7/50\n",
            "27/27 [==============================] - 2s 68ms/step - loss: 1.1939 - accuracy: 0.6273 - val_loss: 1.5470 - val_accuracy: 0.4955\n",
            "Epoch 8/50\n",
            "27/27 [==============================] - 2s 69ms/step - loss: 1.1887 - accuracy: 0.6299 - val_loss: 1.3012 - val_accuracy: 0.5694\n",
            "Epoch 9/50\n",
            "27/27 [==============================] - 2s 68ms/step - loss: 1.1212 - accuracy: 0.6561 - val_loss: 1.4731 - val_accuracy: 0.5167\n",
            "Epoch 10/50\n",
            "27/27 [==============================] - 2s 69ms/step - loss: 1.0780 - accuracy: 0.6685 - val_loss: 1.2731 - val_accuracy: 0.5880\n",
            "Epoch 11/50\n",
            "27/27 [==============================] - 2s 70ms/step - loss: 1.0518 - accuracy: 0.6811 - val_loss: 1.5821 - val_accuracy: 0.5247\n",
            "Epoch 12/50\n",
            "27/27 [==============================] - 2s 70ms/step - loss: 1.0558 - accuracy: 0.6779 - val_loss: 1.6616 - val_accuracy: 0.5072\n",
            "Epoch 13/50\n",
            "27/27 [==============================] - 2s 70ms/step - loss: 1.0194 - accuracy: 0.6898 - val_loss: 1.4761 - val_accuracy: 0.5458\n",
            "Epoch 14/50\n",
            "27/27 [==============================] - 2s 69ms/step - loss: 0.9768 - accuracy: 0.7070 - val_loss: 1.3100 - val_accuracy: 0.6006\n",
            "Epoch 15/50\n",
            "27/27 [==============================] - 2s 69ms/step - loss: 0.9765 - accuracy: 0.7047 - val_loss: 1.6390 - val_accuracy: 0.5361\n",
            "Epoch 16/50\n",
            "27/27 [==============================] - 2s 68ms/step - loss: 0.9302 - accuracy: 0.7212 - val_loss: 1.2354 - val_accuracy: 0.6257\n",
            "Epoch 17/50\n",
            "27/27 [==============================] - 2s 70ms/step - loss: 0.9237 - accuracy: 0.7181 - val_loss: 1.2554 - val_accuracy: 0.6246\n",
            "Epoch 18/50\n",
            "27/27 [==============================] - 2s 70ms/step - loss: 0.9114 - accuracy: 0.7228 - val_loss: 1.3229 - val_accuracy: 0.5897\n",
            "Epoch 19/50\n",
            "27/27 [==============================] - 2s 69ms/step - loss: 0.8813 - accuracy: 0.7371 - val_loss: 1.2423 - val_accuracy: 0.6294\n",
            "Epoch 20/50\n",
            "27/27 [==============================] - 2s 68ms/step - loss: 0.8633 - accuracy: 0.7401 - val_loss: 1.3084 - val_accuracy: 0.6127\n",
            "Epoch 21/50\n",
            "27/27 [==============================] - 2s 68ms/step - loss: 0.8774 - accuracy: 0.7360 - val_loss: 1.3214 - val_accuracy: 0.6017\n",
            "Epoch 22/50\n",
            "27/27 [==============================] - 2s 69ms/step - loss: 0.8759 - accuracy: 0.7372 - val_loss: 1.2268 - val_accuracy: 0.6310\n",
            "Epoch 23/50\n",
            "27/27 [==============================] - 2s 68ms/step - loss: 0.8380 - accuracy: 0.7504 - val_loss: 1.5304 - val_accuracy: 0.5767\n",
            "Epoch 24/50\n",
            "27/27 [==============================] - 2s 69ms/step - loss: 0.8478 - accuracy: 0.7461 - val_loss: 1.6472 - val_accuracy: 0.5619\n",
            "Epoch 25/50\n",
            "27/27 [==============================] - 2s 71ms/step - loss: 0.8420 - accuracy: 0.7466 - val_loss: 1.8850 - val_accuracy: 0.5183\n",
            "Epoch 26/50\n",
            "27/27 [==============================] - 2s 69ms/step - loss: 0.8524 - accuracy: 0.7452 - val_loss: 1.3496 - val_accuracy: 0.6289\n",
            "Epoch 27/50\n",
            "27/27 [==============================] - 2s 69ms/step - loss: 0.8346 - accuracy: 0.7499 - val_loss: 1.0715 - val_accuracy: 0.6888\n",
            "Epoch 28/50\n",
            "27/27 [==============================] - 2s 68ms/step - loss: 0.8176 - accuracy: 0.7558 - val_loss: 1.5800 - val_accuracy: 0.5828\n",
            "Epoch 29/50\n",
            "27/27 [==============================] - 2s 69ms/step - loss: 0.7991 - accuracy: 0.7611 - val_loss: 1.2461 - val_accuracy: 0.6456\n",
            "Epoch 30/50\n",
            "27/27 [==============================] - 2s 67ms/step - loss: 0.8151 - accuracy: 0.7567 - val_loss: 1.4522 - val_accuracy: 0.6034\n",
            "Epoch 31/50\n",
            "27/27 [==============================] - 2s 69ms/step - loss: 0.8017 - accuracy: 0.7601 - val_loss: 1.6500 - val_accuracy: 0.5745\n",
            "Epoch 32/50\n",
            "27/27 [==============================] - 2s 69ms/step - loss: 0.8047 - accuracy: 0.7600 - val_loss: 1.5539 - val_accuracy: 0.5793\n",
            "Epoch 33/50\n",
            "27/27 [==============================] - 2s 72ms/step - loss: 0.8100 - accuracy: 0.7596 - val_loss: 1.2067 - val_accuracy: 0.6573\n",
            "Epoch 34/50\n",
            "27/27 [==============================] - 2s 71ms/step - loss: 0.7736 - accuracy: 0.7676 - val_loss: 1.0693 - val_accuracy: 0.6881\n",
            "Epoch 35/50\n",
            "27/27 [==============================] - 2s 70ms/step - loss: 0.7543 - accuracy: 0.7772 - val_loss: 1.0872 - val_accuracy: 0.6877\n",
            "Epoch 36/50\n",
            "27/27 [==============================] - 2s 69ms/step - loss: 0.7624 - accuracy: 0.7720 - val_loss: 1.2096 - val_accuracy: 0.6486\n",
            "Epoch 37/50\n",
            "27/27 [==============================] - 2s 69ms/step - loss: 0.7508 - accuracy: 0.7785 - val_loss: 1.2594 - val_accuracy: 0.6520\n",
            "Epoch 38/50\n",
            "27/27 [==============================] - 2s 69ms/step - loss: 0.7576 - accuracy: 0.7738 - val_loss: 1.1806 - val_accuracy: 0.6631\n",
            "Epoch 39/50\n",
            "27/27 [==============================] - 2s 69ms/step - loss: 0.7506 - accuracy: 0.7763 - val_loss: 1.2722 - val_accuracy: 0.6386\n",
            "Epoch 40/50\n",
            "27/27 [==============================] - 2s 69ms/step - loss: 0.7463 - accuracy: 0.7775 - val_loss: 1.6028 - val_accuracy: 0.5897\n",
            "Epoch 41/50\n",
            "27/27 [==============================] - 2s 70ms/step - loss: 0.7416 - accuracy: 0.7799 - val_loss: 1.0760 - val_accuracy: 0.6929\n",
            "Epoch 42/50\n",
            "27/27 [==============================] - 2s 69ms/step - loss: 0.7265 - accuracy: 0.7832 - val_loss: 1.2800 - val_accuracy: 0.6494\n",
            "Epoch 43/50\n",
            "27/27 [==============================] - 2s 68ms/step - loss: 0.7479 - accuracy: 0.7738 - val_loss: 1.3453 - val_accuracy: 0.6201\n",
            "Epoch 44/50\n",
            "27/27 [==============================] - 2s 69ms/step - loss: 0.7520 - accuracy: 0.7751 - val_loss: 1.1987 - val_accuracy: 0.6511\n",
            "Epoch 45/50\n",
            "27/27 [==============================] - 2s 69ms/step - loss: 0.7407 - accuracy: 0.7798 - val_loss: 1.2552 - val_accuracy: 0.6430\n",
            "Epoch 46/50\n",
            "27/27 [==============================] - 2s 71ms/step - loss: 0.7306 - accuracy: 0.7830 - val_loss: 1.6464 - val_accuracy: 0.5789\n",
            "Epoch 47/50\n",
            "27/27 [==============================] - 2s 69ms/step - loss: 0.7294 - accuracy: 0.7814 - val_loss: 1.2307 - val_accuracy: 0.6514\n",
            "Epoch 48/50\n",
            "27/27 [==============================] - 2s 69ms/step - loss: 0.7158 - accuracy: 0.7876 - val_loss: 1.2794 - val_accuracy: 0.6431\n",
            "Epoch 49/50\n",
            "27/27 [==============================] - 2s 72ms/step - loss: 0.6997 - accuracy: 0.7926 - val_loss: 1.4174 - val_accuracy: 0.6146\n",
            "Epoch 50/50\n",
            "27/27 [==============================] - 2s 70ms/step - loss: 0.7308 - accuracy: 0.7812 - val_loss: 1.3775 - val_accuracy: 0.6354\n"
          ],
          "name": "stdout"
        },
        {
          "output_type": "execute_result",
          "data": {
            "text/plain": [
              "<tensorflow.python.keras.callbacks.History at 0x7fc539c60d30>"
            ]
          },
          "metadata": {
            "tags": []
          },
          "execution_count": 54
        }
      ]
    },
    {
      "cell_type": "code",
      "metadata": {
        "id": "MRsVC3U1LH65",
        "outputId": "926789bc-5985-4f4f-ac92-9ddc6b5f6890",
        "colab": {
          "base_uri": "https://localhost:8080/",
          "height": 34
        }
      },
      "source": [
        "results = model.evaluate(val_X, val_y)"
      ],
      "execution_count": null,
      "outputs": [
        {
          "output_type": "stream",
          "text": [
            "210/210 [==============================] - 1s 3ms/step - loss: 1.3707 - accuracy: 0.6354\n"
          ],
          "name": "stdout"
        }
      ]
    },
    {
      "cell_type": "markdown",
      "metadata": {
        "id": "9KsUnf5kLwIy"
      },
      "source": [
        "Try with a differnt (reduced) batch size"
      ]
    },
    {
      "cell_type": "code",
      "metadata": {
        "id": "dLvUsHTgLtnL",
        "outputId": "78a6a608-26f0-4df2-c7bd-8a32f15f01f3",
        "colab": {
          "base_uri": "https://localhost:8080/",
          "height": 1000
        }
      },
      "source": [
        "h = model.fit(train_X, train_y, validation_data=(test_X, test_y), batch_size=512, epochs=50)"
      ],
      "execution_count": null,
      "outputs": [
        {
          "output_type": "stream",
          "text": [
            "Epoch 1/50\n",
            "53/53 [==============================] - 2s 39ms/step - loss: 0.5223 - accuracy: 0.8407 - val_loss: 1.0245 - val_accuracy: 0.7331\n",
            "Epoch 2/50\n",
            "53/53 [==============================] - 2s 38ms/step - loss: 0.5249 - accuracy: 0.8388 - val_loss: 0.9615 - val_accuracy: 0.7431\n",
            "Epoch 3/50\n",
            "53/53 [==============================] - 2s 38ms/step - loss: 0.5228 - accuracy: 0.8410 - val_loss: 0.9323 - val_accuracy: 0.7509\n",
            "Epoch 4/50\n",
            "53/53 [==============================] - 2s 38ms/step - loss: 0.5277 - accuracy: 0.8388 - val_loss: 1.0549 - val_accuracy: 0.7251\n",
            "Epoch 5/50\n",
            "53/53 [==============================] - 2s 39ms/step - loss: 0.5220 - accuracy: 0.8424 - val_loss: 0.9996 - val_accuracy: 0.7388\n",
            "Epoch 6/50\n",
            "53/53 [==============================] - 2s 38ms/step - loss: 0.5248 - accuracy: 0.8420 - val_loss: 1.0342 - val_accuracy: 0.7237\n",
            "Epoch 7/50\n",
            "53/53 [==============================] - 2s 39ms/step - loss: 0.5222 - accuracy: 0.8401 - val_loss: 0.8962 - val_accuracy: 0.7558\n",
            "Epoch 8/50\n",
            "53/53 [==============================] - 2s 38ms/step - loss: 0.5175 - accuracy: 0.8410 - val_loss: 1.1228 - val_accuracy: 0.7004\n",
            "Epoch 9/50\n",
            "53/53 [==============================] - 2s 38ms/step - loss: 0.5387 - accuracy: 0.8365 - val_loss: 0.9706 - val_accuracy: 0.7375\n",
            "Epoch 10/50\n",
            "53/53 [==============================] - 2s 38ms/step - loss: 0.5061 - accuracy: 0.8478 - val_loss: 0.9778 - val_accuracy: 0.7428\n",
            "Epoch 11/50\n",
            "53/53 [==============================] - 2s 38ms/step - loss: 0.5091 - accuracy: 0.8459 - val_loss: 0.9663 - val_accuracy: 0.7439\n",
            "Epoch 12/50\n",
            "53/53 [==============================] - 2s 38ms/step - loss: 0.4957 - accuracy: 0.8494 - val_loss: 0.9228 - val_accuracy: 0.7557\n",
            "Epoch 13/50\n",
            "53/53 [==============================] - 2s 38ms/step - loss: 0.5241 - accuracy: 0.8401 - val_loss: 1.5993 - val_accuracy: 0.6322\n",
            "Epoch 14/50\n",
            "53/53 [==============================] - 2s 39ms/step - loss: 0.5054 - accuracy: 0.8460 - val_loss: 0.9594 - val_accuracy: 0.7497\n",
            "Epoch 15/50\n",
            "53/53 [==============================] - 2s 38ms/step - loss: 0.5013 - accuracy: 0.8474 - val_loss: 0.8931 - val_accuracy: 0.7628\n",
            "Epoch 16/50\n",
            "53/53 [==============================] - 2s 38ms/step - loss: 0.5134 - accuracy: 0.8448 - val_loss: 1.3996 - val_accuracy: 0.6567\n",
            "Epoch 17/50\n",
            "53/53 [==============================] - 2s 38ms/step - loss: 0.5224 - accuracy: 0.8385 - val_loss: 1.1449 - val_accuracy: 0.6993\n",
            "Epoch 18/50\n",
            "53/53 [==============================] - 2s 40ms/step - loss: 0.5088 - accuracy: 0.8448 - val_loss: 0.8446 - val_accuracy: 0.7701\n",
            "Epoch 19/50\n",
            "53/53 [==============================] - 2s 40ms/step - loss: 0.4993 - accuracy: 0.8478 - val_loss: 0.8888 - val_accuracy: 0.7617\n",
            "Epoch 20/50\n",
            "53/53 [==============================] - 2s 39ms/step - loss: 0.4939 - accuracy: 0.8513 - val_loss: 1.1381 - val_accuracy: 0.7047\n",
            "Epoch 21/50\n",
            "53/53 [==============================] - 2s 39ms/step - loss: 0.4995 - accuracy: 0.8482 - val_loss: 0.8133 - val_accuracy: 0.7839\n",
            "Epoch 22/50\n",
            "53/53 [==============================] - 2s 38ms/step - loss: 0.5001 - accuracy: 0.8479 - val_loss: 0.9156 - val_accuracy: 0.7565\n",
            "Epoch 23/50\n",
            "53/53 [==============================] - 2s 39ms/step - loss: 0.5407 - accuracy: 0.8352 - val_loss: 1.3573 - val_accuracy: 0.6722\n",
            "Epoch 24/50\n",
            "53/53 [==============================] - 2s 38ms/step - loss: 0.5287 - accuracy: 0.8369 - val_loss: 1.1924 - val_accuracy: 0.6997\n",
            "Epoch 25/50\n",
            "53/53 [==============================] - 2s 38ms/step - loss: 0.5027 - accuracy: 0.8469 - val_loss: 0.9044 - val_accuracy: 0.7590\n",
            "Epoch 26/50\n",
            "53/53 [==============================] - 2s 38ms/step - loss: 0.4918 - accuracy: 0.8508 - val_loss: 1.2288 - val_accuracy: 0.6979\n",
            "Epoch 27/50\n",
            "53/53 [==============================] - 2s 38ms/step - loss: 0.4979 - accuracy: 0.8472 - val_loss: 1.0721 - val_accuracy: 0.7264\n",
            "Epoch 28/50\n",
            "53/53 [==============================] - 2s 38ms/step - loss: 0.5160 - accuracy: 0.8412 - val_loss: 1.0014 - val_accuracy: 0.7341\n",
            "Epoch 29/50\n",
            "53/53 [==============================] - 2s 38ms/step - loss: 0.4978 - accuracy: 0.8484 - val_loss: 0.9104 - val_accuracy: 0.7601\n",
            "Epoch 30/50\n",
            "53/53 [==============================] - 2s 38ms/step - loss: 0.5073 - accuracy: 0.8457 - val_loss: 1.1680 - val_accuracy: 0.7112\n",
            "Epoch 31/50\n",
            "53/53 [==============================] - 2s 38ms/step - loss: 0.5050 - accuracy: 0.8456 - val_loss: 0.9046 - val_accuracy: 0.7599\n",
            "Epoch 32/50\n",
            "53/53 [==============================] - 2s 39ms/step - loss: 0.5052 - accuracy: 0.8457 - val_loss: 0.8730 - val_accuracy: 0.7697\n",
            "Epoch 33/50\n",
            "53/53 [==============================] - 2s 44ms/step - loss: 0.4887 - accuracy: 0.8529 - val_loss: 0.9282 - val_accuracy: 0.7529\n",
            "Epoch 34/50\n",
            "53/53 [==============================] - 2s 45ms/step - loss: 0.5089 - accuracy: 0.8429 - val_loss: 1.1900 - val_accuracy: 0.6953\n",
            "Epoch 35/50\n",
            "53/53 [==============================] - 2s 43ms/step - loss: 0.5084 - accuracy: 0.8458 - val_loss: 1.2037 - val_accuracy: 0.7062\n",
            "Epoch 36/50\n",
            "53/53 [==============================] - 2s 46ms/step - loss: 0.4974 - accuracy: 0.8480 - val_loss: 0.8641 - val_accuracy: 0.7713\n",
            "Epoch 37/50\n",
            "53/53 [==============================] - 2s 45ms/step - loss: 0.4840 - accuracy: 0.8516 - val_loss: 1.1161 - val_accuracy: 0.7108\n",
            "Epoch 38/50\n",
            "53/53 [==============================] - 2s 43ms/step - loss: 0.4849 - accuracy: 0.8506 - val_loss: 1.0101 - val_accuracy: 0.7446\n",
            "Epoch 39/50\n",
            "53/53 [==============================] - 2s 45ms/step - loss: 0.4880 - accuracy: 0.8536 - val_loss: 0.9064 - val_accuracy: 0.7661\n",
            "Epoch 40/50\n",
            "53/53 [==============================] - 2s 45ms/step - loss: 0.4890 - accuracy: 0.8509 - val_loss: 1.1017 - val_accuracy: 0.7224\n",
            "Epoch 41/50\n",
            "53/53 [==============================] - 2s 46ms/step - loss: 0.4931 - accuracy: 0.8486 - val_loss: 1.0098 - val_accuracy: 0.7399\n",
            "Epoch 42/50\n",
            "53/53 [==============================] - 2s 45ms/step - loss: 0.4892 - accuracy: 0.8497 - val_loss: 1.2338 - val_accuracy: 0.6997\n",
            "Epoch 43/50\n",
            "53/53 [==============================] - 2s 39ms/step - loss: 0.4904 - accuracy: 0.8520 - val_loss: 0.9487 - val_accuracy: 0.7503\n",
            "Epoch 44/50\n",
            "53/53 [==============================] - 2s 39ms/step - loss: 0.4883 - accuracy: 0.8520 - val_loss: 0.8396 - val_accuracy: 0.7829\n",
            "Epoch 45/50\n",
            "53/53 [==============================] - 2s 38ms/step - loss: 0.4863 - accuracy: 0.8506 - val_loss: 1.0395 - val_accuracy: 0.7274\n",
            "Epoch 46/50\n",
            "53/53 [==============================] - 2s 39ms/step - loss: 0.4754 - accuracy: 0.8571 - val_loss: 0.9508 - val_accuracy: 0.7546\n",
            "Epoch 47/50\n",
            "53/53 [==============================] - 2s 38ms/step - loss: 0.4743 - accuracy: 0.8539 - val_loss: 0.7996 - val_accuracy: 0.7889\n",
            "Epoch 48/50\n",
            "53/53 [==============================] - 2s 38ms/step - loss: 0.4779 - accuracy: 0.8547 - val_loss: 0.9649 - val_accuracy: 0.7527\n",
            "Epoch 49/50\n",
            "53/53 [==============================] - 2s 40ms/step - loss: 0.4896 - accuracy: 0.8513 - val_loss: 1.1044 - val_accuracy: 0.7216\n",
            "Epoch 50/50\n",
            "53/53 [==============================] - 2s 38ms/step - loss: 0.5016 - accuracy: 0.8462 - val_loss: 0.9735 - val_accuracy: 0.7462\n"
          ],
          "name": "stdout"
        }
      ]
    },
    {
      "cell_type": "code",
      "metadata": {
        "id": "ygh7WN2xOH13",
        "outputId": "79bbac47-3034-4e38-c417-1ff6158ea6bd",
        "colab": {
          "base_uri": "https://localhost:8080/",
          "height": 34
        }
      },
      "source": [
        "results = model.evaluate(test_X, test_y)"
      ],
      "execution_count": null,
      "outputs": [
        {
          "output_type": "stream",
          "text": [
            "563/563 [==============================] - 1s 3ms/step - loss: 0.9735 - accuracy: 0.7462\n"
          ],
          "name": "stdout"
        }
      ]
    },
    {
      "cell_type": "code",
      "metadata": {
        "id": "IJp8H5bMNCiG",
        "outputId": "f31b0eb5-7763-4e79-f941-8b024ba8c2c8",
        "colab": {
          "base_uri": "https://localhost:8080/",
          "height": 34
        }
      },
      "source": [
        "results = model.evaluate(val_X, val_y)"
      ],
      "execution_count": null,
      "outputs": [
        {
          "output_type": "stream",
          "text": [
            "210/210 [==============================] - 1s 3ms/step - loss: 0.9613 - accuracy: 0.7437\n"
          ],
          "name": "stdout"
        }
      ]
    },
    {
      "cell_type": "code",
      "metadata": {
        "id": "YZhZPqoyL8L6",
        "outputId": "d033e1dd-e0ab-4c99-fd9b-f6a82a7cd25d",
        "colab": {
          "base_uri": "https://localhost:8080/",
          "height": 351
        }
      },
      "source": [
        "model_val_loss = h.history['val_loss']\n",
        "model_train_loss = h.history['loss']\n",
        "model_val_acc = h.history['val_accuracy']\n",
        "model_train_acc = h.history['accuracy']\n",
        "\n",
        "\n",
        "epochs = range(1,51)\n",
        "plt.figure(figsize=(10,5))\n",
        "plt.subplot(1,2,1)\n",
        "plt.plot(epochs, model_val_loss, 'b', label='Validation Loss')\n",
        "plt.plot(epochs, model_train_loss, 'r', label='Training Loss')\n",
        "plt.xlabel('Epochs')\n",
        "plt.ylabel('Loss')\n",
        "plt.legend()\n",
        "\n",
        "plt.subplot(1,2,2)\n",
        "plt.plot(epochs, model_val_acc, 'b', label='Validation Acc')\n",
        "plt.plot(epochs, model_train_acc, 'r', label='Training Acc')\n",
        "plt.xlabel('Epochs')\n",
        "plt.ylabel('Loss')\n",
        "plt.legend()"
      ],
      "execution_count": null,
      "outputs": [
        {
          "output_type": "execute_result",
          "data": {
            "text/plain": [
              "<matplotlib.legend.Legend at 0x7fc540efee80>"
            ]
          },
          "metadata": {
            "tags": []
          },
          "execution_count": 70
        },
        {
          "output_type": "display_data",
          "data": {
            "image/png": "[encoded data removed]",
            "text/plain": [
              "<Figure size 720x360 with 2 Axes>"
            ]
          },
          "metadata": {
            "tags": [],
            "needs_background": "light"
          }
        }
      ]
    },
    {
      "cell_type": "markdown",
      "metadata": {
        "id": "Qc3AbzqEL-kR"
      },
      "source": [
        "## Add another dense layer and add dropouts"
      ]
    },
    {
      "cell_type": "code",
      "metadata": {
        "id": "e69S8beDOXan",
        "outputId": "1583e626-af27-4418-ab27-228e51c40365",
        "colab": {
          "base_uri": "https://localhost:8080/",
          "height": 319
        }
      },
      "source": [
        "model =  Sequential()\n",
        "model.add(Dense(512, input_shape = (32*32,), activation='relu', kernel_initializer='he_normal'))\n",
        "model.add(BatchNormalization())\n",
        "\n",
        "model.add(Dense(256, activation='relu', kernel_initializer='he_normal'))\n",
        "model.add(Dropout(0.2))\n",
        "\n",
        "\n",
        "model.add(Dense(10, activation='softmax'))\n",
        "model.summary()"
      ],
      "execution_count": null,
      "outputs": [
        {
          "output_type": "stream",
          "text": [
            "Model: \"sequential_10\"\n",
            "_________________________________________________________________\n",
            "Layer (type)                 Output Shape              Param #   \n",
            "=================================================================\n",
            "dense_11 (Dense)             (None, 512)               524800    \n",
            "_________________________________________________________________\n",
            "batch_normalization_4 (Batch (None, 512)               2048      \n",
            "_________________________________________________________________\n",
            "dense_12 (Dense)             (None, 256)               131328    \n",
            "_________________________________________________________________\n",
            "dropout (Dropout)            (None, 256)               0         \n",
            "_________________________________________________________________\n",
            "dense_13 (Dense)             (None, 10)                2570      \n",
            "=================================================================\n",
            "Total params: 660,746\n",
            "Trainable params: 659,722\n",
            "Non-trainable params: 1,024\n",
            "_________________________________________________________________\n"
          ],
          "name": "stdout"
        }
      ]
    },
    {
      "cell_type": "code",
      "metadata": {
        "id": "1YpHQ8EPOX9o"
      },
      "source": [
        "opt = optimizers.Adam(learning_rate=0.01)\n",
        "model.compile(optimizer = opt, loss='categorical_crossentropy', metrics='accuracy')"
      ],
      "execution_count": null,
      "outputs": []
    },
    {
      "cell_type": "code",
      "metadata": {
        "id": "fXqLblEBOYGx",
        "outputId": "631a20c4-877d-4d1d-d6f6-4fb57d8700b0",
        "colab": {
          "base_uri": "https://localhost:8080/",
          "height": 1000
        }
      },
      "source": [
        "h= model.fit(train_X, train_y, batch_size=512, epochs=50, validation_data=(test_X, test_y))"
      ],
      "execution_count": null,
      "outputs": [
        {
          "output_type": "stream",
          "text": [
            "Epoch 1/50\n",
            "53/53 [==============================] - 3s 53ms/step - loss: 2.6361 - accuracy: 0.1588 - val_loss: 2.0868 - val_accuracy: 0.2448\n",
            "Epoch 2/50\n",
            "53/53 [==============================] - 3s 51ms/step - loss: 1.6534 - accuracy: 0.4226 - val_loss: 2.8854 - val_accuracy: 0.3012\n",
            "Epoch 3/50\n",
            "53/53 [==============================] - 3s 51ms/step - loss: 1.2488 - accuracy: 0.6015 - val_loss: 1.7433 - val_accuracy: 0.4677\n",
            "Epoch 4/50\n",
            "53/53 [==============================] - 3s 51ms/step - loss: 1.1041 - accuracy: 0.6567 - val_loss: 2.4455 - val_accuracy: 0.3650\n",
            "Epoch 5/50\n",
            "53/53 [==============================] - 3s 51ms/step - loss: 1.0227 - accuracy: 0.6880 - val_loss: 1.2051 - val_accuracy: 0.6333\n",
            "Epoch 6/50\n",
            "53/53 [==============================] - 3s 51ms/step - loss: 0.9670 - accuracy: 0.7065 - val_loss: 3.2295 - val_accuracy: 0.3073\n",
            "Epoch 7/50\n",
            "53/53 [==============================] - 3s 51ms/step - loss: 0.9222 - accuracy: 0.7183 - val_loss: 2.6670 - val_accuracy: 0.3714\n",
            "Epoch 8/50\n",
            "53/53 [==============================] - 3s 52ms/step - loss: 0.8597 - accuracy: 0.7391 - val_loss: 1.4191 - val_accuracy: 0.5758\n",
            "Epoch 9/50\n",
            "53/53 [==============================] - 3s 50ms/step - loss: 0.8135 - accuracy: 0.7553 - val_loss: 1.6287 - val_accuracy: 0.5455\n",
            "Epoch 10/50\n",
            "53/53 [==============================] - 3s 52ms/step - loss: 0.7875 - accuracy: 0.7623 - val_loss: 1.5020 - val_accuracy: 0.5674\n",
            "Epoch 11/50\n",
            "53/53 [==============================] - 3s 52ms/step - loss: 0.7640 - accuracy: 0.7670 - val_loss: 1.6165 - val_accuracy: 0.5473\n",
            "Epoch 12/50\n",
            "53/53 [==============================] - 3s 52ms/step - loss: 0.7218 - accuracy: 0.7836 - val_loss: 1.5186 - val_accuracy: 0.5785\n",
            "Epoch 13/50\n",
            "53/53 [==============================] - 3s 51ms/step - loss: 0.6881 - accuracy: 0.7926 - val_loss: 1.3906 - val_accuracy: 0.6203\n",
            "Epoch 14/50\n",
            "53/53 [==============================] - 3s 52ms/step - loss: 0.6658 - accuracy: 0.7971 - val_loss: 1.2549 - val_accuracy: 0.6502\n",
            "Epoch 15/50\n",
            "53/53 [==============================] - 3s 52ms/step - loss: 0.6456 - accuracy: 0.8054 - val_loss: 1.1013 - val_accuracy: 0.6784\n",
            "Epoch 16/50\n",
            "53/53 [==============================] - 3s 50ms/step - loss: 0.6400 - accuracy: 0.8069 - val_loss: 1.0308 - val_accuracy: 0.7043\n",
            "Epoch 17/50\n",
            "53/53 [==============================] - 3s 50ms/step - loss: 0.6104 - accuracy: 0.8153 - val_loss: 0.9562 - val_accuracy: 0.7273\n",
            "Epoch 18/50\n",
            "53/53 [==============================] - 3s 51ms/step - loss: 0.5943 - accuracy: 0.8193 - val_loss: 0.9203 - val_accuracy: 0.7157\n",
            "Epoch 19/50\n",
            "53/53 [==============================] - 3s 50ms/step - loss: 0.6008 - accuracy: 0.8132 - val_loss: 0.9454 - val_accuracy: 0.7376\n",
            "Epoch 20/50\n",
            "53/53 [==============================] - 3s 51ms/step - loss: 0.5698 - accuracy: 0.8258 - val_loss: 0.8874 - val_accuracy: 0.7527\n",
            "Epoch 21/50\n",
            "53/53 [==============================] - 3s 51ms/step - loss: 0.5564 - accuracy: 0.8290 - val_loss: 0.9332 - val_accuracy: 0.7299\n",
            "Epoch 22/50\n",
            "53/53 [==============================] - 3s 51ms/step - loss: 0.5623 - accuracy: 0.8259 - val_loss: 1.3896 - val_accuracy: 0.6488\n",
            "Epoch 23/50\n",
            "53/53 [==============================] - 3s 51ms/step - loss: 0.5589 - accuracy: 0.8281 - val_loss: 1.2185 - val_accuracy: 0.6724\n",
            "Epoch 24/50\n",
            "53/53 [==============================] - 3s 50ms/step - loss: 0.5579 - accuracy: 0.8286 - val_loss: 1.2014 - val_accuracy: 0.6554\n",
            "Epoch 25/50\n",
            "53/53 [==============================] - 3s 51ms/step - loss: 0.5258 - accuracy: 0.8365 - val_loss: 0.9575 - val_accuracy: 0.7336\n",
            "Epoch 26/50\n",
            "53/53 [==============================] - 3s 51ms/step - loss: 0.5109 - accuracy: 0.8422 - val_loss: 1.0651 - val_accuracy: 0.7193\n",
            "Epoch 27/50\n",
            "53/53 [==============================] - 3s 51ms/step - loss: 0.5054 - accuracy: 0.8419 - val_loss: 1.0380 - val_accuracy: 0.7062\n",
            "Epoch 28/50\n",
            "53/53 [==============================] - 3s 49ms/step - loss: 0.5117 - accuracy: 0.8410 - val_loss: 0.9450 - val_accuracy: 0.7418\n",
            "Epoch 29/50\n",
            "53/53 [==============================] - 3s 50ms/step - loss: 0.4933 - accuracy: 0.8453 - val_loss: 0.8051 - val_accuracy: 0.7809\n",
            "Epoch 30/50\n",
            "53/53 [==============================] - 3s 51ms/step - loss: 0.4869 - accuracy: 0.8488 - val_loss: 1.0171 - val_accuracy: 0.7448\n",
            "Epoch 31/50\n",
            "53/53 [==============================] - 3s 50ms/step - loss: 0.4978 - accuracy: 0.8445 - val_loss: 0.9986 - val_accuracy: 0.7219\n",
            "Epoch 32/50\n",
            "53/53 [==============================] - 3s 52ms/step - loss: 0.4955 - accuracy: 0.8453 - val_loss: 0.9372 - val_accuracy: 0.7631\n",
            "Epoch 33/50\n",
            "53/53 [==============================] - 3s 51ms/step - loss: 0.4744 - accuracy: 0.8512 - val_loss: 0.7540 - val_accuracy: 0.7954\n",
            "Epoch 34/50\n",
            "53/53 [==============================] - 3s 50ms/step - loss: 0.4691 - accuracy: 0.8539 - val_loss: 0.8678 - val_accuracy: 0.7752\n",
            "Epoch 35/50\n",
            "53/53 [==============================] - 3s 50ms/step - loss: 0.4581 - accuracy: 0.8555 - val_loss: 1.0499 - val_accuracy: 0.7366\n",
            "Epoch 36/50\n",
            "53/53 [==============================] - 3s 50ms/step - loss: 0.4589 - accuracy: 0.8551 - val_loss: 0.9803 - val_accuracy: 0.7279\n",
            "Epoch 37/50\n",
            "53/53 [==============================] - 3s 48ms/step - loss: 0.4594 - accuracy: 0.8547 - val_loss: 1.2318 - val_accuracy: 0.7108\n",
            "Epoch 38/50\n",
            "53/53 [==============================] - 3s 49ms/step - loss: 0.4604 - accuracy: 0.8529 - val_loss: 1.0786 - val_accuracy: 0.7321\n",
            "Epoch 39/50\n",
            "53/53 [==============================] - 3s 49ms/step - loss: 0.4492 - accuracy: 0.8609 - val_loss: 0.8658 - val_accuracy: 0.7733\n",
            "Epoch 40/50\n",
            "53/53 [==============================] - 3s 49ms/step - loss: 0.4462 - accuracy: 0.8584 - val_loss: 0.9177 - val_accuracy: 0.7529\n",
            "Epoch 41/50\n",
            "53/53 [==============================] - 3s 49ms/step - loss: 0.4294 - accuracy: 0.8637 - val_loss: 1.2432 - val_accuracy: 0.7198\n",
            "Epoch 42/50\n",
            "53/53 [==============================] - 3s 49ms/step - loss: 0.4460 - accuracy: 0.8591 - val_loss: 0.8363 - val_accuracy: 0.7835\n",
            "Epoch 43/50\n",
            "53/53 [==============================] - 3s 51ms/step - loss: 0.4220 - accuracy: 0.8667 - val_loss: 0.9681 - val_accuracy: 0.7618\n",
            "Epoch 44/50\n",
            "53/53 [==============================] - 3s 51ms/step - loss: 0.4157 - accuracy: 0.8681 - val_loss: 1.0423 - val_accuracy: 0.7584\n",
            "Epoch 45/50\n",
            "53/53 [==============================] - 3s 50ms/step - loss: 0.4300 - accuracy: 0.8658 - val_loss: 1.0678 - val_accuracy: 0.7419\n",
            "Epoch 46/50\n",
            "53/53 [==============================] - 3s 51ms/step - loss: 0.4072 - accuracy: 0.8705 - val_loss: 0.9836 - val_accuracy: 0.7439\n",
            "Epoch 47/50\n",
            "53/53 [==============================] - 3s 50ms/step - loss: 0.4042 - accuracy: 0.8715 - val_loss: 0.9816 - val_accuracy: 0.7378\n",
            "Epoch 48/50\n",
            "53/53 [==============================] - 3s 50ms/step - loss: 0.4012 - accuracy: 0.8714 - val_loss: 0.9651 - val_accuracy: 0.7623\n",
            "Epoch 49/50\n",
            "53/53 [==============================] - 3s 50ms/step - loss: 0.3912 - accuracy: 0.8750 - val_loss: 0.8612 - val_accuracy: 0.7952\n",
            "Epoch 50/50\n",
            "53/53 [==============================] - 3s 50ms/step - loss: 0.4014 - accuracy: 0.8747 - val_loss: 1.1544 - val_accuracy: 0.7198\n"
          ],
          "name": "stdout"
        }
      ]
    },
    {
      "cell_type": "code",
      "metadata": {
        "id": "VzjGcvXNOYKt",
        "outputId": "e6efb25f-3acb-45a7-d4de-1db5e3cb507f",
        "colab": {
          "base_uri": "https://localhost:8080/",
          "height": 34
        }
      },
      "source": [
        "results = model.evaluate(val_X, val_y)"
      ],
      "execution_count": null,
      "outputs": [
        {
          "output_type": "stream",
          "text": [
            "210/210 [==============================] - 1s 4ms/step - loss: 1.1496 - accuracy: 0.7116\n"
          ],
          "name": "stdout"
        }
      ]
    },
    {
      "cell_type": "code",
      "metadata": {
        "id": "-Hw9nRYrOYOF",
        "outputId": "6c33ea45-3093-481d-d42f-fb36f9c6faed",
        "colab": {
          "base_uri": "https://localhost:8080/",
          "height": 351
        }
      },
      "source": [
        "model_val_loss = h.history['val_loss']\n",
        "model_train_loss = h.history['loss']\n",
        "model_val_acc = h.history['val_accuracy']\n",
        "model_train_acc = h.history['accuracy']\n",
        "\n",
        "\n",
        "epochs = range(1,51)\n",
        "plt.figure(figsize=(10,5))\n",
        "plt.subplot(1,2,1)\n",
        "plt.plot(epochs, model_val_loss, 'b', label='Validation Loss')\n",
        "plt.plot(epochs, model_train_loss, 'r', label='Training Loss')\n",
        "plt.xlabel('Epochs')\n",
        "plt.ylabel('Loss')\n",
        "plt.legend()\n",
        "\n",
        "plt.subplot(1,2,2)\n",
        "plt.plot(epochs, model_val_acc, 'b', label='Validation Acc')\n",
        "plt.plot(epochs, model_train_acc, 'r', label='Training Acc')\n",
        "plt.xlabel('Epochs')\n",
        "plt.ylabel('Loss')\n",
        "plt.legend()"
      ],
      "execution_count": null,
      "outputs": [
        {
          "output_type": "execute_result",
          "data": {
            "text/plain": [
              "<matplotlib.legend.Legend at 0x7fc53513deb8>"
            ]
          },
          "metadata": {
            "tags": []
          },
          "execution_count": 75
        },
        {
          "output_type": "display_data",
          "data": {
            "image/png": "[encoded data removed]",
            "text/plain": [
              "<Figure size 720x360 with 2 Axes>"
            ]
          },
          "metadata": {
            "tags": [],
            "needs_background": "light"
          }
        }
      ]
    },
    {
      "cell_type": "markdown",
      "metadata": {
        "id": "v7x_HHEqQcuk"
      },
      "source": [
        "### We are seeing overfitting as the training accuracy is much higher than test and val accuracy. Let's introduce regularization in the training and check the performance.\n",
        "\n",
        "#### Regularization can be done by addition of noise to training data.\n",
        "\n",
        "Noise Regularization in Keras\n",
        "Keras supports the addition of noise to models via the GaussianNoise layer.\n",
        "\n",
        "This is a layer that will add noise to inputs of a given shape. The noise has a mean of zero and requires that a standard deviation of the noise be specified as a parameter"
      ]
    },
    {
      "cell_type": "code",
      "metadata": {
        "id": "0Pm2pB2xQbML"
      },
      "source": [
        "from keras.layers import GaussianNoise"
      ],
      "execution_count": null,
      "outputs": []
    },
    {
      "cell_type": "code",
      "metadata": {
        "id": "-04QyllKQbYy",
        "outputId": "d6cdacf4-1790-45a5-a314-1114bdb0318e",
        "colab": {
          "base_uri": "https://localhost:8080/",
          "height": 353
        }
      },
      "source": [
        "model =  Sequential()\n",
        "model.add(Dense(512, input_shape = (32*32,), activation='relu', kernel_initializer='he_normal'))\n",
        "model.add(GaussianNoise(0.1))\n",
        "model.add(BatchNormalization())\n",
        "\n",
        "model.add(Dense(256, activation='relu', kernel_initializer='he_normal'))\n",
        "model.add(Dropout(0.1))\n",
        "\n",
        "\n",
        "model.add(Dense(10, activation='softmax'))\n",
        "model.summary()"
      ],
      "execution_count": null,
      "outputs": [
        {
          "output_type": "stream",
          "text": [
            "Model: \"sequential_12\"\n",
            "_________________________________________________________________\n",
            "Layer (type)                 Output Shape              Param #   \n",
            "=================================================================\n",
            "dense_17 (Dense)             (None, 512)               524800    \n",
            "_________________________________________________________________\n",
            "gaussian_noise_1 (GaussianNo (None, 512)               0         \n",
            "_________________________________________________________________\n",
            "batch_normalization_6 (Batch (None, 512)               2048      \n",
            "_________________________________________________________________\n",
            "dense_18 (Dense)             (None, 256)               131328    \n",
            "_________________________________________________________________\n",
            "dropout_2 (Dropout)          (None, 256)               0         \n",
            "_________________________________________________________________\n",
            "dense_19 (Dense)             (None, 10)                2570      \n",
            "=================================================================\n",
            "Total params: 660,746\n",
            "Trainable params: 659,722\n",
            "Non-trainable params: 1,024\n",
            "_________________________________________________________________\n"
          ],
          "name": "stdout"
        }
      ]
    },
    {
      "cell_type": "code",
      "metadata": {
        "id": "ey3igcOPQbcR",
        "outputId": "c42bee32-7b9c-4713-f32d-0e8dad6f5c6a",
        "colab": {
          "base_uri": "https://localhost:8080/",
          "height": 1000
        }
      },
      "source": [
        "opt = optimizers.Adam(learning_rate=0.01)\n",
        "model.compile(optimizer = opt, loss='categorical_crossentropy', metrics='accuracy')\n",
        "\n",
        "h= model.fit(train_X, train_y, batch_size=512, epochs=50, validation_data=(test_X, test_y))"
      ],
      "execution_count": null,
      "outputs": [
        {
          "output_type": "stream",
          "text": [
            "Epoch 1/50\n",
            "53/53 [==============================] - 3s 58ms/step - loss: 2.7908 - accuracy: 0.1546 - val_loss: 2.1640 - val_accuracy: 0.2133\n",
            "Epoch 2/50\n",
            "53/53 [==============================] - 3s 57ms/step - loss: 1.6301 - accuracy: 0.4199 - val_loss: 2.0730 - val_accuracy: 0.3714\n",
            "Epoch 3/50\n",
            "53/53 [==============================] - 3s 55ms/step - loss: 1.2611 - accuracy: 0.5939 - val_loss: 2.1225 - val_accuracy: 0.4371\n",
            "Epoch 4/50\n",
            "53/53 [==============================] - 3s 55ms/step - loss: 1.0968 - accuracy: 0.6590 - val_loss: 2.0245 - val_accuracy: 0.4424\n",
            "Epoch 5/50\n",
            "53/53 [==============================] - 3s 55ms/step - loss: 0.9940 - accuracy: 0.6954 - val_loss: 1.3274 - val_accuracy: 0.5949\n",
            "Epoch 6/50\n",
            "53/53 [==============================] - 3s 56ms/step - loss: 0.9170 - accuracy: 0.7193 - val_loss: 2.0784 - val_accuracy: 0.4196\n",
            "Epoch 7/50\n",
            "53/53 [==============================] - 3s 55ms/step - loss: 0.8804 - accuracy: 0.7295 - val_loss: 1.7167 - val_accuracy: 0.4955\n",
            "Epoch 8/50\n",
            "53/53 [==============================] - 3s 55ms/step - loss: 0.8198 - accuracy: 0.7487 - val_loss: 1.2685 - val_accuracy: 0.6318\n",
            "Epoch 9/50\n",
            "53/53 [==============================] - 3s 57ms/step - loss: 0.7702 - accuracy: 0.7664 - val_loss: 1.4908 - val_accuracy: 0.5863\n",
            "Epoch 10/50\n",
            "53/53 [==============================] - 3s 57ms/step - loss: 0.7305 - accuracy: 0.7776 - val_loss: 1.6281 - val_accuracy: 0.5667\n",
            "Epoch 11/50\n",
            "53/53 [==============================] - 3s 55ms/step - loss: 0.7138 - accuracy: 0.7815 - val_loss: 1.9275 - val_accuracy: 0.5046\n",
            "Epoch 12/50\n",
            "53/53 [==============================] - 3s 55ms/step - loss: 0.6609 - accuracy: 0.7990 - val_loss: 1.1413 - val_accuracy: 0.6718\n",
            "Epoch 13/50\n",
            "53/53 [==============================] - 3s 55ms/step - loss: 0.6398 - accuracy: 0.8065 - val_loss: 1.1658 - val_accuracy: 0.6683\n",
            "Epoch 14/50\n",
            "53/53 [==============================] - 3s 56ms/step - loss: 0.6352 - accuracy: 0.8063 - val_loss: 1.6462 - val_accuracy: 0.5978\n",
            "Epoch 15/50\n",
            "53/53 [==============================] - 3s 57ms/step - loss: 0.6189 - accuracy: 0.8119 - val_loss: 1.3771 - val_accuracy: 0.6043\n",
            "Epoch 16/50\n",
            "53/53 [==============================] - 3s 56ms/step - loss: 0.6059 - accuracy: 0.8158 - val_loss: 1.3132 - val_accuracy: 0.6541\n",
            "Epoch 17/50\n",
            "53/53 [==============================] - 3s 57ms/step - loss: 0.5683 - accuracy: 0.8271 - val_loss: 1.1574 - val_accuracy: 0.7024\n",
            "Epoch 18/50\n",
            "53/53 [==============================] - 3s 57ms/step - loss: 0.5652 - accuracy: 0.8267 - val_loss: 0.9547 - val_accuracy: 0.7101\n",
            "Epoch 19/50\n",
            "53/53 [==============================] - 3s 56ms/step - loss: 0.5414 - accuracy: 0.8360 - val_loss: 0.9668 - val_accuracy: 0.7158\n",
            "Epoch 20/50\n",
            "53/53 [==============================] - 3s 57ms/step - loss: 0.5194 - accuracy: 0.8390 - val_loss: 1.0761 - val_accuracy: 0.7086\n",
            "Epoch 21/50\n",
            "53/53 [==============================] - 3s 56ms/step - loss: 0.5137 - accuracy: 0.8398 - val_loss: 0.9157 - val_accuracy: 0.7463\n",
            "Epoch 22/50\n",
            "53/53 [==============================] - 3s 54ms/step - loss: 0.4861 - accuracy: 0.8490 - val_loss: 1.2329 - val_accuracy: 0.6670\n",
            "Epoch 23/50\n",
            "53/53 [==============================] - 3s 55ms/step - loss: 0.5011 - accuracy: 0.8448 - val_loss: 1.0808 - val_accuracy: 0.7093\n",
            "Epoch 24/50\n",
            "53/53 [==============================] - 3s 54ms/step - loss: 0.4925 - accuracy: 0.8470 - val_loss: 0.9743 - val_accuracy: 0.7403\n",
            "Epoch 25/50\n",
            "53/53 [==============================] - 3s 58ms/step - loss: 0.4712 - accuracy: 0.8547 - val_loss: 1.1256 - val_accuracy: 0.7111\n",
            "Epoch 26/50\n",
            "53/53 [==============================] - 3s 57ms/step - loss: 0.4765 - accuracy: 0.8519 - val_loss: 1.0917 - val_accuracy: 0.7010\n",
            "Epoch 27/50\n",
            "53/53 [==============================] - 3s 56ms/step - loss: 0.4529 - accuracy: 0.8587 - val_loss: 1.0293 - val_accuracy: 0.7331\n",
            "Epoch 28/50\n",
            "53/53 [==============================] - 3s 56ms/step - loss: 0.4483 - accuracy: 0.8588 - val_loss: 1.0806 - val_accuracy: 0.7232\n",
            "Epoch 29/50\n",
            "53/53 [==============================] - 3s 55ms/step - loss: 0.4429 - accuracy: 0.8629 - val_loss: 0.9042 - val_accuracy: 0.7512\n",
            "Epoch 30/50\n",
            "53/53 [==============================] - 3s 57ms/step - loss: 0.4317 - accuracy: 0.8638 - val_loss: 1.0837 - val_accuracy: 0.7244\n",
            "Epoch 31/50\n",
            "53/53 [==============================] - 3s 56ms/step - loss: 0.4236 - accuracy: 0.8672 - val_loss: 1.0448 - val_accuracy: 0.7424\n",
            "Epoch 32/50\n",
            "53/53 [==============================] - 3s 55ms/step - loss: 0.4226 - accuracy: 0.8672 - val_loss: 1.0596 - val_accuracy: 0.7342\n",
            "Epoch 33/50\n",
            "53/53 [==============================] - 3s 56ms/step - loss: 0.4192 - accuracy: 0.8677 - val_loss: 0.9371 - val_accuracy: 0.7653\n",
            "Epoch 34/50\n",
            "53/53 [==============================] - 3s 57ms/step - loss: 0.3937 - accuracy: 0.8747 - val_loss: 1.0895 - val_accuracy: 0.7359\n",
            "Epoch 35/50\n",
            "53/53 [==============================] - 3s 57ms/step - loss: 0.3922 - accuracy: 0.8741 - val_loss: 0.8841 - val_accuracy: 0.7768\n",
            "Epoch 36/50\n",
            "53/53 [==============================] - 3s 57ms/step - loss: 0.4018 - accuracy: 0.8716 - val_loss: 0.9810 - val_accuracy: 0.7514\n",
            "Epoch 37/50\n",
            "53/53 [==============================] - 4s 80ms/step - loss: 0.3858 - accuracy: 0.8772 - val_loss: 1.0055 - val_accuracy: 0.7689\n",
            "Epoch 38/50\n",
            "53/53 [==============================] - 4s 72ms/step - loss: 0.3848 - accuracy: 0.8770 - val_loss: 1.0093 - val_accuracy: 0.7581\n",
            "Epoch 39/50\n",
            "53/53 [==============================] - 4s 70ms/step - loss: 0.3814 - accuracy: 0.8781 - val_loss: 1.3587 - val_accuracy: 0.7105\n",
            "Epoch 40/50\n",
            "53/53 [==============================] - 4s 72ms/step - loss: 0.3691 - accuracy: 0.8807 - val_loss: 1.1564 - val_accuracy: 0.7503\n",
            "Epoch 41/50\n",
            "53/53 [==============================] - 4s 70ms/step - loss: 0.3625 - accuracy: 0.8835 - val_loss: 1.0041 - val_accuracy: 0.7742\n",
            "Epoch 42/50\n",
            "53/53 [==============================] - 4s 74ms/step - loss: 0.3622 - accuracy: 0.8829 - val_loss: 1.0201 - val_accuracy: 0.7467\n",
            "Epoch 43/50\n",
            "53/53 [==============================] - 3s 64ms/step - loss: 0.3599 - accuracy: 0.8842 - val_loss: 0.9718 - val_accuracy: 0.7557\n",
            "Epoch 44/50\n",
            "53/53 [==============================] - 4s 82ms/step - loss: 0.3615 - accuracy: 0.8826 - val_loss: 1.3144 - val_accuracy: 0.6999\n",
            "Epoch 45/50\n",
            "53/53 [==============================] - 3s 65ms/step - loss: 0.3653 - accuracy: 0.8818 - val_loss: 1.0677 - val_accuracy: 0.7594\n",
            "Epoch 46/50\n",
            "53/53 [==============================] - 3s 57ms/step - loss: 0.3544 - accuracy: 0.8857 - val_loss: 1.3165 - val_accuracy: 0.7172\n",
            "Epoch 47/50\n",
            "53/53 [==============================] - 3s 56ms/step - loss: 0.3410 - accuracy: 0.8876 - val_loss: 1.1530 - val_accuracy: 0.7557\n",
            "Epoch 48/50\n",
            "53/53 [==============================] - 3s 56ms/step - loss: 0.3520 - accuracy: 0.8880 - val_loss: 1.0842 - val_accuracy: 0.7530\n",
            "Epoch 49/50\n",
            "53/53 [==============================] - 3s 57ms/step - loss: 0.3348 - accuracy: 0.8914 - val_loss: 1.0220 - val_accuracy: 0.7611\n",
            "Epoch 50/50\n",
            "53/53 [==============================] - 3s 57ms/step - loss: 0.3234 - accuracy: 0.8949 - val_loss: 0.9565 - val_accuracy: 0.7742\n"
          ],
          "name": "stdout"
        }
      ]
    },
    {
      "cell_type": "code",
      "metadata": {
        "id": "HgDW7NNdQbiW",
        "outputId": "90452879-e82d-4bf4-cc12-d3c4c9177e8e",
        "colab": {
          "base_uri": "https://localhost:8080/",
          "height": 34
        }
      },
      "source": [
        "results = model.evaluate(val_X, val_y)"
      ],
      "execution_count": null,
      "outputs": [
        {
          "output_type": "stream",
          "text": [
            "210/210 [==============================] - 1s 5ms/step - loss: 0.9855 - accuracy: 0.7626\n"
          ],
          "name": "stdout"
        }
      ]
    },
    {
      "cell_type": "code",
      "metadata": {
        "id": "iXwPmPC9Qbls",
        "outputId": "34e9e045-5430-48f4-f1a4-5ffb2dcccba1",
        "colab": {
          "base_uri": "https://localhost:8080/",
          "height": 351
        }
      },
      "source": [
        "model_val_loss = h.history['val_loss']\n",
        "model_train_loss = h.history['loss']\n",
        "model_val_acc = h.history['val_accuracy']\n",
        "model_train_acc = h.history['accuracy']\n",
        "\n",
        "\n",
        "epochs = range(1,51)\n",
        "plt.figure(figsize=(10,5))\n",
        "plt.subplot(1,2,1)\n",
        "plt.plot(epochs, model_val_loss, 'b', label='Validation Loss')\n",
        "plt.plot(epochs, model_train_loss, 'r', label='Training Loss')\n",
        "plt.xlabel('Epochs')\n",
        "plt.ylabel('Loss')\n",
        "plt.legend()\n",
        "\n",
        "plt.subplot(1,2,2)\n",
        "plt.plot(epochs, model_val_acc, 'b', label='Validation Acc')\n",
        "plt.plot(epochs, model_train_acc, 'r', label='Training Acc')\n",
        "plt.xlabel('Epochs')\n",
        "plt.ylabel('Loss')\n",
        "plt.legend()"
      ],
      "execution_count": null,
      "outputs": [
        {
          "output_type": "execute_result",
          "data": {
            "text/plain": [
              "<matplotlib.legend.Legend at 0x7fc5335c4518>"
            ]
          },
          "metadata": {
            "tags": []
          },
          "execution_count": 82
        },
        {
          "output_type": "display_data",
          "data": {
            "image/png": "[encoded data removed]",
            "text/plain": [
              "<Figure size 720x360 with 2 Axes>"
            ]
          },
          "metadata": {
            "tags": [],
            "needs_background": "light"
          }
        }
      ]
    },
    {
      "cell_type": "markdown",
      "metadata": {
        "id": "wIg0KntFSqyk"
      },
      "source": [
        "# Performance has slightly improved. Let's increase the noise to increase regularization"
      ]
    },
    {
      "cell_type": "code",
      "metadata": {
        "id": "jyn8OlraQbo5",
        "outputId": "182e638f-87a6-4134-d317-6aaf4752e915",
        "colab": {
          "base_uri": "https://localhost:8080/",
          "height": 353
        }
      },
      "source": [
        "model =  Sequential()\n",
        "model.add(Dense(512, input_shape = (32*32,), activation='relu', kernel_initializer='he_normal'))\n",
        "model.add(GaussianNoise(0.2))\n",
        "model.add(BatchNormalization())\n",
        "\n",
        "model.add(Dense(256, activation='relu', kernel_initializer='he_normal'))\n",
        "model.add(Dropout(0.1))\n",
        "\n",
        "\n",
        "model.add(Dense(10, activation='softmax'))\n",
        "model.summary()"
      ],
      "execution_count": null,
      "outputs": [
        {
          "output_type": "stream",
          "text": [
            "Model: \"sequential_13\"\n",
            "_________________________________________________________________\n",
            "Layer (type)                 Output Shape              Param #   \n",
            "=================================================================\n",
            "dense_20 (Dense)             (None, 512)               524800    \n",
            "_________________________________________________________________\n",
            "gaussian_noise_2 (GaussianNo (None, 512)               0         \n",
            "_________________________________________________________________\n",
            "batch_normalization_7 (Batch (None, 512)               2048      \n",
            "_________________________________________________________________\n",
            "dense_21 (Dense)             (None, 256)               131328    \n",
            "_________________________________________________________________\n",
            "dropout_3 (Dropout)          (None, 256)               0         \n",
            "_________________________________________________________________\n",
            "dense_22 (Dense)             (None, 10)                2570      \n",
            "=================================================================\n",
            "Total params: 660,746\n",
            "Trainable params: 659,722\n",
            "Non-trainable params: 1,024\n",
            "_________________________________________________________________\n"
          ],
          "name": "stdout"
        }
      ]
    },
    {
      "cell_type": "code",
      "metadata": {
        "id": "P18zb6MFQbsM",
        "outputId": "e9855ad7-c523-4698-abc0-035ac538af05",
        "colab": {
          "base_uri": "https://localhost:8080/",
          "height": 1000
        }
      },
      "source": [
        "opt = optimizers.Adam(learning_rate=0.01)\n",
        "model.compile(optimizer = opt, loss='categorical_crossentropy', metrics='accuracy')\n",
        "h= model.fit(train_X, train_y, batch_size=512, epochs=50, validation_data=(test_X, test_y))"
      ],
      "execution_count": null,
      "outputs": [
        {
          "output_type": "stream",
          "text": [
            "Epoch 1/50\n",
            "53/53 [==============================] - 3s 60ms/step - loss: 2.9366 - accuracy: 0.1390 - val_loss: 2.0741 - val_accuracy: 0.2948\n",
            "Epoch 2/50\n",
            "53/53 [==============================] - 3s 55ms/step - loss: 1.6333 - accuracy: 0.4326 - val_loss: 1.8152 - val_accuracy: 0.4456\n",
            "Epoch 3/50\n",
            "53/53 [==============================] - 3s 55ms/step - loss: 1.2497 - accuracy: 0.6000 - val_loss: 2.6230 - val_accuracy: 0.3491\n",
            "Epoch 4/50\n",
            "53/53 [==============================] - 3s 57ms/step - loss: 1.0990 - accuracy: 0.6576 - val_loss: 1.2798 - val_accuracy: 0.6088\n",
            "Epoch 5/50\n",
            "53/53 [==============================] - 3s 56ms/step - loss: 0.9856 - accuracy: 0.6963 - val_loss: 1.2778 - val_accuracy: 0.5982\n",
            "Epoch 6/50\n",
            "53/53 [==============================] - 3s 56ms/step - loss: 0.9126 - accuracy: 0.7227 - val_loss: 1.6163 - val_accuracy: 0.5341\n",
            "Epoch 7/50\n",
            "53/53 [==============================] - 3s 56ms/step - loss: 0.8724 - accuracy: 0.7357 - val_loss: 2.1106 - val_accuracy: 0.4568\n",
            "Epoch 8/50\n",
            "53/53 [==============================] - 3s 54ms/step - loss: 0.8206 - accuracy: 0.7508 - val_loss: 1.5350 - val_accuracy: 0.5601\n",
            "Epoch 9/50\n",
            "53/53 [==============================] - 3s 54ms/step - loss: 0.7628 - accuracy: 0.7651 - val_loss: 1.3310 - val_accuracy: 0.6178\n",
            "Epoch 10/50\n",
            "53/53 [==============================] - 3s 55ms/step - loss: 0.7362 - accuracy: 0.7765 - val_loss: 1.2898 - val_accuracy: 0.6134\n",
            "Epoch 11/50\n",
            "53/53 [==============================] - 3s 56ms/step - loss: 0.6995 - accuracy: 0.7909 - val_loss: 1.1188 - val_accuracy: 0.6597\n",
            "Epoch 12/50\n",
            "53/53 [==============================] - 3s 55ms/step - loss: 0.6674 - accuracy: 0.7983 - val_loss: 1.6520 - val_accuracy: 0.5821\n",
            "Epoch 13/50\n",
            "53/53 [==============================] - 3s 55ms/step - loss: 0.6476 - accuracy: 0.8022 - val_loss: 0.9550 - val_accuracy: 0.7255\n",
            "Epoch 14/50\n",
            "53/53 [==============================] - 3s 55ms/step - loss: 0.6085 - accuracy: 0.8147 - val_loss: 1.2248 - val_accuracy: 0.6807\n",
            "Epoch 15/50\n",
            "53/53 [==============================] - 3s 57ms/step - loss: 0.5992 - accuracy: 0.8171 - val_loss: 0.8666 - val_accuracy: 0.7545\n",
            "Epoch 16/50\n",
            "53/53 [==============================] - 3s 56ms/step - loss: 0.5693 - accuracy: 0.8266 - val_loss: 1.0179 - val_accuracy: 0.7087\n",
            "Epoch 17/50\n",
            "53/53 [==============================] - 3s 56ms/step - loss: 0.5669 - accuracy: 0.8243 - val_loss: 1.1162 - val_accuracy: 0.7012\n",
            "Epoch 18/50\n",
            "53/53 [==============================] - 3s 55ms/step - loss: 0.5518 - accuracy: 0.8286 - val_loss: 1.3826 - val_accuracy: 0.6310\n",
            "Epoch 19/50\n",
            "53/53 [==============================] - 3s 56ms/step - loss: 0.5374 - accuracy: 0.8337 - val_loss: 0.9160 - val_accuracy: 0.7407\n",
            "Epoch 20/50\n",
            "53/53 [==============================] - 3s 55ms/step - loss: 0.5072 - accuracy: 0.8408 - val_loss: 1.0155 - val_accuracy: 0.7173\n",
            "Epoch 21/50\n",
            "53/53 [==============================] - 3s 55ms/step - loss: 0.5106 - accuracy: 0.8435 - val_loss: 1.0306 - val_accuracy: 0.7272\n",
            "Epoch 22/50\n",
            "53/53 [==============================] - 3s 55ms/step - loss: 0.4822 - accuracy: 0.8517 - val_loss: 1.3056 - val_accuracy: 0.6568\n",
            "Epoch 23/50\n",
            "53/53 [==============================] - 3s 55ms/step - loss: 0.4805 - accuracy: 0.8502 - val_loss: 0.8135 - val_accuracy: 0.7688\n",
            "Epoch 24/50\n",
            "53/53 [==============================] - 3s 56ms/step - loss: 0.4683 - accuracy: 0.8524 - val_loss: 0.9877 - val_accuracy: 0.7299\n",
            "Epoch 25/50\n",
            "53/53 [==============================] - 3s 56ms/step - loss: 0.4655 - accuracy: 0.8540 - val_loss: 0.9185 - val_accuracy: 0.7563\n",
            "Epoch 26/50\n",
            "53/53 [==============================] - 3s 55ms/step - loss: 0.4394 - accuracy: 0.8618 - val_loss: 1.1489 - val_accuracy: 0.7278\n",
            "Epoch 27/50\n",
            "53/53 [==============================] - 3s 55ms/step - loss: 0.4366 - accuracy: 0.8632 - val_loss: 1.0531 - val_accuracy: 0.7226\n",
            "Epoch 28/50\n",
            "53/53 [==============================] - 3s 57ms/step - loss: 0.4346 - accuracy: 0.8644 - val_loss: 1.0997 - val_accuracy: 0.7313\n",
            "Epoch 29/50\n",
            "53/53 [==============================] - 3s 55ms/step - loss: 0.4303 - accuracy: 0.8642 - val_loss: 0.9055 - val_accuracy: 0.7647\n",
            "Epoch 30/50\n",
            "53/53 [==============================] - 3s 56ms/step - loss: 0.4315 - accuracy: 0.8652 - val_loss: 1.1105 - val_accuracy: 0.7291\n",
            "Epoch 31/50\n",
            "53/53 [==============================] - 3s 55ms/step - loss: 0.4151 - accuracy: 0.8671 - val_loss: 0.9855 - val_accuracy: 0.7447\n",
            "Epoch 32/50\n",
            "53/53 [==============================] - 3s 56ms/step - loss: 0.4024 - accuracy: 0.8753 - val_loss: 0.8404 - val_accuracy: 0.7926\n",
            "Epoch 33/50\n",
            "53/53 [==============================] - 3s 55ms/step - loss: 0.4067 - accuracy: 0.8716 - val_loss: 0.9647 - val_accuracy: 0.7688\n",
            "Epoch 34/50\n",
            "53/53 [==============================] - 3s 54ms/step - loss: 0.3825 - accuracy: 0.8798 - val_loss: 0.9598 - val_accuracy: 0.7691\n",
            "Epoch 35/50\n",
            "53/53 [==============================] - 3s 55ms/step - loss: 0.3742 - accuracy: 0.8800 - val_loss: 0.9750 - val_accuracy: 0.7583\n",
            "Epoch 36/50\n",
            "53/53 [==============================] - 3s 54ms/step - loss: 0.3782 - accuracy: 0.8792 - val_loss: 1.0343 - val_accuracy: 0.7641\n",
            "Epoch 37/50\n",
            "53/53 [==============================] - 3s 55ms/step - loss: 0.3660 - accuracy: 0.8834 - val_loss: 1.0523 - val_accuracy: 0.7514\n",
            "Epoch 38/50\n",
            "53/53 [==============================] - 3s 56ms/step - loss: 0.3802 - accuracy: 0.8798 - val_loss: 1.0530 - val_accuracy: 0.7333\n",
            "Epoch 39/50\n",
            "53/53 [==============================] - 3s 56ms/step - loss: 0.3938 - accuracy: 0.8731 - val_loss: 1.0835 - val_accuracy: 0.7476\n",
            "Epoch 40/50\n",
            "53/53 [==============================] - 3s 55ms/step - loss: 0.3716 - accuracy: 0.8817 - val_loss: 1.0244 - val_accuracy: 0.7683\n",
            "Epoch 41/50\n",
            "53/53 [==============================] - 3s 56ms/step - loss: 0.3527 - accuracy: 0.8879 - val_loss: 0.9603 - val_accuracy: 0.7541\n",
            "Epoch 42/50\n",
            "53/53 [==============================] - 3s 55ms/step - loss: 0.3534 - accuracy: 0.8879 - val_loss: 1.1958 - val_accuracy: 0.7257\n",
            "Epoch 43/50\n",
            "53/53 [==============================] - 3s 55ms/step - loss: 0.3525 - accuracy: 0.8864 - val_loss: 1.2953 - val_accuracy: 0.7078\n",
            "Epoch 44/50\n",
            "53/53 [==============================] - 3s 55ms/step - loss: 0.3472 - accuracy: 0.8866 - val_loss: 1.3838 - val_accuracy: 0.7124\n",
            "Epoch 45/50\n",
            "53/53 [==============================] - 3s 56ms/step - loss: 0.3424 - accuracy: 0.8890 - val_loss: 0.9349 - val_accuracy: 0.7679\n",
            "Epoch 46/50\n",
            "53/53 [==============================] - 3s 56ms/step - loss: 0.3327 - accuracy: 0.8933 - val_loss: 0.9152 - val_accuracy: 0.7838\n",
            "Epoch 47/50\n",
            "53/53 [==============================] - 3s 55ms/step - loss: 0.3378 - accuracy: 0.8903 - val_loss: 1.2792 - val_accuracy: 0.7476\n",
            "Epoch 48/50\n",
            "53/53 [==============================] - 3s 56ms/step - loss: 0.3281 - accuracy: 0.8950 - val_loss: 1.2655 - val_accuracy: 0.7273\n",
            "Epoch 49/50\n",
            "53/53 [==============================] - 3s 63ms/step - loss: 0.3336 - accuracy: 0.8911 - val_loss: 1.1665 - val_accuracy: 0.7547\n",
            "Epoch 50/50\n",
            "53/53 [==============================] - 5s 87ms/step - loss: 0.3213 - accuracy: 0.8983 - val_loss: 1.0027 - val_accuracy: 0.7846\n"
          ],
          "name": "stdout"
        }
      ]
    },
    {
      "cell_type": "code",
      "metadata": {
        "id": "bXXlSDkAS7sa",
        "outputId": "8869ec39-fe43-480f-f24f-1517bbb988ad",
        "colab": {
          "base_uri": "https://localhost:8080/",
          "height": 34
        }
      },
      "source": [
        "results = model.evaluate(val_X, val_y)"
      ],
      "execution_count": null,
      "outputs": [
        {
          "output_type": "stream",
          "text": [
            "210/210 [==============================] - 2s 10ms/step - loss: 1.0140 - accuracy: 0.7704\n"
          ],
          "name": "stdout"
        }
      ]
    },
    {
      "cell_type": "markdown",
      "metadata": {
        "id": "9QLmkeJVTanK"
      },
      "source": [
        "## Improved performance but very minimal increase\n",
        "\n",
        "### Let's try a different architecture with additional layers and more neurons"
      ]
    },
    {
      "cell_type": "code",
      "metadata": {
        "id": "TbjRruRsTZAX",
        "outputId": "335e2c8e-5ca1-4550-e175-a60162429854",
        "colab": {
          "base_uri": "https://localhost:8080/",
          "height": 454
        }
      },
      "source": [
        "model =  Sequential()\n",
        "model.add(Dense(1024, input_shape = (32*32,), activation='relu', kernel_initializer='he_normal'))\n",
        "model.add(Dropout(0.1))\n",
        "model.add(GaussianNoise(0.1))\n",
        "model.add(BatchNormalization())\n",
        "\n",
        "model.add(Dense(512, activation='relu', kernel_initializer='he_normal'))\n",
        "model.add(Dropout(0.1))\n",
        "\n",
        "model.add(Dense(256, activation='relu', kernel_initializer='he_normal'))\n",
        "model.add(Dropout(0.1))\n",
        "\n",
        "\n",
        "model.add(Dense(10, activation='softmax'))\n",
        "model.summary()"
      ],
      "execution_count": null,
      "outputs": [
        {
          "output_type": "stream",
          "text": [
            "Model: \"sequential_14\"\n",
            "_________________________________________________________________\n",
            "Layer (type)                 Output Shape              Param #   \n",
            "=================================================================\n",
            "dense_23 (Dense)             (None, 1024)              1049600   \n",
            "_________________________________________________________________\n",
            "dropout_4 (Dropout)          (None, 1024)              0         \n",
            "_________________________________________________________________\n",
            "gaussian_noise_3 (GaussianNo (None, 1024)              0         \n",
            "_________________________________________________________________\n",
            "batch_normalization_8 (Batch (None, 1024)              4096      \n",
            "_________________________________________________________________\n",
            "dense_24 (Dense)             (None, 512)               524800    \n",
            "_________________________________________________________________\n",
            "dropout_5 (Dropout)          (None, 512)               0         \n",
            "_________________________________________________________________\n",
            "dense_25 (Dense)             (None, 256)               131328    \n",
            "_________________________________________________________________\n",
            "dropout_6 (Dropout)          (None, 256)               0         \n",
            "_________________________________________________________________\n",
            "dense_26 (Dense)             (None, 10)                2570      \n",
            "=================================================================\n",
            "Total params: 1,712,394\n",
            "Trainable params: 1,710,346\n",
            "Non-trainable params: 2,048\n",
            "_________________________________________________________________\n"
          ],
          "name": "stdout"
        }
      ]
    },
    {
      "cell_type": "code",
      "metadata": {
        "id": "HqNcwCVWTZD0",
        "outputId": "cea9f4eb-7a9e-4880-93c5-d79b42a3f149",
        "colab": {
          "base_uri": "https://localhost:8080/",
          "height": 1000
        }
      },
      "source": [
        "opt = optimizers.Adam(learning_rate=0.01)\n",
        "model.compile(optimizer = opt, loss='categorical_crossentropy', metrics='accuracy')\n",
        "h= model.fit(train_X, train_y, batch_size=512, epochs=50, validation_data=(test_X, test_y))"
      ],
      "execution_count": null,
      "outputs": [
        {
          "output_type": "stream",
          "text": [
            "Epoch 1/50\n",
            "53/53 [==============================] - 8s 145ms/step - loss: 3.3479 - accuracy: 0.1009 - val_loss: 2.3029 - val_accuracy: 0.1008\n",
            "Epoch 2/50\n",
            "53/53 [==============================] - 7s 138ms/step - loss: 2.3029 - accuracy: 0.1014 - val_loss: 2.3027 - val_accuracy: 0.1007\n",
            "Epoch 3/50\n",
            "53/53 [==============================] - 7s 139ms/step - loss: 2.3027 - accuracy: 0.1006 - val_loss: 2.3027 - val_accuracy: 0.1006\n",
            "Epoch 4/50\n",
            "53/53 [==============================] - 7s 140ms/step - loss: 2.3026 - accuracy: 0.0982 - val_loss: 2.3027 - val_accuracy: 0.1007\n",
            "Epoch 5/50\n",
            "53/53 [==============================] - 7s 139ms/step - loss: 2.3027 - accuracy: 0.1010 - val_loss: 2.3027 - val_accuracy: 0.1006\n",
            "Epoch 6/50\n",
            "53/53 [==============================] - 7s 139ms/step - loss: 2.3025 - accuracy: 0.1003 - val_loss: 2.3015 - val_accuracy: 0.1023\n",
            "Epoch 7/50\n",
            "53/53 [==============================] - 7s 138ms/step - loss: 2.2978 - accuracy: 0.1084 - val_loss: 2.3003 - val_accuracy: 0.1036\n",
            "Epoch 8/50\n",
            "53/53 [==============================] - 7s 136ms/step - loss: 2.2657 - accuracy: 0.1208 - val_loss: 2.2607 - val_accuracy: 0.1248\n",
            "Epoch 9/50\n",
            "53/53 [==============================] - 7s 138ms/step - loss: 2.2245 - accuracy: 0.1308 - val_loss: 2.2521 - val_accuracy: 0.1224\n",
            "Epoch 10/50\n",
            "53/53 [==============================] - 7s 137ms/step - loss: 2.1953 - accuracy: 0.1376 - val_loss: 2.2609 - val_accuracy: 0.1068\n",
            "Epoch 11/50\n",
            "53/53 [==============================] - 7s 138ms/step - loss: 2.1776 - accuracy: 0.1404 - val_loss: 2.2116 - val_accuracy: 0.1381\n",
            "Epoch 12/50\n",
            "53/53 [==============================] - 7s 137ms/step - loss: 2.1373 - accuracy: 0.1637 - val_loss: 2.1190 - val_accuracy: 0.1593\n",
            "Epoch 13/50\n",
            "53/53 [==============================] - 7s 136ms/step - loss: 2.0701 - accuracy: 0.1886 - val_loss: 2.2743 - val_accuracy: 0.1431\n",
            "Epoch 14/50\n",
            "53/53 [==============================] - 7s 137ms/step - loss: 1.9929 - accuracy: 0.2347 - val_loss: 2.0771 - val_accuracy: 0.2142\n",
            "Epoch 15/50\n",
            "53/53 [==============================] - 7s 137ms/step - loss: 1.9151 - accuracy: 0.2646 - val_loss: 1.9555 - val_accuracy: 0.2446\n",
            "Epoch 16/50\n",
            "53/53 [==============================] - 7s 138ms/step - loss: 1.8492 - accuracy: 0.2942 - val_loss: 1.7148 - val_accuracy: 0.3399\n",
            "Epoch 17/50\n",
            "53/53 [==============================] - 7s 138ms/step - loss: 1.7607 - accuracy: 0.3412 - val_loss: 1.6779 - val_accuracy: 0.3788\n",
            "Epoch 18/50\n",
            "53/53 [==============================] - 7s 137ms/step - loss: 1.6834 - accuracy: 0.3714 - val_loss: 1.6709 - val_accuracy: 0.3704\n",
            "Epoch 19/50\n",
            "53/53 [==============================] - 7s 137ms/step - loss: 1.6336 - accuracy: 0.3970 - val_loss: 1.5813 - val_accuracy: 0.4189\n",
            "Epoch 20/50\n",
            "53/53 [==============================] - 7s 138ms/step - loss: 1.5792 - accuracy: 0.4332 - val_loss: 1.5547 - val_accuracy: 0.4426\n",
            "Epoch 21/50\n",
            "53/53 [==============================] - 7s 140ms/step - loss: 1.5020 - accuracy: 0.4683 - val_loss: 1.5574 - val_accuracy: 0.4688\n",
            "Epoch 22/50\n",
            "53/53 [==============================] - 7s 136ms/step - loss: 1.4225 - accuracy: 0.5085 - val_loss: 1.2489 - val_accuracy: 0.5811\n",
            "Epoch 23/50\n",
            "53/53 [==============================] - 7s 139ms/step - loss: 1.3300 - accuracy: 0.5556 - val_loss: 1.2675 - val_accuracy: 0.5781\n",
            "Epoch 24/50\n",
            "53/53 [==============================] - 7s 137ms/step - loss: 1.2459 - accuracy: 0.5952 - val_loss: 1.3240 - val_accuracy: 0.5897\n",
            "Epoch 25/50\n",
            "53/53 [==============================] - 7s 138ms/step - loss: 1.1659 - accuracy: 0.6237 - val_loss: 1.5019 - val_accuracy: 0.5274\n",
            "Epoch 26/50\n",
            "53/53 [==============================] - 7s 136ms/step - loss: 1.1153 - accuracy: 0.6430 - val_loss: 1.2888 - val_accuracy: 0.6022\n",
            "Epoch 27/50\n",
            "53/53 [==============================] - 7s 137ms/step - loss: 1.0725 - accuracy: 0.6565 - val_loss: 1.2010 - val_accuracy: 0.6118\n",
            "Epoch 28/50\n",
            "53/53 [==============================] - 7s 138ms/step - loss: 1.0483 - accuracy: 0.6667 - val_loss: 0.9717 - val_accuracy: 0.6935\n",
            "Epoch 29/50\n",
            "53/53 [==============================] - 7s 137ms/step - loss: 1.0131 - accuracy: 0.6811 - val_loss: 1.0198 - val_accuracy: 0.6848\n",
            "Epoch 30/50\n",
            "53/53 [==============================] - 7s 138ms/step - loss: 0.9624 - accuracy: 0.6965 - val_loss: 0.9379 - val_accuracy: 0.7065\n",
            "Epoch 31/50\n",
            "53/53 [==============================] - 12s 229ms/step - loss: 0.9583 - accuracy: 0.6993 - val_loss: 0.9803 - val_accuracy: 0.6882\n",
            "Epoch 32/50\n",
            "53/53 [==============================] - 9s 168ms/step - loss: 0.9525 - accuracy: 0.6997 - val_loss: 0.9595 - val_accuracy: 0.6910\n",
            "Epoch 33/50\n",
            "53/53 [==============================] - 9s 175ms/step - loss: 0.9101 - accuracy: 0.7138 - val_loss: 1.0150 - val_accuracy: 0.6890\n",
            "Epoch 34/50\n",
            "53/53 [==============================] - 8s 145ms/step - loss: 0.9008 - accuracy: 0.7150 - val_loss: 0.9168 - val_accuracy: 0.7219\n",
            "Epoch 35/50\n",
            "53/53 [==============================] - 8s 143ms/step - loss: 0.8744 - accuracy: 0.7265 - val_loss: 0.8974 - val_accuracy: 0.7264\n",
            "Epoch 36/50\n",
            "53/53 [==============================] - 7s 140ms/step - loss: 0.8580 - accuracy: 0.7279 - val_loss: 0.9154 - val_accuracy: 0.7104\n",
            "Epoch 37/50\n",
            "53/53 [==============================] - 7s 140ms/step - loss: 0.8387 - accuracy: 0.7338 - val_loss: 0.9350 - val_accuracy: 0.7075\n",
            "Epoch 38/50\n",
            "53/53 [==============================] - 8s 144ms/step - loss: 0.8357 - accuracy: 0.7387 - val_loss: 0.8154 - val_accuracy: 0.7491\n",
            "Epoch 39/50\n",
            "53/53 [==============================] - 8s 146ms/step - loss: 0.8169 - accuracy: 0.7438 - val_loss: 0.8279 - val_accuracy: 0.7503\n",
            "Epoch 40/50\n",
            "53/53 [==============================] - 8s 144ms/step - loss: 0.8096 - accuracy: 0.7474 - val_loss: 0.8144 - val_accuracy: 0.7518\n",
            "Epoch 41/50\n",
            "53/53 [==============================] - 7s 141ms/step - loss: 0.7907 - accuracy: 0.7515 - val_loss: 0.8506 - val_accuracy: 0.7359\n",
            "Epoch 42/50\n",
            "53/53 [==============================] - 7s 138ms/step - loss: 0.7754 - accuracy: 0.7571 - val_loss: 0.9089 - val_accuracy: 0.7215\n",
            "Epoch 43/50\n",
            "53/53 [==============================] - 7s 139ms/step - loss: 0.7810 - accuracy: 0.7530 - val_loss: 0.9044 - val_accuracy: 0.7333\n",
            "Epoch 44/50\n",
            "53/53 [==============================] - 7s 137ms/step - loss: 0.7546 - accuracy: 0.7627 - val_loss: 0.8690 - val_accuracy: 0.7336\n",
            "Epoch 45/50\n",
            "53/53 [==============================] - 7s 139ms/step - loss: 0.7598 - accuracy: 0.7624 - val_loss: 0.8364 - val_accuracy: 0.7523\n",
            "Epoch 46/50\n",
            "53/53 [==============================] - 7s 139ms/step - loss: 0.7463 - accuracy: 0.7630 - val_loss: 0.8016 - val_accuracy: 0.7534\n",
            "Epoch 47/50\n",
            "53/53 [==============================] - 7s 138ms/step - loss: 0.7242 - accuracy: 0.7697 - val_loss: 0.8182 - val_accuracy: 0.7472\n",
            "Epoch 48/50\n",
            "53/53 [==============================] - 7s 138ms/step - loss: 0.7253 - accuracy: 0.7708 - val_loss: 0.8161 - val_accuracy: 0.7544\n",
            "Epoch 49/50\n",
            "53/53 [==============================] - 7s 138ms/step - loss: 0.7178 - accuracy: 0.7741 - val_loss: 0.8075 - val_accuracy: 0.7590\n",
            "Epoch 50/50\n",
            "53/53 [==============================] - 8s 142ms/step - loss: 0.7269 - accuracy: 0.7681 - val_loss: 0.7363 - val_accuracy: 0.7797\n"
          ],
          "name": "stdout"
        }
      ]
    },
    {
      "cell_type": "code",
      "metadata": {
        "id": "acFaGOFwTZO-",
        "outputId": "46e8ec72-2fa8-44dd-c8ed-6c404d743c24",
        "colab": {
          "base_uri": "https://localhost:8080/",
          "height": 50
        }
      },
      "source": [
        "model.evaluate(val_X,val_y)"
      ],
      "execution_count": null,
      "outputs": [
        {
          "output_type": "stream",
          "text": [
            "210/210 [==============================] - 1s 7ms/step - loss: 0.7449 - accuracy: 0.7768\n"
          ],
          "name": "stdout"
        },
        {
          "output_type": "execute_result",
          "data": {
            "text/plain": [
              "[0.7449444532394409, 0.7767857313156128]"
            ]
          },
          "metadata": {
            "tags": []
          },
          "execution_count": 88
        }
      ]
    },
    {
      "cell_type": "markdown",
      "metadata": {
        "id": "pVUZAS0hUsjz"
      },
      "source": [
        "## Reduce the number of neurons as performance with increased parameters is not improving and it's taking too much time to train"
      ]
    },
    {
      "cell_type": "code",
      "metadata": {
        "id": "ewgL6th8TZSS",
        "outputId": "03700add-bb45-41d4-8283-4065649ad97a",
        "colab": {
          "base_uri": "https://localhost:8080/",
          "height": 454
        }
      },
      "source": [
        "model =  Sequential()\n",
        "model.add(Dense(512, input_shape = (32*32,), activation='relu', kernel_initializer='he_normal'))\n",
        "model.add(Dropout(0.1))\n",
        "model.add(GaussianNoise(0.1))\n",
        "model.add(BatchNormalization())\n",
        "\n",
        "model.add(Dense(256, activation='relu', kernel_initializer='he_normal'))\n",
        "model.add(Dropout(0.1))\n",
        "\n",
        "model.add(Dense(128, activation='relu', kernel_initializer='he_normal'))\n",
        "model.add(Dropout(0.1))\n",
        "\n",
        "\n",
        "model.add(Dense(10, activation='softmax'))\n",
        "model.summary()"
      ],
      "execution_count": null,
      "outputs": [
        {
          "output_type": "stream",
          "text": [
            "Model: \"sequential_20\"\n",
            "_________________________________________________________________\n",
            "Layer (type)                 Output Shape              Param #   \n",
            "=================================================================\n",
            "dense_47 (Dense)             (None, 512)               524800    \n",
            "_________________________________________________________________\n",
            "dropout_22 (Dropout)         (None, 512)               0         \n",
            "_________________________________________________________________\n",
            "gaussian_noise_9 (GaussianNo (None, 512)               0         \n",
            "_________________________________________________________________\n",
            "batch_normalization_14 (Batc (None, 512)               2048      \n",
            "_________________________________________________________________\n",
            "dense_48 (Dense)             (None, 256)               131328    \n",
            "_________________________________________________________________\n",
            "dropout_23 (Dropout)         (None, 256)               0         \n",
            "_________________________________________________________________\n",
            "dense_49 (Dense)             (None, 128)               32896     \n",
            "_________________________________________________________________\n",
            "dropout_24 (Dropout)         (None, 128)               0         \n",
            "_________________________________________________________________\n",
            "dense_50 (Dense)             (None, 10)                1290      \n",
            "=================================================================\n",
            "Total params: 692,362\n",
            "Trainable params: 691,338\n",
            "Non-trainable params: 1,024\n",
            "_________________________________________________________________\n"
          ],
          "name": "stdout"
        }
      ]
    },
    {
      "cell_type": "code",
      "metadata": {
        "id": "usmuMakrTZWx",
        "outputId": "0cd91f67-c297-463a-c4c7-49f48b9df3c0",
        "colab": {
          "base_uri": "https://localhost:8080/",
          "height": 1000
        }
      },
      "source": [
        "opt = optimizers.Adam(learning_rate=0.01)\n",
        "model.compile(optimizer = opt, loss='categorical_crossentropy', metrics='accuracy')\n",
        "h= model.fit(train_X, train_y, batch_size=512, epochs=50, validation_data=(test_X, test_y))"
      ],
      "execution_count": null,
      "outputs": [
        {
          "output_type": "stream",
          "text": [
            "Epoch 1/50\n",
            "53/53 [==============================] - 4s 69ms/step - loss: 2.4101 - accuracy: 0.1000 - val_loss: 2.3027 - val_accuracy: 0.1008\n",
            "Epoch 2/50\n",
            "53/53 [==============================] - 3s 63ms/step - loss: 2.3029 - accuracy: 0.0976 - val_loss: 2.3026 - val_accuracy: 0.1009\n",
            "Epoch 3/50\n",
            "53/53 [==============================] - 3s 62ms/step - loss: 2.2968 - accuracy: 0.1044 - val_loss: 2.2888 - val_accuracy: 0.1137\n",
            "Epoch 4/50\n",
            "53/53 [==============================] - 3s 62ms/step - loss: 2.2669 - accuracy: 0.1143 - val_loss: 2.2519 - val_accuracy: 0.1276\n",
            "Epoch 5/50\n",
            "53/53 [==============================] - 3s 63ms/step - loss: 2.2484 - accuracy: 0.1223 - val_loss: 2.3939 - val_accuracy: 0.1013\n",
            "Epoch 6/50\n",
            "53/53 [==============================] - 3s 63ms/step - loss: 2.2448 - accuracy: 0.1244 - val_loss: 2.2208 - val_accuracy: 0.1355\n",
            "Epoch 7/50\n",
            "53/53 [==============================] - 3s 62ms/step - loss: 2.2362 - accuracy: 0.1289 - val_loss: 2.3046 - val_accuracy: 0.1191\n",
            "Epoch 8/50\n",
            "53/53 [==============================] - 3s 63ms/step - loss: 2.2347 - accuracy: 0.1290 - val_loss: 2.2089 - val_accuracy: 0.1354\n",
            "Epoch 9/50\n",
            "53/53 [==============================] - 3s 64ms/step - loss: 2.2184 - accuracy: 0.1379 - val_loss: 2.2804 - val_accuracy: 0.1507\n",
            "Epoch 10/50\n",
            "53/53 [==============================] - 3s 63ms/step - loss: 2.1297 - accuracy: 0.1729 - val_loss: 2.1265 - val_accuracy: 0.1738\n",
            "Epoch 11/50\n",
            "53/53 [==============================] - 3s 62ms/step - loss: 2.0423 - accuracy: 0.2092 - val_loss: 2.0803 - val_accuracy: 0.2034\n",
            "Epoch 12/50\n",
            "53/53 [==============================] - 3s 63ms/step - loss: 2.0086 - accuracy: 0.2237 - val_loss: 1.9859 - val_accuracy: 0.2350\n",
            "Epoch 13/50\n",
            "53/53 [==============================] - 3s 63ms/step - loss: 1.9608 - accuracy: 0.2555 - val_loss: 1.9633 - val_accuracy: 0.2672\n",
            "Epoch 14/50\n",
            "53/53 [==============================] - 3s 62ms/step - loss: 1.9020 - accuracy: 0.2877 - val_loss: 2.0480 - val_accuracy: 0.2648\n",
            "Epoch 15/50\n",
            "53/53 [==============================] - 3s 62ms/step - loss: 1.7950 - accuracy: 0.3413 - val_loss: 2.3007 - val_accuracy: 0.2791\n",
            "Epoch 16/50\n",
            "53/53 [==============================] - 3s 62ms/step - loss: 1.6839 - accuracy: 0.3836 - val_loss: 1.7117 - val_accuracy: 0.3715\n",
            "Epoch 17/50\n",
            "53/53 [==============================] - 3s 63ms/step - loss: 1.5748 - accuracy: 0.4554 - val_loss: 1.5061 - val_accuracy: 0.4768\n",
            "Epoch 18/50\n",
            "53/53 [==============================] - 3s 63ms/step - loss: 1.4432 - accuracy: 0.5073 - val_loss: 1.4938 - val_accuracy: 0.4920\n",
            "Epoch 19/50\n",
            "53/53 [==============================] - 3s 63ms/step - loss: 1.3662 - accuracy: 0.5437 - val_loss: 1.2906 - val_accuracy: 0.5803\n",
            "Epoch 20/50\n",
            "53/53 [==============================] - 3s 62ms/step - loss: 1.2833 - accuracy: 0.5763 - val_loss: 1.1405 - val_accuracy: 0.6342\n",
            "Epoch 21/50\n",
            "53/53 [==============================] - 3s 63ms/step - loss: 1.1974 - accuracy: 0.6081 - val_loss: 1.1719 - val_accuracy: 0.6137\n",
            "Epoch 22/50\n",
            "53/53 [==============================] - 3s 63ms/step - loss: 1.1651 - accuracy: 0.6211 - val_loss: 1.2266 - val_accuracy: 0.6001\n",
            "Epoch 23/50\n",
            "53/53 [==============================] - 3s 63ms/step - loss: 1.1015 - accuracy: 0.6503 - val_loss: 1.0158 - val_accuracy: 0.6728\n",
            "Epoch 24/50\n",
            "53/53 [==============================] - 3s 63ms/step - loss: 1.0685 - accuracy: 0.6615 - val_loss: 1.1623 - val_accuracy: 0.6458\n",
            "Epoch 25/50\n",
            "53/53 [==============================] - 3s 62ms/step - loss: 1.0536 - accuracy: 0.6654 - val_loss: 1.1761 - val_accuracy: 0.6303\n",
            "Epoch 26/50\n",
            "53/53 [==============================] - 3s 63ms/step - loss: 1.0243 - accuracy: 0.6729 - val_loss: 1.0837 - val_accuracy: 0.6532\n",
            "Epoch 27/50\n",
            "53/53 [==============================] - 3s 62ms/step - loss: 0.9874 - accuracy: 0.6867 - val_loss: 0.9793 - val_accuracy: 0.6978\n",
            "Epoch 28/50\n",
            "53/53 [==============================] - 3s 62ms/step - loss: 0.9526 - accuracy: 0.7013 - val_loss: 1.0017 - val_accuracy: 0.6889\n",
            "Epoch 29/50\n",
            "53/53 [==============================] - 3s 62ms/step - loss: 0.9312 - accuracy: 0.7074 - val_loss: 0.9358 - val_accuracy: 0.7086\n",
            "Epoch 30/50\n",
            "53/53 [==============================] - 3s 61ms/step - loss: 0.9044 - accuracy: 0.7147 - val_loss: 0.8944 - val_accuracy: 0.7174\n",
            "Epoch 31/50\n",
            "53/53 [==============================] - 3s 62ms/step - loss: 0.9135 - accuracy: 0.7163 - val_loss: 0.8914 - val_accuracy: 0.7228\n",
            "Epoch 32/50\n",
            "53/53 [==============================] - 3s 63ms/step - loss: 0.9018 - accuracy: 0.7176 - val_loss: 0.9013 - val_accuracy: 0.7193\n",
            "Epoch 33/50\n",
            "53/53 [==============================] - 3s 63ms/step - loss: 0.8878 - accuracy: 0.7235 - val_loss: 0.8956 - val_accuracy: 0.7251\n",
            "Epoch 34/50\n",
            "53/53 [==============================] - 3s 61ms/step - loss: 0.8565 - accuracy: 0.7330 - val_loss: 0.8596 - val_accuracy: 0.7278\n",
            "Epoch 35/50\n",
            "53/53 [==============================] - 3s 63ms/step - loss: 0.8555 - accuracy: 0.7294 - val_loss: 0.8407 - val_accuracy: 0.7457\n",
            "Epoch 36/50\n",
            "53/53 [==============================] - 3s 63ms/step - loss: 0.8473 - accuracy: 0.7354 - val_loss: 0.8243 - val_accuracy: 0.7499\n",
            "Epoch 37/50\n",
            "53/53 [==============================] - 3s 62ms/step - loss: 0.8319 - accuracy: 0.7394 - val_loss: 0.8336 - val_accuracy: 0.7452\n",
            "Epoch 38/50\n",
            "53/53 [==============================] - 3s 61ms/step - loss: 0.8128 - accuracy: 0.7472 - val_loss: 0.8526 - val_accuracy: 0.7396\n",
            "Epoch 39/50\n",
            "53/53 [==============================] - 3s 62ms/step - loss: 0.8149 - accuracy: 0.7463 - val_loss: 0.8544 - val_accuracy: 0.7423\n",
            "Epoch 40/50\n",
            "53/53 [==============================] - 3s 62ms/step - loss: 0.7889 - accuracy: 0.7551 - val_loss: 1.0363 - val_accuracy: 0.6988\n",
            "Epoch 41/50\n",
            "53/53 [==============================] - 3s 62ms/step - loss: 0.8198 - accuracy: 0.7461 - val_loss: 0.8039 - val_accuracy: 0.7513\n",
            "Epoch 42/50\n",
            "53/53 [==============================] - 3s 62ms/step - loss: 0.7887 - accuracy: 0.7542 - val_loss: 0.8473 - val_accuracy: 0.7416\n",
            "Epoch 43/50\n",
            "53/53 [==============================] - 5s 90ms/step - loss: 0.7731 - accuracy: 0.7564 - val_loss: 0.8520 - val_accuracy: 0.7438\n",
            "Epoch 44/50\n",
            "53/53 [==============================] - 6s 114ms/step - loss: 0.7809 - accuracy: 0.7550 - val_loss: 0.8305 - val_accuracy: 0.7454\n",
            "Epoch 45/50\n",
            "53/53 [==============================] - 3s 62ms/step - loss: 0.7738 - accuracy: 0.7549 - val_loss: 0.8254 - val_accuracy: 0.7514\n",
            "Epoch 46/50\n",
            "53/53 [==============================] - 3s 62ms/step - loss: 0.7730 - accuracy: 0.7592 - val_loss: 0.7965 - val_accuracy: 0.7578\n",
            "Epoch 47/50\n",
            "53/53 [==============================] - 3s 63ms/step - loss: 0.7555 - accuracy: 0.7617 - val_loss: 0.7620 - val_accuracy: 0.7679\n",
            "Epoch 48/50\n",
            "53/53 [==============================] - 3s 63ms/step - loss: 0.7350 - accuracy: 0.7723 - val_loss: 0.7705 - val_accuracy: 0.7666\n",
            "Epoch 49/50\n",
            "53/53 [==============================] - 3s 63ms/step - loss: 0.7456 - accuracy: 0.7677 - val_loss: 0.7762 - val_accuracy: 0.7639\n",
            "Epoch 50/50\n",
            "53/53 [==============================] - 3s 63ms/step - loss: 0.7343 - accuracy: 0.7694 - val_loss: 0.7168 - val_accuracy: 0.7825\n"
          ],
          "name": "stdout"
        }
      ]
    },
    {
      "cell_type": "code",
      "metadata": {
        "id": "3PIrjnUJXuOu",
        "outputId": "38a8e1f2-d665-453d-fbd6-2d40d6c7a02e",
        "colab": {
          "base_uri": "https://localhost:8080/",
          "height": 34
        }
      },
      "source": [
        "results = model.evaluate(val_X, val_y)"
      ],
      "execution_count": null,
      "outputs": [
        {
          "output_type": "stream",
          "text": [
            "210/210 [==============================] - 1s 6ms/step - loss: 0.7251 - accuracy: 0.7817\n"
          ],
          "name": "stdout"
        }
      ]
    },
    {
      "cell_type": "markdown",
      "metadata": {
        "id": "E5HIg6-tYpYc"
      },
      "source": [
        "Improvement by about 1%"
      ]
    },
    {
      "cell_type": "code",
      "metadata": {
        "id": "rSU9TlijX2LN",
        "outputId": "788baf30-29be-4603-9edd-7a3b1561e439",
        "colab": {
          "base_uri": "https://localhost:8080/",
          "height": 351
        }
      },
      "source": [
        "model_val_loss = h.history['val_loss']\n",
        "model_train_loss = h.history['loss']\n",
        "model_val_acc = h.history['val_accuracy']\n",
        "model_train_acc = h.history['accuracy']\n",
        "\n",
        "\n",
        "epochs = range(1,51)\n",
        "plt.figure(figsize=(10,5))\n",
        "plt.subplot(1,2,1)\n",
        "plt.plot(epochs, model_val_loss, 'b', label='Validation Loss')\n",
        "plt.plot(epochs, model_train_loss, 'r', label='Training Loss')\n",
        "plt.xlabel('Epochs')\n",
        "plt.ylabel('Loss')\n",
        "plt.legend()\n",
        "\n",
        "plt.subplot(1,2,2)\n",
        "plt.plot(epochs, model_val_acc, 'b', label='Validation Acc')\n",
        "plt.plot(epochs, model_train_acc, 'r', label='Training Acc')\n",
        "plt.xlabel('Epochs')\n",
        "plt.ylabel('Loss')\n",
        "plt.legend()"
      ],
      "execution_count": null,
      "outputs": [
        {
          "output_type": "execute_result",
          "data": {
            "text/plain": [
              "<matplotlib.legend.Legend at 0x7fc5346867f0>"
            ]
          },
          "metadata": {
            "tags": []
          },
          "execution_count": 92
        },
        {
          "output_type": "display_data",
          "data": {
            "image/png": "[encoded data removed]",
            "text/plain": [
              "<Figure size 720x360 with 2 Axes>"
            ]
          },
          "metadata": {
            "tags": [],
            "needs_background": "light"
          }
        }
      ]
    },
    {
      "cell_type": "code",
      "metadata": {
        "id": "QAuwTzTjX2jF",
        "outputId": "037ed9b5-3ab8-4d46-8256-ab0f03bff21b",
        "colab": {
          "base_uri": "https://localhost:8080/",
          "height": 1000
        }
      },
      "source": [
        "# Try Different Learning rate & different optimizer\n",
        "opt = optimizers.Adam(learning_rate=0.001)\n",
        "model.compile(optimizer = opt, loss='categorical_crossentropy', metrics='accuracy')\n",
        "h= model.fit(train_X, train_y, batch_size=512, epochs=50, validation_data=(test_X, test_y))"
      ],
      "execution_count": null,
      "outputs": [
        {
          "output_type": "stream",
          "text": [
            "Epoch 1/50\n",
            "53/53 [==============================] - 3s 65ms/step - loss: 2.4562 - accuracy: 0.1321 - val_loss: 2.2489 - val_accuracy: 0.1896\n",
            "Epoch 2/50\n",
            "53/53 [==============================] - 3s 62ms/step - loss: 1.8917 - accuracy: 0.3301 - val_loss: 1.6600 - val_accuracy: 0.5152\n",
            "Epoch 3/50\n",
            "53/53 [==============================] - 3s 64ms/step - loss: 1.4399 - accuracy: 0.5146 - val_loss: 1.3459 - val_accuracy: 0.5793\n",
            "Epoch 4/50\n",
            "53/53 [==============================] - 3s 62ms/step - loss: 1.2602 - accuracy: 0.5923 - val_loss: 1.2390 - val_accuracy: 0.5931\n",
            "Epoch 5/50\n",
            "53/53 [==============================] - 3s 63ms/step - loss: 1.1738 - accuracy: 0.6229 - val_loss: 1.1243 - val_accuracy: 0.6371\n",
            "Epoch 6/50\n",
            "53/53 [==============================] - 3s 62ms/step - loss: 1.0967 - accuracy: 0.6523 - val_loss: 1.0736 - val_accuracy: 0.6552\n",
            "Epoch 7/50\n",
            "53/53 [==============================] - 3s 63ms/step - loss: 1.0537 - accuracy: 0.6658 - val_loss: 1.0215 - val_accuracy: 0.6760\n",
            "Epoch 8/50\n",
            "53/53 [==============================] - 3s 62ms/step - loss: 1.0174 - accuracy: 0.6764 - val_loss: 1.0461 - val_accuracy: 0.6731\n",
            "Epoch 9/50\n",
            "53/53 [==============================] - 3s 62ms/step - loss: 0.9704 - accuracy: 0.6901 - val_loss: 0.8932 - val_accuracy: 0.7248\n",
            "Epoch 10/50\n",
            "53/53 [==============================] - 3s 62ms/step - loss: 0.9360 - accuracy: 0.7026 - val_loss: 0.9393 - val_accuracy: 0.7006\n",
            "Epoch 11/50\n",
            "53/53 [==============================] - 3s 63ms/step - loss: 0.9074 - accuracy: 0.7118 - val_loss: 0.8786 - val_accuracy: 0.7305\n",
            "Epoch 12/50\n",
            "53/53 [==============================] - 3s 63ms/step - loss: 0.8836 - accuracy: 0.7215 - val_loss: 0.9012 - val_accuracy: 0.7203\n",
            "Epoch 13/50\n",
            "53/53 [==============================] - 3s 62ms/step - loss: 0.8636 - accuracy: 0.7254 - val_loss: 0.8292 - val_accuracy: 0.7442\n",
            "Epoch 14/50\n",
            "53/53 [==============================] - 3s 63ms/step - loss: 0.8336 - accuracy: 0.7354 - val_loss: 0.8257 - val_accuracy: 0.7469\n",
            "Epoch 15/50\n",
            "53/53 [==============================] - 3s 62ms/step - loss: 0.8083 - accuracy: 0.7421 - val_loss: 0.8210 - val_accuracy: 0.7451\n",
            "Epoch 16/50\n",
            "53/53 [==============================] - 3s 63ms/step - loss: 0.7918 - accuracy: 0.7476 - val_loss: 0.8350 - val_accuracy: 0.7393\n",
            "Epoch 17/50\n",
            "53/53 [==============================] - 3s 63ms/step - loss: 0.7769 - accuracy: 0.7509 - val_loss: 0.8143 - val_accuracy: 0.7451\n",
            "Epoch 18/50\n",
            "53/53 [==============================] - 3s 62ms/step - loss: 0.7580 - accuracy: 0.7586 - val_loss: 0.7885 - val_accuracy: 0.7550\n",
            "Epoch 19/50\n",
            "53/53 [==============================] - 3s 63ms/step - loss: 0.7427 - accuracy: 0.7640 - val_loss: 0.7524 - val_accuracy: 0.7677\n",
            "Epoch 20/50\n",
            "53/53 [==============================] - 3s 62ms/step - loss: 0.7344 - accuracy: 0.7674 - val_loss: 0.8356 - val_accuracy: 0.7391\n",
            "Epoch 21/50\n",
            "53/53 [==============================] - 4s 69ms/step - loss: 0.7153 - accuracy: 0.7727 - val_loss: 0.7509 - val_accuracy: 0.7692\n",
            "Epoch 22/50\n",
            "53/53 [==============================] - 4s 74ms/step - loss: 0.7013 - accuracy: 0.7760 - val_loss: 0.7640 - val_accuracy: 0.7641\n",
            "Epoch 23/50\n",
            "53/53 [==============================] - 4s 78ms/step - loss: 0.6922 - accuracy: 0.7770 - val_loss: 0.7463 - val_accuracy: 0.7709\n",
            "Epoch 24/50\n",
            "53/53 [==============================] - 4s 68ms/step - loss: 0.6780 - accuracy: 0.7840 - val_loss: 0.7378 - val_accuracy: 0.7718\n",
            "Epoch 25/50\n",
            "53/53 [==============================] - 4s 79ms/step - loss: 0.6684 - accuracy: 0.7869 - val_loss: 0.7995 - val_accuracy: 0.7513\n",
            "Epoch 26/50\n",
            "53/53 [==============================] - 4s 78ms/step - loss: 0.6490 - accuracy: 0.7929 - val_loss: 0.7589 - val_accuracy: 0.7662\n",
            "Epoch 27/50\n",
            "53/53 [==============================] - 3s 64ms/step - loss: 0.6446 - accuracy: 0.7945 - val_loss: 0.7197 - val_accuracy: 0.7773\n",
            "Epoch 28/50\n",
            "53/53 [==============================] - 3s 62ms/step - loss: 0.6274 - accuracy: 0.7993 - val_loss: 0.6955 - val_accuracy: 0.7908\n",
            "Epoch 29/50\n",
            "53/53 [==============================] - 3s 64ms/step - loss: 0.6334 - accuracy: 0.7974 - val_loss: 0.7544 - val_accuracy: 0.7649\n",
            "Epoch 30/50\n",
            "53/53 [==============================] - 3s 62ms/step - loss: 0.6140 - accuracy: 0.7993 - val_loss: 0.7242 - val_accuracy: 0.7769\n",
            "Epoch 31/50\n",
            "53/53 [==============================] - 3s 63ms/step - loss: 0.6077 - accuracy: 0.8052 - val_loss: 0.7018 - val_accuracy: 0.7872\n",
            "Epoch 32/50\n",
            "53/53 [==============================] - 3s 62ms/step - loss: 0.5985 - accuracy: 0.8093 - val_loss: 0.7706 - val_accuracy: 0.7623\n",
            "Epoch 33/50\n",
            "53/53 [==============================] - 3s 63ms/step - loss: 0.5882 - accuracy: 0.8093 - val_loss: 0.7066 - val_accuracy: 0.7859\n",
            "Epoch 34/50\n",
            "53/53 [==============================] - 3s 63ms/step - loss: 0.5814 - accuracy: 0.8133 - val_loss: 0.7169 - val_accuracy: 0.7771\n",
            "Epoch 35/50\n",
            "53/53 [==============================] - 3s 63ms/step - loss: 0.5804 - accuracy: 0.8131 - val_loss: 0.6612 - val_accuracy: 0.7989\n",
            "Epoch 36/50\n",
            "53/53 [==============================] - 3s 64ms/step - loss: 0.5599 - accuracy: 0.8196 - val_loss: 0.6508 - val_accuracy: 0.8067\n",
            "Epoch 37/50\n",
            "53/53 [==============================] - 3s 62ms/step - loss: 0.5543 - accuracy: 0.8213 - val_loss: 0.6384 - val_accuracy: 0.8092\n",
            "Epoch 38/50\n",
            "53/53 [==============================] - 3s 63ms/step - loss: 0.5517 - accuracy: 0.8209 - val_loss: 0.7230 - val_accuracy: 0.7785\n",
            "Epoch 39/50\n",
            "53/53 [==============================] - 3s 61ms/step - loss: 0.5299 - accuracy: 0.8277 - val_loss: 0.6591 - val_accuracy: 0.8026\n",
            "Epoch 40/50\n",
            "53/53 [==============================] - 3s 63ms/step - loss: 0.5273 - accuracy: 0.8298 - val_loss: 0.6376 - val_accuracy: 0.8072\n",
            "Epoch 41/50\n",
            "53/53 [==============================] - 3s 64ms/step - loss: 0.5233 - accuracy: 0.8297 - val_loss: 0.6611 - val_accuracy: 0.8042\n",
            "Epoch 42/50\n",
            "53/53 [==============================] - 3s 63ms/step - loss: 0.5224 - accuracy: 0.8307 - val_loss: 0.6500 - val_accuracy: 0.8054\n",
            "Epoch 43/50\n",
            "53/53 [==============================] - 3s 62ms/step - loss: 0.5092 - accuracy: 0.8361 - val_loss: 0.6168 - val_accuracy: 0.8176\n",
            "Epoch 44/50\n",
            "53/53 [==============================] - 3s 62ms/step - loss: 0.5077 - accuracy: 0.8366 - val_loss: 0.6636 - val_accuracy: 0.7969\n",
            "Epoch 45/50\n",
            "53/53 [==============================] - 3s 62ms/step - loss: 0.5052 - accuracy: 0.8364 - val_loss: 0.6365 - val_accuracy: 0.8096\n",
            "Epoch 46/50\n",
            "53/53 [==============================] - 3s 63ms/step - loss: 0.4941 - accuracy: 0.8402 - val_loss: 0.6661 - val_accuracy: 0.7987\n",
            "Epoch 47/50\n",
            "53/53 [==============================] - 3s 63ms/step - loss: 0.4847 - accuracy: 0.8423 - val_loss: 0.6339 - val_accuracy: 0.8150\n",
            "Epoch 48/50\n",
            "53/53 [==============================] - 3s 61ms/step - loss: 0.4784 - accuracy: 0.8444 - val_loss: 0.6912 - val_accuracy: 0.7912\n",
            "Epoch 49/50\n",
            "53/53 [==============================] - 3s 62ms/step - loss: 0.4773 - accuracy: 0.8460 - val_loss: 0.6332 - val_accuracy: 0.8104\n",
            "Epoch 50/50\n",
            "53/53 [==============================] - 3s 63ms/step - loss: 0.4690 - accuracy: 0.8478 - val_loss: 0.6618 - val_accuracy: 0.8024\n"
          ],
          "name": "stdout"
        }
      ]
    },
    {
      "cell_type": "code",
      "metadata": {
        "id": "nCN7CxVgeF2c",
        "outputId": "f13c8c3f-b804-4dae-b2a5-2380879ee8e2",
        "colab": {
          "base_uri": "https://localhost:8080/",
          "height": 34
        }
      },
      "source": [
        "results = model.evaluate(val_X, val_y)"
      ],
      "execution_count": null,
      "outputs": [
        {
          "output_type": "stream",
          "text": [
            "210/210 [==============================] - 1s 4ms/step - loss: 0.6687 - accuracy: 0.7967\n"
          ],
          "name": "stdout"
        }
      ]
    },
    {
      "cell_type": "markdown",
      "metadata": {
        "id": "qkZe9LgugEJu"
      },
      "source": [
        "Thats Best results so far"
      ]
    },
    {
      "cell_type": "code",
      "metadata": {
        "id": "VWNHnJSteF6K",
        "outputId": "d18c58e6-1711-429c-a771-053c5a0d9fa1",
        "colab": {
          "base_uri": "https://localhost:8080/",
          "height": 1000
        }
      },
      "source": [
        "opt = optimizers.RMSprop(learning_rate=0.01)\n",
        "model.compile(optimizer = opt, loss='categorical_crossentropy', metrics='accuracy')\n",
        "h= model.fit(train_X, train_y, batch_size=512, epochs=50, validation_data=(test_X, test_y))"
      ],
      "execution_count": null,
      "outputs": [
        {
          "output_type": "stream",
          "text": [
            "Epoch 1/50\n",
            "53/53 [==============================] - 4s 76ms/step - loss: 2.3869 - accuracy: 0.1438 - val_loss: 2.1297 - val_accuracy: 0.2011\n",
            "Epoch 2/50\n",
            "53/53 [==============================] - 4s 67ms/step - loss: 2.0212 - accuracy: 0.2555 - val_loss: 2.0997 - val_accuracy: 0.2903\n",
            "Epoch 3/50\n",
            "53/53 [==============================] - 3s 66ms/step - loss: 1.7967 - accuracy: 0.3678 - val_loss: 2.0912 - val_accuracy: 0.3003\n",
            "Epoch 4/50\n",
            "53/53 [==============================] - 4s 67ms/step - loss: 1.6429 - accuracy: 0.4286 - val_loss: 1.4991 - val_accuracy: 0.4706\n",
            "Epoch 5/50\n",
            "53/53 [==============================] - 4s 67ms/step - loss: 1.5491 - accuracy: 0.4693 - val_loss: 1.6016 - val_accuracy: 0.4408\n",
            "Epoch 6/50\n",
            "53/53 [==============================] - 4s 69ms/step - loss: 1.4558 - accuracy: 0.5170 - val_loss: 1.4327 - val_accuracy: 0.5279\n",
            "Epoch 7/50\n",
            "53/53 [==============================] - 4s 68ms/step - loss: 1.3764 - accuracy: 0.5485 - val_loss: 1.5933 - val_accuracy: 0.4986\n",
            "Epoch 8/50\n",
            "53/53 [==============================] - 4s 68ms/step - loss: 1.3238 - accuracy: 0.5680 - val_loss: 1.8151 - val_accuracy: 0.4345\n",
            "Epoch 9/50\n",
            "53/53 [==============================] - 4s 67ms/step - loss: 1.2880 - accuracy: 0.5830 - val_loss: 2.0608 - val_accuracy: 0.4119\n",
            "Epoch 10/50\n",
            "53/53 [==============================] - 3s 65ms/step - loss: 1.2426 - accuracy: 0.6020 - val_loss: 1.8014 - val_accuracy: 0.3954\n",
            "Epoch 11/50\n",
            "53/53 [==============================] - 4s 68ms/step - loss: 1.2223 - accuracy: 0.6107 - val_loss: 1.5641 - val_accuracy: 0.4937\n",
            "Epoch 12/50\n",
            "53/53 [==============================] - 4s 67ms/step - loss: 1.1890 - accuracy: 0.6226 - val_loss: 2.0112 - val_accuracy: 0.4568\n",
            "Epoch 13/50\n",
            "53/53 [==============================] - 4s 67ms/step - loss: 1.1569 - accuracy: 0.6291 - val_loss: 1.5792 - val_accuracy: 0.4734\n",
            "Epoch 14/50\n",
            "53/53 [==============================] - 4s 68ms/step - loss: 1.1459 - accuracy: 0.6340 - val_loss: 1.3212 - val_accuracy: 0.5981\n",
            "Epoch 15/50\n",
            "53/53 [==============================] - 4s 68ms/step - loss: 1.1086 - accuracy: 0.6456 - val_loss: 1.4152 - val_accuracy: 0.5467\n",
            "Epoch 16/50\n",
            "53/53 [==============================] - 4s 67ms/step - loss: 1.0942 - accuracy: 0.6516 - val_loss: 1.2898 - val_accuracy: 0.5746\n",
            "Epoch 17/50\n",
            "53/53 [==============================] - 4s 68ms/step - loss: 1.0773 - accuracy: 0.6565 - val_loss: 1.5184 - val_accuracy: 0.4901\n",
            "Epoch 18/50\n",
            "53/53 [==============================] - 4s 68ms/step - loss: 1.0657 - accuracy: 0.6617 - val_loss: 2.1036 - val_accuracy: 0.4173\n",
            "Epoch 19/50\n",
            "53/53 [==============================] - 4s 68ms/step - loss: 1.0557 - accuracy: 0.6662 - val_loss: 1.6016 - val_accuracy: 0.5144\n",
            "Epoch 20/50\n",
            "53/53 [==============================] - 4s 67ms/step - loss: 1.0249 - accuracy: 0.6744 - val_loss: 1.4003 - val_accuracy: 0.5414\n",
            "Epoch 21/50\n",
            "53/53 [==============================] - 4s 68ms/step - loss: 1.0250 - accuracy: 0.6756 - val_loss: 1.9014 - val_accuracy: 0.4734\n",
            "Epoch 22/50\n",
            "53/53 [==============================] - 4s 68ms/step - loss: 1.0218 - accuracy: 0.6749 - val_loss: 1.2361 - val_accuracy: 0.6216\n",
            "Epoch 23/50\n",
            "53/53 [==============================] - 4s 68ms/step - loss: 0.9939 - accuracy: 0.6868 - val_loss: 1.3889 - val_accuracy: 0.5792\n",
            "Epoch 24/50\n",
            "53/53 [==============================] - 4s 67ms/step - loss: 0.9920 - accuracy: 0.6907 - val_loss: 1.3595 - val_accuracy: 0.5903\n",
            "Epoch 25/50\n",
            "53/53 [==============================] - 4s 67ms/step - loss: 0.9754 - accuracy: 0.6892 - val_loss: 1.2742 - val_accuracy: 0.6060\n",
            "Epoch 26/50\n",
            "53/53 [==============================] - 4s 68ms/step - loss: 0.9708 - accuracy: 0.6907 - val_loss: 1.3047 - val_accuracy: 0.5837\n",
            "Epoch 27/50\n",
            "53/53 [==============================] - 4s 68ms/step - loss: 0.9635 - accuracy: 0.6973 - val_loss: 1.0923 - val_accuracy: 0.6644\n",
            "Epoch 28/50\n",
            "53/53 [==============================] - 4s 67ms/step - loss: 0.9559 - accuracy: 0.7004 - val_loss: 1.0999 - val_accuracy: 0.6504\n",
            "Epoch 29/50\n",
            "53/53 [==============================] - 4s 68ms/step - loss: 0.9395 - accuracy: 0.7020 - val_loss: 1.3888 - val_accuracy: 0.5644\n",
            "Epoch 30/50\n",
            "53/53 [==============================] - 3s 66ms/step - loss: 0.9396 - accuracy: 0.7043 - val_loss: 1.2483 - val_accuracy: 0.6198\n",
            "Epoch 31/50\n",
            "53/53 [==============================] - 4s 69ms/step - loss: 0.9296 - accuracy: 0.7067 - val_loss: 1.3472 - val_accuracy: 0.5924\n",
            "Epoch 32/50\n",
            "53/53 [==============================] - 4s 83ms/step - loss: 0.9162 - accuracy: 0.7097 - val_loss: 1.0902 - val_accuracy: 0.6709\n",
            "Epoch 33/50\n",
            "53/53 [==============================] - 4s 77ms/step - loss: 0.9124 - accuracy: 0.7144 - val_loss: 1.2382 - val_accuracy: 0.6113\n",
            "Epoch 34/50\n",
            "53/53 [==============================] - 4s 68ms/step - loss: 0.9138 - accuracy: 0.7134 - val_loss: 1.1642 - val_accuracy: 0.6407\n",
            "Epoch 35/50\n",
            "53/53 [==============================] - 4s 68ms/step - loss: 0.9046 - accuracy: 0.7157 - val_loss: 1.4695 - val_accuracy: 0.5730\n",
            "Epoch 36/50\n",
            "53/53 [==============================] - 4s 66ms/step - loss: 0.9003 - accuracy: 0.7155 - val_loss: 1.2538 - val_accuracy: 0.6088\n",
            "Epoch 37/50\n",
            "53/53 [==============================] - 4s 70ms/step - loss: 0.8919 - accuracy: 0.7210 - val_loss: 1.2410 - val_accuracy: 0.5991\n",
            "Epoch 38/50\n",
            "53/53 [==============================] - 4s 70ms/step - loss: 0.8927 - accuracy: 0.7178 - val_loss: 1.1799 - val_accuracy: 0.6347\n",
            "Epoch 39/50\n",
            "53/53 [==============================] - 4s 68ms/step - loss: 0.8862 - accuracy: 0.7201 - val_loss: 1.7754 - val_accuracy: 0.5080\n",
            "Epoch 40/50\n",
            "53/53 [==============================] - 4s 68ms/step - loss: 0.8834 - accuracy: 0.7218 - val_loss: 1.0770 - val_accuracy: 0.6610\n",
            "Epoch 41/50\n",
            "53/53 [==============================] - 4s 67ms/step - loss: 0.8619 - accuracy: 0.7269 - val_loss: 1.3493 - val_accuracy: 0.5854\n",
            "Epoch 42/50\n",
            "53/53 [==============================] - 4s 68ms/step - loss: 0.8723 - accuracy: 0.7264 - val_loss: 0.9760 - val_accuracy: 0.6860\n",
            "Epoch 43/50\n",
            "53/53 [==============================] - 4s 69ms/step - loss: 0.8586 - accuracy: 0.7261 - val_loss: 1.1706 - val_accuracy: 0.6286\n",
            "Epoch 44/50\n",
            "53/53 [==============================] - 4s 67ms/step - loss: 0.8461 - accuracy: 0.7346 - val_loss: 1.1665 - val_accuracy: 0.6226\n",
            "Epoch 45/50\n",
            "53/53 [==============================] - 4s 67ms/step - loss: 0.8471 - accuracy: 0.7319 - val_loss: 1.3070 - val_accuracy: 0.6182\n",
            "Epoch 46/50\n",
            "53/53 [==============================] - 4s 68ms/step - loss: 0.8424 - accuracy: 0.7324 - val_loss: 1.0832 - val_accuracy: 0.6658\n",
            "Epoch 47/50\n",
            "53/53 [==============================] - 4s 70ms/step - loss: 0.8509 - accuracy: 0.7334 - val_loss: 1.5781 - val_accuracy: 0.5942\n",
            "Epoch 48/50\n",
            "53/53 [==============================] - 4s 69ms/step - loss: 0.8361 - accuracy: 0.7356 - val_loss: 1.1123 - val_accuracy: 0.6632\n",
            "Epoch 49/50\n",
            "53/53 [==============================] - 4s 67ms/step - loss: 0.8342 - accuracy: 0.7398 - val_loss: 1.3616 - val_accuracy: 0.5993\n",
            "Epoch 50/50\n",
            "53/53 [==============================] - 3s 65ms/step - loss: 0.8314 - accuracy: 0.7372 - val_loss: 1.0614 - val_accuracy: 0.6567\n"
          ],
          "name": "stdout"
        }
      ]
    },
    {
      "cell_type": "code",
      "metadata": {
        "id": "gi5KWp1ZeF9b",
        "outputId": "2937cc30-28b7-477a-e135-8ce1604c0d64",
        "colab": {
          "base_uri": "https://localhost:8080/",
          "height": 34
        }
      },
      "source": [
        "results = model.evaluate(val_X, val_y)"
      ],
      "execution_count": null,
      "outputs": [
        {
          "output_type": "stream",
          "text": [
            "210/210 [==============================] - 1s 4ms/step - loss: 1.0470 - accuracy: 0.6598\n"
          ],
          "name": "stdout"
        }
      ]
    },
    {
      "cell_type": "markdown",
      "metadata": {
        "id": "W1VxPA-4gSo3"
      },
      "source": [
        "## RMSpropr with decereased learning rate"
      ]
    },
    {
      "cell_type": "code",
      "metadata": {
        "id": "bHiNlmKNeGA2",
        "outputId": "a07bcc6d-5250-4988-f324-f3f3b9591e62",
        "colab": {
          "base_uri": "https://localhost:8080/",
          "height": 1000
        }
      },
      "source": [
        "opt = optimizers.RMSprop(learning_rate=0.001)\n",
        "model.compile(optimizer = opt, loss='categorical_crossentropy', metrics='accuracy')\n",
        "h= model.fit(train_X, train_y, batch_size=512, epochs=50, validation_data=(test_X, test_y))"
      ],
      "execution_count": null,
      "outputs": [
        {
          "output_type": "stream",
          "text": [
            "Epoch 1/50\n",
            "53/53 [==============================] - 4s 69ms/step - loss: 0.7003 - accuracy: 0.7777 - val_loss: 0.6842 - val_accuracy: 0.7957\n",
            "Epoch 2/50\n",
            "53/53 [==============================] - 4s 67ms/step - loss: 0.6635 - accuracy: 0.7902 - val_loss: 0.6848 - val_accuracy: 0.7957\n",
            "Epoch 3/50\n",
            "53/53 [==============================] - 4s 67ms/step - loss: 0.6612 - accuracy: 0.7868 - val_loss: 0.6684 - val_accuracy: 0.8009\n",
            "Epoch 4/50\n",
            "53/53 [==============================] - 4s 67ms/step - loss: 0.6481 - accuracy: 0.7924 - val_loss: 0.6733 - val_accuracy: 0.7983\n",
            "Epoch 5/50\n",
            "53/53 [==============================] - 4s 68ms/step - loss: 0.6547 - accuracy: 0.7907 - val_loss: 0.6787 - val_accuracy: 0.7976\n",
            "Epoch 6/50\n",
            "53/53 [==============================] - 4s 67ms/step - loss: 0.6481 - accuracy: 0.7950 - val_loss: 0.6648 - val_accuracy: 0.8012\n",
            "Epoch 7/50\n",
            "53/53 [==============================] - 4s 68ms/step - loss: 0.6495 - accuracy: 0.7945 - val_loss: 0.6714 - val_accuracy: 0.7986\n",
            "Epoch 8/50\n",
            "53/53 [==============================] - 4s 67ms/step - loss: 0.6394 - accuracy: 0.7953 - val_loss: 0.6618 - val_accuracy: 0.8002\n",
            "Epoch 9/50\n",
            "53/53 [==============================] - 3s 65ms/step - loss: 0.6336 - accuracy: 0.7981 - val_loss: 0.6877 - val_accuracy: 0.7931\n",
            "Epoch 10/50\n",
            "53/53 [==============================] - 4s 67ms/step - loss: 0.6368 - accuracy: 0.7976 - val_loss: 0.6700 - val_accuracy: 0.7995\n",
            "Epoch 11/50\n",
            "53/53 [==============================] - 4s 66ms/step - loss: 0.6257 - accuracy: 0.7978 - val_loss: 0.6712 - val_accuracy: 0.7999\n",
            "Epoch 12/50\n",
            "53/53 [==============================] - 4s 68ms/step - loss: 0.6293 - accuracy: 0.7995 - val_loss: 0.6678 - val_accuracy: 0.7981\n",
            "Epoch 13/50\n",
            "53/53 [==============================] - 4s 67ms/step - loss: 0.6270 - accuracy: 0.8010 - val_loss: 0.6561 - val_accuracy: 0.8033\n",
            "Epoch 14/50\n",
            "53/53 [==============================] - 4s 68ms/step - loss: 0.6290 - accuracy: 0.7993 - val_loss: 0.6707 - val_accuracy: 0.7977\n",
            "Epoch 15/50\n",
            "53/53 [==============================] - 4s 67ms/step - loss: 0.6235 - accuracy: 0.8005 - val_loss: 0.6655 - val_accuracy: 0.7999\n",
            "Epoch 16/50\n",
            "53/53 [==============================] - 4s 66ms/step - loss: 0.6206 - accuracy: 0.8032 - val_loss: 0.6539 - val_accuracy: 0.8007\n",
            "Epoch 17/50\n",
            "53/53 [==============================] - 4s 67ms/step - loss: 0.6206 - accuracy: 0.8019 - val_loss: 0.6555 - val_accuracy: 0.8032\n",
            "Epoch 18/50\n",
            "53/53 [==============================] - 4s 67ms/step - loss: 0.6168 - accuracy: 0.8055 - val_loss: 0.6655 - val_accuracy: 0.8012\n",
            "Epoch 19/50\n",
            "53/53 [==============================] - 4s 67ms/step - loss: 0.6118 - accuracy: 0.8053 - val_loss: 0.6645 - val_accuracy: 0.7992\n",
            "Epoch 20/50\n",
            "53/53 [==============================] - 4s 68ms/step - loss: 0.6157 - accuracy: 0.8043 - val_loss: 0.6595 - val_accuracy: 0.8035\n",
            "Epoch 21/50\n",
            "53/53 [==============================] - 4s 68ms/step - loss: 0.6190 - accuracy: 0.8032 - val_loss: 0.6526 - val_accuracy: 0.8053\n",
            "Epoch 22/50\n",
            "53/53 [==============================] - 4s 85ms/step - loss: 0.6170 - accuracy: 0.8035 - val_loss: 0.6629 - val_accuracy: 0.8019\n",
            "Epoch 23/50\n",
            "53/53 [==============================] - 5s 93ms/step - loss: 0.6118 - accuracy: 0.8054 - val_loss: 0.6631 - val_accuracy: 0.8030\n",
            "Epoch 24/50\n",
            "53/53 [==============================] - 4s 81ms/step - loss: 0.6122 - accuracy: 0.8040 - val_loss: 0.6550 - val_accuracy: 0.8018\n",
            "Epoch 25/50\n",
            "53/53 [==============================] - 4s 81ms/step - loss: 0.6108 - accuracy: 0.8048 - val_loss: 0.6491 - val_accuracy: 0.8035\n",
            "Epoch 26/50\n",
            "53/53 [==============================] - 5s 90ms/step - loss: 0.6083 - accuracy: 0.8068 - val_loss: 0.6566 - val_accuracy: 0.8029\n",
            "Epoch 27/50\n",
            "53/53 [==============================] - 5s 89ms/step - loss: 0.6084 - accuracy: 0.8037 - val_loss: 0.6511 - val_accuracy: 0.8054\n",
            "Epoch 28/50\n",
            "53/53 [==============================] - 4s 68ms/step - loss: 0.6075 - accuracy: 0.8071 - val_loss: 0.6628 - val_accuracy: 0.8008\n",
            "Epoch 29/50\n",
            "53/53 [==============================] - 4s 66ms/step - loss: 0.6071 - accuracy: 0.8060 - val_loss: 0.6579 - val_accuracy: 0.8028\n",
            "Epoch 30/50\n",
            "53/53 [==============================] - 4s 67ms/step - loss: 0.5992 - accuracy: 0.8082 - val_loss: 0.6495 - val_accuracy: 0.8059\n",
            "Epoch 31/50\n",
            "53/53 [==============================] - 4s 69ms/step - loss: 0.5992 - accuracy: 0.8090 - val_loss: 0.6562 - val_accuracy: 0.8055\n",
            "Epoch 32/50\n",
            "53/53 [==============================] - 4s 69ms/step - loss: 0.5942 - accuracy: 0.8078 - val_loss: 0.6638 - val_accuracy: 0.8036\n",
            "Epoch 33/50\n",
            "53/53 [==============================] - 4s 70ms/step - loss: 0.5985 - accuracy: 0.8077 - val_loss: 0.6517 - val_accuracy: 0.8036\n",
            "Epoch 34/50\n",
            "53/53 [==============================] - 4s 69ms/step - loss: 0.6009 - accuracy: 0.8061 - val_loss: 0.6543 - val_accuracy: 0.8034\n",
            "Epoch 35/50\n",
            "53/53 [==============================] - 4s 68ms/step - loss: 0.6038 - accuracy: 0.8063 - val_loss: 0.6496 - val_accuracy: 0.8057\n",
            "Epoch 36/50\n",
            "53/53 [==============================] - 4s 69ms/step - loss: 0.5978 - accuracy: 0.8078 - val_loss: 0.6511 - val_accuracy: 0.8041\n",
            "Epoch 37/50\n",
            "53/53 [==============================] - 4s 66ms/step - loss: 0.5947 - accuracy: 0.8113 - val_loss: 0.6556 - val_accuracy: 0.8025\n",
            "Epoch 38/50\n",
            "53/53 [==============================] - 4s 68ms/step - loss: 0.5922 - accuracy: 0.8106 - val_loss: 0.6554 - val_accuracy: 0.8055\n",
            "Epoch 39/50\n",
            "53/53 [==============================] - 4s 67ms/step - loss: 0.5980 - accuracy: 0.8083 - val_loss: 0.6565 - val_accuracy: 0.8018\n",
            "Epoch 40/50\n",
            "53/53 [==============================] - 4s 66ms/step - loss: 0.5931 - accuracy: 0.8100 - val_loss: 0.6551 - val_accuracy: 0.8046\n",
            "Epoch 41/50\n",
            "53/53 [==============================] - 4s 68ms/step - loss: 0.5933 - accuracy: 0.8099 - val_loss: 0.6497 - val_accuracy: 0.8064\n",
            "Epoch 42/50\n",
            "53/53 [==============================] - 4s 69ms/step - loss: 0.5866 - accuracy: 0.8115 - val_loss: 0.6586 - val_accuracy: 0.8057\n",
            "Epoch 43/50\n",
            "53/53 [==============================] - 4s 68ms/step - loss: 0.5954 - accuracy: 0.8080 - val_loss: 0.6581 - val_accuracy: 0.8019\n",
            "Epoch 44/50\n",
            "53/53 [==============================] - 4s 69ms/step - loss: 0.5873 - accuracy: 0.8122 - val_loss: 0.6477 - val_accuracy: 0.8063\n",
            "Epoch 45/50\n",
            "53/53 [==============================] - 4s 68ms/step - loss: 0.5914 - accuracy: 0.8113 - val_loss: 0.6499 - val_accuracy: 0.8065\n",
            "Epoch 46/50\n",
            "53/53 [==============================] - 4s 68ms/step - loss: 0.5915 - accuracy: 0.8126 - val_loss: 0.6556 - val_accuracy: 0.8048\n",
            "Epoch 47/50\n",
            "53/53 [==============================] - 4s 68ms/step - loss: 0.5796 - accuracy: 0.8137 - val_loss: 0.6508 - val_accuracy: 0.8054\n",
            "Epoch 48/50\n",
            "53/53 [==============================] - 4s 69ms/step - loss: 0.5875 - accuracy: 0.8115 - val_loss: 0.6548 - val_accuracy: 0.8034\n",
            "Epoch 49/50\n",
            "53/53 [==============================] - 4s 68ms/step - loss: 0.5874 - accuracy: 0.8123 - val_loss: 0.6566 - val_accuracy: 0.8046\n",
            "Epoch 50/50\n",
            "53/53 [==============================] - 4s 68ms/step - loss: 0.5825 - accuracy: 0.8130 - val_loss: 0.6554 - val_accuracy: 0.8056\n"
          ],
          "name": "stdout"
        }
      ]
    },
    {
      "cell_type": "code",
      "metadata": {
        "id": "fk7rT9MseGFw",
        "outputId": "d966c72a-9072-4177-d017-587e96cd05b8",
        "colab": {
          "base_uri": "https://localhost:8080/",
          "height": 34
        }
      },
      "source": [
        "results = model.evaluate(val_X, val_y)"
      ],
      "execution_count": null,
      "outputs": [
        {
          "output_type": "stream",
          "text": [
            "210/210 [==============================] - 1s 4ms/step - loss: 0.6611 - accuracy: 0.8033\n"
          ],
          "name": "stdout"
        }
      ]
    },
    {
      "cell_type": "code",
      "metadata": {
        "id": "cJHaN5akn9Ig",
        "outputId": "c54e22ee-b59b-4c00-f7fa-ec28dd1cfb64",
        "colab": {
          "base_uri": "https://localhost:8080/",
          "height": 351
        }
      },
      "source": [
        "model_val_loss = h.history['val_loss']\n",
        "model_train_loss = h.history['loss']\n",
        "model_val_acc = h.history['val_accuracy']\n",
        "model_train_acc = h.history['accuracy']\n",
        "\n",
        "\n",
        "epochs = range(1,51)\n",
        "plt.figure(figsize=(10,5))\n",
        "plt.subplot(1,2,1)\n",
        "plt.plot(epochs, model_val_loss, 'b', label='Validation Loss')\n",
        "plt.plot(epochs, model_train_loss, 'r', label='Training Loss')\n",
        "plt.xlabel('Epochs')\n",
        "plt.ylabel('Loss')\n",
        "plt.legend()\n",
        "\n",
        "plt.subplot(1,2,2)\n",
        "plt.plot(epochs, model_val_acc, 'b', label='Validation Acc')\n",
        "plt.plot(epochs, model_train_acc, 'r', label='Training Acc')\n",
        "plt.xlabel('Epochs')\n",
        "plt.ylabel('Loss')\n",
        "plt.legend()"
      ],
      "execution_count": null,
      "outputs": [
        {
          "output_type": "execute_result",
          "data": {
            "text/plain": [
              "<matplotlib.legend.Legend at 0x7fc5318fd550>"
            ]
          },
          "metadata": {
            "tags": []
          },
          "execution_count": 130
        },
        {
          "output_type": "display_data",
          "data": {
            "image/png": "[encoded data removed]",
            "text/plain": [
              "<Figure size 720x360 with 2 Axes>"
            ]
          },
          "metadata": {
            "tags": [],
            "needs_background": "light"
          }
        }
      ]
    },
    {
      "cell_type": "markdown",
      "metadata": {
        "id": "jG9U376qnulE"
      },
      "source": [
        "## Increase a layer"
      ]
    },
    {
      "cell_type": "code",
      "metadata": {
        "id": "phJzuP1veGME",
        "outputId": "447808e1-a218-4b58-877c-b9c2670ba18d",
        "colab": {
          "base_uri": "https://localhost:8080/",
          "height": 521
        }
      },
      "source": [
        "model =  Sequential()\n",
        "model.add(Dense(512, input_shape = (32*32,), activation='relu', kernel_initializer='he_normal'))\n",
        "model.add(Dropout(0.1))\n",
        "model.add(GaussianNoise(0.1))\n",
        "model.add(BatchNormalization())\n",
        "\n",
        "model.add(Dense(512, input_shape = (32*32,), activation='relu', kernel_initializer='he_normal'))\n",
        "model.add(Dropout(0.1))\n",
        "\n",
        "model.add(Dense(256, activation='relu', kernel_initializer='he_normal'))\n",
        "model.add(Dropout(0.1))\n",
        "\n",
        "model.add(Dense(128, activation='relu', kernel_initializer='he_normal'))\n",
        "model.add(Dropout(0.1))\n",
        "\n",
        "model.add(Dense(10, activation='softmax'))\n",
        "model.summary()"
      ],
      "execution_count": null,
      "outputs": [
        {
          "output_type": "stream",
          "text": [
            "Model: \"sequential_22\"\n",
            "_________________________________________________________________\n",
            "Layer (type)                 Output Shape              Param #   \n",
            "=================================================================\n",
            "dense_56 (Dense)             (None, 512)               524800    \n",
            "_________________________________________________________________\n",
            "dropout_29 (Dropout)         (None, 512)               0         \n",
            "_________________________________________________________________\n",
            "gaussian_noise_11 (GaussianN (None, 512)               0         \n",
            "_________________________________________________________________\n",
            "batch_normalization_16 (Batc (None, 512)               2048      \n",
            "_________________________________________________________________\n",
            "dense_57 (Dense)             (None, 512)               262656    \n",
            "_________________________________________________________________\n",
            "dropout_30 (Dropout)         (None, 512)               0         \n",
            "_________________________________________________________________\n",
            "dense_58 (Dense)             (None, 256)               131328    \n",
            "_________________________________________________________________\n",
            "dropout_31 (Dropout)         (None, 256)               0         \n",
            "_________________________________________________________________\n",
            "dense_59 (Dense)             (None, 128)               32896     \n",
            "_________________________________________________________________\n",
            "dropout_32 (Dropout)         (None, 128)               0         \n",
            "_________________________________________________________________\n",
            "dense_60 (Dense)             (None, 10)                1290      \n",
            "=================================================================\n",
            "Total params: 955,018\n",
            "Trainable params: 953,994\n",
            "Non-trainable params: 1,024\n",
            "_________________________________________________________________\n"
          ],
          "name": "stdout"
        }
      ]
    },
    {
      "cell_type": "code",
      "metadata": {
        "id": "hs2qIXi8pKro",
        "outputId": "9dd4822d-be22-4fca-d79b-bee4fca8d48a",
        "colab": {
          "base_uri": "https://localhost:8080/",
          "height": 1000
        }
      },
      "source": [
        "opt = optimizers.Adam(learning_rate=0.001)\n",
        "model.compile(optimizer = opt, loss='categorical_crossentropy', metrics='accuracy')\n",
        "h= model.fit(train_X, train_y, batch_size=512, epochs=50, validation_data=(test_X, test_y))"
      ],
      "execution_count": null,
      "outputs": [
        {
          "output_type": "stream",
          "text": [
            "Epoch 1/50\n",
            "53/53 [==============================] - 5s 93ms/step - loss: 2.4036 - accuracy: 0.1179 - val_loss: 2.3026 - val_accuracy: 0.1141\n",
            "Epoch 2/50\n",
            "53/53 [==============================] - 5s 87ms/step - loss: 2.0682 - accuracy: 0.2352 - val_loss: 1.9217 - val_accuracy: 0.3167\n",
            "Epoch 3/50\n",
            "53/53 [==============================] - 5s 88ms/step - loss: 1.5687 - accuracy: 0.4549 - val_loss: 1.3985 - val_accuracy: 0.5468\n",
            "Epoch 4/50\n",
            "53/53 [==============================] - 5s 88ms/step - loss: 1.3268 - accuracy: 0.5603 - val_loss: 1.2864 - val_accuracy: 0.5633\n",
            "Epoch 5/50\n",
            "53/53 [==============================] - 5s 88ms/step - loss: 1.2134 - accuracy: 0.6067 - val_loss: 1.0761 - val_accuracy: 0.6579\n",
            "Epoch 6/50\n",
            "53/53 [==============================] - 5s 87ms/step - loss: 1.1348 - accuracy: 0.6355 - val_loss: 1.0895 - val_accuracy: 0.6552\n",
            "Epoch 7/50\n",
            "53/53 [==============================] - 5s 87ms/step - loss: 1.0772 - accuracy: 0.6553 - val_loss: 0.9970 - val_accuracy: 0.6874\n",
            "Epoch 8/50\n",
            "53/53 [==============================] - 5s 91ms/step - loss: 1.0236 - accuracy: 0.6740 - val_loss: 1.0850 - val_accuracy: 0.6624\n",
            "Epoch 9/50\n",
            "53/53 [==============================] - 5s 89ms/step - loss: 0.9959 - accuracy: 0.6844 - val_loss: 1.0041 - val_accuracy: 0.6897\n",
            "Epoch 10/50\n",
            "53/53 [==============================] - 5s 88ms/step - loss: 0.9651 - accuracy: 0.6911 - val_loss: 0.9029 - val_accuracy: 0.7154\n",
            "Epoch 11/50\n",
            "53/53 [==============================] - 5s 89ms/step - loss: 0.9392 - accuracy: 0.7002 - val_loss: 1.0977 - val_accuracy: 0.6499\n",
            "Epoch 12/50\n",
            "53/53 [==============================] - 5s 87ms/step - loss: 0.9161 - accuracy: 0.7074 - val_loss: 0.9204 - val_accuracy: 0.7108\n",
            "Epoch 13/50\n",
            "53/53 [==============================] - 5s 86ms/step - loss: 0.8775 - accuracy: 0.7168 - val_loss: 0.8938 - val_accuracy: 0.7204\n",
            "Epoch 14/50\n",
            "53/53 [==============================] - 5s 85ms/step - loss: 0.8623 - accuracy: 0.7265 - val_loss: 0.8584 - val_accuracy: 0.7327\n",
            "Epoch 15/50\n",
            "53/53 [==============================] - 4s 83ms/step - loss: 0.8322 - accuracy: 0.7354 - val_loss: 0.8105 - val_accuracy: 0.7503\n",
            "Epoch 16/50\n",
            "53/53 [==============================] - 4s 85ms/step - loss: 0.8150 - accuracy: 0.7404 - val_loss: 0.8428 - val_accuracy: 0.7380\n",
            "Epoch 17/50\n",
            "53/53 [==============================] - 4s 85ms/step - loss: 0.8015 - accuracy: 0.7453 - val_loss: 0.7783 - val_accuracy: 0.7579\n",
            "Epoch 18/50\n",
            "53/53 [==============================] - 4s 85ms/step - loss: 0.7831 - accuracy: 0.7490 - val_loss: 0.8237 - val_accuracy: 0.7392\n",
            "Epoch 19/50\n",
            "53/53 [==============================] - 4s 84ms/step - loss: 0.7573 - accuracy: 0.7584 - val_loss: 0.7935 - val_accuracy: 0.7532\n",
            "Epoch 20/50\n",
            "53/53 [==============================] - 4s 84ms/step - loss: 0.7572 - accuracy: 0.7567 - val_loss: 0.8115 - val_accuracy: 0.7477\n",
            "Epoch 21/50\n",
            "53/53 [==============================] - 4s 85ms/step - loss: 0.7273 - accuracy: 0.7691 - val_loss: 0.8364 - val_accuracy: 0.7361\n",
            "Epoch 22/50\n",
            "53/53 [==============================] - 4s 84ms/step - loss: 0.7102 - accuracy: 0.7725 - val_loss: 0.7837 - val_accuracy: 0.7531\n",
            "Epoch 23/50\n",
            "53/53 [==============================] - 5s 86ms/step - loss: 0.6901 - accuracy: 0.7764 - val_loss: 0.7598 - val_accuracy: 0.7616\n",
            "Epoch 24/50\n",
            "53/53 [==============================] - 4s 84ms/step - loss: 0.6837 - accuracy: 0.7824 - val_loss: 0.7359 - val_accuracy: 0.7742\n",
            "Epoch 25/50\n",
            "53/53 [==============================] - 4s 84ms/step - loss: 0.6632 - accuracy: 0.7895 - val_loss: 0.7901 - val_accuracy: 0.7544\n",
            "Epoch 26/50\n",
            "53/53 [==============================] - 5s 86ms/step - loss: 0.6478 - accuracy: 0.7898 - val_loss: 0.7417 - val_accuracy: 0.7718\n",
            "Epoch 27/50\n",
            "53/53 [==============================] - 4s 84ms/step - loss: 0.6422 - accuracy: 0.7939 - val_loss: 0.7035 - val_accuracy: 0.7863\n",
            "Epoch 28/50\n",
            "53/53 [==============================] - 4s 84ms/step - loss: 0.6310 - accuracy: 0.7962 - val_loss: 0.7357 - val_accuracy: 0.7724\n",
            "Epoch 29/50\n",
            "53/53 [==============================] - 4s 84ms/step - loss: 0.6259 - accuracy: 0.7977 - val_loss: 0.7545 - val_accuracy: 0.7693\n",
            "Epoch 30/50\n",
            "53/53 [==============================] - 4s 85ms/step - loss: 0.6133 - accuracy: 0.8029 - val_loss: 0.6922 - val_accuracy: 0.7911\n",
            "Epoch 31/50\n",
            "53/53 [==============================] - 5s 86ms/step - loss: 0.6012 - accuracy: 0.8052 - val_loss: 0.7870 - val_accuracy: 0.7538\n",
            "Epoch 32/50\n",
            "53/53 [==============================] - 5s 97ms/step - loss: 0.5899 - accuracy: 0.8118 - val_loss: 0.7266 - val_accuracy: 0.7759\n",
            "Epoch 33/50\n",
            "53/53 [==============================] - 5s 96ms/step - loss: 0.5925 - accuracy: 0.8103 - val_loss: 0.7369 - val_accuracy: 0.7762\n",
            "Epoch 34/50\n",
            "53/53 [==============================] - 5s 93ms/step - loss: 0.5646 - accuracy: 0.8166 - val_loss: 0.7088 - val_accuracy: 0.7879\n",
            "Epoch 35/50\n",
            "53/53 [==============================] - 5s 100ms/step - loss: 0.5713 - accuracy: 0.8168 - val_loss: 0.7078 - val_accuracy: 0.7852\n",
            "Epoch 36/50\n",
            "53/53 [==============================] - 5s 92ms/step - loss: 0.5578 - accuracy: 0.8183 - val_loss: 0.6629 - val_accuracy: 0.8012\n",
            "Epoch 37/50\n",
            "53/53 [==============================] - 5s 85ms/step - loss: 0.5363 - accuracy: 0.8241 - val_loss: 0.7834 - val_accuracy: 0.7666\n",
            "Epoch 38/50\n",
            "53/53 [==============================] - 4s 85ms/step - loss: 0.5359 - accuracy: 0.8266 - val_loss: 0.7839 - val_accuracy: 0.7753\n",
            "Epoch 39/50\n",
            "53/53 [==============================] - 4s 85ms/step - loss: 0.5352 - accuracy: 0.8257 - val_loss: 0.6392 - val_accuracy: 0.8082\n",
            "Epoch 40/50\n",
            "53/53 [==============================] - 5s 88ms/step - loss: 0.5252 - accuracy: 0.8292 - val_loss: 0.6919 - val_accuracy: 0.7839\n",
            "Epoch 41/50\n",
            "53/53 [==============================] - 5s 98ms/step - loss: 0.5107 - accuracy: 0.8325 - val_loss: 0.6600 - val_accuracy: 0.8030\n",
            "Epoch 42/50\n",
            "53/53 [==============================] - 5s 101ms/step - loss: 0.5004 - accuracy: 0.8371 - val_loss: 0.7081 - val_accuracy: 0.7928\n",
            "Epoch 43/50\n",
            "53/53 [==============================] - 5s 86ms/step - loss: 0.4952 - accuracy: 0.8371 - val_loss: 0.6563 - val_accuracy: 0.8047\n",
            "Epoch 44/50\n",
            "53/53 [==============================] - 5s 85ms/step - loss: 0.4797 - accuracy: 0.8423 - val_loss: 0.7079 - val_accuracy: 0.7926\n",
            "Epoch 45/50\n",
            "53/53 [==============================] - 5s 86ms/step - loss: 0.4806 - accuracy: 0.8436 - val_loss: 0.6720 - val_accuracy: 0.7981\n",
            "Epoch 46/50\n",
            "53/53 [==============================] - 4s 85ms/step - loss: 0.4672 - accuracy: 0.8482 - val_loss: 0.6762 - val_accuracy: 0.7991\n",
            "Epoch 47/50\n",
            "53/53 [==============================] - 5s 86ms/step - loss: 0.4683 - accuracy: 0.8467 - val_loss: 0.6729 - val_accuracy: 0.7994\n",
            "Epoch 48/50\n",
            "53/53 [==============================] - 5s 88ms/step - loss: 0.4594 - accuracy: 0.8481 - val_loss: 0.6657 - val_accuracy: 0.8041\n",
            "Epoch 49/50\n",
            "53/53 [==============================] - 5s 86ms/step - loss: 0.4431 - accuracy: 0.8527 - val_loss: 0.6795 - val_accuracy: 0.7999\n",
            "Epoch 50/50\n",
            "53/53 [==============================] - 5s 86ms/step - loss: 0.4435 - accuracy: 0.8549 - val_loss: 0.6891 - val_accuracy: 0.7967\n"
          ],
          "name": "stdout"
        }
      ]
    },
    {
      "cell_type": "code",
      "metadata": {
        "id": "DybYwz4vpLBy",
        "outputId": "a850d392-5f7c-48a2-d7e2-552add195db4",
        "colab": {
          "base_uri": "https://localhost:8080/",
          "height": 34
        }
      },
      "source": [
        "results=model.evaluate(val_X, val_y)"
      ],
      "execution_count": null,
      "outputs": [
        {
          "output_type": "stream",
          "text": [
            "210/210 [==============================] - 1s 5ms/step - loss: 0.6921 - accuracy: 0.7917\n"
          ],
          "name": "stdout"
        }
      ]
    },
    {
      "cell_type": "code",
      "metadata": {
        "id": "BgOPSzJSeGJX"
      },
      "source": [
        "#Import tensorboard callback which will passed in model.fit function.\n",
        "from keras.callbacks import TensorBoard\n",
        "from time import time\n",
        "\n",
        "\n",
        "#Setting the directory to store the logs.\n",
        "tensorboard = TensorBoard(log_dir=\".logs/{}\".format(time()))\n",
        "from keras.callbacks import EarlyStopping, ModelCheckpoint"
      ],
      "execution_count": null,
      "outputs": []
    },
    {
      "cell_type": "markdown",
      "metadata": {
        "id": "EiA_KjAdyutv"
      },
      "source": [
        "### Initializing Early stopping and Model chekpoint callbacks"
      ]
    },
    {
      "cell_type": "code",
      "metadata": {
        "id": "pXmiJ7XSykuP"
      },
      "source": [
        "#Adding Early stopping callback to the fit function is going to stop the training,\n",
        "#if the val_loss is not going to change even '0.001' for more than 10 continous epochs\n",
        "\n",
        "early_stopping = EarlyStopping(monitor='val_loss', min_delta=0.001, patience=10)\n",
        "\n",
        "#Adding Model Checkpoint callback to the fit function is going to save the weights whenever val_loss achieves a new low value. \n",
        "#Hence saving the best weights occurred during training\n",
        "\n",
        "model_checkpoint =  ModelCheckpoint('svnh_dense_checkpoint_{epoch:02d}_loss{val_loss:.4f}.h5',\n",
        "                                                           monitor='val_loss',\n",
        "                                                           verbose=1,\n",
        "                                                           save_best_only=True,\n",
        "                                                           save_weights_only=True,\n",
        "                                                           mode='auto',\n",
        "                                                           save_freq=1)"
      ],
      "execution_count": null,
      "outputs": []
    },
    {
      "cell_type": "code",
      "metadata": {
        "id": "95babyAZsPEM"
      },
      "source": [
        "opt = optimizers.RMSprop(learning_rate=0.001)\n",
        "model.compile(optimizer = opt, loss='categorical_crossentropy', metrics='accuracy')"
      ],
      "execution_count": null,
      "outputs": []
    },
    {
      "cell_type": "code",
      "metadata": {
        "id": "0D2kZugFeGDs",
        "outputId": "db411a27-9625-48b4-da91-3fb4cc254b1a",
        "colab": {
          "base_uri": "https://localhost:8080/",
          "height": 1000
        }
      },
      "source": [
        "model.fit(train_X, train_y,\n",
        "          batch_size=512,\n",
        "          epochs=50,\n",
        "          verbose=1,\n",
        "          validation_data=(test_X, test_y),\n",
        "          callbacks=[tensorboard,early_stopping])"
      ],
      "execution_count": null,
      "outputs": [
        {
          "output_type": "stream",
          "text": [
            "Epoch 1/50\n",
            "53/53 [==============================] - 5s 93ms/step - loss: 0.9318 - accuracy: 0.7031 - val_loss: 0.9360 - val_accuracy: 0.7057\n",
            "Epoch 2/50\n",
            "53/53 [==============================] - 5s 89ms/step - loss: 0.9176 - accuracy: 0.7071 - val_loss: 0.9246 - val_accuracy: 0.7070\n",
            "Epoch 3/50\n",
            "53/53 [==============================] - 5s 91ms/step - loss: 0.8968 - accuracy: 0.7140 - val_loss: 1.1370 - val_accuracy: 0.6507\n",
            "Epoch 4/50\n",
            "53/53 [==============================] - 5s 89ms/step - loss: 0.8745 - accuracy: 0.7217 - val_loss: 1.0950 - val_accuracy: 0.6637\n",
            "Epoch 5/50\n",
            "53/53 [==============================] - 5s 89ms/step - loss: 0.8703 - accuracy: 0.7212 - val_loss: 1.2299 - val_accuracy: 0.6146\n",
            "Epoch 6/50\n",
            "53/53 [==============================] - 5s 90ms/step - loss: 0.8508 - accuracy: 0.7295 - val_loss: 1.3634 - val_accuracy: 0.6224\n",
            "Epoch 7/50\n",
            "53/53 [==============================] - 5s 90ms/step - loss: 0.8403 - accuracy: 0.7336 - val_loss: 1.1585 - val_accuracy: 0.6343\n",
            "Epoch 8/50\n",
            "53/53 [==============================] - 5s 91ms/step - loss: 0.8300 - accuracy: 0.7333 - val_loss: 1.0286 - val_accuracy: 0.6692\n",
            "Epoch 9/50\n",
            "53/53 [==============================] - 5s 89ms/step - loss: 0.8131 - accuracy: 0.7411 - val_loss: 0.9642 - val_accuracy: 0.6941\n",
            "Epoch 10/50\n",
            "53/53 [==============================] - 5s 93ms/step - loss: 0.8015 - accuracy: 0.7438 - val_loss: 1.0228 - val_accuracy: 0.6977\n",
            "Epoch 11/50\n",
            "53/53 [==============================] - 5s 88ms/step - loss: 0.7985 - accuracy: 0.7439 - val_loss: 0.9834 - val_accuracy: 0.6826\n",
            "Epoch 12/50\n",
            "53/53 [==============================] - 5s 89ms/step - loss: 0.7821 - accuracy: 0.7529 - val_loss: 0.8641 - val_accuracy: 0.7262\n",
            "Epoch 13/50\n",
            "53/53 [==============================] - 5s 88ms/step - loss: 0.7792 - accuracy: 0.7503 - val_loss: 0.9003 - val_accuracy: 0.7230\n",
            "Epoch 14/50\n",
            "53/53 [==============================] - 5s 89ms/step - loss: 0.7536 - accuracy: 0.7574 - val_loss: 1.1313 - val_accuracy: 0.6403\n",
            "Epoch 15/50\n",
            "53/53 [==============================] - 5s 89ms/step - loss: 0.7533 - accuracy: 0.7573 - val_loss: 1.1290 - val_accuracy: 0.6534\n",
            "Epoch 16/50\n",
            "53/53 [==============================] - 5s 90ms/step - loss: 0.7443 - accuracy: 0.7617 - val_loss: 0.9104 - val_accuracy: 0.7107\n",
            "Epoch 17/50\n",
            "53/53 [==============================] - 5s 89ms/step - loss: 0.7384 - accuracy: 0.7646 - val_loss: 0.8701 - val_accuracy: 0.7272\n",
            "Epoch 18/50\n",
            "53/53 [==============================] - 5s 88ms/step - loss: 0.7235 - accuracy: 0.7670 - val_loss: 1.0361 - val_accuracy: 0.6758\n",
            "Epoch 19/50\n",
            "53/53 [==============================] - 5s 90ms/step - loss: 0.7082 - accuracy: 0.7714 - val_loss: 0.9062 - val_accuracy: 0.7161\n",
            "Epoch 20/50\n",
            "53/53 [==============================] - 5s 89ms/step - loss: 0.7004 - accuracy: 0.7751 - val_loss: 0.8723 - val_accuracy: 0.7283\n",
            "Epoch 21/50\n",
            "53/53 [==============================] - 5s 90ms/step - loss: 0.6965 - accuracy: 0.7765 - val_loss: 0.8086 - val_accuracy: 0.7461\n",
            "Epoch 22/50\n",
            "53/53 [==============================] - 5s 89ms/step - loss: 0.6909 - accuracy: 0.7790 - val_loss: 0.8754 - val_accuracy: 0.7302\n",
            "Epoch 23/50\n",
            "53/53 [==============================] - 5s 90ms/step - loss: 0.6807 - accuracy: 0.7813 - val_loss: 0.9597 - val_accuracy: 0.7103\n",
            "Epoch 24/50\n",
            "53/53 [==============================] - 5s 89ms/step - loss: 0.6775 - accuracy: 0.7839 - val_loss: 0.9434 - val_accuracy: 0.7070\n",
            "Epoch 25/50\n",
            "53/53 [==============================] - 5s 89ms/step - loss: 0.6640 - accuracy: 0.7867 - val_loss: 0.8169 - val_accuracy: 0.7515\n",
            "Epoch 26/50\n",
            "53/53 [==============================] - 7s 124ms/step - loss: 0.6624 - accuracy: 0.7856 - val_loss: 0.8434 - val_accuracy: 0.7483\n",
            "Epoch 27/50\n",
            "53/53 [==============================] - 5s 100ms/step - loss: 0.6384 - accuracy: 0.7953 - val_loss: 0.7962 - val_accuracy: 0.7584\n",
            "Epoch 28/50\n",
            "53/53 [==============================] - 5s 88ms/step - loss: 0.6449 - accuracy: 0.7929 - val_loss: 0.8686 - val_accuracy: 0.7355\n",
            "Epoch 29/50\n",
            "53/53 [==============================] - 5s 88ms/step - loss: 0.6390 - accuracy: 0.7920 - val_loss: 0.9538 - val_accuracy: 0.7094\n",
            "Epoch 30/50\n",
            "53/53 [==============================] - 5s 89ms/step - loss: 0.6256 - accuracy: 0.7974 - val_loss: 0.8153 - val_accuracy: 0.7524\n",
            "Epoch 31/50\n",
            "53/53 [==============================] - 5s 89ms/step - loss: 0.6242 - accuracy: 0.7956 - val_loss: 0.7789 - val_accuracy: 0.7543\n",
            "Epoch 32/50\n",
            "53/53 [==============================] - 5s 89ms/step - loss: 0.6120 - accuracy: 0.8006 - val_loss: 0.7233 - val_accuracy: 0.7814\n",
            "Epoch 33/50\n",
            "53/53 [==============================] - 5s 88ms/step - loss: 0.6085 - accuracy: 0.8034 - val_loss: 0.9927 - val_accuracy: 0.7132\n",
            "Epoch 34/50\n",
            "53/53 [==============================] - 5s 97ms/step - loss: 0.6012 - accuracy: 0.8044 - val_loss: 0.8562 - val_accuracy: 0.7350\n",
            "Epoch 35/50\n",
            "53/53 [==============================] - 5s 88ms/step - loss: 0.6020 - accuracy: 0.8064 - val_loss: 0.8239 - val_accuracy: 0.7539\n",
            "Epoch 36/50\n",
            "53/53 [==============================] - 5s 88ms/step - loss: 0.5848 - accuracy: 0.8091 - val_loss: 0.9647 - val_accuracy: 0.7147\n",
            "Epoch 37/50\n",
            "53/53 [==============================] - 5s 88ms/step - loss: 0.5784 - accuracy: 0.8118 - val_loss: 0.8934 - val_accuracy: 0.7268\n",
            "Epoch 38/50\n",
            "53/53 [==============================] - 5s 88ms/step - loss: 0.5673 - accuracy: 0.8176 - val_loss: 0.7905 - val_accuracy: 0.7579\n",
            "Epoch 39/50\n",
            "53/53 [==============================] - 5s 89ms/step - loss: 0.5731 - accuracy: 0.8142 - val_loss: 0.7999 - val_accuracy: 0.7528\n",
            "Epoch 40/50\n",
            "53/53 [==============================] - 5s 89ms/step - loss: 0.5630 - accuracy: 0.8161 - val_loss: 0.8092 - val_accuracy: 0.7602\n",
            "Epoch 41/50\n",
            "53/53 [==============================] - 5s 89ms/step - loss: 0.5544 - accuracy: 0.8198 - val_loss: 1.1116 - val_accuracy: 0.6716\n",
            "Epoch 42/50\n",
            "53/53 [==============================] - 5s 88ms/step - loss: 0.5478 - accuracy: 0.8225 - val_loss: 0.9779 - val_accuracy: 0.7027\n"
          ],
          "name": "stdout"
        },
        {
          "output_type": "execute_result",
          "data": {
            "text/plain": [
              "<tensorflow.python.keras.callbacks.History at 0x7fc52b3e4f60>"
            ]
          },
          "metadata": {
            "tags": []
          },
          "execution_count": 146
        }
      ]
    },
    {
      "cell_type": "code",
      "metadata": {
        "id": "YzfxRyG0q1ra",
        "outputId": "e20cb7a1-aeeb-491e-e206-5792af72d693",
        "colab": {
          "base_uri": "https://localhost:8080/",
          "height": 34
        }
      },
      "source": [
        "results = model.evaluate(val_X, val_y)"
      ],
      "execution_count": null,
      "outputs": [
        {
          "output_type": "stream",
          "text": [
            "210/210 [==============================] - 2s 10ms/step - loss: 0.9756 - accuracy: 0.7068\n"
          ],
          "name": "stdout"
        }
      ]
    },
    {
      "cell_type": "code",
      "metadata": {
        "id": "8gkc_jH6s9Vj",
        "outputId": "a15dda38-9dc4-4129-d4b4-d5769b0a8c92",
        "colab": {
          "base_uri": "https://localhost:8080/",
          "height": 1000
        }
      },
      "source": [
        "opt = optimizers.RMSprop(learning_rate=0.0001)\n",
        "model.compile(optimizer = opt, loss='categorical_crossentropy', metrics='accuracy')\n",
        "model.fit(train_X, train_y,\n",
        "          batch_size=512,\n",
        "          epochs=50,\n",
        "          verbose=1,\n",
        "          validation_data=(test_X, test_y),\n",
        "          callbacks=[tensorboard,early_stopping])"
      ],
      "execution_count": null,
      "outputs": [
        {
          "output_type": "stream",
          "text": [
            "Epoch 1/50\n",
            "53/53 [==============================] - 5s 97ms/step - loss: 0.4957 - accuracy: 0.8392 - val_loss: 0.6234 - val_accuracy: 0.8177\n",
            "Epoch 2/50\n",
            "53/53 [==============================] - 5s 92ms/step - loss: 0.4700 - accuracy: 0.8467 - val_loss: 0.6173 - val_accuracy: 0.8181\n",
            "Epoch 3/50\n",
            "53/53 [==============================] - 5s 94ms/step - loss: 0.4648 - accuracy: 0.8466 - val_loss: 0.6214 - val_accuracy: 0.8189\n",
            "Epoch 4/50\n",
            "53/53 [==============================] - 5s 94ms/step - loss: 0.4618 - accuracy: 0.8478 - val_loss: 0.6133 - val_accuracy: 0.8187\n",
            "Epoch 5/50\n",
            "53/53 [==============================] - 5s 92ms/step - loss: 0.4639 - accuracy: 0.8495 - val_loss: 0.6146 - val_accuracy: 0.8184\n",
            "Epoch 6/50\n",
            "53/53 [==============================] - 5s 95ms/step - loss: 0.4601 - accuracy: 0.8485 - val_loss: 0.6205 - val_accuracy: 0.8174\n",
            "Epoch 7/50\n",
            "53/53 [==============================] - 5s 92ms/step - loss: 0.4587 - accuracy: 0.8518 - val_loss: 0.6156 - val_accuracy: 0.8208\n",
            "Epoch 8/50\n",
            "53/53 [==============================] - 5s 90ms/step - loss: 0.4579 - accuracy: 0.8505 - val_loss: 0.6125 - val_accuracy: 0.8216\n",
            "Epoch 9/50\n",
            "53/53 [==============================] - 5s 88ms/step - loss: 0.4605 - accuracy: 0.8516 - val_loss: 0.6112 - val_accuracy: 0.8209\n",
            "Epoch 10/50\n",
            "53/53 [==============================] - 5s 88ms/step - loss: 0.4564 - accuracy: 0.8509 - val_loss: 0.6125 - val_accuracy: 0.8197\n",
            "Epoch 11/50\n",
            "53/53 [==============================] - 5s 89ms/step - loss: 0.4538 - accuracy: 0.8513 - val_loss: 0.6134 - val_accuracy: 0.8227\n",
            "Epoch 12/50\n",
            "53/53 [==============================] - 5s 88ms/step - loss: 0.4522 - accuracy: 0.8528 - val_loss: 0.6119 - val_accuracy: 0.8207\n",
            "Epoch 13/50\n",
            "53/53 [==============================] - 5s 88ms/step - loss: 0.4507 - accuracy: 0.8529 - val_loss: 0.6120 - val_accuracy: 0.8187\n",
            "Epoch 14/50\n",
            "53/53 [==============================] - 5s 88ms/step - loss: 0.4473 - accuracy: 0.8535 - val_loss: 0.6119 - val_accuracy: 0.8211\n",
            "Epoch 15/50\n",
            "53/53 [==============================] - 5s 88ms/step - loss: 0.4489 - accuracy: 0.8521 - val_loss: 0.6091 - val_accuracy: 0.8211\n",
            "Epoch 16/50\n",
            "53/53 [==============================] - 5s 87ms/step - loss: 0.4476 - accuracy: 0.8532 - val_loss: 0.6200 - val_accuracy: 0.8194\n",
            "Epoch 17/50\n",
            "53/53 [==============================] - 5s 87ms/step - loss: 0.4416 - accuracy: 0.8547 - val_loss: 0.6095 - val_accuracy: 0.8222\n",
            "Epoch 18/50\n",
            "53/53 [==============================] - 5s 87ms/step - loss: 0.4463 - accuracy: 0.8551 - val_loss: 0.6062 - val_accuracy: 0.8233\n",
            "Epoch 19/50\n",
            "53/53 [==============================] - 5s 89ms/step - loss: 0.4467 - accuracy: 0.8534 - val_loss: 0.6075 - val_accuracy: 0.8199\n",
            "Epoch 20/50\n",
            "53/53 [==============================] - 5s 88ms/step - loss: 0.4437 - accuracy: 0.8535 - val_loss: 0.6088 - val_accuracy: 0.8230\n",
            "Epoch 21/50\n",
            "53/53 [==============================] - 5s 88ms/step - loss: 0.4412 - accuracy: 0.8558 - val_loss: 0.6111 - val_accuracy: 0.8223\n",
            "Epoch 22/50\n",
            "53/53 [==============================] - 5s 89ms/step - loss: 0.4425 - accuracy: 0.8561 - val_loss: 0.6045 - val_accuracy: 0.8239\n",
            "Epoch 23/50\n",
            "53/53 [==============================] - 5s 88ms/step - loss: 0.4382 - accuracy: 0.8573 - val_loss: 0.6130 - val_accuracy: 0.8226\n",
            "Epoch 24/50\n",
            "53/53 [==============================] - 5s 88ms/step - loss: 0.4349 - accuracy: 0.8586 - val_loss: 0.6186 - val_accuracy: 0.8223\n",
            "Epoch 25/50\n",
            "53/53 [==============================] - 5s 89ms/step - loss: 0.4457 - accuracy: 0.8537 - val_loss: 0.6071 - val_accuracy: 0.8228\n",
            "Epoch 26/50\n",
            "53/53 [==============================] - 5s 89ms/step - loss: 0.4417 - accuracy: 0.8547 - val_loss: 0.6154 - val_accuracy: 0.8203\n",
            "Epoch 27/50\n",
            "53/53 [==============================] - 5s 89ms/step - loss: 0.4353 - accuracy: 0.8571 - val_loss: 0.6107 - val_accuracy: 0.8233\n",
            "Epoch 28/50\n",
            "53/53 [==============================] - 5s 89ms/step - loss: 0.4336 - accuracy: 0.8551 - val_loss: 0.6123 - val_accuracy: 0.8209\n",
            "Epoch 29/50\n",
            "53/53 [==============================] - 5s 87ms/step - loss: 0.4381 - accuracy: 0.8558 - val_loss: 0.6106 - val_accuracy: 0.8243\n",
            "Epoch 30/50\n",
            "53/53 [==============================] - 5s 87ms/step - loss: 0.4353 - accuracy: 0.8565 - val_loss: 0.6140 - val_accuracy: 0.8208\n",
            "Epoch 31/50\n",
            "53/53 [==============================] - 5s 88ms/step - loss: 0.4315 - accuracy: 0.8601 - val_loss: 0.6080 - val_accuracy: 0.8241\n",
            "Epoch 32/50\n",
            "53/53 [==============================] - 5s 87ms/step - loss: 0.4305 - accuracy: 0.8600 - val_loss: 0.6043 - val_accuracy: 0.8258\n"
          ],
          "name": "stdout"
        },
        {
          "output_type": "execute_result",
          "data": {
            "text/plain": [
              "<tensorflow.python.keras.callbacks.History at 0x7fc529aa3978>"
            ]
          },
          "metadata": {
            "tags": []
          },
          "execution_count": 148
        }
      ]
    },
    {
      "cell_type": "code",
      "metadata": {
        "id": "603e2NZ8s92n",
        "outputId": "168715a8-a249-4e1d-eace-cf6b73da27c6",
        "colab": {
          "base_uri": "https://localhost:8080/",
          "height": 34
        }
      },
      "source": [
        "results = model.evaluate(val_X, val_y)"
      ],
      "execution_count": null,
      "outputs": [
        {
          "output_type": "stream",
          "text": [
            "210/210 [==============================] - 1s 7ms/step - loss: 0.6073 - accuracy: 0.8232\n"
          ],
          "name": "stdout"
        }
      ]
    },
    {
      "cell_type": "markdown",
      "metadata": {
        "id": "GAYGZQ3bvSbP"
      },
      "source": [
        "#### Best Results so far"
      ]
    },
    {
      "cell_type": "code",
      "metadata": {
        "id": "z1RT_ZDLvJ11",
        "outputId": "6e4059c7-e713-47a8-d8f8-f3e8eae97fa8",
        "colab": {
          "base_uri": "https://localhost:8080/",
          "height": 355
        }
      },
      "source": [
        "model_val_loss = h.history['val_loss']\n",
        "model_train_loss = h.history['loss']\n",
        "model_val_acc = h.history['val_accuracy']\n",
        "model_train_acc = h.history['accuracy']\n",
        "\n",
        "\n",
        "epochs = range(1,51)\n",
        "plt.figure(figsize=(10,5))\n",
        "plt.subplot(1,2,1)\n",
        "plt.plot(epochs, model_val_loss, 'b', label='Validation Loss')\n",
        "plt.plot(epochs, model_train_loss, 'r', label='Training Loss')\n",
        "plt.xlabel('Epochs')\n",
        "plt.ylabel('Loss')\n",
        "plt.legend()\n",
        "\n",
        "plt.subplot(1,2,2)\n",
        "plt.plot(epochs, model_val_acc, 'b', label='Validation Acc')\n",
        "plt.plot(epochs, model_train_acc, 'r', label='Training Acc')\n",
        "plt.xlabel('Epochs')\n",
        "plt.ylabel('Loss')\n",
        "plt.legend()"
      ],
      "execution_count": null,
      "outputs": [
        {
          "output_type": "execute_result",
          "data": {
            "text/plain": [
              "<matplotlib.legend.Legend at 0x7fc536bb3c88>"
            ]
          },
          "metadata": {
            "tags": []
          },
          "execution_count": 150
        },
        {
          "output_type": "display_data",
          "data": {
            "image/png": "[encoded data removed]",
            "text/plain": [
              "<Figure size 720x360 with 2 Axes>"
            ]
          },
          "metadata": {
            "tags": [],
            "needs_background": "light"
          }
        }
      ]
    },
    {
      "cell_type": "code",
      "metadata": {
        "id": "IfTCkgKYu16x",
        "outputId": "042fc77a-dde1-46e1-d796-7283b2d93494",
        "colab": {
          "base_uri": "https://localhost:8080/",
          "height": 541
        }
      },
      "source": [
        "opt = optimizers.RMSprop(learning_rate=0.0001)\n",
        "model.compile(optimizer = opt, loss='categorical_crossentropy', metrics='accuracy')\n",
        "model.fit(train_X, train_y,\n",
        "          batch_size=256,\n",
        "          epochs=25,\n",
        "          verbose=1,\n",
        "          validation_data=(test_X, test_y),\n",
        "          callbacks=[tensorboard,early_stopping])"
      ],
      "execution_count": null,
      "outputs": [
        {
          "output_type": "stream",
          "text": [
            "Epoch 1/25\n",
            "  2/105 [..............................] - ETA: 7s - loss: 0.3962 - accuracy: 0.8730WARNING:tensorflow:Callbacks method `on_train_batch_end` is slow compared to the batch time (batch time: 0.0459s vs `on_train_batch_end` time: 0.1046s). Check your callbacks.\n",
            "105/105 [==============================] - 6s 54ms/step - loss: 0.4360 - accuracy: 0.8558 - val_loss: 0.6083 - val_accuracy: 0.8267\n",
            "Epoch 2/25\n",
            "105/105 [==============================] - 5s 50ms/step - loss: 0.4253 - accuracy: 0.8615 - val_loss: 0.6121 - val_accuracy: 0.8236\n",
            "Epoch 3/25\n",
            "105/105 [==============================] - 5s 50ms/step - loss: 0.4278 - accuracy: 0.8599 - val_loss: 0.6153 - val_accuracy: 0.8232\n",
            "Epoch 4/25\n",
            "105/105 [==============================] - 5s 51ms/step - loss: 0.4273 - accuracy: 0.8595 - val_loss: 0.6009 - val_accuracy: 0.8262\n",
            "Epoch 5/25\n",
            "105/105 [==============================] - 5s 52ms/step - loss: 0.4199 - accuracy: 0.8625 - val_loss: 0.6182 - val_accuracy: 0.8239\n",
            "Epoch 6/25\n",
            "105/105 [==============================] - 7s 69ms/step - loss: 0.4224 - accuracy: 0.8596 - val_loss: 0.6030 - val_accuracy: 0.8267\n",
            "Epoch 7/25\n",
            "105/105 [==============================] - 5s 52ms/step - loss: 0.4195 - accuracy: 0.8619 - val_loss: 0.6118 - val_accuracy: 0.8244\n",
            "Epoch 8/25\n",
            "105/105 [==============================] - 5s 50ms/step - loss: 0.4190 - accuracy: 0.8623 - val_loss: 0.6007 - val_accuracy: 0.8274\n",
            "Epoch 9/25\n",
            "105/105 [==============================] - 5s 50ms/step - loss: 0.4149 - accuracy: 0.8641 - val_loss: 0.6112 - val_accuracy: 0.8256\n",
            "Epoch 10/25\n",
            "105/105 [==============================] - 5s 51ms/step - loss: 0.4154 - accuracy: 0.8613 - val_loss: 0.6160 - val_accuracy: 0.8238\n",
            "Epoch 11/25\n",
            "105/105 [==============================] - 5s 50ms/step - loss: 0.4188 - accuracy: 0.8627 - val_loss: 0.6043 - val_accuracy: 0.8260\n",
            "Epoch 12/25\n",
            "105/105 [==============================] - 5s 50ms/step - loss: 0.4137 - accuracy: 0.8629 - val_loss: 0.6103 - val_accuracy: 0.8254\n",
            "Epoch 13/25\n",
            "105/105 [==============================] - 5s 51ms/step - loss: 0.4153 - accuracy: 0.8611 - val_loss: 0.6149 - val_accuracy: 0.8235\n",
            "Epoch 14/25\n",
            "105/105 [==============================] - 5s 51ms/step - loss: 0.4147 - accuracy: 0.8653 - val_loss: 0.6079 - val_accuracy: 0.8271\n"
          ],
          "name": "stdout"
        },
        {
          "output_type": "execute_result",
          "data": {
            "text/plain": [
              "<tensorflow.python.keras.callbacks.History at 0x7fc5369d6668>"
            ]
          },
          "metadata": {
            "tags": []
          },
          "execution_count": 154
        }
      ]
    },
    {
      "cell_type": "code",
      "metadata": {
        "id": "liZf-Tpdu2ZZ",
        "outputId": "0977bb33-3157-4359-8496-06a5888df89e",
        "colab": {
          "base_uri": "https://localhost:8080/",
          "height": 34
        }
      },
      "source": [
        "results = model.evaluate(val_X, val_y)"
      ],
      "execution_count": null,
      "outputs": [
        {
          "output_type": "stream",
          "text": [
            "210/210 [==============================] - 1s 5ms/step - loss: 0.6097 - accuracy: 0.8226\n"
          ],
          "name": "stdout"
        }
      ]
    },
    {
      "cell_type": "code",
      "metadata": {
        "id": "skKMyQoKu21_"
      },
      "source": [
        ""
      ],
      "execution_count": null,
      "outputs": []
    },
    {
      "cell_type": "code",
      "metadata": {
        "id": "AZQkLOBEu3Tl"
      },
      "source": [
        ""
      ],
      "execution_count": null,
      "outputs": []
    },
    {
      "cell_type": "markdown",
      "metadata": {
        "id": "2fbdJbTiwhXd"
      },
      "source": [
        "## Let's try leaky relu with increased nodes, drop out and reduced learning rate.\n"
      ]
    },
    {
      "cell_type": "code",
      "metadata": {
        "id": "EFnRVrucu3vn"
      },
      "source": [
        "from keras.layers import LeakyReLU"
      ],
      "execution_count": null,
      "outputs": []
    },
    {
      "cell_type": "code",
      "metadata": {
        "id": "cfCAW2Gzu4HZ",
        "outputId": "052274d1-0a67-46b9-999c-3139f7c7b133",
        "colab": {
          "base_uri": "https://localhost:8080/",
          "height": 655
        }
      },
      "source": [
        "model =  Sequential()\n",
        "model.add(Dense(512, input_shape = (32*32,), kernel_initializer='he_normal'))\n",
        "model.add(LeakyReLU(alpha=0.1))\n",
        "model.add(Dropout(0.1))\n",
        "model.add(GaussianNoise(0.2))\n",
        "model.add(BatchNormalization())\n",
        "\n",
        "model.add(Dense(512, input_shape = (32*32,), kernel_initializer='he_normal'))\n",
        "model.add(LeakyReLU(alpha=0.1))\n",
        "model.add(Dropout(0.1))\n",
        "\n",
        "model.add(Dense(256, kernel_initializer='he_normal'))\n",
        "model.add(LeakyReLU(alpha=0.1))\n",
        "model.add(Dropout(0.1))\n",
        "\n",
        "model.add(Dense(128, kernel_initializer='he_normal'))\n",
        "model.add(LeakyReLU(alpha=0.1))\n",
        "model.add(Dropout(0.1))\n",
        "\n",
        "model.add(Dense(10, activation='softmax'))\n",
        "model.summary()"
      ],
      "execution_count": null,
      "outputs": [
        {
          "output_type": "stream",
          "text": [
            "Model: \"sequential_29\"\n",
            "_________________________________________________________________\n",
            "Layer (type)                 Output Shape              Param #   \n",
            "=================================================================\n",
            "dense_77 (Dense)             (None, 512)               524800    \n",
            "_________________________________________________________________\n",
            "leaky_re_lu_12 (LeakyReLU)   (None, 512)               0         \n",
            "_________________________________________________________________\n",
            "dropout_45 (Dropout)         (None, 512)               0         \n",
            "_________________________________________________________________\n",
            "gaussian_noise_15 (GaussianN (None, 512)               0         \n",
            "_________________________________________________________________\n",
            "batch_normalization_20 (Batc (None, 512)               2048      \n",
            "_________________________________________________________________\n",
            "dense_78 (Dense)             (None, 512)               262656    \n",
            "_________________________________________________________________\n",
            "leaky_re_lu_13 (LeakyReLU)   (None, 512)               0         \n",
            "_________________________________________________________________\n",
            "dropout_46 (Dropout)         (None, 512)               0         \n",
            "_________________________________________________________________\n",
            "dense_79 (Dense)             (None, 256)               131328    \n",
            "_________________________________________________________________\n",
            "leaky_re_lu_14 (LeakyReLU)   (None, 256)               0         \n",
            "_________________________________________________________________\n",
            "dropout_47 (Dropout)         (None, 256)               0         \n",
            "_________________________________________________________________\n",
            "dense_80 (Dense)             (None, 128)               32896     \n",
            "_________________________________________________________________\n",
            "leaky_re_lu_15 (LeakyReLU)   (None, 128)               0         \n",
            "_________________________________________________________________\n",
            "dropout_48 (Dropout)         (None, 128)               0         \n",
            "_________________________________________________________________\n",
            "dense_81 (Dense)             (None, 10)                1290      \n",
            "=================================================================\n",
            "Total params: 955,018\n",
            "Trainable params: 953,994\n",
            "Non-trainable params: 1,024\n",
            "_________________________________________________________________\n"
          ],
          "name": "stdout"
        }
      ]
    },
    {
      "cell_type": "code",
      "metadata": {
        "id": "4Eq-BRAxu3kf",
        "outputId": "ba1d4708-8834-405a-c337-fa7744a7196d",
        "colab": {
          "base_uri": "https://localhost:8080/",
          "height": 1000
        }
      },
      "source": [
        "opt = optimizers.RMSprop(learning_rate=0.0001)\n",
        "model.compile(optimizer = opt, loss='categorical_crossentropy', metrics='accuracy')\n",
        "model.fit(train_X, train_y,\n",
        "          batch_size=256,\n",
        "          epochs=50,\n",
        "          verbose=1,\n",
        "          validation_data=(test_X, test_y),\n",
        "          callbacks=[tensorboard,early_stopping])"
      ],
      "execution_count": null,
      "outputs": [
        {
          "output_type": "stream",
          "text": [
            "Epoch 1/50\n",
            "  2/105 [..............................] - ETA: 7s - loss: 3.2642 - accuracy: 0.0879WARNING:tensorflow:Callbacks method `on_train_batch_end` is slow compared to the batch time (batch time: 0.0497s vs `on_train_batch_end` time: 0.0998s). Check your callbacks.\n",
            "105/105 [==============================] - 6s 56ms/step - loss: 2.6120 - accuracy: 0.1108 - val_loss: 2.2700 - val_accuracy: 0.1842\n",
            "Epoch 2/50\n",
            "105/105 [==============================] - 6s 52ms/step - loss: 2.3290 - accuracy: 0.1512 - val_loss: 2.1332 - val_accuracy: 0.3050\n",
            "Epoch 3/50\n",
            "105/105 [==============================] - 6s 53ms/step - loss: 2.1226 - accuracy: 0.2296 - val_loss: 1.8422 - val_accuracy: 0.3867\n",
            "Epoch 4/50\n",
            "105/105 [==============================] - 5s 52ms/step - loss: 1.8567 - accuracy: 0.3385 - val_loss: 1.5236 - val_accuracy: 0.5019\n",
            "Epoch 5/50\n",
            "105/105 [==============================] - 5s 52ms/step - loss: 1.6622 - accuracy: 0.4197 - val_loss: 1.3305 - val_accuracy: 0.5807\n",
            "Epoch 6/50\n",
            "105/105 [==============================] - 6s 54ms/step - loss: 1.5196 - accuracy: 0.4805 - val_loss: 1.1932 - val_accuracy: 0.6296\n",
            "Epoch 7/50\n",
            "105/105 [==============================] - 7s 62ms/step - loss: 1.4150 - accuracy: 0.5267 - val_loss: 1.1544 - val_accuracy: 0.6364\n",
            "Epoch 8/50\n",
            "105/105 [==============================] - 6s 62ms/step - loss: 1.3438 - accuracy: 0.5547 - val_loss: 1.0737 - val_accuracy: 0.6678\n",
            "Epoch 9/50\n",
            "105/105 [==============================] - 7s 66ms/step - loss: 1.2882 - accuracy: 0.5766 - val_loss: 1.0488 - val_accuracy: 0.6662\n",
            "Epoch 10/50\n",
            "105/105 [==============================] - 6s 56ms/step - loss: 1.2405 - accuracy: 0.5968 - val_loss: 0.9991 - val_accuracy: 0.6871\n",
            "Epoch 11/50\n",
            "105/105 [==============================] - 6s 53ms/step - loss: 1.1973 - accuracy: 0.6115 - val_loss: 0.9949 - val_accuracy: 0.6897\n",
            "Epoch 12/50\n",
            "105/105 [==============================] - 5s 52ms/step - loss: 1.1645 - accuracy: 0.6225 - val_loss: 0.9598 - val_accuracy: 0.6993\n",
            "Epoch 13/50\n",
            "105/105 [==============================] - 6s 53ms/step - loss: 1.1245 - accuracy: 0.6397 - val_loss: 0.9478 - val_accuracy: 0.7054\n",
            "Epoch 14/50\n",
            "105/105 [==============================] - 6s 53ms/step - loss: 1.1047 - accuracy: 0.6463 - val_loss: 0.9030 - val_accuracy: 0.7187\n",
            "Epoch 15/50\n",
            "105/105 [==============================] - 6s 53ms/step - loss: 1.0738 - accuracy: 0.6522 - val_loss: 0.9271 - val_accuracy: 0.7069\n",
            "Epoch 16/50\n",
            "105/105 [==============================] - 6s 53ms/step - loss: 1.0527 - accuracy: 0.6653 - val_loss: 0.8967 - val_accuracy: 0.7177\n",
            "Epoch 17/50\n",
            "105/105 [==============================] - 6s 53ms/step - loss: 1.0272 - accuracy: 0.6735 - val_loss: 0.8868 - val_accuracy: 0.7239\n",
            "Epoch 18/50\n",
            "105/105 [==============================] - 6s 54ms/step - loss: 1.0110 - accuracy: 0.6775 - val_loss: 0.8573 - val_accuracy: 0.7338\n",
            "Epoch 19/50\n",
            "105/105 [==============================] - 6s 53ms/step - loss: 0.9935 - accuracy: 0.6858 - val_loss: 0.8657 - val_accuracy: 0.7279\n",
            "Epoch 20/50\n",
            "105/105 [==============================] - 5s 52ms/step - loss: 0.9702 - accuracy: 0.6922 - val_loss: 0.8110 - val_accuracy: 0.7509\n",
            "Epoch 21/50\n",
            "105/105 [==============================] - 6s 53ms/step - loss: 0.9625 - accuracy: 0.6935 - val_loss: 0.8142 - val_accuracy: 0.7474\n",
            "Epoch 22/50\n",
            "105/105 [==============================] - 6s 53ms/step - loss: 0.9383 - accuracy: 0.7001 - val_loss: 0.8129 - val_accuracy: 0.7465\n",
            "Epoch 23/50\n",
            "105/105 [==============================] - 5s 52ms/step - loss: 0.9157 - accuracy: 0.7077 - val_loss: 0.7838 - val_accuracy: 0.7603\n",
            "Epoch 24/50\n",
            "105/105 [==============================] - 6s 52ms/step - loss: 0.9092 - accuracy: 0.7105 - val_loss: 0.7812 - val_accuracy: 0.7609\n",
            "Epoch 25/50\n",
            "105/105 [==============================] - 5s 52ms/step - loss: 0.8951 - accuracy: 0.7133 - val_loss: 0.7823 - val_accuracy: 0.7616\n",
            "Epoch 26/50\n",
            "105/105 [==============================] - 5s 52ms/step - loss: 0.8748 - accuracy: 0.7206 - val_loss: 0.7647 - val_accuracy: 0.7667\n",
            "Epoch 27/50\n",
            "105/105 [==============================] - 5s 52ms/step - loss: 0.8583 - accuracy: 0.7271 - val_loss: 0.7604 - val_accuracy: 0.7702\n",
            "Epoch 28/50\n",
            "105/105 [==============================] - 5s 52ms/step - loss: 0.8552 - accuracy: 0.7256 - val_loss: 0.7630 - val_accuracy: 0.7677\n",
            "Epoch 29/50\n",
            "105/105 [==============================] - 5s 51ms/step - loss: 0.8419 - accuracy: 0.7318 - val_loss: 0.7599 - val_accuracy: 0.7679\n",
            "Epoch 30/50\n",
            "105/105 [==============================] - 5s 52ms/step - loss: 0.8291 - accuracy: 0.7333 - val_loss: 0.7508 - val_accuracy: 0.7714\n",
            "Epoch 31/50\n",
            "105/105 [==============================] - 5s 51ms/step - loss: 0.8232 - accuracy: 0.7403 - val_loss: 0.7304 - val_accuracy: 0.7783\n",
            "Epoch 32/50\n",
            "105/105 [==============================] - 5s 51ms/step - loss: 0.8031 - accuracy: 0.7437 - val_loss: 0.7584 - val_accuracy: 0.7681\n",
            "Epoch 33/50\n",
            "105/105 [==============================] - 5s 52ms/step - loss: 0.8102 - accuracy: 0.7436 - val_loss: 0.7169 - val_accuracy: 0.7838\n",
            "Epoch 34/50\n",
            "105/105 [==============================] - 5s 51ms/step - loss: 0.7962 - accuracy: 0.7440 - val_loss: 0.7429 - val_accuracy: 0.7748\n",
            "Epoch 35/50\n",
            "105/105 [==============================] - 6s 55ms/step - loss: 0.7842 - accuracy: 0.7492 - val_loss: 0.7097 - val_accuracy: 0.7859\n",
            "Epoch 36/50\n",
            "105/105 [==============================] - 6s 59ms/step - loss: 0.7734 - accuracy: 0.7547 - val_loss: 0.7069 - val_accuracy: 0.7849\n",
            "Epoch 37/50\n",
            "105/105 [==============================] - 6s 53ms/step - loss: 0.7609 - accuracy: 0.7603 - val_loss: 0.6994 - val_accuracy: 0.7929\n",
            "Epoch 38/50\n",
            "105/105 [==============================] - 5s 52ms/step - loss: 0.7548 - accuracy: 0.7599 - val_loss: 0.7096 - val_accuracy: 0.7840\n",
            "Epoch 39/50\n",
            "105/105 [==============================] - 6s 53ms/step - loss: 0.7527 - accuracy: 0.7596 - val_loss: 0.6836 - val_accuracy: 0.7946\n",
            "Epoch 40/50\n",
            "105/105 [==============================] - 5s 52ms/step - loss: 0.7388 - accuracy: 0.7651 - val_loss: 0.6766 - val_accuracy: 0.7995\n",
            "Epoch 41/50\n",
            "105/105 [==============================] - 5s 52ms/step - loss: 0.7283 - accuracy: 0.7659 - val_loss: 0.6990 - val_accuracy: 0.7889\n",
            "Epoch 42/50\n",
            "105/105 [==============================] - 6s 52ms/step - loss: 0.7225 - accuracy: 0.7721 - val_loss: 0.6718 - val_accuracy: 0.7977\n",
            "Epoch 43/50\n",
            "105/105 [==============================] - 5s 52ms/step - loss: 0.7170 - accuracy: 0.7732 - val_loss: 0.6751 - val_accuracy: 0.7992\n",
            "Epoch 44/50\n",
            "105/105 [==============================] - 6s 53ms/step - loss: 0.7154 - accuracy: 0.7718 - val_loss: 0.6832 - val_accuracy: 0.7975\n",
            "Epoch 45/50\n",
            "105/105 [==============================] - 5s 52ms/step - loss: 0.7044 - accuracy: 0.7776 - val_loss: 0.6580 - val_accuracy: 0.8035\n",
            "Epoch 46/50\n",
            "105/105 [==============================] - 6s 53ms/step - loss: 0.6938 - accuracy: 0.7790 - val_loss: 0.6625 - val_accuracy: 0.7999\n",
            "Epoch 47/50\n",
            "105/105 [==============================] - 6s 53ms/step - loss: 0.6867 - accuracy: 0.7796 - val_loss: 0.6416 - val_accuracy: 0.8099\n",
            "Epoch 48/50\n",
            "105/105 [==============================] - 5s 52ms/step - loss: 0.6844 - accuracy: 0.7827 - val_loss: 0.6575 - val_accuracy: 0.8027\n",
            "Epoch 49/50\n",
            "105/105 [==============================] - 6s 53ms/step - loss: 0.6729 - accuracy: 0.7848 - val_loss: 0.6376 - val_accuracy: 0.8078\n",
            "Epoch 50/50\n",
            "105/105 [==============================] - 6s 53ms/step - loss: 0.6669 - accuracy: 0.7855 - val_loss: 0.6485 - val_accuracy: 0.8044\n"
          ],
          "name": "stdout"
        },
        {
          "output_type": "execute_result",
          "data": {
            "text/plain": [
              "<tensorflow.python.keras.callbacks.History at 0x7fc52e224518>"
            ]
          },
          "metadata": {
            "tags": []
          },
          "execution_count": 174
        }
      ]
    },
    {
      "cell_type": "code",
      "metadata": {
        "id": "JMQK3lT3u3FS",
        "outputId": "b430ac21-cde9-4f9d-9184-01edd7caa211",
        "colab": {
          "base_uri": "https://localhost:8080/",
          "height": 34
        }
      },
      "source": [
        "results = model.evaluate(val_X, val_y)"
      ],
      "execution_count": null,
      "outputs": [
        {
          "output_type": "stream",
          "text": [
            "210/210 [==============================] - 1s 5ms/step - loss: 0.6575 - accuracy: 0.8001\n"
          ],
          "name": "stdout"
        }
      ]
    },
    {
      "cell_type": "code",
      "metadata": {
        "id": "Sn7iXizdu2tW",
        "outputId": "fdcae69b-0c52-4d78-8861-7fbb0440918a",
        "colab": {
          "base_uri": "https://localhost:8080/",
          "height": 355
        }
      },
      "source": [
        "model_val_loss = h.history['val_loss']\n",
        "model_train_loss = h.history['loss']\n",
        "model_val_acc = h.history['val_accuracy']\n",
        "model_train_acc = h.history['accuracy']\n",
        "\n",
        "\n",
        "epochs = range(1,51)\n",
        "plt.figure(figsize=(10,5))\n",
        "plt.subplot(1,2,1)\n",
        "plt.plot(epochs, model_val_loss, 'b', label='Validation Loss')\n",
        "plt.plot(epochs, model_train_loss, 'r', label='Training Loss')\n",
        "plt.xlabel('Epochs')\n",
        "plt.ylabel('Loss')\n",
        "plt.legend()\n",
        "\n",
        "plt.subplot(1,2,2)\n",
        "plt.plot(epochs, model_val_acc, 'b', label='Validation Acc')\n",
        "plt.plot(epochs, model_train_acc, 'r', label='Training Acc')\n",
        "plt.xlabel('Epochs')\n",
        "plt.ylabel('Loss')\n",
        "plt.legend()"
      ],
      "execution_count": null,
      "outputs": [
        {
          "output_type": "execute_result",
          "data": {
            "text/plain": [
              "<matplotlib.legend.Legend at 0x7fc52df35da0>"
            ]
          },
          "metadata": {
            "tags": []
          },
          "execution_count": 176
        },
        {
          "output_type": "display_data",
          "data": {
            "image/png": "[encoded data removed]",
            "text/plain": [
              "<Figure size 720x360 with 2 Axes>"
            ]
          },
          "metadata": {
            "tags": [],
            "needs_background": "light"
          }
        }
      ]
    },
    {
      "cell_type": "markdown",
      "metadata": {
        "id": "vvdEuO3O7glA"
      },
      "source": [
        "## Vizualizing Test predictions"
      ]
    },
    {
      "cell_type": "code",
      "metadata": {
        "id": "WeJzWS9Mu2N1",
        "outputId": "f733d78a-0680-4bf1-ba8d-b3d700bdc9ae",
        "colab": {
          "base_uri": "https://localhost:8080/",
          "height": 494
        }
      },
      "source": [
        "import numpy as np\n",
        "\n",
        "plt.figure(figsize=(2,2))\n",
        "plt.imshow(X_test[50])\n",
        "plt.show()\n",
        "print( \"Actual Digit is: \",np.argmax(model.predict(test_X)[50]))\n",
        "\n",
        "plt.figure(figsize=(2,2))\n",
        "plt.imshow(X_test[500])\n",
        "plt.show()\n",
        "print( \"Actual Digit is: \",np.argmax(model.predict(test_X)[500]))\n",
        "\n",
        "plt.figure(figsize=(2,2))\n",
        "plt.imshow(X_test[1500])\n",
        "plt.show()\n",
        "print( \"Actual Digit is: \",np.argmax(model.predict(test_X)[1500]))\n",
        "#print(np.argmax(model.predict(X_test[3].reshape(784,1))))"
      ],
      "execution_count": null,
      "outputs": [
        {
          "output_type": "display_data",
          "data": {
            "image/png": "[encoded data removed]",
            "text/plain": [
              "<Figure size 144x144 with 1 Axes>"
            ]
          },
          "metadata": {
            "tags": [],
            "needs_background": "light"
          }
        },
        {
          "output_type": "stream",
          "text": [
            "Actual Digit is:  5\n"
          ],
          "name": "stdout"
        },
        {
          "output_type": "display_data",
          "data": {
            "image/png": "[encoded data removed]",
            "text/plain": [
              "<Figure size 144x144 with 1 Axes>"
            ]
          },
          "metadata": {
            "tags": [],
            "needs_background": "light"
          }
        },
        {
          "output_type": "stream",
          "text": [
            "Actual Digit is:  6\n"
          ],
          "name": "stdout"
        },
        {
          "output_type": "display_data",
          "data": {
            "image/png": "[encoded data removed]",
            "text/plain": [
              "<Figure size 144x144 with 1 Axes>"
            ]
          },
          "metadata": {
            "tags": [],
            "needs_background": "light"
          }
        },
        {
          "output_type": "stream",
          "text": [
            "Actual Digit is:  2\n"
          ],
          "name": "stdout"
        }
      ]
    },
    {
      "cell_type": "code",
      "metadata": {
        "id": "cNUrHdtNs-ZS"
      },
      "source": [
        ""
      ],
      "execution_count": null,
      "outputs": []
    },
    {
      "cell_type": "markdown",
      "metadata": {
        "id": "UPCW1i3d9dNr"
      },
      "source": [
        "## Save the model to be able to upload the weights later and predict"
      ]
    },
    {
      "cell_type": "code",
      "metadata": {
        "id": "NRmV84U4s-LD"
      },
      "source": [
        "#Set the path where you want to store the model and weights. \n",
        "model.save('/content/drive/My Drive/Colab Notebooks/AIML/ANN/Dense_svnh.h5')\n",
        "model.save_weights('/content/drive/My Drive/Colab Notebooks/AIML/ANN/Dense_svnh_weights.h5')"
      ],
      "execution_count": null,
      "outputs": []
    },
    {
      "cell_type": "markdown",
      "metadata": {
        "id": "m2yQ8cjS9wHa"
      },
      "source": [
        "### Create the model architecture for the weights to be imported and fit into respective layers"
      ]
    },
    {
      "cell_type": "code",
      "metadata": {
        "id": "lTnPKWC3s9SL",
        "outputId": "7c96d609-080f-4c9d-b0c1-801472cc21d6",
        "colab": {
          "base_uri": "https://localhost:8080/",
          "height": 655
        }
      },
      "source": [
        "m =  Sequential()\n",
        "m.add(Dense(512, input_shape = (32*32,), kernel_initializer='he_normal'))\n",
        "m.add(LeakyReLU(alpha=0.1))\n",
        "m.add(Dropout(0.1))\n",
        "m.add(GaussianNoise(0.2))\n",
        "m.add(BatchNormalization())\n",
        "\n",
        "m.add(Dense(512, input_shape = (32*32,), kernel_initializer='he_normal'))\n",
        "m.add(LeakyReLU(alpha=0.1))\n",
        "m.add(Dropout(0.1))\n",
        "\n",
        "m.add(Dense(256, kernel_initializer='he_normal'))\n",
        "m.add(LeakyReLU(alpha=0.1))\n",
        "m.add(Dropout(0.1))\n",
        "\n",
        "m.add(Dense(128, kernel_initializer='he_normal'))\n",
        "m.add(LeakyReLU(alpha=0.1))\n",
        "m.add(Dropout(0.1))\n",
        "\n",
        "m.add(Dense(10, activation='softmax'))\n",
        "m.summary()"
      ],
      "execution_count": null,
      "outputs": [
        {
          "output_type": "stream",
          "text": [
            "Model: \"sequential_30\"\n",
            "_________________________________________________________________\n",
            "Layer (type)                 Output Shape              Param #   \n",
            "=================================================================\n",
            "dense_82 (Dense)             (None, 512)               524800    \n",
            "_________________________________________________________________\n",
            "leaky_re_lu_16 (LeakyReLU)   (None, 512)               0         \n",
            "_________________________________________________________________\n",
            "dropout_49 (Dropout)         (None, 512)               0         \n",
            "_________________________________________________________________\n",
            "gaussian_noise_16 (GaussianN (None, 512)               0         \n",
            "_________________________________________________________________\n",
            "batch_normalization_21 (Batc (None, 512)               2048      \n",
            "_________________________________________________________________\n",
            "dense_83 (Dense)             (None, 512)               262656    \n",
            "_________________________________________________________________\n",
            "leaky_re_lu_17 (LeakyReLU)   (None, 512)               0         \n",
            "_________________________________________________________________\n",
            "dropout_50 (Dropout)         (None, 512)               0         \n",
            "_________________________________________________________________\n",
            "dense_84 (Dense)             (None, 256)               131328    \n",
            "_________________________________________________________________\n",
            "leaky_re_lu_18 (LeakyReLU)   (None, 256)               0         \n",
            "_________________________________________________________________\n",
            "dropout_51 (Dropout)         (None, 256)               0         \n",
            "_________________________________________________________________\n",
            "dense_85 (Dense)             (None, 128)               32896     \n",
            "_________________________________________________________________\n",
            "leaky_re_lu_19 (LeakyReLU)   (None, 128)               0         \n",
            "_________________________________________________________________\n",
            "dropout_52 (Dropout)         (None, 128)               0         \n",
            "_________________________________________________________________\n",
            "dense_86 (Dense)             (None, 10)                1290      \n",
            "=================================================================\n",
            "Total params: 955,018\n",
            "Trainable params: 953,994\n",
            "Non-trainable params: 1,024\n",
            "_________________________________________________________________\n"
          ],
          "name": "stdout"
        }
      ]
    },
    {
      "cell_type": "code",
      "metadata": {
        "id": "9NgKJnvos-HV"
      },
      "source": [
        "#The pre-trained weights must exist in the current folder\n",
        "m.load_weights('/content/drive/My Drive/Colab Notebooks/AIML/ANN/Dense_svnh_weights.h5')"
      ],
      "execution_count": null,
      "outputs": []
    },
    {
      "cell_type": "code",
      "metadata": {
        "id": "7Z1YGFe0s9QI"
      },
      "source": [
        "opt = optimizers.Adam(learning_rate=0.01)\n",
        "m.compile(optimizer = opt, loss='categorical_crossentropy', metrics='accuracy')"
      ],
      "execution_count": null,
      "outputs": []
    },
    {
      "cell_type": "code",
      "metadata": {
        "id": "MV_1E1EN9R8M",
        "outputId": "fb70cdac-820d-4793-84e9-305a94f9d8f4",
        "colab": {
          "base_uri": "https://localhost:8080/",
          "height": 50
        }
      },
      "source": [
        "m.evaluate(val_X,val_y)"
      ],
      "execution_count": null,
      "outputs": [
        {
          "output_type": "stream",
          "text": [
            "210/210 [==============================] - 1s 4ms/step - loss: 0.6575 - accuracy: 0.8001\n"
          ],
          "name": "stdout"
        },
        {
          "output_type": "execute_result",
          "data": {
            "text/plain": [
              "[0.6575373411178589, 0.8001487851142883]"
            ]
          },
          "metadata": {
            "tags": []
          },
          "execution_count": 189
        }
      ]
    },
    {
      "cell_type": "markdown",
      "metadata": {
        "id": "s4qdLICr-MSm"
      },
      "source": [
        "## Visualize predictions"
      ]
    },
    {
      "cell_type": "code",
      "metadata": {
        "id": "YpSOWUuf9X_W",
        "outputId": "add71b39-2dfc-4c77-b0d1-611bb9caee40",
        "colab": {
          "base_uri": "https://localhost:8080/",
          "height": 494
        }
      },
      "source": [
        "import numpy as np\n",
        "\n",
        "plt.figure(figsize=(2,2))\n",
        "plt.imshow(X_test[50])\n",
        "plt.show()\n",
        "print( \"Actual Digit is: \",np.argmax(m.predict(test_X)[50]))\n",
        "\n",
        "plt.figure(figsize=(2,2))\n",
        "plt.imshow(X_test[500])\n",
        "plt.show()\n",
        "print( \"Actual Digit is: \",np.argmax(m.predict(test_X)[500]))\n",
        "\n",
        "plt.figure(figsize=(2,2))\n",
        "plt.imshow(X_test[1500])\n",
        "plt.show()\n",
        "print( \"Actual Digit is: \",np.argmax(m.predict(test_X)[1500]))\n",
        "#print(np.argmax(model.predict(X_test[3].reshape(784,1))))"
      ],
      "execution_count": null,
      "outputs": [
        {
          "output_type": "display_data",
          "data": {
            "image/png": "[encoded data removed]",
            "text/plain": [
              "<Figure size 144x144 with 1 Axes>"
            ]
          },
          "metadata": {
            "tags": [],
            "needs_background": "light"
          }
        },
        {
          "output_type": "stream",
          "text": [
            "Actual Digit is:  5\n"
          ],
          "name": "stdout"
        },
        {
          "output_type": "display_data",
          "data": {
            "image/png": "[encoded data removed]",
            "text/plain": [
              "<Figure size 144x144 with 1 Axes>"
            ]
          },
          "metadata": {
            "tags": [],
            "needs_background": "light"
          }
        },
        {
          "output_type": "stream",
          "text": [
            "Actual Digit is:  6\n"
          ],
          "name": "stdout"
        },
        {
          "output_type": "display_data",
          "data": {
            "image/png": "[encoded data removed]",
            "text/plain": [
              "<Figure size 144x144 with 1 Axes>"
            ]
          },
          "metadata": {
            "tags": [],
            "needs_background": "light"
          }
        },
        {
          "output_type": "stream",
          "text": [
            "Actual Digit is:  2\n"
          ],
          "name": "stdout"
        }
      ]
    },
    {
      "cell_type": "code",
      "metadata": {
        "id": "J-x1ytxnAHEq"
      },
      "source": [
        ""
      ],
      "execution_count": null,
      "outputs": []
    },
    {
      "cell_type": "code",
      "metadata": {
        "id": "mpZPG7m2_Rb6"
      },
      "source": [
        ""
      ],
      "execution_count": null,
      "outputs": []
    }
  ]
}