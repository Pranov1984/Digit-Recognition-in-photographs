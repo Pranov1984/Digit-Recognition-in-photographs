{
  "nbformat": 4,
  "nbformat_minor": 0,
  "metadata": {
    "colab": {
      "name": "Digit Recognition_SVNH_CNN.ipynb.ipynb",
      "provenance": [],
      "collapsed_sections": [],
      "authorship_tag": "ABX9TyMPR67FwVo3EjG9dy/3B3kX",
      "include_colab_link": true
    },
    "kernelspec": {
      "name": "python3",
      "display_name": "Python 3"
    },
    "accelerator": "GPU"
  },
  "cells": [
    {
      "cell_type": "markdown",
      "metadata": {
        "id": "view-in-github",
        "colab_type": "text"
      },
      "source": [
        "<a href=\"https://colab.research.google.com/github/Pranov1984/Digit-Recognition-in-photographs/blob/master/Digit_Recognition_SVNH_CNN_ipynb.ipynb\" target=\"_parent\"><img src=\"https://colab.research.google.com/assets/colab-badge.svg\" alt=\"Open In Colab\"/></a>"
      ]
    },
    {
      "cell_type": "markdown",
      "metadata": {
        "id": "rsOV0WRITmab"
      },
      "source": [
        ""
      ]
    },
    {
      "cell_type": "code",
      "metadata": {
        "id": "BtxKzMFHTkoa",
        "outputId": "3a542709-72b8-4edf-e65a-0f74eb8acf1b",
        "colab": {
          "base_uri": "https://localhost:8080/",
          "height": 34
        }
      },
      "source": [
        "from google.colab import drive\n",
        "drive.mount('/content/drive')"
      ],
      "execution_count": null,
      "outputs": [
        {
          "output_type": "stream",
          "text": [
            "Mounted at /content/drive\n"
          ],
          "name": "stdout"
        }
      ]
    },
    {
      "cell_type": "code",
      "metadata": {
        "id": "JB04vVfdTo9G"
      },
      "source": [
        ""
      ],
      "execution_count": null,
      "outputs": []
    },
    {
      "cell_type": "markdown",
      "metadata": {
        "id": "DAxQKIXYUePH"
      },
      "source": [
        "## Import the data"
      ]
    },
    {
      "cell_type": "code",
      "metadata": {
        "id": "KykY3kShTqr-"
      },
      "source": [
        "# Import the data\n",
        "import h5py\n",
        "import numpy as np\n",
        "\n",
        "ds=h5py.File('/content/drive/My Drive/Colab Notebooks/AIML/ANN/Project SVNH - NN & DL/SVHN_single_grey1.h5','r')\n",
        "\n",
        "X_train = ds['X_train'][:]\n",
        "y_train = ds['y_train'][:]\n",
        "X_test = ds['X_test'][:]\n",
        "y_test = ds['y_test'][:]\n",
        "\n",
        "# Close this file\n",
        "ds.close()"
      ],
      "execution_count": null,
      "outputs": []
    },
    {
      "cell_type": "code",
      "metadata": {
        "id": "bRXeSQKaUh7l",
        "outputId": "0daa121d-f5fe-4d19-89a3-b5ef6bac79e9",
        "colab": {
          "base_uri": "https://localhost:8080/",
          "height": 151
        }
      },
      "source": [
        "X_train[0]"
      ],
      "execution_count": null,
      "outputs": [
        {
          "output_type": "execute_result",
          "data": {
            "text/plain": [
              "array([[ 33.0704,  30.2601,  26.852 , ...,  71.4471,  58.2204,  42.9939],\n",
              "       [ 25.2283,  25.5533,  29.9765, ..., 113.0209, 103.3639,  84.2949],\n",
              "       [ 26.2775,  22.6137,  40.4763, ..., 113.3028, 121.775 , 115.4228],\n",
              "       ...,\n",
              "       [ 28.5502,  36.212 ,  45.0801, ...,  24.1359,  25.0927,  26.0603],\n",
              "       [ 38.4352,  26.4733,  23.2717, ...,  28.1094,  29.4683,  30.0661],\n",
              "       [ 50.2984,  26.0773,  24.0389, ...,  49.6682,  50.853 ,  53.0377]],\n",
              "      dtype=float32)"
            ]
          },
          "metadata": {
            "tags": []
          },
          "execution_count": 3
        }
      ]
    },
    {
      "cell_type": "code",
      "metadata": {
        "id": "LLjfGHJ0U7jx",
        "outputId": "6c825028-03a0-4231-f0de-c9bde1982597",
        "colab": {
          "base_uri": "https://localhost:8080/",
          "height": 34
        }
      },
      "source": [
        "X_train.max(), X_train.min(), X_test.max(), X_test.min()"
      ],
      "execution_count": null,
      "outputs": [
        {
          "output_type": "execute_result",
          "data": {
            "text/plain": [
              "(254.9745, 0.0, 254.9745, 0.0)"
            ]
          },
          "metadata": {
            "tags": []
          },
          "execution_count": 4
        }
      ]
    },
    {
      "cell_type": "code",
      "metadata": {
        "id": "Dt-ZNwfKVFDD",
        "outputId": "133289fd-7c6a-4c86-c357-f7487add884c",
        "colab": {
          "base_uri": "https://localhost:8080/",
          "height": 34
        }
      },
      "source": [
        "X_train.shape, y_train.shape, X_test.shape, X_test.shape"
      ],
      "execution_count": null,
      "outputs": [
        {
          "output_type": "execute_result",
          "data": {
            "text/plain": [
              "((42000, 32, 32), (42000,), (18000, 32, 32), (18000, 32, 32))"
            ]
          },
          "metadata": {
            "tags": []
          },
          "execution_count": 5
        }
      ]
    },
    {
      "cell_type": "markdown",
      "metadata": {
        "id": "R-XaoUMyX8Uy"
      },
      "source": [
        "### Check out the unique values of the dependent variables and counts of unique each label"
      ]
    },
    {
      "cell_type": "code",
      "metadata": {
        "id": "7mTknVIuXnQP",
        "outputId": "0841e84e-93ae-463f-d871-e7cdccc49a5f",
        "colab": {
          "base_uri": "https://localhost:8080/",
          "height": 50
        }
      },
      "source": [
        "import numpy as np\n",
        "\n",
        "(unique, counts) = np.unique(y_train, return_counts=True)\n",
        "\n",
        "unique, counts"
      ],
      "execution_count": null,
      "outputs": [
        {
          "output_type": "execute_result",
          "data": {
            "text/plain": [
              "(array([0, 1, 2, 3, 4, 5, 6, 7, 8, 9], dtype=uint8),\n",
              " array([4186, 4172, 4197, 4281, 4188, 4232, 4168, 4192, 4188, 4196]))"
            ]
          },
          "metadata": {
            "tags": []
          },
          "execution_count": 6
        }
      ]
    },
    {
      "cell_type": "code",
      "metadata": {
        "id": "ITXVuPD3Wr4Y",
        "outputId": "c647aaf4-fc2c-4bb7-94cc-b0e0f66bbe52",
        "colab": {
          "base_uri": "https://localhost:8080/",
          "height": 300
        }
      },
      "source": [
        "import matplotlib.pyplot as plt\n",
        "%matplotlib inline\n",
        "\n",
        "print(y_train[0])\n",
        "plt.imshow(X_train[0], cmap='gray')"
      ],
      "execution_count": null,
      "outputs": [
        {
          "output_type": "stream",
          "text": [
            "2\n"
          ],
          "name": "stdout"
        },
        {
          "output_type": "execute_result",
          "data": {
            "text/plain": [
              "<matplotlib.image.AxesImage at 0x7fee9eef4f60>"
            ]
          },
          "metadata": {
            "tags": []
          },
          "execution_count": 7
        },
        {
          "output_type": "display_data",
          "data": {
            "image/png": "[encoded data removed]",
            "text/plain": [
              "<Figure size 432x288 with 1 Axes>"
            ]
          },
          "metadata": {
            "tags": [],
            "needs_background": "light"
          }
        }
      ]
    },
    {
      "cell_type": "code",
      "metadata": {
        "id": "0Xm2fLFaWr7e",
        "outputId": "4ce85633-6fa2-41f8-e77f-19de029256ea",
        "colab": {
          "base_uri": "https://localhost:8080/",
          "height": 166
        }
      },
      "source": [
        "plt.figure(figsize=(25,15))\n",
        "col=10\n",
        "rows=1\n",
        "for i in range(10):\n",
        "  plt.subplot(rows,col,i+1)\n",
        "  plt.imshow(X_train[i])\n",
        "  plt.axis('off')\n",
        "plt.show()\n",
        "\n",
        "print('label for each of the above image: %s' % (y_train[0:10]))"
      ],
      "execution_count": null,
      "outputs": [
        {
          "output_type": "display_data",
          "data": {
            "image/png": "[encoded data removed]",
            "text/plain": [
              "<Figure size 1800x1080 with 10 Axes>"
            ]
          },
          "metadata": {
            "tags": [],
            "needs_background": "light"
          }
        },
        {
          "output_type": "stream",
          "text": [
            "label for each of the above image: [2 6 7 4 4 0 3 0 7 3]\n"
          ],
          "name": "stdout"
        }
      ]
    },
    {
      "cell_type": "code",
      "metadata": {
        "id": "qGqV6VeVWr-V"
      },
      "source": [
        ""
      ],
      "execution_count": null,
      "outputs": []
    },
    {
      "cell_type": "markdown",
      "metadata": {
        "id": "dgWUru3UVdeT"
      },
      "source": [
        "# For being able to train a CNN model, we need to reshape the data to keras acceptable format i.e., make it 4d with addition of channel"
      ]
    },
    {
      "cell_type": "code",
      "metadata": {
        "id": "6zetgjjKVWZ1"
      },
      "source": [
        "train_X = X_train.reshape(X_train.shape[0], X_train.shape[1], X_train.shape[2],1)\n",
        "test_X = X_test.reshape(X_test.shape[0], X_test.shape[1], X_test.shape[2],1)"
      ],
      "execution_count": null,
      "outputs": []
    },
    {
      "cell_type": "code",
      "metadata": {
        "id": "A_kik_fSVa-6"
      },
      "source": [
        "# One Hot encode the target variable\n",
        "from keras.utils import to_categorical\n",
        "\n",
        "train_y = to_categorical(y_train, 10)\n",
        "test_y  = to_categorical(y_test, 10)"
      ],
      "execution_count": null,
      "outputs": []
    },
    {
      "cell_type": "code",
      "metadata": {
        "id": "gWXObgn1Va12",
        "outputId": "0dc60aa4-8428-4420-c0c2-926a009d18e7",
        "colab": {
          "base_uri": "https://localhost:8080/",
          "height": 34
        }
      },
      "source": [
        "train_X.shape, train_y.shape, test_X.shape, test_y.shape"
      ],
      "execution_count": null,
      "outputs": [
        {
          "output_type": "execute_result",
          "data": {
            "text/plain": [
              "((42000, 32, 32, 1), (42000, 10), (18000, 32, 32, 1), (18000, 10))"
            ]
          },
          "metadata": {
            "tags": []
          },
          "execution_count": 11
        }
      ]
    },
    {
      "cell_type": "markdown",
      "metadata": {
        "id": "T9_QisXCYeUQ"
      },
      "source": [
        "## Create validation data for testing the model"
      ]
    },
    {
      "cell_type": "code",
      "metadata": {
        "id": "Yk18fWh1VbCX"
      },
      "source": [
        "from sklearn.model_selection import train_test_split\n",
        "\n",
        "train_X, val_X, train_y, val_y = train_test_split(train_X, train_y, test_size = 0.1, random_state =1, stratify = train_y)"
      ],
      "execution_count": null,
      "outputs": []
    },
    {
      "cell_type": "code",
      "metadata": {
        "id": "z8cG5tY_VbFa",
        "outputId": "232a4c5e-3d64-4809-928b-70c63a7ab00e",
        "colab": {
          "base_uri": "https://localhost:8080/",
          "height": 118
        }
      },
      "source": [
        "train_X.shape, train_y.shape, test_X.shape, test_y.shape, val_X.shape, val_y.shape"
      ],
      "execution_count": null,
      "outputs": [
        {
          "output_type": "execute_result",
          "data": {
            "text/plain": [
              "((37800, 32, 32, 1),\n",
              " (37800, 10),\n",
              " (18000, 32, 32, 1),\n",
              " (18000, 10),\n",
              " (4200, 32, 32, 1),\n",
              " (4200, 10))"
            ]
          },
          "metadata": {
            "tags": []
          },
          "execution_count": 13
        }
      ]
    },
    {
      "cell_type": "markdown",
      "metadata": {
        "id": "RY1gSxmDZ8uF"
      },
      "source": [
        "### Preprocessing the data i.e. normalizing the data"
      ]
    },
    {
      "cell_type": "code",
      "metadata": {
        "id": "wUJy9526Z7yh"
      },
      "source": [
        "train_X = train_X/255.0\n",
        "test_X = test_X/255.0\n",
        "val_X = val_X/255.0"
      ],
      "execution_count": null,
      "outputs": []
    },
    {
      "cell_type": "markdown",
      "metadata": {
        "id": "K2kFSQRmZeaE"
      },
      "source": [
        "## Model BUilding"
      ]
    },
    {
      "cell_type": "code",
      "metadata": {
        "id": "ojPVowXUVbIX"
      },
      "source": [
        "from keras.models import Sequential\n",
        "from keras.layers import Dense, Activation, Dropout, BatchNormalization, Conv2D, Flatten, MaxPool2D\n",
        "from keras import  optimizers"
      ],
      "execution_count": null,
      "outputs": []
    },
    {
      "cell_type": "code",
      "metadata": {
        "id": "eYoP72v4VbLg",
        "outputId": "05b8808f-970b-47b5-f84f-5bcd5568a026",
        "colab": {
          "base_uri": "https://localhost:8080/",
          "height": 487
        }
      },
      "source": [
        "model = Sequential()\n",
        "model.add(Conv2D(64, kernel_size=(3,3), input_shape=(32,32,1), activation='relu', kernel_initializer='he_normal', padding='same'))\n",
        "model.add(MaxPool2D(pool_size=(2,2)))\n",
        "\n",
        "\n",
        "model.add(Conv2D(32, kernel_size=(3,3), input_shape=(32,32,1), activation='relu', kernel_initializer='he_normal', padding='same'))\n",
        "model.add(MaxPool2D(pool_size=(2,2)))\n",
        "model.add(Dropout(0.1))\n",
        "\n",
        "model.add(Flatten())\n",
        "model.add(Dropout(0.2))\n",
        "\n",
        "model.add(Dense(256, activation='relu', kernel_initializer='he_normal'))\n",
        "model.add(Dense(128, activation='relu', kernel_initializer='he_normal'))\n",
        "\n",
        "model.add(Dense(10, activation='softmax'))\n",
        "\n",
        "model.summary()"
      ],
      "execution_count": null,
      "outputs": [
        {
          "output_type": "stream",
          "text": [
            "Model: \"sequential_6\"\n",
            "_________________________________________________________________\n",
            "Layer (type)                 Output Shape              Param #   \n",
            "=================================================================\n",
            "conv2d_16 (Conv2D)           (None, 32, 32, 64)        640       \n",
            "_________________________________________________________________\n",
            "max_pooling2d_16 (MaxPooling (None, 16, 16, 64)        0         \n",
            "_________________________________________________________________\n",
            "conv2d_17 (Conv2D)           (None, 16, 16, 32)        18464     \n",
            "_________________________________________________________________\n",
            "max_pooling2d_17 (MaxPooling (None, 8, 8, 32)          0         \n",
            "_________________________________________________________________\n",
            "dropout_26 (Dropout)         (None, 8, 8, 32)          0         \n",
            "_________________________________________________________________\n",
            "flatten_6 (Flatten)          (None, 2048)              0         \n",
            "_________________________________________________________________\n",
            "dropout_27 (Dropout)         (None, 2048)              0         \n",
            "_________________________________________________________________\n",
            "dense_14 (Dense)             (None, 256)               524544    \n",
            "_________________________________________________________________\n",
            "dense_15 (Dense)             (None, 128)               32896     \n",
            "_________________________________________________________________\n",
            "dense_16 (Dense)             (None, 10)                1290      \n",
            "=================================================================\n",
            "Total params: 577,834\n",
            "Trainable params: 577,834\n",
            "Non-trainable params: 0\n",
            "_________________________________________________________________\n"
          ],
          "name": "stdout"
        }
      ]
    },
    {
      "cell_type": "code",
      "metadata": {
        "id": "4z4MNhXyVbOU"
      },
      "source": [
        "opt= optimizers.Adam(learning_rate=0.01)\n",
        "model.compile(optimizer = opt, loss='categorical_crossentropy', metrics=['accuracy'])"
      ],
      "execution_count": null,
      "outputs": []
    },
    {
      "cell_type": "code",
      "metadata": {
        "id": "EGd3AsEHVbRM",
        "outputId": "6cb777cd-58ee-430d-b9be-a0cd2a4b8200",
        "colab": {
          "base_uri": "https://localhost:8080/",
          "height": 1000
        }
      },
      "source": [
        "model.fit(train_X, train_y, epochs=50,batch_size=512 ,validation_data=(test_X, test_y))"
      ],
      "execution_count": null,
      "outputs": [
        {
          "output_type": "stream",
          "text": [
            "Epoch 1/50\n",
            "74/74 [==============================] - 1s 13ms/step - loss: 2.5946 - accuracy: 0.0987 - val_loss: 2.3029 - val_accuracy: 0.0956\n",
            "Epoch 2/50\n",
            "74/74 [==============================] - 1s 11ms/step - loss: 2.3029 - accuracy: 0.1013 - val_loss: 2.3029 - val_accuracy: 0.0982\n",
            "Epoch 3/50\n",
            "74/74 [==============================] - 1s 11ms/step - loss: 2.3029 - accuracy: 0.0992 - val_loss: 2.3030 - val_accuracy: 0.0982\n",
            "Epoch 4/50\n",
            "74/74 [==============================] - 1s 11ms/step - loss: 2.3029 - accuracy: 0.0970 - val_loss: 2.3029 - val_accuracy: 0.0982\n",
            "Epoch 5/50\n",
            "74/74 [==============================] - 1s 11ms/step - loss: 2.3030 - accuracy: 0.0981 - val_loss: 2.3029 - val_accuracy: 0.1016\n",
            "Epoch 6/50\n",
            "74/74 [==============================] - 1s 11ms/step - loss: 2.3029 - accuracy: 0.0951 - val_loss: 2.3028 - val_accuracy: 0.0955\n",
            "Epoch 7/50\n",
            "74/74 [==============================] - 1s 11ms/step - loss: 2.3028 - accuracy: 0.0996 - val_loss: 2.3029 - val_accuracy: 0.1002\n",
            "Epoch 8/50\n",
            "74/74 [==============================] - 1s 11ms/step - loss: 2.3029 - accuracy: 0.1010 - val_loss: 2.3029 - val_accuracy: 0.1007\n",
            "Epoch 9/50\n",
            "74/74 [==============================] - 1s 11ms/step - loss: 2.3029 - accuracy: 0.0990 - val_loss: 2.3027 - val_accuracy: 0.1007\n",
            "Epoch 10/50\n",
            "74/74 [==============================] - 1s 11ms/step - loss: 2.3028 - accuracy: 0.1004 - val_loss: 2.3031 - val_accuracy: 0.0955\n",
            "Epoch 11/50\n",
            "74/74 [==============================] - 1s 11ms/step - loss: 2.3029 - accuracy: 0.0971 - val_loss: 2.3030 - val_accuracy: 0.0982\n",
            "Epoch 12/50\n",
            "74/74 [==============================] - 1s 11ms/step - loss: 2.3028 - accuracy: 0.0997 - val_loss: 2.3027 - val_accuracy: 0.1007\n",
            "Epoch 13/50\n",
            "74/74 [==============================] - 1s 11ms/step - loss: 2.3030 - accuracy: 0.0986 - val_loss: 2.3028 - val_accuracy: 0.0955\n",
            "Epoch 14/50\n",
            "74/74 [==============================] - 1s 10ms/step - loss: 2.3029 - accuracy: 0.0989 - val_loss: 2.3029 - val_accuracy: 0.1002\n",
            "Epoch 15/50\n",
            "74/74 [==============================] - 1s 11ms/step - loss: 2.3029 - accuracy: 0.1012 - val_loss: 2.3027 - val_accuracy: 0.1008\n",
            "Epoch 16/50\n",
            "74/74 [==============================] - 1s 11ms/step - loss: 2.3029 - accuracy: 0.1009 - val_loss: 2.3030 - val_accuracy: 0.0955\n",
            "Epoch 17/50\n",
            "74/74 [==============================] - 1s 11ms/step - loss: 2.3030 - accuracy: 0.0990 - val_loss: 2.3028 - val_accuracy: 0.0955\n",
            "Epoch 18/50\n",
            "74/74 [==============================] - 1s 10ms/step - loss: 2.3029 - accuracy: 0.0982 - val_loss: 2.3030 - val_accuracy: 0.0955\n",
            "Epoch 19/50\n",
            "74/74 [==============================] - 1s 10ms/step - loss: 2.3029 - accuracy: 0.0981 - val_loss: 2.3028 - val_accuracy: 0.1002\n",
            "Epoch 20/50\n",
            "74/74 [==============================] - 1s 10ms/step - loss: 2.3030 - accuracy: 0.0983 - val_loss: 2.3029 - val_accuracy: 0.1018\n",
            "Epoch 21/50\n",
            "74/74 [==============================] - 1s 10ms/step - loss: 2.3029 - accuracy: 0.0990 - val_loss: 2.3031 - val_accuracy: 0.0982\n",
            "Epoch 22/50\n",
            "74/74 [==============================] - 1s 10ms/step - loss: 2.3031 - accuracy: 0.0984 - val_loss: 2.3031 - val_accuracy: 0.1002\n",
            "Epoch 23/50\n",
            "74/74 [==============================] - 1s 10ms/step - loss: 2.3030 - accuracy: 0.0993 - val_loss: 2.3034 - val_accuracy: 0.0955\n",
            "Epoch 24/50\n",
            "74/74 [==============================] - 1s 10ms/step - loss: 2.3030 - accuracy: 0.0998 - val_loss: 2.3032 - val_accuracy: 0.0955\n",
            "Epoch 25/50\n",
            "74/74 [==============================] - 1s 10ms/step - loss: 2.3030 - accuracy: 0.0971 - val_loss: 2.3027 - val_accuracy: 0.1008\n",
            "Epoch 26/50\n",
            "74/74 [==============================] - 1s 10ms/step - loss: 2.3030 - accuracy: 0.0986 - val_loss: 2.3027 - val_accuracy: 0.1008\n",
            "Epoch 27/50\n",
            "74/74 [==============================] - 1s 10ms/step - loss: 2.3030 - accuracy: 0.0996 - val_loss: 2.3028 - val_accuracy: 0.1007\n",
            "Epoch 28/50\n",
            "74/74 [==============================] - 1s 10ms/step - loss: 2.3029 - accuracy: 0.0997 - val_loss: 2.3028 - val_accuracy: 0.1002\n",
            "Epoch 29/50\n",
            "74/74 [==============================] - 1s 11ms/step - loss: 2.3030 - accuracy: 0.0969 - val_loss: 2.3030 - val_accuracy: 0.1002\n",
            "Epoch 30/50\n",
            "74/74 [==============================] - 1s 10ms/step - loss: 2.3031 - accuracy: 0.0987 - val_loss: 2.3029 - val_accuracy: 0.1002\n",
            "Epoch 31/50\n",
            "74/74 [==============================] - 1s 10ms/step - loss: 2.3030 - accuracy: 0.1001 - val_loss: 2.3031 - val_accuracy: 0.0955\n",
            "Epoch 32/50\n",
            "74/74 [==============================] - 1s 10ms/step - loss: 2.3031 - accuracy: 0.0989 - val_loss: 2.3033 - val_accuracy: 0.0955\n",
            "Epoch 33/50\n",
            "74/74 [==============================] - 1s 10ms/step - loss: 2.3029 - accuracy: 0.1000 - val_loss: 2.3029 - val_accuracy: 0.1004\n",
            "Epoch 34/50\n",
            "74/74 [==============================] - 1s 10ms/step - loss: 2.3030 - accuracy: 0.0985 - val_loss: 2.3029 - val_accuracy: 0.1007\n",
            "Epoch 35/50\n",
            "74/74 [==============================] - 1s 10ms/step - loss: 2.3029 - accuracy: 0.0980 - val_loss: 2.3029 - val_accuracy: 0.0955\n",
            "Epoch 36/50\n",
            "74/74 [==============================] - 1s 10ms/step - loss: 2.3029 - accuracy: 0.1003 - val_loss: 2.3031 - val_accuracy: 0.0982\n",
            "Epoch 37/50\n",
            "74/74 [==============================] - 1s 10ms/step - loss: 2.3029 - accuracy: 0.0978 - val_loss: 2.3029 - val_accuracy: 0.1002\n",
            "Epoch 38/50\n",
            "74/74 [==============================] - 1s 10ms/step - loss: 2.3030 - accuracy: 0.0987 - val_loss: 2.3030 - val_accuracy: 0.1018\n",
            "Epoch 39/50\n",
            "74/74 [==============================] - 1s 10ms/step - loss: 2.3029 - accuracy: 0.1001 - val_loss: 2.3029 - val_accuracy: 0.0955\n",
            "Epoch 40/50\n",
            "74/74 [==============================] - 1s 10ms/step - loss: 2.3030 - accuracy: 0.0977 - val_loss: 2.3026 - val_accuracy: 0.1002\n",
            "Epoch 41/50\n",
            "74/74 [==============================] - 1s 10ms/step - loss: 2.3030 - accuracy: 0.0997 - val_loss: 2.3026 - val_accuracy: 0.1004\n",
            "Epoch 42/50\n",
            "74/74 [==============================] - 1s 10ms/step - loss: 2.3030 - accuracy: 0.0991 - val_loss: 2.3032 - val_accuracy: 0.0955\n",
            "Epoch 43/50\n",
            "74/74 [==============================] - 1s 10ms/step - loss: 2.3030 - accuracy: 0.0989 - val_loss: 2.3032 - val_accuracy: 0.0982\n",
            "Epoch 44/50\n",
            "74/74 [==============================] - 1s 10ms/step - loss: 2.3029 - accuracy: 0.0998 - val_loss: 2.3030 - val_accuracy: 0.0982\n",
            "Epoch 45/50\n",
            "74/74 [==============================] - 1s 10ms/step - loss: 2.3029 - accuracy: 0.0998 - val_loss: 2.3028 - val_accuracy: 0.1018\n",
            "Epoch 46/50\n",
            "74/74 [==============================] - 1s 10ms/step - loss: 2.3029 - accuracy: 0.0985 - val_loss: 2.3028 - val_accuracy: 0.0982\n",
            "Epoch 47/50\n",
            "74/74 [==============================] - 1s 10ms/step - loss: 2.3031 - accuracy: 0.0990 - val_loss: 2.3027 - val_accuracy: 0.0982\n",
            "Epoch 48/50\n",
            "74/74 [==============================] - 1s 10ms/step - loss: 2.3030 - accuracy: 0.1005 - val_loss: 2.3033 - val_accuracy: 0.0955\n",
            "Epoch 49/50\n",
            "74/74 [==============================] - 1s 10ms/step - loss: 2.3030 - accuracy: 0.1011 - val_loss: 2.3029 - val_accuracy: 0.0955\n",
            "Epoch 50/50\n",
            "74/74 [==============================] - 1s 10ms/step - loss: 2.3029 - accuracy: 0.0997 - val_loss: 2.3033 - val_accuracy: 0.0955\n"
          ],
          "name": "stdout"
        },
        {
          "output_type": "execute_result",
          "data": {
            "text/plain": [
              "<tensorflow.python.keras.callbacks.History at 0x7f32a4dd8630>"
            ]
          },
          "metadata": {
            "tags": []
          },
          "execution_count": 95
        }
      ]
    },
    {
      "cell_type": "code",
      "metadata": {
        "id": "bMubOPExVbUl",
        "outputId": "f76378db-f8a9-434c-f38d-f6468396e822",
        "colab": {
          "base_uri": "https://localhost:8080/",
          "height": 34
        }
      },
      "source": [
        "results = model.evaluate(val_X, val_y)"
      ],
      "execution_count": null,
      "outputs": [
        {
          "output_type": "stream",
          "text": [
            "132/132 [==============================] - 0s 2ms/step - loss: 2.3028 - accuracy: 0.1019\n"
          ],
          "name": "stdout"
        }
      ]
    },
    {
      "cell_type": "markdown",
      "metadata": {
        "id": "3Sq-1Ld-ymLa"
      },
      "source": [
        "## Introduce early stop criteria and model checpoint"
      ]
    },
    {
      "cell_type": "code",
      "metadata": {
        "id": "XIk_WgTWy0E3",
        "outputId": "bcd994b8-4e27-4c02-cd43-56bfdca16b98",
        "colab": {
          "base_uri": "https://localhost:8080/",
          "height": 722
        }
      },
      "source": [
        "model = Sequential()\n",
        "model.add(Conv2D(64, kernel_size=(3,3), input_shape=(32,32,1), activation='relu', kernel_initializer='he_normal', padding='same'))\n",
        "model.add(MaxPool2D(pool_size=(2,2)))\n",
        "model.add(Dropout(0.1))\n",
        "\n",
        "model.add(Conv2D(64, kernel_size=(3,3), activation='relu', kernel_initializer='he_normal', padding='same'))\n",
        "model.add(MaxPool2D(pool_size=(2,2)))\n",
        "model.add(Dropout(0.1))\n",
        "\n",
        "model.add(Conv2D(32, kernel_size=(3,3), activation='relu', kernel_initializer='he_normal', padding='same'))\n",
        "model.add(MaxPool2D(pool_size=(2,2)))\n",
        "model.add(Dropout(0.1))\n",
        "\n",
        "model.add(Flatten())\n",
        "model.add(Dropout(0.1))\n",
        "\n",
        "model.add(Dense(512, activation='relu', kernel_initializer='he_normal'))\n",
        "model.add(BatchNormalization())\n",
        "model.add(Dropout(0.1))\n",
        "\n",
        "model.add(Dense(128, activation='relu', kernel_initializer='he_normal'))\n",
        "model.add(Dropout(0.1))\n",
        "\n",
        "model.add(Dense(10, activation='softmax'))\n",
        "\n",
        "model.summary()"
      ],
      "execution_count": null,
      "outputs": [
        {
          "output_type": "stream",
          "text": [
            "Model: \"sequential_7\"\n",
            "_________________________________________________________________\n",
            "Layer (type)                 Output Shape              Param #   \n",
            "=================================================================\n",
            "conv2d_18 (Conv2D)           (None, 32, 32, 64)        640       \n",
            "_________________________________________________________________\n",
            "max_pooling2d_18 (MaxPooling (None, 16, 16, 64)        0         \n",
            "_________________________________________________________________\n",
            "dropout_28 (Dropout)         (None, 16, 16, 64)        0         \n",
            "_________________________________________________________________\n",
            "conv2d_19 (Conv2D)           (None, 16, 16, 64)        36928     \n",
            "_________________________________________________________________\n",
            "max_pooling2d_19 (MaxPooling (None, 8, 8, 64)          0         \n",
            "_________________________________________________________________\n",
            "dropout_29 (Dropout)         (None, 8, 8, 64)          0         \n",
            "_________________________________________________________________\n",
            "conv2d_20 (Conv2D)           (None, 8, 8, 32)          18464     \n",
            "_________________________________________________________________\n",
            "max_pooling2d_20 (MaxPooling (None, 4, 4, 32)          0         \n",
            "_________________________________________________________________\n",
            "dropout_30 (Dropout)         (None, 4, 4, 32)          0         \n",
            "_________________________________________________________________\n",
            "flatten_7 (Flatten)          (None, 512)               0         \n",
            "_________________________________________________________________\n",
            "dropout_31 (Dropout)         (None, 512)               0         \n",
            "_________________________________________________________________\n",
            "dense_17 (Dense)             (None, 512)               262656    \n",
            "_________________________________________________________________\n",
            "batch_normalization_4 (Batch (None, 512)               2048      \n",
            "_________________________________________________________________\n",
            "dropout_32 (Dropout)         (None, 512)               0         \n",
            "_________________________________________________________________\n",
            "dense_18 (Dense)             (None, 128)               65664     \n",
            "_________________________________________________________________\n",
            "dropout_33 (Dropout)         (None, 128)               0         \n",
            "_________________________________________________________________\n",
            "dense_19 (Dense)             (None, 10)                1290      \n",
            "=================================================================\n",
            "Total params: 387,690\n",
            "Trainable params: 386,666\n",
            "Non-trainable params: 1,024\n",
            "_________________________________________________________________\n"
          ],
          "name": "stdout"
        }
      ]
    },
    {
      "cell_type": "markdown",
      "metadata": {
        "id": "ZBQKryob7DJ6"
      },
      "source": [
        "## Initializing the Tensorboard callback for visualization of training"
      ]
    },
    {
      "cell_type": "code",
      "metadata": {
        "id": "Cg_NLG1F67cv"
      },
      "source": [
        "#Import tensorboard callback which will passed in model.fit function.\n",
        "from keras.callbacks import TensorBoard\n",
        "from time import time\n",
        "\n",
        "\n",
        "#Setting the directory to store the logs.\n",
        "tensorboard = TensorBoard(log_dir=\".logs/{}\".format(time()))\n",
        "\n",
        "from keras.callbacks import ModelCheckpoint, EarlyStopping"
      ],
      "execution_count": null,
      "outputs": []
    },
    {
      "cell_type": "code",
      "metadata": {
        "id": "qo17TKRb7JTI",
        "outputId": "276e35b7-93b3-40ba-b465-56728db19856",
        "colab": {
          "base_uri": "https://localhost:8080/",
          "height": 34
        }
      },
      "source": [
        "#Adding Early stopping callback to the fit function is going to stop the training,\n",
        "#if the val_loss is not going to change even '0.001' for more than 10 continous epochs\n",
        "\n",
        "early_stopping = EarlyStopping(monitor='val_loss', min_delta=0.001, patience=10)\n",
        "\n",
        "#Adding Model Checkpoint callback to the fit function is going to save the weights whenever val_loss achieves a new low value. \n",
        "#Hence saving the best weights occurred during training\n",
        "\n",
        "model_checkpoint =  ModelCheckpoint('svnh_cnn_checkpoint_{epoch:02d}_loss{val_loss:.4f}.h5',\n",
        "                                                           monitor='val_loss',\n",
        "                                                           verbose=1,\n",
        "                                                           save_best_only=True,\n",
        "                                                           save_weights_only=True,\n",
        "                                                           mode='auto',\n",
        "                                                           period=1)"
      ],
      "execution_count": null,
      "outputs": [
        {
          "output_type": "stream",
          "text": [
            "WARNING:tensorflow:`period` argument is deprecated. Please use `save_freq` to specify the frequency in number of batches seen.\n"
          ],
          "name": "stdout"
        }
      ]
    },
    {
      "cell_type": "code",
      "metadata": {
        "id": "eaToip3zy196",
        "outputId": "17662d12-4a68-4e4d-c814-a3b2b4427b30",
        "colab": {
          "base_uri": "https://localhost:8080/",
          "height": 1000
        }
      },
      "source": [
        "opt= optimizers.Adam(learning_rate=0.0001)\n",
        "model.compile(optimizer = opt, loss='categorical_crossentropy', metrics=['accuracy'])\n",
        "history = model.fit(train_X, train_y, epochs=50,batch_size=512 ,validation_data=(test_X, test_y), callbacks=[tensorboard,early_stopping, model_checkpoint])"
      ],
      "execution_count": null,
      "outputs": [
        {
          "output_type": "stream",
          "text": [
            "Epoch 1/50\n",
            " 2/74 [..............................] - ETA: 4s - loss: 3.0109 - accuracy: 0.0996WARNING:tensorflow:Callbacks method `on_train_batch_end` is slow compared to the batch time (batch time: 0.0147s vs `on_train_batch_end` time: 0.1193s). Check your callbacks.\n",
            "73/74 [============================>.] - ETA: 0s - loss: 2.8046 - accuracy: 0.1019\n",
            "Epoch 00001: val_loss improved from inf to 2.32441, saving model to svnh_cnn_checkpoint_01_loss2.3244.h5\n",
            "74/74 [==============================] - 1s 17ms/step - loss: 2.8037 - accuracy: 0.1019 - val_loss: 2.3244 - val_accuracy: 0.1057\n",
            "Epoch 2/50\n",
            "71/74 [===========================>..] - ETA: 0s - loss: 2.6158 - accuracy: 0.1073\n",
            "Epoch 00002: val_loss improved from 2.32441 to 2.30017, saving model to svnh_cnn_checkpoint_02_loss2.3002.h5\n",
            "74/74 [==============================] - 1s 13ms/step - loss: 2.6136 - accuracy: 0.1075 - val_loss: 2.3002 - val_accuracy: 0.1213\n",
            "Epoch 3/50\n",
            "70/74 [===========================>..] - ETA: 0s - loss: 2.5282 - accuracy: 0.1113\n",
            "Epoch 00003: val_loss improved from 2.30017 to 2.27648, saving model to svnh_cnn_checkpoint_03_loss2.2765.h5\n",
            "74/74 [==============================] - 1s 14ms/step - loss: 2.5265 - accuracy: 0.1113 - val_loss: 2.2765 - val_accuracy: 0.1363\n",
            "Epoch 4/50\n",
            "74/74 [==============================] - ETA: 0s - loss: 2.4582 - accuracy: 0.1209\n",
            "Epoch 00004: val_loss improved from 2.27648 to 2.24385, saving model to svnh_cnn_checkpoint_04_loss2.2439.h5\n",
            "74/74 [==============================] - 1s 14ms/step - loss: 2.4582 - accuracy: 0.1209 - val_loss: 2.2439 - val_accuracy: 0.1797\n",
            "Epoch 5/50\n",
            "70/74 [===========================>..] - ETA: 0s - loss: 2.4000 - accuracy: 0.1342\n",
            "Epoch 00005: val_loss improved from 2.24385 to 2.17232, saving model to svnh_cnn_checkpoint_05_loss2.1723.h5\n",
            "74/74 [==============================] - 1s 13ms/step - loss: 2.3993 - accuracy: 0.1346 - val_loss: 2.1723 - val_accuracy: 0.2329\n",
            "Epoch 6/50\n",
            "70/74 [===========================>..] - ETA: 0s - loss: 2.3198 - accuracy: 0.1622\n",
            "Epoch 00006: val_loss improved from 2.17232 to 2.08074, saving model to svnh_cnn_checkpoint_06_loss2.0807.h5\n",
            "74/74 [==============================] - 1s 13ms/step - loss: 2.3193 - accuracy: 0.1621 - val_loss: 2.0807 - val_accuracy: 0.2863\n",
            "Epoch 7/50\n",
            "71/74 [===========================>..] - ETA: 0s - loss: 2.2066 - accuracy: 0.2063\n",
            "Epoch 00007: val_loss improved from 2.08074 to 1.94568, saving model to svnh_cnn_checkpoint_07_loss1.9457.h5\n",
            "74/74 [==============================] - 1s 13ms/step - loss: 2.2037 - accuracy: 0.2073 - val_loss: 1.9457 - val_accuracy: 0.3433\n",
            "Epoch 8/50\n",
            "71/74 [===========================>..] - ETA: 0s - loss: 2.0619 - accuracy: 0.2609\n",
            "Epoch 00008: val_loss improved from 1.94568 to 1.79182, saving model to svnh_cnn_checkpoint_08_loss1.7918.h5\n",
            "74/74 [==============================] - 1s 13ms/step - loss: 2.0591 - accuracy: 0.2626 - val_loss: 1.7918 - val_accuracy: 0.3977\n",
            "Epoch 9/50\n",
            "71/74 [===========================>..] - ETA: 0s - loss: 1.9075 - accuracy: 0.3265\n",
            "Epoch 00009: val_loss improved from 1.79182 to 1.59351, saving model to svnh_cnn_checkpoint_09_loss1.5935.h5\n",
            "74/74 [==============================] - 1s 13ms/step - loss: 1.9049 - accuracy: 0.3274 - val_loss: 1.5935 - val_accuracy: 0.4731\n",
            "Epoch 10/50\n",
            "71/74 [===========================>..] - ETA: 0s - loss: 1.7355 - accuracy: 0.3962\n",
            "Epoch 00010: val_loss improved from 1.59351 to 1.39466, saving model to svnh_cnn_checkpoint_10_loss1.3947.h5\n",
            "74/74 [==============================] - 1s 13ms/step - loss: 1.7322 - accuracy: 0.3972 - val_loss: 1.3947 - val_accuracy: 0.5536\n",
            "Epoch 11/50\n",
            "71/74 [===========================>..] - ETA: 0s - loss: 1.5694 - accuracy: 0.4624\n",
            "Epoch 00011: val_loss improved from 1.39466 to 1.28205, saving model to svnh_cnn_checkpoint_11_loss1.2821.h5\n",
            "74/74 [==============================] - 1s 13ms/step - loss: 1.5672 - accuracy: 0.4633 - val_loss: 1.2821 - val_accuracy: 0.5760\n",
            "Epoch 12/50\n",
            "71/74 [===========================>..] - ETA: 0s - loss: 1.4308 - accuracy: 0.5149\n",
            "Epoch 00012: val_loss improved from 1.28205 to 1.11519, saving model to svnh_cnn_checkpoint_12_loss1.1152.h5\n",
            "74/74 [==============================] - 1s 13ms/step - loss: 1.4270 - accuracy: 0.5162 - val_loss: 1.1152 - val_accuracy: 0.6437\n",
            "Epoch 13/50\n",
            "71/74 [===========================>..] - ETA: 0s - loss: 1.3140 - accuracy: 0.5570\n",
            "Epoch 00013: val_loss improved from 1.11519 to 1.02110, saving model to svnh_cnn_checkpoint_13_loss1.0211.h5\n",
            "74/74 [==============================] - 1s 13ms/step - loss: 1.3114 - accuracy: 0.5578 - val_loss: 1.0211 - val_accuracy: 0.6747\n",
            "Epoch 14/50\n",
            "71/74 [===========================>..] - ETA: 0s - loss: 1.2148 - accuracy: 0.5928\n",
            "Epoch 00014: val_loss improved from 1.02110 to 0.89526, saving model to svnh_cnn_checkpoint_14_loss0.8953.h5\n",
            "74/74 [==============================] - 1s 14ms/step - loss: 1.2136 - accuracy: 0.5938 - val_loss: 0.8953 - val_accuracy: 0.7201\n",
            "Epoch 15/50\n",
            "71/74 [===========================>..] - ETA: 0s - loss: 1.1285 - accuracy: 0.6221\n",
            "Epoch 00015: val_loss improved from 0.89526 to 0.85430, saving model to svnh_cnn_checkpoint_15_loss0.8543.h5\n",
            "74/74 [==============================] - 1s 13ms/step - loss: 1.1286 - accuracy: 0.6220 - val_loss: 0.8543 - val_accuracy: 0.7322\n",
            "Epoch 16/50\n",
            "71/74 [===========================>..] - ETA: 0s - loss: 1.0720 - accuracy: 0.6417\n",
            "Epoch 00016: val_loss improved from 0.85430 to 0.78422, saving model to svnh_cnn_checkpoint_16_loss0.7842.h5\n",
            "74/74 [==============================] - 1s 13ms/step - loss: 1.0703 - accuracy: 0.6421 - val_loss: 0.7842 - val_accuracy: 0.7583\n",
            "Epoch 17/50\n",
            "71/74 [===========================>..] - ETA: 0s - loss: 1.0088 - accuracy: 0.6689\n",
            "Epoch 00017: val_loss improved from 0.78422 to 0.72394, saving model to svnh_cnn_checkpoint_17_loss0.7239.h5\n",
            "74/74 [==============================] - 1s 13ms/step - loss: 1.0082 - accuracy: 0.6687 - val_loss: 0.7239 - val_accuracy: 0.7813\n",
            "Epoch 18/50\n",
            "71/74 [===========================>..] - ETA: 0s - loss: 0.9627 - accuracy: 0.6825\n",
            "Epoch 00018: val_loss improved from 0.72394 to 0.68792, saving model to svnh_cnn_checkpoint_18_loss0.6879.h5\n",
            "74/74 [==============================] - 1s 13ms/step - loss: 0.9624 - accuracy: 0.6825 - val_loss: 0.6879 - val_accuracy: 0.7916\n",
            "Epoch 19/50\n",
            "71/74 [===========================>..] - ETA: 0s - loss: 0.9202 - accuracy: 0.6998\n",
            "Epoch 00019: val_loss improved from 0.68792 to 0.66750, saving model to svnh_cnn_checkpoint_19_loss0.6675.h5\n",
            "74/74 [==============================] - 1s 13ms/step - loss: 0.9185 - accuracy: 0.7001 - val_loss: 0.6675 - val_accuracy: 0.7977\n",
            "Epoch 20/50\n",
            "71/74 [===========================>..] - ETA: 0s - loss: 0.8882 - accuracy: 0.7078\n",
            "Epoch 00020: val_loss improved from 0.66750 to 0.63255, saving model to svnh_cnn_checkpoint_20_loss0.6325.h5\n",
            "74/74 [==============================] - 1s 13ms/step - loss: 0.8881 - accuracy: 0.7078 - val_loss: 0.6325 - val_accuracy: 0.8081\n",
            "Epoch 21/50\n",
            "71/74 [===========================>..] - ETA: 0s - loss: 0.8513 - accuracy: 0.7228\n",
            "Epoch 00021: val_loss improved from 0.63255 to 0.60963, saving model to svnh_cnn_checkpoint_21_loss0.6096.h5\n",
            "74/74 [==============================] - 1s 13ms/step - loss: 0.8526 - accuracy: 0.7225 - val_loss: 0.6096 - val_accuracy: 0.8151\n",
            "Epoch 22/50\n",
            "70/74 [===========================>..] - ETA: 0s - loss: 0.8208 - accuracy: 0.7337\n",
            "Epoch 00022: val_loss improved from 0.60963 to 0.59349, saving model to svnh_cnn_checkpoint_22_loss0.5935.h5\n",
            "74/74 [==============================] - 1s 13ms/step - loss: 0.8208 - accuracy: 0.7335 - val_loss: 0.5935 - val_accuracy: 0.8201\n",
            "Epoch 23/50\n",
            "71/74 [===========================>..] - ETA: 0s - loss: 0.7942 - accuracy: 0.7427\n",
            "Epoch 00023: val_loss improved from 0.59349 to 0.57511, saving model to svnh_cnn_checkpoint_23_loss0.5751.h5\n",
            "74/74 [==============================] - 1s 13ms/step - loss: 0.7935 - accuracy: 0.7431 - val_loss: 0.5751 - val_accuracy: 0.8248\n",
            "Epoch 24/50\n",
            "71/74 [===========================>..] - ETA: 0s - loss: 0.7736 - accuracy: 0.7465\n",
            "Epoch 00024: val_loss improved from 0.57511 to 0.55616, saving model to svnh_cnn_checkpoint_24_loss0.5562.h5\n",
            "74/74 [==============================] - 1s 13ms/step - loss: 0.7749 - accuracy: 0.7459 - val_loss: 0.5562 - val_accuracy: 0.8321\n",
            "Epoch 25/50\n",
            "71/74 [===========================>..] - ETA: 0s - loss: 0.7539 - accuracy: 0.7537\n",
            "Epoch 00025: val_loss improved from 0.55616 to 0.53866, saving model to svnh_cnn_checkpoint_25_loss0.5387.h5\n",
            "74/74 [==============================] - 1s 13ms/step - loss: 0.7529 - accuracy: 0.7539 - val_loss: 0.5387 - val_accuracy: 0.8371\n",
            "Epoch 26/50\n",
            "71/74 [===========================>..] - ETA: 0s - loss: 0.7295 - accuracy: 0.7633\n",
            "Epoch 00026: val_loss improved from 0.53866 to 0.52569, saving model to svnh_cnn_checkpoint_26_loss0.5257.h5\n",
            "74/74 [==============================] - 1s 13ms/step - loss: 0.7301 - accuracy: 0.7628 - val_loss: 0.5257 - val_accuracy: 0.8412\n",
            "Epoch 27/50\n",
            "71/74 [===========================>..] - ETA: 0s - loss: 0.7167 - accuracy: 0.7658\n",
            "Epoch 00027: val_loss improved from 0.52569 to 0.51803, saving model to svnh_cnn_checkpoint_27_loss0.5180.h5\n",
            "74/74 [==============================] - 1s 13ms/step - loss: 0.7180 - accuracy: 0.7659 - val_loss: 0.5180 - val_accuracy: 0.8424\n",
            "Epoch 28/50\n",
            "71/74 [===========================>..] - ETA: 0s - loss: 0.6990 - accuracy: 0.7756\n",
            "Epoch 00028: val_loss improved from 0.51803 to 0.50381, saving model to svnh_cnn_checkpoint_28_loss0.5038.h5\n",
            "74/74 [==============================] - 1s 13ms/step - loss: 0.6973 - accuracy: 0.7757 - val_loss: 0.5038 - val_accuracy: 0.8471\n",
            "Epoch 29/50\n",
            "71/74 [===========================>..] - ETA: 0s - loss: 0.6769 - accuracy: 0.7808\n",
            "Epoch 00029: val_loss improved from 0.50381 to 0.49631, saving model to svnh_cnn_checkpoint_29_loss0.4963.h5\n",
            "74/74 [==============================] - 1s 13ms/step - loss: 0.6765 - accuracy: 0.7812 - val_loss: 0.4963 - val_accuracy: 0.8496\n",
            "Epoch 30/50\n",
            "71/74 [===========================>..] - ETA: 0s - loss: 0.6601 - accuracy: 0.7865\n",
            "Epoch 00030: val_loss improved from 0.49631 to 0.48246, saving model to svnh_cnn_checkpoint_30_loss0.4825.h5\n",
            "74/74 [==============================] - 1s 13ms/step - loss: 0.6596 - accuracy: 0.7867 - val_loss: 0.4825 - val_accuracy: 0.8548\n",
            "Epoch 31/50\n",
            "72/74 [============================>.] - ETA: 0s - loss: 0.6447 - accuracy: 0.7894\n",
            "Epoch 00031: val_loss improved from 0.48246 to 0.47041, saving model to svnh_cnn_checkpoint_31_loss0.4704.h5\n",
            "74/74 [==============================] - 1s 13ms/step - loss: 0.6435 - accuracy: 0.7897 - val_loss: 0.4704 - val_accuracy: 0.8590\n",
            "Epoch 32/50\n",
            "71/74 [===========================>..] - ETA: 0s - loss: 0.6287 - accuracy: 0.7967\n",
            "Epoch 00032: val_loss improved from 0.47041 to 0.46425, saving model to svnh_cnn_checkpoint_32_loss0.4642.h5\n",
            "74/74 [==============================] - 1s 13ms/step - loss: 0.6308 - accuracy: 0.7964 - val_loss: 0.4642 - val_accuracy: 0.8598\n",
            "Epoch 33/50\n",
            "71/74 [===========================>..] - ETA: 0s - loss: 0.6148 - accuracy: 0.8001\n",
            "Epoch 00033: val_loss improved from 0.46425 to 0.45986, saving model to svnh_cnn_checkpoint_33_loss0.4599.h5\n",
            "74/74 [==============================] - 1s 13ms/step - loss: 0.6156 - accuracy: 0.8001 - val_loss: 0.4599 - val_accuracy: 0.8619\n",
            "Epoch 34/50\n",
            "71/74 [===========================>..] - ETA: 0s - loss: 0.5990 - accuracy: 0.8068\n",
            "Epoch 00034: val_loss improved from 0.45986 to 0.45246, saving model to svnh_cnn_checkpoint_34_loss0.4525.h5\n",
            "74/74 [==============================] - 1s 13ms/step - loss: 0.6038 - accuracy: 0.8059 - val_loss: 0.4525 - val_accuracy: 0.8647\n",
            "Epoch 35/50\n",
            "70/74 [===========================>..] - ETA: 0s - loss: 0.5960 - accuracy: 0.8092\n",
            "Epoch 00035: val_loss improved from 0.45246 to 0.43966, saving model to svnh_cnn_checkpoint_35_loss0.4397.h5\n",
            "74/74 [==============================] - 1s 13ms/step - loss: 0.5952 - accuracy: 0.8093 - val_loss: 0.4397 - val_accuracy: 0.8681\n",
            "Epoch 36/50\n",
            "71/74 [===========================>..] - ETA: 0s - loss: 0.5848 - accuracy: 0.8121\n",
            "Epoch 00036: val_loss improved from 0.43966 to 0.43716, saving model to svnh_cnn_checkpoint_36_loss0.4372.h5\n",
            "74/74 [==============================] - 1s 13ms/step - loss: 0.5836 - accuracy: 0.8124 - val_loss: 0.4372 - val_accuracy: 0.8681\n",
            "Epoch 37/50\n",
            "71/74 [===========================>..] - ETA: 0s - loss: 0.5727 - accuracy: 0.8153\n",
            "Epoch 00037: val_loss improved from 0.43716 to 0.42901, saving model to svnh_cnn_checkpoint_37_loss0.4290.h5\n",
            "74/74 [==============================] - 1s 14ms/step - loss: 0.5740 - accuracy: 0.8150 - val_loss: 0.4290 - val_accuracy: 0.8709\n",
            "Epoch 38/50\n",
            "72/74 [============================>.] - ETA: 0s - loss: 0.5590 - accuracy: 0.8191\n",
            "Epoch 00038: val_loss improved from 0.42901 to 0.42028, saving model to svnh_cnn_checkpoint_38_loss0.4203.h5\n",
            "74/74 [==============================] - 1s 13ms/step - loss: 0.5597 - accuracy: 0.8192 - val_loss: 0.4203 - val_accuracy: 0.8734\n",
            "Epoch 39/50\n",
            "70/74 [===========================>..] - ETA: 0s - loss: 0.5485 - accuracy: 0.8258\n",
            "Epoch 00039: val_loss improved from 0.42028 to 0.41174, saving model to svnh_cnn_checkpoint_39_loss0.4117.h5\n",
            "74/74 [==============================] - 1s 13ms/step - loss: 0.5486 - accuracy: 0.8256 - val_loss: 0.4117 - val_accuracy: 0.8763\n",
            "Epoch 40/50\n",
            "71/74 [===========================>..] - ETA: 0s - loss: 0.5367 - accuracy: 0.8279\n",
            "Epoch 00040: val_loss improved from 0.41174 to 0.40691, saving model to svnh_cnn_checkpoint_40_loss0.4069.h5\n",
            "74/74 [==============================] - 1s 13ms/step - loss: 0.5375 - accuracy: 0.8281 - val_loss: 0.4069 - val_accuracy: 0.8775\n",
            "Epoch 41/50\n",
            "71/74 [===========================>..] - ETA: 0s - loss: 0.5270 - accuracy: 0.8301\n",
            "Epoch 00041: val_loss improved from 0.40691 to 0.40170, saving model to svnh_cnn_checkpoint_41_loss0.4017.h5\n",
            "74/74 [==============================] - 1s 13ms/step - loss: 0.5278 - accuracy: 0.8299 - val_loss: 0.4017 - val_accuracy: 0.8788\n",
            "Epoch 42/50\n",
            "70/74 [===========================>..] - ETA: 0s - loss: 0.5191 - accuracy: 0.8319\n",
            "Epoch 00042: val_loss improved from 0.40170 to 0.39406, saving model to svnh_cnn_checkpoint_42_loss0.3941.h5\n",
            "74/74 [==============================] - 1s 13ms/step - loss: 0.5173 - accuracy: 0.8328 - val_loss: 0.3941 - val_accuracy: 0.8815\n",
            "Epoch 43/50\n",
            "71/74 [===========================>..] - ETA: 0s - loss: 0.5034 - accuracy: 0.8383\n",
            "Epoch 00043: val_loss improved from 0.39406 to 0.39293, saving model to svnh_cnn_checkpoint_43_loss0.3929.h5\n",
            "74/74 [==============================] - 1s 13ms/step - loss: 0.5056 - accuracy: 0.8372 - val_loss: 0.3929 - val_accuracy: 0.8818\n",
            "Epoch 44/50\n",
            "71/74 [===========================>..] - ETA: 0s - loss: 0.5030 - accuracy: 0.8380\n",
            "Epoch 00044: val_loss improved from 0.39293 to 0.38782, saving model to svnh_cnn_checkpoint_44_loss0.3878.h5\n",
            "74/74 [==============================] - 1s 13ms/step - loss: 0.5028 - accuracy: 0.8382 - val_loss: 0.3878 - val_accuracy: 0.8833\n",
            "Epoch 45/50\n",
            "71/74 [===========================>..] - ETA: 0s - loss: 0.4960 - accuracy: 0.8429\n",
            "Epoch 00045: val_loss improved from 0.38782 to 0.38132, saving model to svnh_cnn_checkpoint_45_loss0.3813.h5\n",
            "74/74 [==============================] - 1s 13ms/step - loss: 0.4949 - accuracy: 0.8434 - val_loss: 0.3813 - val_accuracy: 0.8847\n",
            "Epoch 46/50\n",
            "70/74 [===========================>..] - ETA: 0s - loss: 0.4899 - accuracy: 0.8427\n",
            "Epoch 00046: val_loss improved from 0.38132 to 0.37597, saving model to svnh_cnn_checkpoint_46_loss0.3760.h5\n",
            "74/74 [==============================] - 1s 14ms/step - loss: 0.4899 - accuracy: 0.8425 - val_loss: 0.3760 - val_accuracy: 0.8866\n",
            "Epoch 47/50\n",
            "71/74 [===========================>..] - ETA: 0s - loss: 0.4835 - accuracy: 0.8461\n",
            "Epoch 00047: val_loss improved from 0.37597 to 0.37468, saving model to svnh_cnn_checkpoint_47_loss0.3747.h5\n",
            "74/74 [==============================] - 1s 13ms/step - loss: 0.4842 - accuracy: 0.8458 - val_loss: 0.3747 - val_accuracy: 0.8874\n",
            "Epoch 48/50\n",
            "71/74 [===========================>..] - ETA: 0s - loss: 0.4715 - accuracy: 0.8481\n",
            "Epoch 00048: val_loss improved from 0.37468 to 0.36925, saving model to svnh_cnn_checkpoint_48_loss0.3693.h5\n",
            "74/74 [==============================] - 1s 13ms/step - loss: 0.4712 - accuracy: 0.8480 - val_loss: 0.3693 - val_accuracy: 0.8884\n",
            "Epoch 49/50\n",
            "71/74 [===========================>..] - ETA: 0s - loss: 0.4659 - accuracy: 0.8513\n",
            "Epoch 00049: val_loss improved from 0.36925 to 0.36556, saving model to svnh_cnn_checkpoint_49_loss0.3656.h5\n",
            "74/74 [==============================] - 1s 14ms/step - loss: 0.4652 - accuracy: 0.8511 - val_loss: 0.3656 - val_accuracy: 0.8898\n",
            "Epoch 50/50\n",
            "71/74 [===========================>..] - ETA: 0s - loss: 0.4575 - accuracy: 0.8539\n",
            "Epoch 00050: val_loss improved from 0.36556 to 0.36043, saving model to svnh_cnn_checkpoint_50_loss0.3604.h5\n",
            "74/74 [==============================] - 1s 13ms/step - loss: 0.4573 - accuracy: 0.8544 - val_loss: 0.3604 - val_accuracy: 0.8917\n"
          ],
          "name": "stdout"
        }
      ]
    },
    {
      "cell_type": "code",
      "metadata": {
        "id": "2-bgF6oCy2C-",
        "outputId": "829e9287-e4d6-44ac-8c70-5cb8de0047c9",
        "colab": {
          "base_uri": "https://localhost:8080/",
          "height": 34
        }
      },
      "source": [
        "results = model.evaluate(val_X, val_y)"
      ],
      "execution_count": null,
      "outputs": [
        {
          "output_type": "stream",
          "text": [
            "132/132 [==============================] - 0s 3ms/step - loss: 0.3511 - accuracy: 0.8917\n"
          ],
          "name": "stdout"
        }
      ]
    },
    {
      "cell_type": "code",
      "metadata": {
        "id": "gCc5sO-1y2I4",
        "outputId": "16832896-3f13-4f3d-bc9b-ec61a4986e58",
        "colab": {
          "base_uri": "https://localhost:8080/",
          "height": 351
        }
      },
      "source": [
        "model_val_loss = history.history['val_loss']\n",
        "model_train_loss = history.history['loss']\n",
        "model_val_acc = history.history['val_accuracy']\n",
        "model_train_acc = history.history['accuracy']\n",
        "\n",
        "\n",
        "epochs = range(1,51)\n",
        "plt.figure(figsize=(10,5))\n",
        "plt.subplot(1,2,1)\n",
        "plt.plot(epochs, model_val_loss, 'b', label='Validation Loss')\n",
        "plt.plot(epochs, model_train_loss, 'r', label='Training Loss')\n",
        "plt.xlabel('Epochs')\n",
        "plt.ylabel('Loss')\n",
        "plt.legend()\n",
        "\n",
        "plt.subplot(1,2,2)\n",
        "plt.plot(epochs, model_val_acc, 'b', label='Validation Acc')\n",
        "plt.plot(epochs, model_train_acc, 'r', label='Training Acc')\n",
        "plt.xlabel('Epochs')\n",
        "plt.ylabel('Accuracy')\n",
        "plt.legend()"
      ],
      "execution_count": null,
      "outputs": [
        {
          "output_type": "execute_result",
          "data": {
            "text/plain": [
              "<matplotlib.legend.Legend at 0x7f32a40fc7b8>"
            ]
          },
          "metadata": {
            "tags": []
          },
          "execution_count": 102
        },
        {
          "output_type": "display_data",
          "data": {
            "image/png": "[encoded data removed]",
            "text/plain": [
              "<Figure size 720x360 with 2 Axes>"
            ]
          },
          "metadata": {
            "tags": [],
            "needs_background": "light"
          }
        }
      ]
    },
    {
      "cell_type": "markdown",
      "metadata": {
        "id": "b9rUscRP-ou2"
      },
      "source": [
        "## Much improved performance . Increase the kernel size of the first layer and increase the learning rate and compare"
      ]
    },
    {
      "cell_type": "code",
      "metadata": {
        "id": "HHFuopVgy2G-",
        "outputId": "677344df-9314-4b4c-daeb-5da11caee450",
        "colab": {
          "base_uri": "https://localhost:8080/",
          "height": 722
        }
      },
      "source": [
        "model = Sequential()\n",
        "model.add(Conv2D(64, kernel_size=(5,5), input_shape=(32,32,1), activation='relu', kernel_initializer='he_normal', padding='same'))\n",
        "model.add(MaxPool2D(pool_size=(3,3)))\n",
        "model.add(Dropout(0.1))\n",
        "\n",
        "model.add(Conv2D(64, kernel_size=(3,3), activation='relu', kernel_initializer='he_normal', padding='same'))\n",
        "model.add(MaxPool2D(pool_size=(2,2)))\n",
        "model.add(Dropout(0.1))\n",
        "\n",
        "model.add(Conv2D(32, kernel_size=(3,3), activation='relu', kernel_initializer='he_normal', padding='same'))\n",
        "model.add(MaxPool2D(pool_size=(2,2)))\n",
        "model.add(Dropout(0.1))\n",
        "\n",
        "model.add(Flatten())\n",
        "model.add(Dropout(0.1))\n",
        "\n",
        "model.add(Dense(512, activation='relu', kernel_initializer='he_normal'))\n",
        "model.add(BatchNormalization())\n",
        "model.add(Dropout(0.1))\n",
        "\n",
        "model.add(Dense(128, activation='relu', kernel_initializer='he_normal'))\n",
        "model.add(Dropout(0.1))\n",
        "\n",
        "model.add(Dense(10, activation='softmax'))\n",
        "\n",
        "model.summary()"
      ],
      "execution_count": null,
      "outputs": [
        {
          "output_type": "stream",
          "text": [
            "Model: \"sequential_9\"\n",
            "_________________________________________________________________\n",
            "Layer (type)                 Output Shape              Param #   \n",
            "=================================================================\n",
            "conv2d_24 (Conv2D)           (None, 32, 32, 64)        1664      \n",
            "_________________________________________________________________\n",
            "max_pooling2d_24 (MaxPooling (None, 10, 10, 64)        0         \n",
            "_________________________________________________________________\n",
            "dropout_40 (Dropout)         (None, 10, 10, 64)        0         \n",
            "_________________________________________________________________\n",
            "conv2d_25 (Conv2D)           (None, 10, 10, 64)        36928     \n",
            "_________________________________________________________________\n",
            "max_pooling2d_25 (MaxPooling (None, 5, 5, 64)          0         \n",
            "_________________________________________________________________\n",
            "dropout_41 (Dropout)         (None, 5, 5, 64)          0         \n",
            "_________________________________________________________________\n",
            "conv2d_26 (Conv2D)           (None, 5, 5, 32)          18464     \n",
            "_________________________________________________________________\n",
            "max_pooling2d_26 (MaxPooling (None, 2, 2, 32)          0         \n",
            "_________________________________________________________________\n",
            "dropout_42 (Dropout)         (None, 2, 2, 32)          0         \n",
            "_________________________________________________________________\n",
            "flatten_9 (Flatten)          (None, 128)               0         \n",
            "_________________________________________________________________\n",
            "dropout_43 (Dropout)         (None, 128)               0         \n",
            "_________________________________________________________________\n",
            "dense_23 (Dense)             (None, 512)               66048     \n",
            "_________________________________________________________________\n",
            "batch_normalization_6 (Batch (None, 512)               2048      \n",
            "_________________________________________________________________\n",
            "dropout_44 (Dropout)         (None, 512)               0         \n",
            "_________________________________________________________________\n",
            "dense_24 (Dense)             (None, 128)               65664     \n",
            "_________________________________________________________________\n",
            "dropout_45 (Dropout)         (None, 128)               0         \n",
            "_________________________________________________________________\n",
            "dense_25 (Dense)             (None, 10)                1290      \n",
            "=================================================================\n",
            "Total params: 192,106\n",
            "Trainable params: 191,082\n",
            "Non-trainable params: 1,024\n",
            "_________________________________________________________________\n"
          ],
          "name": "stdout"
        }
      ]
    },
    {
      "cell_type": "code",
      "metadata": {
        "id": "srnhpiqly2BD"
      },
      "source": [
        "opt= optimizers.Adam(learning_rate=0.001)\n",
        "model.compile(optimizer = opt, loss='categorical_crossentropy', metrics=['accuracy'])"
      ],
      "execution_count": null,
      "outputs": []
    },
    {
      "cell_type": "code",
      "metadata": {
        "id": "mP2YErFN3Ife",
        "outputId": "d50a5790-385a-4465-c783-0fcc01b2cdbd",
        "colab": {
          "base_uri": "https://localhost:8080/",
          "height": 1000
        }
      },
      "source": [
        "history = model.fit(train_X, train_y, epochs=50,batch_size=1024 ,validation_data=(test_X, test_y), callbacks=[tensorboard,early_stopping, model_checkpoint])"
      ],
      "execution_count": null,
      "outputs": [
        {
          "output_type": "stream",
          "text": [
            "Epoch 1/50\n",
            " 2/37 [>.............................] - ETA: 1s - loss: 3.0025 - accuracy: 0.0898WARNING:tensorflow:Callbacks method `on_train_batch_end` is slow compared to the batch time (batch time: 0.0121s vs `on_train_batch_end` time: 0.0988s). Check your callbacks.\n",
            "37/37 [==============================] - ETA: 0s - loss: 2.5897 - accuracy: 0.1030\n",
            "Epoch 00001: val_loss did not improve from 0.36043\n",
            "37/37 [==============================] - 1s 25ms/step - loss: 2.5897 - accuracy: 0.1030 - val_loss: 2.2823 - val_accuracy: 0.1323\n",
            "Epoch 2/50\n",
            "37/37 [==============================] - ETA: 0s - loss: 2.0855 - accuracy: 0.2527\n",
            "Epoch 00002: val_loss did not improve from 0.36043\n",
            "37/37 [==============================] - 1s 18ms/step - loss: 2.0855 - accuracy: 0.2527 - val_loss: 1.9681 - val_accuracy: 0.4135\n",
            "Epoch 3/50\n",
            "37/37 [==============================] - ETA: 0s - loss: 1.3672 - accuracy: 0.5296\n",
            "Epoch 00003: val_loss did not improve from 0.36043\n",
            "37/37 [==============================] - 1s 18ms/step - loss: 1.3672 - accuracy: 0.5296 - val_loss: 1.5167 - val_accuracy: 0.6442\n",
            "Epoch 4/50\n",
            "37/37 [==============================] - ETA: 0s - loss: 0.9801 - accuracy: 0.6714\n",
            "Epoch 00004: val_loss did not improve from 0.36043\n",
            "37/37 [==============================] - 1s 18ms/step - loss: 0.9801 - accuracy: 0.6714 - val_loss: 1.1689 - val_accuracy: 0.7707\n",
            "Epoch 5/50\n",
            "37/37 [==============================] - ETA: 0s - loss: 0.7799 - accuracy: 0.7454\n",
            "Epoch 00005: val_loss did not improve from 0.36043\n",
            "37/37 [==============================] - 1s 19ms/step - loss: 0.7799 - accuracy: 0.7454 - val_loss: 0.9205 - val_accuracy: 0.8163\n",
            "Epoch 6/50\n",
            "36/37 [============================>.] - ETA: 0s - loss: 0.6744 - accuracy: 0.7810\n",
            "Epoch 00006: val_loss did not improve from 0.36043\n",
            "37/37 [==============================] - 1s 19ms/step - loss: 0.6727 - accuracy: 0.7817 - val_loss: 0.7465 - val_accuracy: 0.8514\n",
            "Epoch 7/50\n",
            "37/37 [==============================] - ETA: 0s - loss: 0.5992 - accuracy: 0.8058\n",
            "Epoch 00007: val_loss did not improve from 0.36043\n",
            "37/37 [==============================] - 1s 19ms/step - loss: 0.5992 - accuracy: 0.8058 - val_loss: 0.6332 - val_accuracy: 0.8561\n",
            "Epoch 8/50\n",
            "36/37 [============================>.] - ETA: 0s - loss: 0.5519 - accuracy: 0.8235\n",
            "Epoch 00008: val_loss did not improve from 0.36043\n",
            "37/37 [==============================] - 1s 19ms/step - loss: 0.5519 - accuracy: 0.8235 - val_loss: 0.5198 - val_accuracy: 0.8713\n",
            "Epoch 9/50\n",
            "35/37 [===========================>..] - ETA: 0s - loss: 0.5144 - accuracy: 0.8357\n",
            "Epoch 00009: val_loss did not improve from 0.36043\n",
            "37/37 [==============================] - 1s 19ms/step - loss: 0.5158 - accuracy: 0.8350 - val_loss: 0.4735 - val_accuracy: 0.8739\n",
            "Epoch 10/50\n",
            "36/37 [============================>.] - ETA: 0s - loss: 0.4890 - accuracy: 0.8430\n",
            "Epoch 00010: val_loss did not improve from 0.36043\n",
            "37/37 [==============================] - 1s 19ms/step - loss: 0.4907 - accuracy: 0.8425 - val_loss: 0.4122 - val_accuracy: 0.8829\n",
            "Epoch 11/50\n",
            "37/37 [==============================] - ETA: 0s - loss: 0.4676 - accuracy: 0.8520\n",
            "Epoch 00011: val_loss did not improve from 0.36043\n",
            "37/37 [==============================] - 1s 19ms/step - loss: 0.4676 - accuracy: 0.8520 - val_loss: 0.3783 - val_accuracy: 0.8870\n",
            "Epoch 12/50\n",
            "36/37 [============================>.] - ETA: 0s - loss: 0.4473 - accuracy: 0.8585\n",
            "Epoch 00012: val_loss improved from 0.36043 to 0.35547, saving model to svnh_cnn_checkpoint_12_loss0.3555.h5\n",
            "37/37 [==============================] - 1s 20ms/step - loss: 0.4481 - accuracy: 0.8583 - val_loss: 0.3555 - val_accuracy: 0.8923\n",
            "Epoch 13/50\n",
            "36/37 [============================>.] - ETA: 0s - loss: 0.4298 - accuracy: 0.8643\n",
            "Epoch 00013: val_loss improved from 0.35547 to 0.35118, saving model to svnh_cnn_checkpoint_13_loss0.3512.h5\n",
            "37/37 [==============================] - 1s 20ms/step - loss: 0.4301 - accuracy: 0.8643 - val_loss: 0.3512 - val_accuracy: 0.8909\n",
            "Epoch 14/50\n",
            "37/37 [==============================] - ETA: 0s - loss: 0.4225 - accuracy: 0.8652\n",
            "Epoch 00014: val_loss improved from 0.35118 to 0.32670, saving model to svnh_cnn_checkpoint_14_loss0.3267.h5\n",
            "37/37 [==============================] - 1s 20ms/step - loss: 0.4225 - accuracy: 0.8652 - val_loss: 0.3267 - val_accuracy: 0.8971\n",
            "Epoch 15/50\n",
            "37/37 [==============================] - ETA: 0s - loss: 0.3995 - accuracy: 0.8726\n",
            "Epoch 00015: val_loss improved from 0.32670 to 0.32663, saving model to svnh_cnn_checkpoint_15_loss0.3266.h5\n",
            "37/37 [==============================] - 1s 20ms/step - loss: 0.3995 - accuracy: 0.8726 - val_loss: 0.3266 - val_accuracy: 0.8958\n",
            "Epoch 16/50\n",
            "37/37 [==============================] - ETA: 0s - loss: 0.3835 - accuracy: 0.8779\n",
            "Epoch 00016: val_loss improved from 0.32663 to 0.30962, saving model to svnh_cnn_checkpoint_16_loss0.3096.h5\n",
            "37/37 [==============================] - 1s 20ms/step - loss: 0.3835 - accuracy: 0.8779 - val_loss: 0.3096 - val_accuracy: 0.9034\n",
            "Epoch 17/50\n",
            "37/37 [==============================] - ETA: 0s - loss: 0.3749 - accuracy: 0.8813\n",
            "Epoch 00017: val_loss did not improve from 0.30962\n",
            "37/37 [==============================] - 1s 19ms/step - loss: 0.3749 - accuracy: 0.8813 - val_loss: 0.3187 - val_accuracy: 0.8992\n",
            "Epoch 18/50\n",
            "37/37 [==============================] - ETA: 0s - loss: 0.3664 - accuracy: 0.8848\n",
            "Epoch 00018: val_loss improved from 0.30962 to 0.30916, saving model to svnh_cnn_checkpoint_18_loss0.3092.h5\n",
            "37/37 [==============================] - 1s 19ms/step - loss: 0.3664 - accuracy: 0.8848 - val_loss: 0.3092 - val_accuracy: 0.9028\n",
            "Epoch 19/50\n",
            "36/37 [============================>.] - ETA: 0s - loss: 0.3566 - accuracy: 0.8866\n",
            "Epoch 00019: val_loss improved from 0.30916 to 0.30135, saving model to svnh_cnn_checkpoint_19_loss0.3014.h5\n",
            "37/37 [==============================] - 1s 19ms/step - loss: 0.3570 - accuracy: 0.8861 - val_loss: 0.3014 - val_accuracy: 0.9073\n",
            "Epoch 20/50\n",
            "37/37 [==============================] - ETA: 0s - loss: 0.3461 - accuracy: 0.8879\n",
            "Epoch 00020: val_loss improved from 0.30135 to 0.29210, saving model to svnh_cnn_checkpoint_20_loss0.2921.h5\n",
            "37/37 [==============================] - 1s 19ms/step - loss: 0.3461 - accuracy: 0.8879 - val_loss: 0.2921 - val_accuracy: 0.9093\n",
            "Epoch 21/50\n",
            "36/37 [============================>.] - ETA: 0s - loss: 0.3458 - accuracy: 0.8903\n",
            "Epoch 00021: val_loss improved from 0.29210 to 0.29160, saving model to svnh_cnn_checkpoint_21_loss0.2916.h5\n",
            "37/37 [==============================] - 1s 19ms/step - loss: 0.3449 - accuracy: 0.8903 - val_loss: 0.2916 - val_accuracy: 0.9120\n",
            "Epoch 22/50\n",
            "37/37 [==============================] - ETA: 0s - loss: 0.3350 - accuracy: 0.8942\n",
            "Epoch 00022: val_loss did not improve from 0.29160\n",
            "37/37 [==============================] - 1s 18ms/step - loss: 0.3350 - accuracy: 0.8942 - val_loss: 0.2923 - val_accuracy: 0.9113\n",
            "Epoch 23/50\n",
            "37/37 [==============================] - ETA: 0s - loss: 0.3296 - accuracy: 0.8968\n",
            "Epoch 00023: val_loss improved from 0.29160 to 0.28839, saving model to svnh_cnn_checkpoint_23_loss0.2884.h5\n",
            "37/37 [==============================] - 1s 19ms/step - loss: 0.3296 - accuracy: 0.8968 - val_loss: 0.2884 - val_accuracy: 0.9121\n",
            "Epoch 24/50\n",
            "37/37 [==============================] - ETA: 0s - loss: 0.3199 - accuracy: 0.9001\n",
            "Epoch 00024: val_loss did not improve from 0.28839\n",
            "37/37 [==============================] - 1s 19ms/step - loss: 0.3199 - accuracy: 0.9001 - val_loss: 0.2902 - val_accuracy: 0.9104\n",
            "Epoch 25/50\n",
            "37/37 [==============================] - ETA: 0s - loss: 0.3149 - accuracy: 0.8997\n",
            "Epoch 00025: val_loss improved from 0.28839 to 0.28198, saving model to svnh_cnn_checkpoint_25_loss0.2820.h5\n",
            "37/37 [==============================] - 1s 19ms/step - loss: 0.3149 - accuracy: 0.8997 - val_loss: 0.2820 - val_accuracy: 0.9146\n",
            "Epoch 26/50\n",
            "36/37 [============================>.] - ETA: 0s - loss: 0.3091 - accuracy: 0.9014\n",
            "Epoch 00026: val_loss did not improve from 0.28198\n",
            "37/37 [==============================] - 1s 18ms/step - loss: 0.3099 - accuracy: 0.9010 - val_loss: 0.2827 - val_accuracy: 0.9138\n",
            "Epoch 27/50\n",
            "37/37 [==============================] - ETA: 0s - loss: 0.2981 - accuracy: 0.9055\n",
            "Epoch 00027: val_loss improved from 0.28198 to 0.27368, saving model to svnh_cnn_checkpoint_27_loss0.2737.h5\n",
            "37/37 [==============================] - 1s 19ms/step - loss: 0.2981 - accuracy: 0.9055 - val_loss: 0.2737 - val_accuracy: 0.9191\n",
            "Epoch 28/50\n",
            "37/37 [==============================] - ETA: 0s - loss: 0.2893 - accuracy: 0.9085\n",
            "Epoch 00028: val_loss did not improve from 0.27368\n",
            "37/37 [==============================] - 1s 18ms/step - loss: 0.2893 - accuracy: 0.9085 - val_loss: 0.2826 - val_accuracy: 0.9136\n",
            "Epoch 29/50\n",
            "36/37 [============================>.] - ETA: 0s - loss: 0.2890 - accuracy: 0.9074\n",
            "Epoch 00029: val_loss did not improve from 0.27368\n",
            "37/37 [==============================] - 1s 19ms/step - loss: 0.2889 - accuracy: 0.9074 - val_loss: 0.2823 - val_accuracy: 0.9167\n",
            "Epoch 30/50\n",
            "37/37 [==============================] - ETA: 0s - loss: 0.2866 - accuracy: 0.9080\n",
            "Epoch 00030: val_loss did not improve from 0.27368\n",
            "37/37 [==============================] - 1s 18ms/step - loss: 0.2866 - accuracy: 0.9080 - val_loss: 0.2856 - val_accuracy: 0.9122\n",
            "Epoch 31/50\n",
            "37/37 [==============================] - ETA: 0s - loss: 0.2778 - accuracy: 0.9121\n",
            "Epoch 00031: val_loss improved from 0.27368 to 0.26691, saving model to svnh_cnn_checkpoint_31_loss0.2669.h5\n",
            "37/37 [==============================] - 1s 19ms/step - loss: 0.2778 - accuracy: 0.9121 - val_loss: 0.2669 - val_accuracy: 0.9211\n",
            "Epoch 32/50\n",
            "37/37 [==============================] - ETA: 0s - loss: 0.2786 - accuracy: 0.9118\n",
            "Epoch 00032: val_loss did not improve from 0.26691\n",
            "37/37 [==============================] - 1s 18ms/step - loss: 0.2786 - accuracy: 0.9118 - val_loss: 0.2711 - val_accuracy: 0.9205\n",
            "Epoch 33/50\n",
            "36/37 [============================>.] - ETA: 0s - loss: 0.2704 - accuracy: 0.9151\n",
            "Epoch 00033: val_loss did not improve from 0.26691\n",
            "37/37 [==============================] - 1s 18ms/step - loss: 0.2702 - accuracy: 0.9151 - val_loss: 0.2759 - val_accuracy: 0.9165\n",
            "Epoch 34/50\n",
            "37/37 [==============================] - ETA: 0s - loss: 0.2692 - accuracy: 0.9154\n",
            "Epoch 00034: val_loss did not improve from 0.26691\n",
            "37/37 [==============================] - 1s 18ms/step - loss: 0.2692 - accuracy: 0.9154 - val_loss: 0.2721 - val_accuracy: 0.9177\n",
            "Epoch 35/50\n",
            "37/37 [==============================] - ETA: 0s - loss: 0.2613 - accuracy: 0.9168\n",
            "Epoch 00035: val_loss did not improve from 0.26691\n",
            "37/37 [==============================] - 1s 18ms/step - loss: 0.2613 - accuracy: 0.9168 - val_loss: 0.2710 - val_accuracy: 0.9188\n",
            "Epoch 36/50\n",
            "37/37 [==============================] - ETA: 0s - loss: 0.2600 - accuracy: 0.9171\n",
            "Epoch 00036: val_loss did not improve from 0.26691\n",
            "37/37 [==============================] - 1s 18ms/step - loss: 0.2600 - accuracy: 0.9171 - val_loss: 0.2672 - val_accuracy: 0.9226\n",
            "Epoch 37/50\n",
            "37/37 [==============================] - ETA: 0s - loss: 0.2551 - accuracy: 0.9185\n",
            "Epoch 00037: val_loss did not improve from 0.26691\n",
            "37/37 [==============================] - 1s 18ms/step - loss: 0.2551 - accuracy: 0.9185 - val_loss: 0.2728 - val_accuracy: 0.9208\n",
            "Epoch 38/50\n",
            "37/37 [==============================] - ETA: 0s - loss: 0.2520 - accuracy: 0.9197\n",
            "Epoch 00038: val_loss did not improve from 0.26691\n",
            "37/37 [==============================] - 1s 18ms/step - loss: 0.2520 - accuracy: 0.9197 - val_loss: 0.2775 - val_accuracy: 0.9207\n",
            "Epoch 39/50\n",
            "37/37 [==============================] - ETA: 0s - loss: 0.2529 - accuracy: 0.9181\n",
            "Epoch 00039: val_loss improved from 0.26691 to 0.26291, saving model to svnh_cnn_checkpoint_39_loss0.2629.h5\n",
            "37/37 [==============================] - 1s 19ms/step - loss: 0.2529 - accuracy: 0.9181 - val_loss: 0.2629 - val_accuracy: 0.9232\n",
            "Epoch 40/50\n",
            "37/37 [==============================] - ETA: 0s - loss: 0.2464 - accuracy: 0.9213\n",
            "Epoch 00040: val_loss improved from 0.26291 to 0.25803, saving model to svnh_cnn_checkpoint_40_loss0.2580.h5\n",
            "37/37 [==============================] - 1s 19ms/step - loss: 0.2464 - accuracy: 0.9213 - val_loss: 0.2580 - val_accuracy: 0.9252\n",
            "Epoch 41/50\n",
            "37/37 [==============================] - ETA: 0s - loss: 0.2440 - accuracy: 0.9225\n",
            "Epoch 00041: val_loss improved from 0.25803 to 0.25763, saving model to svnh_cnn_checkpoint_41_loss0.2576.h5\n",
            "37/37 [==============================] - 1s 19ms/step - loss: 0.2440 - accuracy: 0.9225 - val_loss: 0.2576 - val_accuracy: 0.9249\n",
            "Epoch 42/50\n",
            "37/37 [==============================] - ETA: 0s - loss: 0.2415 - accuracy: 0.9226\n",
            "Epoch 00042: val_loss did not improve from 0.25763\n",
            "37/37 [==============================] - 1s 18ms/step - loss: 0.2415 - accuracy: 0.9226 - val_loss: 0.2603 - val_accuracy: 0.9252\n",
            "Epoch 43/50\n",
            "36/37 [============================>.] - ETA: 0s - loss: 0.2357 - accuracy: 0.9238\n",
            "Epoch 00043: val_loss improved from 0.25763 to 0.25505, saving model to svnh_cnn_checkpoint_43_loss0.2550.h5\n",
            "37/37 [==============================] - 1s 19ms/step - loss: 0.2367 - accuracy: 0.9236 - val_loss: 0.2550 - val_accuracy: 0.9270\n",
            "Epoch 44/50\n",
            "37/37 [==============================] - ETA: 0s - loss: 0.2319 - accuracy: 0.9251\n",
            "Epoch 00044: val_loss did not improve from 0.25505\n",
            "37/37 [==============================] - 1s 18ms/step - loss: 0.2319 - accuracy: 0.9251 - val_loss: 0.2760 - val_accuracy: 0.9199\n",
            "Epoch 45/50\n",
            "37/37 [==============================] - ETA: 0s - loss: 0.2344 - accuracy: 0.9251\n",
            "Epoch 00045: val_loss did not improve from 0.25505\n",
            "37/37 [==============================] - 1s 18ms/step - loss: 0.2344 - accuracy: 0.9251 - val_loss: 0.2617 - val_accuracy: 0.9242\n",
            "Epoch 46/50\n",
            "37/37 [==============================] - ETA: 0s - loss: 0.2255 - accuracy: 0.9282\n",
            "Epoch 00046: val_loss did not improve from 0.25505\n",
            "37/37 [==============================] - 1s 18ms/step - loss: 0.2255 - accuracy: 0.9282 - val_loss: 0.2693 - val_accuracy: 0.9218\n",
            "Epoch 47/50\n",
            "37/37 [==============================] - ETA: 0s - loss: 0.2229 - accuracy: 0.9281\n",
            "Epoch 00047: val_loss did not improve from 0.25505\n",
            "37/37 [==============================] - 1s 18ms/step - loss: 0.2229 - accuracy: 0.9281 - val_loss: 0.2588 - val_accuracy: 0.9249\n",
            "Epoch 48/50\n",
            "37/37 [==============================] - ETA: 0s - loss: 0.2216 - accuracy: 0.9278\n",
            "Epoch 00048: val_loss did not improve from 0.25505\n",
            "37/37 [==============================] - 1s 18ms/step - loss: 0.2216 - accuracy: 0.9278 - val_loss: 0.2621 - val_accuracy: 0.9254\n",
            "Epoch 49/50\n",
            "36/37 [============================>.] - ETA: 0s - loss: 0.2274 - accuracy: 0.9258\n",
            "Epoch 00049: val_loss did not improve from 0.25505\n",
            "37/37 [==============================] - 1s 18ms/step - loss: 0.2271 - accuracy: 0.9258 - val_loss: 0.2632 - val_accuracy: 0.9247\n",
            "Epoch 50/50\n",
            "36/37 [============================>.] - ETA: 0s - loss: 0.2220 - accuracy: 0.9287\n",
            "Epoch 00050: val_loss did not improve from 0.25505\n",
            "37/37 [==============================] - 1s 18ms/step - loss: 0.2212 - accuracy: 0.9289 - val_loss: 0.2607 - val_accuracy: 0.9267\n"
          ],
          "name": "stdout"
        }
      ]
    },
    {
      "cell_type": "code",
      "metadata": {
        "id": "qJtJmM6N3Iob",
        "outputId": "85923828-cf47-4c34-e174-dc56c54c43cd",
        "colab": {
          "base_uri": "https://localhost:8080/",
          "height": 34
        }
      },
      "source": [
        "results = model.evaluate(val_X, val_y)"
      ],
      "execution_count": null,
      "outputs": [
        {
          "output_type": "stream",
          "text": [
            "132/132 [==============================] - 0s 3ms/step - loss: 0.2484 - accuracy: 0.9286\n"
          ],
          "name": "stdout"
        }
      ]
    },
    {
      "cell_type": "markdown",
      "metadata": {
        "id": "dJ-eNEmp_Lt1"
      },
      "source": [
        "## We see Improved performance"
      ]
    },
    {
      "cell_type": "code",
      "metadata": {
        "id": "WPEwzB3h5tJF",
        "outputId": "de631867-6472-4e50-d645-20b9ead3c85a",
        "colab": {
          "base_uri": "https://localhost:8080/",
          "height": 351
        }
      },
      "source": [
        "model_val_loss = history.history['val_loss']\n",
        "model_train_loss = history.history['loss']\n",
        "model_val_acc = history.history['val_accuracy']\n",
        "model_train_acc = history.history['accuracy']\n",
        "\n",
        "\n",
        "epochs = range(1,51)\n",
        "plt.figure(figsize=(10,5))\n",
        "plt.subplot(1,2,1)\n",
        "plt.plot(epochs, model_val_loss, 'b', label='Validation Loss')\n",
        "plt.plot(epochs, model_train_loss, 'r', label='Training Loss')\n",
        "plt.xlabel('Epochs')\n",
        "plt.ylabel('Loss')\n",
        "plt.legend()\n",
        "\n",
        "plt.subplot(1,2,2)\n",
        "plt.plot(epochs, model_val_acc, 'b', label='Validation Acc')\n",
        "plt.plot(epochs, model_train_acc, 'r', label='Training Acc')\n",
        "plt.xlabel('Epochs')\n",
        "plt.ylabel('Accuracy')\n",
        "plt.legend()"
      ],
      "execution_count": null,
      "outputs": [
        {
          "output_type": "execute_result",
          "data": {
            "text/plain": [
              "<matplotlib.legend.Legend at 0x7f328b13a828>"
            ]
          },
          "metadata": {
            "tags": []
          },
          "execution_count": 108
        },
        {
          "output_type": "display_data",
          "data": {
            "image/png": "[encoded data removed]",
            "text/plain": [
              "<Figure size 720x360 with 2 Axes>"
            ]
          },
          "metadata": {
            "tags": [],
            "needs_background": "light"
          }
        }
      ]
    },
    {
      "cell_type": "markdown",
      "metadata": {
        "id": "j_VQ_07C_hPM"
      },
      "source": [
        "## Replace Relu with leaky relu and compare performance"
      ]
    },
    {
      "cell_type": "code",
      "metadata": {
        "id": "8rZKmgiu5tWS"
      },
      "source": [
        "from keras.layers import LeakyReLU"
      ],
      "execution_count": null,
      "outputs": []
    },
    {
      "cell_type": "code",
      "metadata": {
        "id": "7Ai4Gxf3_f0Y",
        "outputId": "b0ae24e6-cb18-4421-bbc1-2d410077e82a",
        "colab": {
          "base_uri": "https://localhost:8080/",
          "height": 890
        }
      },
      "source": [
        "model = Sequential()\n",
        "model.add(Conv2D(64, kernel_size=(5,5), input_shape=(32,32,1), kernel_initializer='he_normal', padding='same'))\n",
        "model.add(LeakyReLU(alpha=0.1))\n",
        "model.add(MaxPool2D(pool_size=(3,3)))\n",
        "model.add(Dropout(0.1))\n",
        "\n",
        "model.add(Conv2D(64, kernel_size=(3,3), kernel_initializer='he_normal', padding='same'))\n",
        "model.add(LeakyReLU(alpha=0.1))\n",
        "model.add(MaxPool2D(pool_size=(2,2)))\n",
        "model.add(Dropout(0.1))\n",
        "\n",
        "model.add(Conv2D(32, kernel_size=(3,3), kernel_initializer='he_normal', padding='same'))\n",
        "model.add(LeakyReLU(alpha=0.1))\n",
        "model.add(MaxPool2D(pool_size=(2,2)))\n",
        "model.add(Dropout(0.1))\n",
        "\n",
        "model.add(Flatten())\n",
        "model.add(Dropout(0.1))\n",
        "\n",
        "model.add(Dense(512, kernel_initializer='he_normal'))\n",
        "model.add(LeakyReLU(alpha=0.1))\n",
        "model.add(BatchNormalization())\n",
        "model.add(Dropout(0.1))\n",
        "\n",
        "model.add(Dense(128, kernel_initializer='he_normal'))\n",
        "model.add(LeakyReLU(alpha=0.1))\n",
        "model.add(Dropout(0.1))\n",
        "\n",
        "model.add(Dense(10, activation='softmax'))\n",
        "\n",
        "model.summary()"
      ],
      "execution_count": null,
      "outputs": [
        {
          "output_type": "stream",
          "text": [
            "Model: \"sequential_10\"\n",
            "_________________________________________________________________\n",
            "Layer (type)                 Output Shape              Param #   \n",
            "=================================================================\n",
            "conv2d_27 (Conv2D)           (None, 32, 32, 64)        1664      \n",
            "_________________________________________________________________\n",
            "leaky_re_lu (LeakyReLU)      (None, 32, 32, 64)        0         \n",
            "_________________________________________________________________\n",
            "max_pooling2d_27 (MaxPooling (None, 10, 10, 64)        0         \n",
            "_________________________________________________________________\n",
            "dropout_46 (Dropout)         (None, 10, 10, 64)        0         \n",
            "_________________________________________________________________\n",
            "conv2d_28 (Conv2D)           (None, 10, 10, 64)        36928     \n",
            "_________________________________________________________________\n",
            "leaky_re_lu_1 (LeakyReLU)    (None, 10, 10, 64)        0         \n",
            "_________________________________________________________________\n",
            "max_pooling2d_28 (MaxPooling (None, 5, 5, 64)          0         \n",
            "_________________________________________________________________\n",
            "dropout_47 (Dropout)         (None, 5, 5, 64)          0         \n",
            "_________________________________________________________________\n",
            "conv2d_29 (Conv2D)           (None, 5, 5, 32)          18464     \n",
            "_________________________________________________________________\n",
            "leaky_re_lu_2 (LeakyReLU)    (None, 5, 5, 32)          0         \n",
            "_________________________________________________________________\n",
            "max_pooling2d_29 (MaxPooling (None, 2, 2, 32)          0         \n",
            "_________________________________________________________________\n",
            "dropout_48 (Dropout)         (None, 2, 2, 32)          0         \n",
            "_________________________________________________________________\n",
            "flatten_10 (Flatten)         (None, 128)               0         \n",
            "_________________________________________________________________\n",
            "dropout_49 (Dropout)         (None, 128)               0         \n",
            "_________________________________________________________________\n",
            "dense_26 (Dense)             (None, 512)               66048     \n",
            "_________________________________________________________________\n",
            "leaky_re_lu_3 (LeakyReLU)    (None, 512)               0         \n",
            "_________________________________________________________________\n",
            "batch_normalization_7 (Batch (None, 512)               2048      \n",
            "_________________________________________________________________\n",
            "dropout_50 (Dropout)         (None, 512)               0         \n",
            "_________________________________________________________________\n",
            "dense_27 (Dense)             (None, 128)               65664     \n",
            "_________________________________________________________________\n",
            "leaky_re_lu_4 (LeakyReLU)    (None, 128)               0         \n",
            "_________________________________________________________________\n",
            "dropout_51 (Dropout)         (None, 128)               0         \n",
            "_________________________________________________________________\n",
            "dense_28 (Dense)             (None, 10)                1290      \n",
            "=================================================================\n",
            "Total params: 192,106\n",
            "Trainable params: 191,082\n",
            "Non-trainable params: 1,024\n",
            "_________________________________________________________________\n"
          ],
          "name": "stdout"
        }
      ]
    },
    {
      "cell_type": "code",
      "metadata": {
        "id": "7DheMcgL_f32"
      },
      "source": [
        "opt= optimizers.Adam(learning_rate=0.001)\n",
        "model.compile(optimizer = opt, loss='categorical_crossentropy', metrics=['accuracy'])"
      ],
      "execution_count": null,
      "outputs": []
    },
    {
      "cell_type": "code",
      "metadata": {
        "id": "sAaK9Vxm_f_H",
        "outputId": "29c7ac87-9c30-42cb-fa05-24f93e8083af",
        "colab": {
          "base_uri": "https://localhost:8080/",
          "height": 1000
        }
      },
      "source": [
        "history = model.fit(train_X, train_y, epochs=50,batch_size=1024 ,validation_data=(test_X, test_y), callbacks=[tensorboard,early_stopping, model_checkpoint])"
      ],
      "execution_count": null,
      "outputs": [
        {
          "output_type": "stream",
          "text": [
            "Epoch 1/50\n",
            " 2/37 [>.............................] - ETA: 2s - loss: 3.5950 - accuracy: 0.1050WARNING:tensorflow:Callbacks method `on_train_batch_end` is slow compared to the batch time (batch time: 0.0170s vs `on_train_batch_end` time: 0.0978s). Check your callbacks.\n",
            "37/37 [==============================] - ETA: 0s - loss: 2.6874 - accuracy: 0.1020\n",
            "Epoch 00001: val_loss did not improve from 0.25505\n",
            "37/37 [==============================] - 1s 30ms/step - loss: 2.6874 - accuracy: 0.1020 - val_loss: 2.4646 - val_accuracy: 0.1033\n",
            "Epoch 2/50\n",
            "37/37 [==============================] - ETA: 0s - loss: 2.4018 - accuracy: 0.1088\n",
            "Epoch 00002: val_loss did not improve from 0.25505\n",
            "37/37 [==============================] - 1s 22ms/step - loss: 2.4018 - accuracy: 0.1088 - val_loss: 2.2595 - val_accuracy: 0.1808\n",
            "Epoch 3/50\n",
            "37/37 [==============================] - ETA: 0s - loss: 1.9350 - accuracy: 0.3091\n",
            "Epoch 00003: val_loss did not improve from 0.25505\n",
            "37/37 [==============================] - 1s 22ms/step - loss: 1.9350 - accuracy: 0.3091 - val_loss: 1.8020 - val_accuracy: 0.4525\n",
            "Epoch 4/50\n",
            "37/37 [==============================] - ETA: 0s - loss: 1.1776 - accuracy: 0.6062\n",
            "Epoch 00004: val_loss did not improve from 0.25505\n",
            "37/37 [==============================] - 1s 23ms/step - loss: 1.1776 - accuracy: 0.6062 - val_loss: 1.3764 - val_accuracy: 0.5514\n",
            "Epoch 5/50\n",
            "37/37 [==============================] - ETA: 0s - loss: 0.8737 - accuracy: 0.7147\n",
            "Epoch 00005: val_loss did not improve from 0.25505\n",
            "37/37 [==============================] - 1s 23ms/step - loss: 0.8737 - accuracy: 0.7147 - val_loss: 1.1575 - val_accuracy: 0.6243\n",
            "Epoch 6/50\n",
            "37/37 [==============================] - ETA: 0s - loss: 0.7201 - accuracy: 0.7662\n",
            "Epoch 00006: val_loss did not improve from 0.25505\n",
            "37/37 [==============================] - 1s 23ms/step - loss: 0.7201 - accuracy: 0.7662 - val_loss: 0.8625 - val_accuracy: 0.7781\n",
            "Epoch 7/50\n",
            "37/37 [==============================] - ETA: 0s - loss: 0.6417 - accuracy: 0.7931\n",
            "Epoch 00007: val_loss did not improve from 0.25505\n",
            "37/37 [==============================] - 1s 24ms/step - loss: 0.6417 - accuracy: 0.7931 - val_loss: 0.7741 - val_accuracy: 0.8036\n",
            "Epoch 8/50\n",
            "37/37 [==============================] - ETA: 0s - loss: 0.5847 - accuracy: 0.8122\n",
            "Epoch 00008: val_loss did not improve from 0.25505\n",
            "37/37 [==============================] - 1s 23ms/step - loss: 0.5847 - accuracy: 0.8122 - val_loss: 0.5788 - val_accuracy: 0.8590\n",
            "Epoch 9/50\n",
            "37/37 [==============================] - ETA: 0s - loss: 0.5370 - accuracy: 0.8275\n",
            "Epoch 00009: val_loss did not improve from 0.25505\n",
            "37/37 [==============================] - 1s 23ms/step - loss: 0.5370 - accuracy: 0.8275 - val_loss: 0.5513 - val_accuracy: 0.8558\n",
            "Epoch 10/50\n",
            "37/37 [==============================] - ETA: 0s - loss: 0.4985 - accuracy: 0.8415\n",
            "Epoch 00010: val_loss did not improve from 0.25505\n",
            "37/37 [==============================] - 1s 23ms/step - loss: 0.4985 - accuracy: 0.8415 - val_loss: 0.4591 - val_accuracy: 0.8757\n",
            "Epoch 11/50\n",
            "37/37 [==============================] - ETA: 0s - loss: 0.4657 - accuracy: 0.8513\n",
            "Epoch 00011: val_loss did not improve from 0.25505\n",
            "37/37 [==============================] - 1s 23ms/step - loss: 0.4657 - accuracy: 0.8513 - val_loss: 0.4050 - val_accuracy: 0.8784\n",
            "Epoch 12/50\n",
            "37/37 [==============================] - ETA: 0s - loss: 0.4504 - accuracy: 0.8575\n",
            "Epoch 00012: val_loss did not improve from 0.25505\n",
            "37/37 [==============================] - 1s 23ms/step - loss: 0.4504 - accuracy: 0.8575 - val_loss: 0.3862 - val_accuracy: 0.8892\n",
            "Epoch 13/50\n",
            "37/37 [==============================] - ETA: 0s - loss: 0.4295 - accuracy: 0.8657\n",
            "Epoch 00013: val_loss did not improve from 0.25505\n",
            "37/37 [==============================] - 1s 23ms/step - loss: 0.4295 - accuracy: 0.8657 - val_loss: 0.3526 - val_accuracy: 0.8923\n",
            "Epoch 14/50\n",
            "37/37 [==============================] - ETA: 0s - loss: 0.4128 - accuracy: 0.8684\n",
            "Epoch 00014: val_loss did not improve from 0.25505\n",
            "37/37 [==============================] - 1s 23ms/step - loss: 0.4128 - accuracy: 0.8684 - val_loss: 0.3530 - val_accuracy: 0.8943\n",
            "Epoch 15/50\n",
            "37/37 [==============================] - ETA: 0s - loss: 0.3952 - accuracy: 0.8757\n",
            "Epoch 00015: val_loss did not improve from 0.25505\n",
            "37/37 [==============================] - 1s 23ms/step - loss: 0.3952 - accuracy: 0.8757 - val_loss: 0.3271 - val_accuracy: 0.9012\n",
            "Epoch 16/50\n",
            "37/37 [==============================] - ETA: 0s - loss: 0.3820 - accuracy: 0.8807\n",
            "Epoch 00016: val_loss did not improve from 0.25505\n",
            "37/37 [==============================] - 1s 23ms/step - loss: 0.3820 - accuracy: 0.8807 - val_loss: 0.3187 - val_accuracy: 0.9037\n",
            "Epoch 17/50\n",
            "37/37 [==============================] - ETA: 0s - loss: 0.3618 - accuracy: 0.8846\n",
            "Epoch 00017: val_loss did not improve from 0.25505\n",
            "37/37 [==============================] - 1s 23ms/step - loss: 0.3618 - accuracy: 0.8846 - val_loss: 0.3074 - val_accuracy: 0.9055\n",
            "Epoch 18/50\n",
            "37/37 [==============================] - ETA: 0s - loss: 0.3539 - accuracy: 0.8881\n",
            "Epoch 00018: val_loss did not improve from 0.25505\n",
            "37/37 [==============================] - 1s 23ms/step - loss: 0.3539 - accuracy: 0.8881 - val_loss: 0.3092 - val_accuracy: 0.9063\n",
            "Epoch 19/50\n",
            "37/37 [==============================] - ETA: 0s - loss: 0.3521 - accuracy: 0.8893\n",
            "Epoch 00019: val_loss did not improve from 0.25505\n",
            "37/37 [==============================] - 1s 23ms/step - loss: 0.3521 - accuracy: 0.8893 - val_loss: 0.3018 - val_accuracy: 0.9067\n",
            "Epoch 20/50\n",
            "37/37 [==============================] - ETA: 0s - loss: 0.3400 - accuracy: 0.8934\n",
            "Epoch 00020: val_loss did not improve from 0.25505\n",
            "37/37 [==============================] - 1s 23ms/step - loss: 0.3400 - accuracy: 0.8934 - val_loss: 0.2993 - val_accuracy: 0.9101\n",
            "Epoch 21/50\n",
            "37/37 [==============================] - ETA: 0s - loss: 0.3285 - accuracy: 0.8963\n",
            "Epoch 00021: val_loss did not improve from 0.25505\n",
            "37/37 [==============================] - 1s 22ms/step - loss: 0.3285 - accuracy: 0.8963 - val_loss: 0.3064 - val_accuracy: 0.9059\n",
            "Epoch 22/50\n",
            "37/37 [==============================] - ETA: 0s - loss: 0.3223 - accuracy: 0.8980\n",
            "Epoch 00022: val_loss did not improve from 0.25505\n",
            "37/37 [==============================] - 1s 22ms/step - loss: 0.3223 - accuracy: 0.8980 - val_loss: 0.2895 - val_accuracy: 0.9131\n",
            "Epoch 23/50\n",
            "37/37 [==============================] - ETA: 0s - loss: 0.3152 - accuracy: 0.9005\n",
            "Epoch 00023: val_loss did not improve from 0.25505\n",
            "37/37 [==============================] - 1s 22ms/step - loss: 0.3152 - accuracy: 0.9005 - val_loss: 0.2840 - val_accuracy: 0.9132\n",
            "Epoch 24/50\n",
            "37/37 [==============================] - ETA: 0s - loss: 0.3043 - accuracy: 0.9034\n",
            "Epoch 00024: val_loss did not improve from 0.25505\n",
            "37/37 [==============================] - 1s 22ms/step - loss: 0.3043 - accuracy: 0.9034 - val_loss: 0.2821 - val_accuracy: 0.9153\n",
            "Epoch 25/50\n",
            "37/37 [==============================] - ETA: 0s - loss: 0.3049 - accuracy: 0.9048\n",
            "Epoch 00025: val_loss did not improve from 0.25505\n",
            "37/37 [==============================] - 1s 22ms/step - loss: 0.3049 - accuracy: 0.9048 - val_loss: 0.2771 - val_accuracy: 0.9168\n",
            "Epoch 26/50\n",
            "37/37 [==============================] - ETA: 0s - loss: 0.2987 - accuracy: 0.9060\n",
            "Epoch 00026: val_loss did not improve from 0.25505\n",
            "37/37 [==============================] - 1s 22ms/step - loss: 0.2987 - accuracy: 0.9060 - val_loss: 0.2751 - val_accuracy: 0.9179\n",
            "Epoch 27/50\n",
            "37/37 [==============================] - ETA: 0s - loss: 0.2873 - accuracy: 0.9093\n",
            "Epoch 00027: val_loss did not improve from 0.25505\n",
            "37/37 [==============================] - 1s 22ms/step - loss: 0.2873 - accuracy: 0.9093 - val_loss: 0.2691 - val_accuracy: 0.9220\n",
            "Epoch 28/50\n",
            "37/37 [==============================] - ETA: 0s - loss: 0.2821 - accuracy: 0.9098\n",
            "Epoch 00028: val_loss did not improve from 0.25505\n",
            "37/37 [==============================] - 1s 22ms/step - loss: 0.2821 - accuracy: 0.9098 - val_loss: 0.2792 - val_accuracy: 0.9178\n",
            "Epoch 29/50\n",
            "37/37 [==============================] - ETA: 0s - loss: 0.2807 - accuracy: 0.9121\n",
            "Epoch 00029: val_loss did not improve from 0.25505\n",
            "37/37 [==============================] - 1s 22ms/step - loss: 0.2807 - accuracy: 0.9121 - val_loss: 0.2729 - val_accuracy: 0.9176\n",
            "Epoch 30/50\n",
            "37/37 [==============================] - ETA: 0s - loss: 0.2726 - accuracy: 0.9136\n",
            "Epoch 00030: val_loss did not improve from 0.25505\n",
            "37/37 [==============================] - 1s 22ms/step - loss: 0.2726 - accuracy: 0.9136 - val_loss: 0.2622 - val_accuracy: 0.9229\n",
            "Epoch 31/50\n",
            "37/37 [==============================] - ETA: 0s - loss: 0.2659 - accuracy: 0.9140\n",
            "Epoch 00031: val_loss did not improve from 0.25505\n",
            "37/37 [==============================] - 1s 22ms/step - loss: 0.2659 - accuracy: 0.9140 - val_loss: 0.2671 - val_accuracy: 0.9215\n",
            "Epoch 32/50\n",
            "37/37 [==============================] - ETA: 0s - loss: 0.2636 - accuracy: 0.9150\n",
            "Epoch 00032: val_loss did not improve from 0.25505\n",
            "37/37 [==============================] - 1s 22ms/step - loss: 0.2636 - accuracy: 0.9150 - val_loss: 0.2663 - val_accuracy: 0.9212\n",
            "Epoch 33/50\n",
            "37/37 [==============================] - ETA: 0s - loss: 0.2619 - accuracy: 0.9181\n",
            "Epoch 00033: val_loss did not improve from 0.25505\n",
            "37/37 [==============================] - 1s 22ms/step - loss: 0.2619 - accuracy: 0.9181 - val_loss: 0.2710 - val_accuracy: 0.9199\n",
            "Epoch 34/50\n",
            "37/37 [==============================] - ETA: 0s - loss: 0.2548 - accuracy: 0.9194\n",
            "Epoch 00034: val_loss did not improve from 0.25505\n",
            "37/37 [==============================] - 1s 22ms/step - loss: 0.2548 - accuracy: 0.9194 - val_loss: 0.2617 - val_accuracy: 0.9238\n",
            "Epoch 35/50\n",
            "37/37 [==============================] - ETA: 0s - loss: 0.2531 - accuracy: 0.9188\n",
            "Epoch 00035: val_loss did not improve from 0.25505\n",
            "37/37 [==============================] - 1s 22ms/step - loss: 0.2531 - accuracy: 0.9188 - val_loss: 0.2616 - val_accuracy: 0.9237\n",
            "Epoch 36/50\n",
            "37/37 [==============================] - ETA: 0s - loss: 0.2506 - accuracy: 0.9209\n",
            "Epoch 00036: val_loss did not improve from 0.25505\n",
            "37/37 [==============================] - 1s 22ms/step - loss: 0.2506 - accuracy: 0.9209 - val_loss: 0.2690 - val_accuracy: 0.9223\n",
            "Epoch 37/50\n",
            "37/37 [==============================] - ETA: 0s - loss: 0.2427 - accuracy: 0.9231\n",
            "Epoch 00037: val_loss did not improve from 0.25505\n",
            "37/37 [==============================] - 1s 22ms/step - loss: 0.2427 - accuracy: 0.9231 - val_loss: 0.2676 - val_accuracy: 0.9213\n",
            "Epoch 38/50\n",
            "37/37 [==============================] - ETA: 0s - loss: 0.2404 - accuracy: 0.9237\n",
            "Epoch 00038: val_loss did not improve from 0.25505\n",
            "37/37 [==============================] - 1s 22ms/step - loss: 0.2404 - accuracy: 0.9237 - val_loss: 0.2587 - val_accuracy: 0.9252\n",
            "Epoch 39/50\n",
            "37/37 [==============================] - ETA: 0s - loss: 0.2393 - accuracy: 0.9244\n",
            "Epoch 00039: val_loss did not improve from 0.25505\n",
            "37/37 [==============================] - 1s 22ms/step - loss: 0.2393 - accuracy: 0.9244 - val_loss: 0.2748 - val_accuracy: 0.9197\n",
            "Epoch 40/50\n",
            "37/37 [==============================] - ETA: 0s - loss: 0.2397 - accuracy: 0.9241\n",
            "Epoch 00040: val_loss did not improve from 0.25505\n",
            "37/37 [==============================] - 1s 22ms/step - loss: 0.2397 - accuracy: 0.9241 - val_loss: 0.2562 - val_accuracy: 0.9263\n",
            "Epoch 41/50\n",
            "37/37 [==============================] - ETA: 0s - loss: 0.2301 - accuracy: 0.9279\n",
            "Epoch 00041: val_loss did not improve from 0.25505\n",
            "37/37 [==============================] - 1s 22ms/step - loss: 0.2301 - accuracy: 0.9279 - val_loss: 0.2561 - val_accuracy: 0.9249\n",
            "Epoch 42/50\n",
            "37/37 [==============================] - ETA: 0s - loss: 0.2272 - accuracy: 0.9270\n",
            "Epoch 00042: val_loss improved from 0.25505 to 0.25312, saving model to svnh_cnn_checkpoint_42_loss0.2531.h5\n",
            "37/37 [==============================] - 1s 23ms/step - loss: 0.2272 - accuracy: 0.9270 - val_loss: 0.2531 - val_accuracy: 0.9269\n",
            "Epoch 43/50\n",
            "37/37 [==============================] - ETA: 0s - loss: 0.2244 - accuracy: 0.9282\n",
            "Epoch 00043: val_loss did not improve from 0.25312\n",
            "37/37 [==============================] - 1s 22ms/step - loss: 0.2244 - accuracy: 0.9282 - val_loss: 0.2567 - val_accuracy: 0.9266\n",
            "Epoch 44/50\n",
            "37/37 [==============================] - ETA: 0s - loss: 0.2219 - accuracy: 0.9283\n",
            "Epoch 00044: val_loss did not improve from 0.25312\n",
            "37/37 [==============================] - 1s 22ms/step - loss: 0.2219 - accuracy: 0.9283 - val_loss: 0.2627 - val_accuracy: 0.9238\n",
            "Epoch 45/50\n",
            "37/37 [==============================] - ETA: 0s - loss: 0.2224 - accuracy: 0.9290\n",
            "Epoch 00045: val_loss did not improve from 0.25312\n",
            "37/37 [==============================] - 1s 23ms/step - loss: 0.2224 - accuracy: 0.9290 - val_loss: 0.2554 - val_accuracy: 0.9258\n",
            "Epoch 46/50\n",
            "37/37 [==============================] - ETA: 0s - loss: 0.2136 - accuracy: 0.9328\n",
            "Epoch 00046: val_loss did not improve from 0.25312\n",
            "37/37 [==============================] - 1s 23ms/step - loss: 0.2136 - accuracy: 0.9328 - val_loss: 0.2571 - val_accuracy: 0.9266\n",
            "Epoch 47/50\n",
            "37/37 [==============================] - ETA: 0s - loss: 0.2150 - accuracy: 0.9315\n",
            "Epoch 00047: val_loss did not improve from 0.25312\n",
            "37/37 [==============================] - 1s 23ms/step - loss: 0.2150 - accuracy: 0.9315 - val_loss: 0.2614 - val_accuracy: 0.9253\n",
            "Epoch 48/50\n",
            "37/37 [==============================] - ETA: 0s - loss: 0.2134 - accuracy: 0.9315\n",
            "Epoch 00048: val_loss improved from 0.25312 to 0.25264, saving model to svnh_cnn_checkpoint_48_loss0.2526.h5\n",
            "37/37 [==============================] - 1s 23ms/step - loss: 0.2134 - accuracy: 0.9315 - val_loss: 0.2526 - val_accuracy: 0.9276\n",
            "Epoch 49/50\n",
            "37/37 [==============================] - ETA: 0s - loss: 0.2156 - accuracy: 0.9305\n",
            "Epoch 00049: val_loss did not improve from 0.25264\n",
            "37/37 [==============================] - 1s 22ms/step - loss: 0.2156 - accuracy: 0.9305 - val_loss: 0.2561 - val_accuracy: 0.9279\n",
            "Epoch 50/50\n",
            "37/37 [==============================] - ETA: 0s - loss: 0.2077 - accuracy: 0.9334\n",
            "Epoch 00050: val_loss did not improve from 0.25264\n",
            "37/37 [==============================] - 1s 22ms/step - loss: 0.2077 - accuracy: 0.9334 - val_loss: 0.2629 - val_accuracy: 0.9237\n"
          ],
          "name": "stdout"
        }
      ]
    },
    {
      "cell_type": "code",
      "metadata": {
        "id": "naSSjUX-_gEx",
        "outputId": "897591e1-c2ee-4ccc-a58a-04e99dee9ab6",
        "colab": {
          "base_uri": "https://localhost:8080/",
          "height": 34
        }
      },
      "source": [
        "results = model.evaluate(val_X, val_y)"
      ],
      "execution_count": null,
      "outputs": [
        {
          "output_type": "stream",
          "text": [
            "132/132 [==============================] - 0s 3ms/step - loss: 0.2659 - accuracy: 0.9212\n"
          ],
          "name": "stdout"
        }
      ]
    },
    {
      "cell_type": "code",
      "metadata": {
        "id": "v8YLvRDr_gQC"
      },
      "source": [
        ""
      ],
      "execution_count": null,
      "outputs": []
    },
    {
      "cell_type": "markdown",
      "metadata": {
        "id": "lQZHS6mh_VN0"
      },
      "source": [
        "## No noticeable difference with introduction of leaky relu.\n",
        "### Introduce some noise during training and compare the performance\n",
        "\n",
        "This is to introduce regularization in the training to prevent overfitting.\n",
        "\n",
        "Regularization can be done by addition of noise to training data.\n",
        "Noise Regularization in Keras Keras supports the addition of noise to models via the GaussianNoise layer.\n",
        "\n",
        "This is a layer that will add noise to inputs of a given shape. The noise has a mean of zero and requires that a standard deviation of the noise be specified as a parameter"
      ]
    },
    {
      "cell_type": "code",
      "metadata": {
        "id": "B6MuZwyZBYRX"
      },
      "source": [
        "from keras.layers import GaussianNoise"
      ],
      "execution_count": null,
      "outputs": []
    },
    {
      "cell_type": "code",
      "metadata": {
        "id": "8A8A9MAJCr9r",
        "outputId": "bffeff1b-7ff3-4f05-ee3f-45f0f8bfe0f1",
        "colab": {
          "base_uri": "https://localhost:8080/",
          "height": 34
        }
      },
      "source": [
        "#Adding Early stopping callback to the fit function is going to stop the training,\n",
        "#if the val_loss is not going to change even '0.001' for more than 10 continous epochs\n",
        "\n",
        "early_stopping = EarlyStopping(monitor='val_loss', min_delta=0.001, patience=10)\n",
        "\n",
        "#Adding Model Checkpoint callback to the fit function is going to save the weights whenever val_loss achieves a new low value. \n",
        "#Hence saving the best weights occurred during training\n",
        "\n",
        "model_checkpoint =  ModelCheckpoint('svnh_cnn_checkpoint_{epoch:02d}_loss{val_loss:.4f}.h5',\n",
        "                                                           monitor='val_loss',\n",
        "                                                           verbose=1,\n",
        "                                                           save_best_only=True,\n",
        "                                                           save_weights_only=True,\n",
        "                                                           mode='auto',\n",
        "                                                           period=1)"
      ],
      "execution_count": null,
      "outputs": [
        {
          "output_type": "stream",
          "text": [
            "WARNING:tensorflow:`period` argument is deprecated. Please use `save_freq` to specify the frequency in number of batches seen.\n"
          ],
          "name": "stdout"
        }
      ]
    },
    {
      "cell_type": "code",
      "metadata": {
        "id": "6jtj6Ock_gNG",
        "outputId": "cf1cd261-d45a-426b-9f34-342c70de7d3b",
        "colab": {
          "base_uri": "https://localhost:8080/",
          "height": 1000
        }
      },
      "source": [
        "model = Sequential()\n",
        "model.add(Conv2D(64, kernel_size=(5,5), input_shape=(32,32,1), activation='relu', kernel_initializer='he_normal', padding='same'))\n",
        "model.add(MaxPool2D(pool_size=(3,3)))\n",
        "model.add(Dropout(0.1))\n",
        "model.add(GaussianNoise(0.1))\n",
        "\n",
        "model.add(Conv2D(64, kernel_size=(3,3), activation='relu', kernel_initializer='he_normal', padding='same'))\n",
        "model.add(MaxPool2D(pool_size=(2,2)))\n",
        "model.add(Dropout(0.1))\n",
        "model.add(GaussianNoise(0.1))\n",
        "\n",
        "model.add(Conv2D(32, kernel_size=(3,3), activation='relu', kernel_initializer='he_normal', padding='same'))\n",
        "model.add(MaxPool2D(pool_size=(2,2)))\n",
        "model.add(Dropout(0.1))\n",
        "model.add(GaussianNoise(0.1))\n",
        "\n",
        "model.add(Flatten())\n",
        "model.add(Dropout(0.1))\n",
        "\n",
        "model.add(Dense(512, activation='relu', kernel_initializer='he_normal'))\n",
        "model.add(BatchNormalization())\n",
        "model.add(Dropout(0.1))\n",
        "model.add(GaussianNoise(0.1))\n",
        "\n",
        "model.add(Dense(128, activation='relu', kernel_initializer='he_normal'))\n",
        "model.add(Dropout(0.1))\n",
        "model.add(GaussianNoise(0.1))\n",
        "\n",
        "model.add(Dense(10, activation='softmax'))\n",
        "\n",
        "opt= optimizers.Adam(learning_rate=0.001)\n",
        "model.compile(optimizer = opt, loss='categorical_crossentropy', metrics=['accuracy'])\n",
        "\n",
        "history = model.fit(train_X, train_y, epochs=50,batch_size=1024 ,validation_data=(test_X, test_y), callbacks=[tensorboard,early_stopping, model_checkpoint])"
      ],
      "execution_count": null,
      "outputs": [
        {
          "output_type": "stream",
          "text": [
            "Epoch 1/50\n",
            " 2/37 [>.............................] - ETA: 2s - loss: 2.8975 - accuracy: 0.1035WARNING:tensorflow:Callbacks method `on_train_batch_end` is slow compared to the batch time (batch time: 0.0152s vs `on_train_batch_end` time: 0.1134s). Check your callbacks.\n",
            "35/37 [===========================>..] - ETA: 0s - loss: 2.6111 - accuracy: 0.1040\n",
            "Epoch 00001: val_loss did not improve from 0.73919\n",
            "37/37 [==============================] - 1s 28ms/step - loss: 2.6044 - accuracy: 0.1043 - val_loss: 2.3477 - val_accuracy: 0.1045\n",
            "Epoch 2/50\n",
            "34/37 [==========================>...] - ETA: 0s - loss: 2.4293 - accuracy: 0.1038\n",
            "Epoch 00002: val_loss did not improve from 0.73919\n",
            "37/37 [==============================] - 1s 19ms/step - loss: 2.4258 - accuracy: 0.1048 - val_loss: 2.3013 - val_accuracy: 0.1177\n",
            "Epoch 3/50\n",
            "37/37 [==============================] - ETA: 0s - loss: 2.3589 - accuracy: 0.1165\n",
            "Epoch 00003: val_loss did not improve from 0.73919\n",
            "37/37 [==============================] - 1s 19ms/step - loss: 2.3589 - accuracy: 0.1165 - val_loss: 2.2535 - val_accuracy: 0.1603\n",
            "Epoch 4/50\n",
            "37/37 [==============================] - ETA: 0s - loss: 2.2090 - accuracy: 0.1873\n",
            "Epoch 00004: val_loss did not improve from 0.73919\n",
            "37/37 [==============================] - 1s 19ms/step - loss: 2.2090 - accuracy: 0.1873 - val_loss: 1.9676 - val_accuracy: 0.3371\n",
            "Epoch 5/50\n",
            "37/37 [==============================] - ETA: 0s - loss: 1.7581 - accuracy: 0.3819\n",
            "Epoch 00005: val_loss did not improve from 0.73919\n",
            "37/37 [==============================] - 1s 19ms/step - loss: 1.7581 - accuracy: 0.3819 - val_loss: 1.5018 - val_accuracy: 0.4887\n",
            "Epoch 6/50\n",
            "36/37 [============================>.] - ETA: 0s - loss: 1.3807 - accuracy: 0.5265\n",
            "Epoch 00006: val_loss did not improve from 0.73919\n",
            "37/37 [==============================] - 1s 19ms/step - loss: 1.3786 - accuracy: 0.5271 - val_loss: 1.0585 - val_accuracy: 0.6501\n",
            "Epoch 7/50\n",
            "36/37 [============================>.] - ETA: 0s - loss: 1.1671 - accuracy: 0.6034\n",
            "Epoch 00007: val_loss did not improve from 0.73919\n",
            "37/37 [==============================] - 1s 19ms/step - loss: 1.1659 - accuracy: 0.6035 - val_loss: 0.8521 - val_accuracy: 0.7237\n",
            "Epoch 8/50\n",
            "37/37 [==============================] - ETA: 0s - loss: 1.0350 - accuracy: 0.6536\n",
            "Epoch 00008: val_loss improved from 0.73919 to 0.71517, saving model to svnh_cnn_checkpoint_08_loss0.7152.h5\n",
            "37/37 [==============================] - 1s 19ms/step - loss: 1.0350 - accuracy: 0.6536 - val_loss: 0.7152 - val_accuracy: 0.7723\n",
            "Epoch 9/50\n",
            "36/37 [============================>.] - ETA: 0s - loss: 0.9435 - accuracy: 0.6865\n",
            "Epoch 00009: val_loss improved from 0.71517 to 0.63646, saving model to svnh_cnn_checkpoint_09_loss0.6365.h5\n",
            "37/37 [==============================] - 1s 20ms/step - loss: 0.9437 - accuracy: 0.6866 - val_loss: 0.6365 - val_accuracy: 0.7983\n",
            "Epoch 10/50\n",
            "37/37 [==============================] - ETA: 0s - loss: 0.8722 - accuracy: 0.7110\n",
            "Epoch 00010: val_loss improved from 0.63646 to 0.57287, saving model to svnh_cnn_checkpoint_10_loss0.5729.h5\n",
            "37/37 [==============================] - 1s 19ms/step - loss: 0.8722 - accuracy: 0.7110 - val_loss: 0.5729 - val_accuracy: 0.8189\n",
            "Epoch 11/50\n",
            "37/37 [==============================] - ETA: 0s - loss: 0.8068 - accuracy: 0.7365\n",
            "Epoch 00011: val_loss improved from 0.57287 to 0.53169, saving model to svnh_cnn_checkpoint_11_loss0.5317.h5\n",
            "37/37 [==============================] - 1s 19ms/step - loss: 0.8068 - accuracy: 0.7365 - val_loss: 0.5317 - val_accuracy: 0.8338\n",
            "Epoch 12/50\n",
            "37/37 [==============================] - ETA: 0s - loss: 0.7561 - accuracy: 0.7526\n",
            "Epoch 00012: val_loss improved from 0.53169 to 0.50909, saving model to svnh_cnn_checkpoint_12_loss0.5091.h5\n",
            "37/37 [==============================] - 1s 19ms/step - loss: 0.7561 - accuracy: 0.7526 - val_loss: 0.5091 - val_accuracy: 0.8378\n",
            "Epoch 13/50\n",
            "37/37 [==============================] - ETA: 0s - loss: 0.7229 - accuracy: 0.7636\n",
            "Epoch 00013: val_loss improved from 0.50909 to 0.47663, saving model to svnh_cnn_checkpoint_13_loss0.4766.h5\n",
            "37/37 [==============================] - 1s 19ms/step - loss: 0.7229 - accuracy: 0.7636 - val_loss: 0.4766 - val_accuracy: 0.8492\n",
            "Epoch 14/50\n",
            "37/37 [==============================] - ETA: 0s - loss: 0.6861 - accuracy: 0.7760\n",
            "Epoch 00014: val_loss improved from 0.47663 to 0.45834, saving model to svnh_cnn_checkpoint_14_loss0.4583.h5\n",
            "37/37 [==============================] - 1s 19ms/step - loss: 0.6861 - accuracy: 0.7760 - val_loss: 0.4583 - val_accuracy: 0.8536\n",
            "Epoch 15/50\n",
            "37/37 [==============================] - ETA: 0s - loss: 0.6557 - accuracy: 0.7867\n",
            "Epoch 00015: val_loss improved from 0.45834 to 0.41972, saving model to svnh_cnn_checkpoint_15_loss0.4197.h5\n",
            "37/37 [==============================] - 1s 19ms/step - loss: 0.6557 - accuracy: 0.7867 - val_loss: 0.4197 - val_accuracy: 0.8701\n",
            "Epoch 16/50\n",
            "36/37 [============================>.] - ETA: 0s - loss: 0.6320 - accuracy: 0.7914\n",
            "Epoch 00016: val_loss did not improve from 0.41972\n",
            "37/37 [==============================] - 1s 19ms/step - loss: 0.6319 - accuracy: 0.7916 - val_loss: 0.4355 - val_accuracy: 0.8621\n",
            "Epoch 17/50\n",
            "37/37 [==============================] - ETA: 0s - loss: 0.6097 - accuracy: 0.8019\n",
            "Epoch 00017: val_loss improved from 0.41972 to 0.40747, saving model to svnh_cnn_checkpoint_17_loss0.4075.h5\n",
            "37/37 [==============================] - 1s 19ms/step - loss: 0.6097 - accuracy: 0.8019 - val_loss: 0.4075 - val_accuracy: 0.8728\n",
            "Epoch 18/50\n",
            "37/37 [==============================] - ETA: 0s - loss: 0.5885 - accuracy: 0.8107\n",
            "Epoch 00018: val_loss improved from 0.40747 to 0.39018, saving model to svnh_cnn_checkpoint_18_loss0.3902.h5\n",
            "37/37 [==============================] - 1s 19ms/step - loss: 0.5885 - accuracy: 0.8107 - val_loss: 0.3902 - val_accuracy: 0.8779\n",
            "Epoch 19/50\n",
            "35/37 [===========================>..] - ETA: 0s - loss: 0.5626 - accuracy: 0.8177\n",
            "Epoch 00019: val_loss improved from 0.39018 to 0.37689, saving model to svnh_cnn_checkpoint_19_loss0.3769.h5\n",
            "37/37 [==============================] - 1s 19ms/step - loss: 0.5636 - accuracy: 0.8179 - val_loss: 0.3769 - val_accuracy: 0.8834\n",
            "Epoch 20/50\n",
            "36/37 [============================>.] - ETA: 0s - loss: 0.5510 - accuracy: 0.8205\n",
            "Epoch 00020: val_loss improved from 0.37689 to 0.36487, saving model to svnh_cnn_checkpoint_20_loss0.3649.h5\n",
            "37/37 [==============================] - 1s 19ms/step - loss: 0.5508 - accuracy: 0.8204 - val_loss: 0.3649 - val_accuracy: 0.8864\n",
            "Epoch 21/50\n",
            "37/37 [==============================] - ETA: 0s - loss: 0.5323 - accuracy: 0.8292\n",
            "Epoch 00021: val_loss improved from 0.36487 to 0.35631, saving model to svnh_cnn_checkpoint_21_loss0.3563.h5\n",
            "37/37 [==============================] - 1s 19ms/step - loss: 0.5323 - accuracy: 0.8292 - val_loss: 0.3563 - val_accuracy: 0.8896\n",
            "Epoch 22/50\n",
            "36/37 [============================>.] - ETA: 0s - loss: 0.5234 - accuracy: 0.8308\n",
            "Epoch 00022: val_loss improved from 0.35631 to 0.35053, saving model to svnh_cnn_checkpoint_22_loss0.3505.h5\n",
            "37/37 [==============================] - 1s 19ms/step - loss: 0.5232 - accuracy: 0.8308 - val_loss: 0.3505 - val_accuracy: 0.8923\n",
            "Epoch 23/50\n",
            "36/37 [============================>.] - ETA: 0s - loss: 0.5110 - accuracy: 0.8348\n",
            "Epoch 00023: val_loss improved from 0.35053 to 0.34769, saving model to svnh_cnn_checkpoint_23_loss0.3477.h5\n",
            "37/37 [==============================] - 1s 19ms/step - loss: 0.5109 - accuracy: 0.8349 - val_loss: 0.3477 - val_accuracy: 0.8937\n",
            "Epoch 24/50\n",
            "35/37 [===========================>..] - ETA: 0s - loss: 0.5001 - accuracy: 0.8400\n",
            "Epoch 00024: val_loss improved from 0.34769 to 0.34187, saving model to svnh_cnn_checkpoint_24_loss0.3419.h5\n",
            "37/37 [==============================] - 1s 19ms/step - loss: 0.5008 - accuracy: 0.8399 - val_loss: 0.3419 - val_accuracy: 0.8952\n",
            "Epoch 25/50\n",
            "37/37 [==============================] - ETA: 0s - loss: 0.4880 - accuracy: 0.8423\n",
            "Epoch 00025: val_loss improved from 0.34187 to 0.33436, saving model to svnh_cnn_checkpoint_25_loss0.3344.h5\n",
            "37/37 [==============================] - 1s 19ms/step - loss: 0.4880 - accuracy: 0.8423 - val_loss: 0.3344 - val_accuracy: 0.8954\n",
            "Epoch 26/50\n",
            "37/37 [==============================] - ETA: 0s - loss: 0.4769 - accuracy: 0.8458\n",
            "Epoch 00026: val_loss improved from 0.33436 to 0.33006, saving model to svnh_cnn_checkpoint_26_loss0.3301.h5\n",
            "37/37 [==============================] - 1s 19ms/step - loss: 0.4769 - accuracy: 0.8458 - val_loss: 0.3301 - val_accuracy: 0.8985\n",
            "Epoch 27/50\n",
            "36/37 [============================>.] - ETA: 0s - loss: 0.4708 - accuracy: 0.8514\n",
            "Epoch 00027: val_loss improved from 0.33006 to 0.32682, saving model to svnh_cnn_checkpoint_27_loss0.3268.h5\n",
            "37/37 [==============================] - 1s 19ms/step - loss: 0.4711 - accuracy: 0.8513 - val_loss: 0.3268 - val_accuracy: 0.9008\n",
            "Epoch 28/50\n",
            "36/37 [============================>.] - ETA: 0s - loss: 0.4620 - accuracy: 0.8510\n",
            "Epoch 00028: val_loss improved from 0.32682 to 0.31698, saving model to svnh_cnn_checkpoint_28_loss0.3170.h5\n",
            "37/37 [==============================] - 1s 20ms/step - loss: 0.4630 - accuracy: 0.8506 - val_loss: 0.3170 - val_accuracy: 0.9038\n",
            "Epoch 29/50\n",
            "37/37 [==============================] - ETA: 0s - loss: 0.4525 - accuracy: 0.8558\n",
            "Epoch 00029: val_loss improved from 0.31698 to 0.31692, saving model to svnh_cnn_checkpoint_29_loss0.3169.h5\n",
            "37/37 [==============================] - 1s 19ms/step - loss: 0.4525 - accuracy: 0.8558 - val_loss: 0.3169 - val_accuracy: 0.9038\n",
            "Epoch 30/50\n",
            "37/37 [==============================] - ETA: 0s - loss: 0.4453 - accuracy: 0.8568\n",
            "Epoch 00030: val_loss did not improve from 0.31692\n",
            "37/37 [==============================] - 1s 19ms/step - loss: 0.4453 - accuracy: 0.8568 - val_loss: 0.3171 - val_accuracy: 0.9025\n",
            "Epoch 31/50\n",
            "36/37 [============================>.] - ETA: 0s - loss: 0.4408 - accuracy: 0.8598\n",
            "Epoch 00031: val_loss did not improve from 0.31692\n",
            "37/37 [==============================] - 1s 19ms/step - loss: 0.4409 - accuracy: 0.8597 - val_loss: 0.3223 - val_accuracy: 0.9014\n",
            "Epoch 32/50\n",
            "37/37 [==============================] - ETA: 0s - loss: 0.4354 - accuracy: 0.8595\n",
            "Epoch 00032: val_loss improved from 0.31692 to 0.31211, saving model to svnh_cnn_checkpoint_32_loss0.3121.h5\n",
            "37/37 [==============================] - 1s 20ms/step - loss: 0.4354 - accuracy: 0.8595 - val_loss: 0.3121 - val_accuracy: 0.9057\n",
            "Epoch 33/50\n",
            "37/37 [==============================] - ETA: 0s - loss: 0.4251 - accuracy: 0.8635\n",
            "Epoch 00033: val_loss improved from 0.31211 to 0.30504, saving model to svnh_cnn_checkpoint_33_loss0.3050.h5\n",
            "37/37 [==============================] - 1s 19ms/step - loss: 0.4251 - accuracy: 0.8635 - val_loss: 0.3050 - val_accuracy: 0.9072\n",
            "Epoch 34/50\n",
            "37/37 [==============================] - ETA: 0s - loss: 0.4196 - accuracy: 0.8655\n",
            "Epoch 00034: val_loss improved from 0.30504 to 0.30109, saving model to svnh_cnn_checkpoint_34_loss0.3011.h5\n",
            "37/37 [==============================] - 1s 20ms/step - loss: 0.4196 - accuracy: 0.8655 - val_loss: 0.3011 - val_accuracy: 0.9088\n",
            "Epoch 35/50\n",
            "37/37 [==============================] - ETA: 0s - loss: 0.4141 - accuracy: 0.8680\n",
            "Epoch 00035: val_loss improved from 0.30109 to 0.30099, saving model to svnh_cnn_checkpoint_35_loss0.3010.h5\n",
            "37/37 [==============================] - 1s 20ms/step - loss: 0.4141 - accuracy: 0.8680 - val_loss: 0.3010 - val_accuracy: 0.9086\n",
            "Epoch 36/50\n",
            "36/37 [============================>.] - ETA: 0s - loss: 0.4005 - accuracy: 0.8711\n",
            "Epoch 00036: val_loss did not improve from 0.30099\n",
            "37/37 [==============================] - 1s 19ms/step - loss: 0.4005 - accuracy: 0.8708 - val_loss: 0.3049 - val_accuracy: 0.9063\n",
            "Epoch 37/50\n",
            "36/37 [============================>.] - ETA: 0s - loss: 0.4023 - accuracy: 0.8711\n",
            "Epoch 00037: val_loss improved from 0.30099 to 0.29697, saving model to svnh_cnn_checkpoint_37_loss0.2970.h5\n",
            "37/37 [==============================] - 1s 19ms/step - loss: 0.4024 - accuracy: 0.8710 - val_loss: 0.2970 - val_accuracy: 0.9101\n",
            "Epoch 38/50\n",
            "35/37 [===========================>..] - ETA: 0s - loss: 0.4000 - accuracy: 0.8715\n",
            "Epoch 00038: val_loss did not improve from 0.29697\n",
            "37/37 [==============================] - 1s 19ms/step - loss: 0.3995 - accuracy: 0.8716 - val_loss: 0.2981 - val_accuracy: 0.9107\n",
            "Epoch 39/50\n",
            "35/37 [===========================>..] - ETA: 0s - loss: 0.3904 - accuracy: 0.8761\n",
            "Epoch 00039: val_loss improved from 0.29697 to 0.29568, saving model to svnh_cnn_checkpoint_39_loss0.2957.h5\n",
            "37/37 [==============================] - 1s 20ms/step - loss: 0.3888 - accuracy: 0.8765 - val_loss: 0.2957 - val_accuracy: 0.9101\n",
            "Epoch 40/50\n",
            "37/37 [==============================] - ETA: 0s - loss: 0.3877 - accuracy: 0.8746\n",
            "Epoch 00040: val_loss improved from 0.29568 to 0.29164, saving model to svnh_cnn_checkpoint_40_loss0.2916.h5\n",
            "37/37 [==============================] - 1s 19ms/step - loss: 0.3877 - accuracy: 0.8746 - val_loss: 0.2916 - val_accuracy: 0.9108\n",
            "Epoch 41/50\n",
            "36/37 [============================>.] - ETA: 0s - loss: 0.3799 - accuracy: 0.8780\n",
            "Epoch 00041: val_loss improved from 0.29164 to 0.29022, saving model to svnh_cnn_checkpoint_41_loss0.2902.h5\n",
            "37/37 [==============================] - 1s 20ms/step - loss: 0.3798 - accuracy: 0.8781 - val_loss: 0.2902 - val_accuracy: 0.9110\n",
            "Epoch 42/50\n",
            "34/37 [==========================>...] - ETA: 0s - loss: 0.3762 - accuracy: 0.8800\n",
            "Epoch 00042: val_loss improved from 0.29022 to 0.28551, saving model to svnh_cnn_checkpoint_42_loss0.2855.h5\n",
            "37/37 [==============================] - 1s 20ms/step - loss: 0.3740 - accuracy: 0.8806 - val_loss: 0.2855 - val_accuracy: 0.9140\n",
            "Epoch 43/50\n",
            "36/37 [============================>.] - ETA: 0s - loss: 0.3691 - accuracy: 0.8802\n",
            "Epoch 00043: val_loss did not improve from 0.28551\n",
            "37/37 [==============================] - 1s 19ms/step - loss: 0.3695 - accuracy: 0.8804 - val_loss: 0.2864 - val_accuracy: 0.9160\n",
            "Epoch 44/50\n",
            "37/37 [==============================] - ETA: 0s - loss: 0.3652 - accuracy: 0.8829\n",
            "Epoch 00044: val_loss improved from 0.28551 to 0.28007, saving model to svnh_cnn_checkpoint_44_loss0.2801.h5\n",
            "37/37 [==============================] - 1s 19ms/step - loss: 0.3652 - accuracy: 0.8829 - val_loss: 0.2801 - val_accuracy: 0.9167\n",
            "Epoch 45/50\n",
            "34/37 [==========================>...] - ETA: 0s - loss: 0.3649 - accuracy: 0.8811\n",
            "Epoch 00045: val_loss did not improve from 0.28007\n",
            "37/37 [==============================] - 1s 19ms/step - loss: 0.3633 - accuracy: 0.8817 - val_loss: 0.2874 - val_accuracy: 0.9136\n",
            "Epoch 46/50\n",
            "36/37 [============================>.] - ETA: 0s - loss: 0.3598 - accuracy: 0.8837\n",
            "Epoch 00046: val_loss did not improve from 0.28007\n",
            "37/37 [==============================] - 1s 19ms/step - loss: 0.3592 - accuracy: 0.8838 - val_loss: 0.2827 - val_accuracy: 0.9156\n",
            "Epoch 47/50\n",
            "36/37 [============================>.] - ETA: 0s - loss: 0.3519 - accuracy: 0.8864\n",
            "Epoch 00047: val_loss did not improve from 0.28007\n",
            "37/37 [==============================] - 1s 19ms/step - loss: 0.3526 - accuracy: 0.8862 - val_loss: 0.2899 - val_accuracy: 0.9111\n",
            "Epoch 48/50\n",
            "36/37 [============================>.] - ETA: 0s - loss: 0.3464 - accuracy: 0.8884\n",
            "Epoch 00048: val_loss did not improve from 0.28007\n",
            "37/37 [==============================] - 1s 19ms/step - loss: 0.3488 - accuracy: 0.8878 - val_loss: 0.2815 - val_accuracy: 0.9153\n",
            "Epoch 49/50\n",
            "37/37 [==============================] - ETA: 0s - loss: 0.3491 - accuracy: 0.8878\n",
            "Epoch 00049: val_loss did not improve from 0.28007\n",
            "37/37 [==============================] - 1s 19ms/step - loss: 0.3491 - accuracy: 0.8878 - val_loss: 0.2811 - val_accuracy: 0.9154\n",
            "Epoch 50/50\n",
            "37/37 [==============================] - ETA: 0s - loss: 0.3440 - accuracy: 0.8910\n",
            "Epoch 00050: val_loss improved from 0.28007 to 0.27794, saving model to svnh_cnn_checkpoint_50_loss0.2779.h5\n",
            "37/37 [==============================] - 1s 19ms/step - loss: 0.3440 - accuracy: 0.8910 - val_loss: 0.2779 - val_accuracy: 0.9141\n"
          ],
          "name": "stdout"
        }
      ]
    },
    {
      "cell_type": "code",
      "metadata": {
        "id": "tZIlomMN_gK0",
        "outputId": "1d292c76-21dc-4e8a-c3d5-159b39ad4d69",
        "colab": {
          "base_uri": "https://localhost:8080/",
          "height": 34
        }
      },
      "source": [
        "results = model.evaluate(val_X, val_y)"
      ],
      "execution_count": null,
      "outputs": [
        {
          "output_type": "stream",
          "text": [
            "132/132 [==============================] - 0s 3ms/step - loss: 0.2763 - accuracy: 0.9176\n"
          ],
          "name": "stdout"
        }
      ]
    },
    {
      "cell_type": "markdown",
      "metadata": {
        "id": "2MyM1lz2CDJA"
      },
      "source": [
        "## Almost similar accuracy achieved even with introduction of noise. This is a more stable model.\n",
        "\n",
        "#### Let's now use data augmentation with and regularize more and compare results\n",
        "\n",
        "https://www.analyticsvidhya.com/blog/2020/08/image-augmentation-on-the-fly-using-keras-imagedatagenerator/"
      ]
    },
    {
      "cell_type": "code",
      "metadata": {
        "id": "81_oTTIT_gIs"
      },
      "source": [
        "from keras.preprocessing.image import ImageDataGenerator\n",
        "\n",
        "# Augmentation\n",
        "train_datagen = ImageDataGenerator(rotation_range=3,  # randomly rotate images in the range (degrees, 0 to 180)\n",
        "                                   width_shift_range=0.1,  # randomly shift images horizontally (fraction of total width)\n",
        "                                   zoom_range=0.05,  # randomly zoom into images\n",
        "                                   horizontal_flip=True)  # horizontal flip\n",
        "                                   #brightness_range=[0.2,0.8])  # brightness"
      ],
      "execution_count": null,
      "outputs": []
    },
    {
      "cell_type": "code",
      "metadata": {
        "id": "ZiZkO3zQw89h"
      },
      "source": [
        "model = Sequential()\n",
        "model.add(Conv2D(64, kernel_size=(5,5), input_shape=(32,32,1), activation='relu', kernel_initializer='he_normal', padding='same'))\n",
        "model.add(MaxPool2D(pool_size=(3,3)))\n",
        "model.add(Dropout(0.1))\n",
        "model.add(GaussianNoise(0.1))\n",
        "\n",
        "model.add(Conv2D(64, kernel_size=(3,3), activation='relu', kernel_initializer='he_normal', padding='same'))\n",
        "model.add(MaxPool2D(pool_size=(2,2)))\n",
        "model.add(Dropout(0.1))\n",
        "model.add(GaussianNoise(0.1))\n",
        "\n",
        "model.add(Conv2D(32, kernel_size=(3,3), activation='relu', kernel_initializer='he_normal', padding='same'))\n",
        "model.add(MaxPool2D(pool_size=(2,2)))\n",
        "model.add(Dropout(0.1))\n",
        "model.add(GaussianNoise(0.1))\n",
        "\n",
        "model.add(Flatten())\n",
        "model.add(Dropout(0.1))\n",
        "\n",
        "model.add(Dense(512, activation='relu', kernel_initializer='he_normal'))\n",
        "model.add(BatchNormalization())\n",
        "model.add(Dropout(0.1))\n",
        "model.add(GaussianNoise(0.1))\n",
        "\n",
        "model.add(Dense(128, activation='relu', kernel_initializer='he_normal'))\n",
        "model.add(Dropout(0.1))\n",
        "model.add(GaussianNoise(0.1))\n",
        "\n",
        "model.add(Dense(10, activation='softmax'))\n",
        "\n",
        "opt= optimizers.Adam(learning_rate=0.001)\n",
        "model.compile(optimizer = opt, loss='categorical_crossentropy', metrics=['accuracy'])"
      ],
      "execution_count": null,
      "outputs": []
    },
    {
      "cell_type": "code",
      "metadata": {
        "id": "pNjDa6jS_gCj",
        "outputId": "6b33a095-04b0-48c7-93ed-5a86cc8aee52",
        "colab": {
          "base_uri": "https://localhost:8080/",
          "height": 1000
        }
      },
      "source": [
        "# Epochs\n",
        "epochs = 50\n",
        "# Batch size\n",
        "batch_size = 512\n",
        "\n",
        "\n",
        "history = model.fit(train_datagen.flow(train_X,train_y,\n",
        "                                       batch_size=batch_size, \n",
        "                                       seed=27,\n",
        "                                       shuffle=False),\n",
        "                    epochs=epochs,\n",
        "                    steps_per_epoch=train_X.shape[0] // batch_size,\n",
        "                    validation_data=(test_X,test_y),\n",
        "                    verbose=1, callbacks=[tensorboard,early_stopping, model_checkpoint])"
      ],
      "execution_count": null,
      "outputs": [
        {
          "output_type": "stream",
          "text": [
            "Epoch 1/50\n",
            " 1/73 [..............................] - ETA: 0s - loss: 3.1349 - accuracy: 0.0957WARNING:tensorflow:From /usr/local/lib/python3.6/dist-packages/tensorflow/python/ops/summary_ops_v2.py:1277: stop (from tensorflow.python.eager.profiler) is deprecated and will be removed after 2020-07-01.\n",
            "Instructions for updating:\n",
            "use `tf.profiler.experimental.stop` instead.\n",
            " 2/73 [..............................] - ETA: 2s - loss: 3.1460 - accuracy: 0.0938WARNING:tensorflow:Callbacks method `on_train_batch_end` is slow compared to the batch time (batch time: 0.0207s vs `on_train_batch_end` time: 0.0635s). Check your callbacks.\n",
            "73/73 [==============================] - ETA: 0s - loss: 2.5803 - accuracy: 0.1018\n",
            "Epoch 00001: val_loss improved from inf to 2.32195, saving model to svnh_cnn_checkpoint_01_loss2.3220.h5\n",
            "73/73 [==============================] - 9s 126ms/step - loss: 2.5803 - accuracy: 0.1018 - val_loss: 2.3220 - val_accuracy: 0.0942\n",
            "Epoch 2/50\n",
            "73/73 [==============================] - ETA: 0s - loss: 2.4000 - accuracy: 0.1026\n",
            "Epoch 00002: val_loss did not improve from 2.32195\n",
            "73/73 [==============================] - 9s 123ms/step - loss: 2.4000 - accuracy: 0.1026 - val_loss: 2.3423 - val_accuracy: 0.0993\n",
            "Epoch 3/50\n",
            "73/73 [==============================] - ETA: 0s - loss: 2.3609 - accuracy: 0.1014\n",
            "Epoch 00003: val_loss improved from 2.32195 to 2.31108, saving model to svnh_cnn_checkpoint_03_loss2.3111.h5\n",
            "73/73 [==============================] - 9s 123ms/step - loss: 2.3609 - accuracy: 0.1014 - val_loss: 2.3111 - val_accuracy: 0.1122\n",
            "Epoch 4/50\n",
            "73/73 [==============================] - ETA: 0s - loss: 2.3361 - accuracy: 0.1070\n",
            "Epoch 00004: val_loss improved from 2.31108 to 2.27815, saving model to svnh_cnn_checkpoint_04_loss2.2781.h5\n",
            "73/73 [==============================] - 9s 125ms/step - loss: 2.3361 - accuracy: 0.1070 - val_loss: 2.2781 - val_accuracy: 0.1603\n",
            "Epoch 5/50\n",
            "73/73 [==============================] - ETA: 0s - loss: 2.1806 - accuracy: 0.1856\n",
            "Epoch 00005: val_loss improved from 2.27815 to 2.09595, saving model to svnh_cnn_checkpoint_05_loss2.0960.h5\n",
            "73/73 [==============================] - 9s 123ms/step - loss: 2.1806 - accuracy: 0.1856 - val_loss: 2.0960 - val_accuracy: 0.2312\n",
            "Epoch 6/50\n",
            "73/73 [==============================] - ETA: 0s - loss: 1.8628 - accuracy: 0.3226\n",
            "Epoch 00006: val_loss improved from 2.09595 to 1.59643, saving model to svnh_cnn_checkpoint_06_loss1.5964.h5\n",
            "73/73 [==============================] - 9s 123ms/step - loss: 1.8628 - accuracy: 0.3226 - val_loss: 1.5964 - val_accuracy: 0.4114\n",
            "Epoch 7/50\n",
            "73/73 [==============================] - ETA: 0s - loss: 1.6487 - accuracy: 0.4154\n",
            "Epoch 00007: val_loss improved from 1.59643 to 1.33639, saving model to svnh_cnn_checkpoint_07_loss1.3364.h5\n",
            "73/73 [==============================] - 9s 124ms/step - loss: 1.6487 - accuracy: 0.4154 - val_loss: 1.3364 - val_accuracy: 0.5294\n",
            "Epoch 8/50\n",
            "73/73 [==============================] - ETA: 0s - loss: 1.4572 - accuracy: 0.4884\n",
            "Epoch 00008: val_loss improved from 1.33639 to 1.07389, saving model to svnh_cnn_checkpoint_08_loss1.0739.h5\n",
            "73/73 [==============================] - 9s 123ms/step - loss: 1.4572 - accuracy: 0.4884 - val_loss: 1.0739 - val_accuracy: 0.6355\n",
            "Epoch 9/50\n",
            "73/73 [==============================] - ETA: 0s - loss: 1.2958 - accuracy: 0.5572\n",
            "Epoch 00009: val_loss improved from 1.07389 to 0.93714, saving model to svnh_cnn_checkpoint_09_loss0.9371.h5\n",
            "73/73 [==============================] - 9s 123ms/step - loss: 1.2958 - accuracy: 0.5572 - val_loss: 0.9371 - val_accuracy: 0.6823\n",
            "Epoch 10/50\n",
            "73/73 [==============================] - ETA: 0s - loss: 1.1646 - accuracy: 0.6006\n",
            "Epoch 00010: val_loss improved from 0.93714 to 0.81393, saving model to svnh_cnn_checkpoint_10_loss0.8139.h5\n",
            "73/73 [==============================] - 9s 124ms/step - loss: 1.1646 - accuracy: 0.6006 - val_loss: 0.8139 - val_accuracy: 0.7250\n",
            "Epoch 11/50\n",
            "73/73 [==============================] - ETA: 0s - loss: 1.0849 - accuracy: 0.6326\n",
            "Epoch 00011: val_loss improved from 0.81393 to 0.70793, saving model to svnh_cnn_checkpoint_11_loss0.7079.h5\n",
            "73/73 [==============================] - 9s 124ms/step - loss: 1.0849 - accuracy: 0.6326 - val_loss: 0.7079 - val_accuracy: 0.7651\n",
            "Epoch 12/50\n",
            "73/73 [==============================] - ETA: 0s - loss: 1.0173 - accuracy: 0.6585\n",
            "Epoch 00012: val_loss improved from 0.70793 to 0.70651, saving model to svnh_cnn_checkpoint_12_loss0.7065.h5\n",
            "73/73 [==============================] - 9s 124ms/step - loss: 1.0173 - accuracy: 0.6585 - val_loss: 0.7065 - val_accuracy: 0.7702\n",
            "Epoch 13/50\n",
            "73/73 [==============================] - ETA: 0s - loss: 0.9777 - accuracy: 0.6727\n",
            "Epoch 00013: val_loss improved from 0.70651 to 0.65361, saving model to svnh_cnn_checkpoint_13_loss0.6536.h5\n",
            "73/73 [==============================] - 9s 126ms/step - loss: 0.9777 - accuracy: 0.6727 - val_loss: 0.6536 - val_accuracy: 0.7869\n",
            "Epoch 14/50\n",
            "73/73 [==============================] - ETA: 0s - loss: 0.9414 - accuracy: 0.6827\n",
            "Epoch 00014: val_loss improved from 0.65361 to 0.62982, saving model to svnh_cnn_checkpoint_14_loss0.6298.h5\n",
            "73/73 [==============================] - 9s 124ms/step - loss: 0.9414 - accuracy: 0.6827 - val_loss: 0.6298 - val_accuracy: 0.7948\n",
            "Epoch 15/50\n",
            "73/73 [==============================] - ETA: 0s - loss: 0.8950 - accuracy: 0.7014\n",
            "Epoch 00015: val_loss improved from 0.62982 to 0.56524, saving model to svnh_cnn_checkpoint_15_loss0.5652.h5\n",
            "73/73 [==============================] - 9s 124ms/step - loss: 0.8950 - accuracy: 0.7014 - val_loss: 0.5652 - val_accuracy: 0.8190\n",
            "Epoch 16/50\n",
            "73/73 [==============================] - ETA: 0s - loss: 0.8673 - accuracy: 0.7130\n",
            "Epoch 00016: val_loss did not improve from 0.56524\n",
            "73/73 [==============================] - 9s 124ms/step - loss: 0.8673 - accuracy: 0.7130 - val_loss: 0.5703 - val_accuracy: 0.8141\n",
            "Epoch 17/50\n",
            "73/73 [==============================] - ETA: 0s - loss: 0.8391 - accuracy: 0.7244\n",
            "Epoch 00017: val_loss improved from 0.56524 to 0.53806, saving model to svnh_cnn_checkpoint_17_loss0.5381.h5\n",
            "73/73 [==============================] - 9s 125ms/step - loss: 0.8391 - accuracy: 0.7244 - val_loss: 0.5381 - val_accuracy: 0.8258\n",
            "Epoch 18/50\n",
            "73/73 [==============================] - ETA: 0s - loss: 0.8183 - accuracy: 0.7303\n",
            "Epoch 00018: val_loss improved from 0.53806 to 0.52462, saving model to svnh_cnn_checkpoint_18_loss0.5246.h5\n",
            "73/73 [==============================] - 9s 124ms/step - loss: 0.8183 - accuracy: 0.7303 - val_loss: 0.5246 - val_accuracy: 0.8294\n",
            "Epoch 19/50\n",
            "73/73 [==============================] - ETA: 0s - loss: 0.7966 - accuracy: 0.7365\n",
            "Epoch 00019: val_loss improved from 0.52462 to 0.51939, saving model to svnh_cnn_checkpoint_19_loss0.5194.h5\n",
            "73/73 [==============================] - 9s 124ms/step - loss: 0.7966 - accuracy: 0.7365 - val_loss: 0.5194 - val_accuracy: 0.8309\n",
            "Epoch 20/50\n",
            "73/73 [==============================] - ETA: 0s - loss: 0.7753 - accuracy: 0.7449\n",
            "Epoch 00020: val_loss improved from 0.51939 to 0.49510, saving model to svnh_cnn_checkpoint_20_loss0.4951.h5\n",
            "73/73 [==============================] - 9s 125ms/step - loss: 0.7753 - accuracy: 0.7449 - val_loss: 0.4951 - val_accuracy: 0.8397\n",
            "Epoch 21/50\n",
            "73/73 [==============================] - ETA: 0s - loss: 0.7608 - accuracy: 0.7491\n",
            "Epoch 00021: val_loss improved from 0.49510 to 0.48442, saving model to svnh_cnn_checkpoint_21_loss0.4844.h5\n",
            "73/73 [==============================] - 9s 126ms/step - loss: 0.7608 - accuracy: 0.7491 - val_loss: 0.4844 - val_accuracy: 0.8458\n",
            "Epoch 22/50\n",
            "73/73 [==============================] - ETA: 0s - loss: 0.7418 - accuracy: 0.7574\n",
            "Epoch 00022: val_loss did not improve from 0.48442\n",
            "73/73 [==============================] - 9s 125ms/step - loss: 0.7418 - accuracy: 0.7574 - val_loss: 0.4980 - val_accuracy: 0.8388\n",
            "Epoch 23/50\n",
            "73/73 [==============================] - ETA: 0s - loss: 0.7301 - accuracy: 0.7615\n",
            "Epoch 00023: val_loss did not improve from 0.48442\n",
            "73/73 [==============================] - 9s 124ms/step - loss: 0.7301 - accuracy: 0.7615 - val_loss: 0.4871 - val_accuracy: 0.8391\n",
            "Epoch 24/50\n",
            "73/73 [==============================] - ETA: 0s - loss: 0.7215 - accuracy: 0.7626\n",
            "Epoch 00024: val_loss improved from 0.48442 to 0.46179, saving model to svnh_cnn_checkpoint_24_loss0.4618.h5\n",
            "73/73 [==============================] - 9s 123ms/step - loss: 0.7215 - accuracy: 0.7626 - val_loss: 0.4618 - val_accuracy: 0.8533\n",
            "Epoch 25/50\n",
            "73/73 [==============================] - ETA: 0s - loss: 0.7026 - accuracy: 0.7721\n",
            "Epoch 00025: val_loss improved from 0.46179 to 0.45259, saving model to svnh_cnn_checkpoint_25_loss0.4526.h5\n",
            "73/73 [==============================] - 9s 127ms/step - loss: 0.7026 - accuracy: 0.7721 - val_loss: 0.4526 - val_accuracy: 0.8558\n",
            "Epoch 26/50\n",
            "73/73 [==============================] - ETA: 0s - loss: 0.6896 - accuracy: 0.7761\n",
            "Epoch 00026: val_loss improved from 0.45259 to 0.43836, saving model to svnh_cnn_checkpoint_26_loss0.4384.h5\n",
            "73/73 [==============================] - 9s 127ms/step - loss: 0.6896 - accuracy: 0.7761 - val_loss: 0.4384 - val_accuracy: 0.8610\n",
            "Epoch 27/50\n",
            "73/73 [==============================] - ETA: 0s - loss: 0.6813 - accuracy: 0.7768\n",
            "Epoch 00027: val_loss did not improve from 0.43836\n",
            "73/73 [==============================] - 9s 125ms/step - loss: 0.6813 - accuracy: 0.7768 - val_loss: 0.4612 - val_accuracy: 0.8516\n",
            "Epoch 28/50\n",
            "73/73 [==============================] - ETA: 0s - loss: 0.6712 - accuracy: 0.7783\n",
            "Epoch 00028: val_loss did not improve from 0.43836\n",
            "73/73 [==============================] - 9s 123ms/step - loss: 0.6712 - accuracy: 0.7783 - val_loss: 0.4520 - val_accuracy: 0.8547\n",
            "Epoch 29/50\n",
            "73/73 [==============================] - ETA: 0s - loss: 0.6616 - accuracy: 0.7846\n",
            "Epoch 00029: val_loss did not improve from 0.43836\n",
            "73/73 [==============================] - 9s 124ms/step - loss: 0.6616 - accuracy: 0.7846 - val_loss: 0.4453 - val_accuracy: 0.8570\n",
            "Epoch 30/50\n",
            "73/73 [==============================] - ETA: 0s - loss: 0.6556 - accuracy: 0.7878\n",
            "Epoch 00030: val_loss improved from 0.43836 to 0.41745, saving model to svnh_cnn_checkpoint_30_loss0.4174.h5\n",
            "73/73 [==============================] - 9s 125ms/step - loss: 0.6556 - accuracy: 0.7878 - val_loss: 0.4174 - val_accuracy: 0.8670\n",
            "Epoch 31/50\n",
            "73/73 [==============================] - ETA: 0s - loss: 0.6420 - accuracy: 0.7925\n",
            "Epoch 00031: val_loss improved from 0.41745 to 0.40674, saving model to svnh_cnn_checkpoint_31_loss0.4067.h5\n",
            "73/73 [==============================] - 9s 124ms/step - loss: 0.6420 - accuracy: 0.7925 - val_loss: 0.4067 - val_accuracy: 0.8715\n",
            "Epoch 32/50\n",
            "73/73 [==============================] - ETA: 0s - loss: 0.6333 - accuracy: 0.7933\n",
            "Epoch 00032: val_loss did not improve from 0.40674\n",
            "73/73 [==============================] - 9s 123ms/step - loss: 0.6333 - accuracy: 0.7933 - val_loss: 0.4098 - val_accuracy: 0.8694\n",
            "Epoch 33/50\n",
            "73/73 [==============================] - ETA: 0s - loss: 0.6277 - accuracy: 0.7943\n",
            "Epoch 00033: val_loss improved from 0.40674 to 0.38515, saving model to svnh_cnn_checkpoint_33_loss0.3851.h5\n",
            "73/73 [==============================] - 9s 124ms/step - loss: 0.6277 - accuracy: 0.7943 - val_loss: 0.3851 - val_accuracy: 0.8790\n",
            "Epoch 34/50\n",
            "73/73 [==============================] - ETA: 0s - loss: 0.6203 - accuracy: 0.7972\n",
            "Epoch 00034: val_loss did not improve from 0.38515\n",
            "73/73 [==============================] - 9s 125ms/step - loss: 0.6203 - accuracy: 0.7972 - val_loss: 0.3940 - val_accuracy: 0.8743\n",
            "Epoch 35/50\n",
            "73/73 [==============================] - ETA: 0s - loss: 0.6112 - accuracy: 0.8027\n",
            "Epoch 00035: val_loss did not improve from 0.38515\n",
            "73/73 [==============================] - 9s 124ms/step - loss: 0.6112 - accuracy: 0.8027 - val_loss: 0.4052 - val_accuracy: 0.8691\n",
            "Epoch 36/50\n",
            "73/73 [==============================] - ETA: 0s - loss: 0.6099 - accuracy: 0.8018\n",
            "Epoch 00036: val_loss did not improve from 0.38515\n",
            "73/73 [==============================] - 9s 125ms/step - loss: 0.6099 - accuracy: 0.8018 - val_loss: 0.3929 - val_accuracy: 0.8742\n",
            "Epoch 37/50\n",
            "73/73 [==============================] - ETA: 0s - loss: 0.5962 - accuracy: 0.8061\n",
            "Epoch 00037: val_loss did not improve from 0.38515\n",
            "73/73 [==============================] - 9s 125ms/step - loss: 0.5962 - accuracy: 0.8061 - val_loss: 0.3911 - val_accuracy: 0.8765\n",
            "Epoch 38/50\n",
            "73/73 [==============================] - ETA: 0s - loss: 0.5974 - accuracy: 0.8078\n",
            "Epoch 00038: val_loss did not improve from 0.38515\n",
            "73/73 [==============================] - 9s 125ms/step - loss: 0.5974 - accuracy: 0.8078 - val_loss: 0.3912 - val_accuracy: 0.8746\n",
            "Epoch 39/50\n",
            "73/73 [==============================] - ETA: 0s - loss: 0.5873 - accuracy: 0.8119\n",
            "Epoch 00039: val_loss improved from 0.38515 to 0.37860, saving model to svnh_cnn_checkpoint_39_loss0.3786.h5\n",
            "73/73 [==============================] - 9s 126ms/step - loss: 0.5873 - accuracy: 0.8119 - val_loss: 0.3786 - val_accuracy: 0.8789\n",
            "Epoch 40/50\n",
            "73/73 [==============================] - ETA: 0s - loss: 0.5788 - accuracy: 0.8130\n",
            "Epoch 00040: val_loss improved from 0.37860 to 0.36443, saving model to svnh_cnn_checkpoint_40_loss0.3644.h5\n",
            "73/73 [==============================] - 9s 125ms/step - loss: 0.5788 - accuracy: 0.8130 - val_loss: 0.3644 - val_accuracy: 0.8853\n",
            "Epoch 41/50\n",
            "73/73 [==============================] - ETA: 0s - loss: 0.5706 - accuracy: 0.8143\n",
            "Epoch 00041: val_loss did not improve from 0.36443\n",
            "73/73 [==============================] - 9s 126ms/step - loss: 0.5706 - accuracy: 0.8143 - val_loss: 0.3801 - val_accuracy: 0.8793\n",
            "Epoch 42/50\n",
            "73/73 [==============================] - ETA: 0s - loss: 0.5740 - accuracy: 0.8158\n",
            "Epoch 00042: val_loss did not improve from 0.36443\n",
            "73/73 [==============================] - 9s 124ms/step - loss: 0.5740 - accuracy: 0.8158 - val_loss: 0.3672 - val_accuracy: 0.8827\n",
            "Epoch 43/50\n",
            "73/73 [==============================] - ETA: 0s - loss: 0.5620 - accuracy: 0.8194\n",
            "Epoch 00043: val_loss improved from 0.36443 to 0.35412, saving model to svnh_cnn_checkpoint_43_loss0.3541.h5\n",
            "73/73 [==============================] - 9s 124ms/step - loss: 0.5620 - accuracy: 0.8194 - val_loss: 0.3541 - val_accuracy: 0.8881\n",
            "Epoch 44/50\n",
            "73/73 [==============================] - ETA: 0s - loss: 0.5655 - accuracy: 0.8189\n",
            "Epoch 00044: val_loss did not improve from 0.35412\n",
            "73/73 [==============================] - 9s 124ms/step - loss: 0.5655 - accuracy: 0.8189 - val_loss: 0.3641 - val_accuracy: 0.8842\n",
            "Epoch 45/50\n",
            "73/73 [==============================] - ETA: 0s - loss: 0.5565 - accuracy: 0.8209\n",
            "Epoch 00045: val_loss did not improve from 0.35412\n",
            "73/73 [==============================] - 9s 125ms/step - loss: 0.5565 - accuracy: 0.8209 - val_loss: 0.3560 - val_accuracy: 0.8856\n",
            "Epoch 46/50\n",
            "73/73 [==============================] - ETA: 0s - loss: 0.5496 - accuracy: 0.8222\n",
            "Epoch 00046: val_loss improved from 0.35412 to 0.33997, saving model to svnh_cnn_checkpoint_46_loss0.3400.h5\n",
            "73/73 [==============================] - 9s 125ms/step - loss: 0.5496 - accuracy: 0.8222 - val_loss: 0.3400 - val_accuracy: 0.8930\n",
            "Epoch 47/50\n",
            "73/73 [==============================] - ETA: 0s - loss: 0.5508 - accuracy: 0.8206\n",
            "Epoch 00047: val_loss did not improve from 0.33997\n",
            "73/73 [==============================] - 9s 126ms/step - loss: 0.5508 - accuracy: 0.8206 - val_loss: 0.3449 - val_accuracy: 0.8923\n",
            "Epoch 48/50\n",
            "73/73 [==============================] - ETA: 0s - loss: 0.5438 - accuracy: 0.8248\n",
            "Epoch 00048: val_loss did not improve from 0.33997\n",
            "73/73 [==============================] - 9s 126ms/step - loss: 0.5438 - accuracy: 0.8248 - val_loss: 0.3599 - val_accuracy: 0.8852\n",
            "Epoch 49/50\n",
            "73/73 [==============================] - ETA: 0s - loss: 0.5318 - accuracy: 0.8294\n",
            "Epoch 00049: val_loss did not improve from 0.33997\n",
            "73/73 [==============================] - 9s 125ms/step - loss: 0.5318 - accuracy: 0.8294 - val_loss: 0.3529 - val_accuracy: 0.8884\n",
            "Epoch 50/50\n",
            "73/73 [==============================] - ETA: 0s - loss: 0.5398 - accuracy: 0.8247\n",
            "Epoch 00050: val_loss did not improve from 0.33997\n",
            "73/73 [==============================] - 9s 124ms/step - loss: 0.5398 - accuracy: 0.8247 - val_loss: 0.3471 - val_accuracy: 0.8881\n"
          ],
          "name": "stdout"
        }
      ]
    },
    {
      "cell_type": "code",
      "metadata": {
        "id": "QUtKgUvrzbMT",
        "outputId": "8f9ca7d4-b594-4268-ad37-6bc9fd7a24a3",
        "colab": {
          "base_uri": "https://localhost:8080/",
          "height": 34
        }
      },
      "source": [
        "result= model.evaluate(val_X, val_y)"
      ],
      "execution_count": null,
      "outputs": [
        {
          "output_type": "stream",
          "text": [
            "132/132 [==============================] - 0s 3ms/step - loss: 0.3583 - accuracy: 0.8843\n"
          ],
          "name": "stdout"
        }
      ]
    },
    {
      "cell_type": "code",
      "metadata": {
        "id": "s-LAcHgtzhEt",
        "outputId": "d78f1343-7596-4c00-f988-70a831a11603",
        "colab": {
          "base_uri": "https://localhost:8080/",
          "height": 351
        }
      },
      "source": [
        "model_val_loss = history.history['val_loss']\n",
        "model_train_loss = history.history['loss']\n",
        "model_val_acc = history.history['val_accuracy']\n",
        "model_train_acc = history.history['accuracy']\n",
        "\n",
        "\n",
        "epochs = range(1,51)\n",
        "plt.figure(figsize=(10,5))\n",
        "plt.subplot(1,2,1)\n",
        "plt.plot(epochs, model_val_loss, 'b', label='Validation Loss')\n",
        "plt.plot(epochs, model_train_loss, 'r', label='Training Loss')\n",
        "plt.xlabel('Epochs')\n",
        "plt.ylabel('Loss')\n",
        "plt.legend()\n",
        "\n",
        "plt.subplot(1,2,2)\n",
        "plt.plot(epochs, model_val_acc, 'b', label='Validation Acc')\n",
        "plt.plot(epochs, model_train_acc, 'r', label='Training Acc')\n",
        "plt.xlabel('Epochs')\n",
        "plt.ylabel('Accuracy')\n",
        "plt.legend()"
      ],
      "execution_count": null,
      "outputs": [
        {
          "output_type": "execute_result",
          "data": {
            "text/plain": [
              "<matplotlib.legend.Legend at 0x7fed2dfa5630>"
            ]
          },
          "metadata": {
            "tags": []
          },
          "execution_count": 28
        },
        {
          "output_type": "display_data",
          "data": {
            "image/png": "[encoded data removed]",
            "text/plain": [
              "<Figure size 720x360 with 2 Axes>"
            ]
          },
          "metadata": {
            "tags": [],
            "needs_background": "light"
          }
        }
      ]
    },
    {
      "cell_type": "code",
      "metadata": {
        "id": "KCUGJMjnHRy6",
        "outputId": "320b866d-ba55-444c-d06f-e8d6511cd60d",
        "colab": {
          "base_uri": "https://localhost:8080/",
          "height": 1000
        }
      },
      "source": [
        "# Epochs\n",
        "epochs = 50\n",
        "# Batch size\n",
        "batch_size = 512\n",
        "\n",
        "\n",
        "history = model.fit(train_datagen.flow(train_X,train_y,\n",
        "                                       batch_size=batch_size, \n",
        "                                       seed=27,\n",
        "                                       shuffle=False),\n",
        "                    epochs=epochs,\n",
        "                    steps_per_epoch=train_X.shape[0] // batch_size,\n",
        "                    validation_data=(test_X,test_y),\n",
        "                    verbose=1, callbacks=[tensorboard,early_stopping, model_checkpoint])"
      ],
      "execution_count": null,
      "outputs": [
        {
          "output_type": "stream",
          "text": [
            "Epoch 1/50\n",
            "73/73 [==============================] - ETA: 0s - loss: 0.5322 - accuracy: 0.8276\n",
            "Epoch 00001: val_loss did not improve from 0.33997\n",
            "73/73 [==============================] - 9s 125ms/step - loss: 0.5322 - accuracy: 0.8276 - val_loss: 0.3415 - val_accuracy: 0.8903\n",
            "Epoch 2/50\n",
            "73/73 [==============================] - ETA: 0s - loss: 0.5306 - accuracy: 0.8296\n",
            "Epoch 00002: val_loss improved from 0.33997 to 0.33955, saving model to svnh_cnn_checkpoint_02_loss0.3395.h5\n",
            "73/73 [==============================] - 9s 124ms/step - loss: 0.5306 - accuracy: 0.8296 - val_loss: 0.3395 - val_accuracy: 0.8914\n",
            "Epoch 3/50\n",
            "73/73 [==============================] - ETA: 0s - loss: 0.5188 - accuracy: 0.8324\n",
            "Epoch 00003: val_loss did not improve from 0.33955\n",
            "73/73 [==============================] - 9s 125ms/step - loss: 0.5188 - accuracy: 0.8324 - val_loss: 0.3398 - val_accuracy: 0.8929\n",
            "Epoch 4/50\n",
            "73/73 [==============================] - ETA: 0s - loss: 0.5240 - accuracy: 0.8313\n",
            "Epoch 00004: val_loss improved from 0.33955 to 0.32906, saving model to svnh_cnn_checkpoint_04_loss0.3291.h5\n",
            "73/73 [==============================] - 9s 125ms/step - loss: 0.5240 - accuracy: 0.8313 - val_loss: 0.3291 - val_accuracy: 0.8972\n",
            "Epoch 5/50\n",
            "73/73 [==============================] - ETA: 0s - loss: 0.5176 - accuracy: 0.8344\n",
            "Epoch 00005: val_loss improved from 0.32906 to 0.32532, saving model to svnh_cnn_checkpoint_05_loss0.3253.h5\n",
            "73/73 [==============================] - 9s 125ms/step - loss: 0.5176 - accuracy: 0.8344 - val_loss: 0.3253 - val_accuracy: 0.8970\n",
            "Epoch 6/50\n",
            "73/73 [==============================] - ETA: 0s - loss: 0.5104 - accuracy: 0.8367\n",
            "Epoch 00006: val_loss did not improve from 0.32532\n",
            "73/73 [==============================] - 9s 127ms/step - loss: 0.5104 - accuracy: 0.8367 - val_loss: 0.3317 - val_accuracy: 0.8961\n",
            "Epoch 7/50\n",
            "73/73 [==============================] - ETA: 0s - loss: 0.5090 - accuracy: 0.8370\n",
            "Epoch 00007: val_loss improved from 0.32532 to 0.32355, saving model to svnh_cnn_checkpoint_07_loss0.3236.h5\n",
            "73/73 [==============================] - 9s 125ms/step - loss: 0.5090 - accuracy: 0.8370 - val_loss: 0.3236 - val_accuracy: 0.8995\n",
            "Epoch 8/50\n",
            "73/73 [==============================] - ETA: 0s - loss: 0.5021 - accuracy: 0.8403\n",
            "Epoch 00008: val_loss did not improve from 0.32355\n",
            "73/73 [==============================] - 9s 125ms/step - loss: 0.5021 - accuracy: 0.8403 - val_loss: 0.3279 - val_accuracy: 0.8988\n",
            "Epoch 9/50\n",
            "73/73 [==============================] - ETA: 0s - loss: 0.4994 - accuracy: 0.8393\n",
            "Epoch 00009: val_loss did not improve from 0.32355\n",
            "73/73 [==============================] - 9s 125ms/step - loss: 0.4994 - accuracy: 0.8393 - val_loss: 0.3248 - val_accuracy: 0.8997\n",
            "Epoch 10/50\n",
            "73/73 [==============================] - ETA: 0s - loss: 0.4965 - accuracy: 0.8398\n",
            "Epoch 00010: val_loss did not improve from 0.32355\n",
            "73/73 [==============================] - 9s 125ms/step - loss: 0.4965 - accuracy: 0.8398 - val_loss: 0.3287 - val_accuracy: 0.8963\n",
            "Epoch 11/50\n",
            "73/73 [==============================] - ETA: 0s - loss: 0.4922 - accuracy: 0.8406\n",
            "Epoch 00011: val_loss improved from 0.32355 to 0.32304, saving model to svnh_cnn_checkpoint_11_loss0.3230.h5\n",
            "73/73 [==============================] - 9s 125ms/step - loss: 0.4922 - accuracy: 0.8406 - val_loss: 0.3230 - val_accuracy: 0.8987\n",
            "Epoch 12/50\n",
            "73/73 [==============================] - ETA: 0s - loss: 0.4881 - accuracy: 0.8442\n",
            "Epoch 00012: val_loss did not improve from 0.32304\n",
            "73/73 [==============================] - 9s 125ms/step - loss: 0.4881 - accuracy: 0.8442 - val_loss: 0.3285 - val_accuracy: 0.8970\n",
            "Epoch 13/50\n",
            "73/73 [==============================] - ETA: 0s - loss: 0.4958 - accuracy: 0.8421\n",
            "Epoch 00013: val_loss did not improve from 0.32304\n",
            "73/73 [==============================] - 9s 126ms/step - loss: 0.4958 - accuracy: 0.8421 - val_loss: 0.3333 - val_accuracy: 0.8971\n",
            "Epoch 14/50\n",
            "73/73 [==============================] - ETA: 0s - loss: 0.4963 - accuracy: 0.8416\n",
            "Epoch 00014: val_loss did not improve from 0.32304\n",
            "73/73 [==============================] - 9s 126ms/step - loss: 0.4963 - accuracy: 0.8416 - val_loss: 0.3252 - val_accuracy: 0.8998\n",
            "Epoch 15/50\n",
            "73/73 [==============================] - ETA: 0s - loss: 0.4891 - accuracy: 0.8421\n",
            "Epoch 00015: val_loss improved from 0.32304 to 0.32187, saving model to svnh_cnn_checkpoint_15_loss0.3219.h5\n",
            "73/73 [==============================] - 9s 126ms/step - loss: 0.4891 - accuracy: 0.8421 - val_loss: 0.3219 - val_accuracy: 0.9016\n",
            "Epoch 16/50\n",
            "73/73 [==============================] - ETA: 0s - loss: 0.4868 - accuracy: 0.8440\n",
            "Epoch 00016: val_loss improved from 0.32187 to 0.30877, saving model to svnh_cnn_checkpoint_16_loss0.3088.h5\n",
            "73/73 [==============================] - 9s 126ms/step - loss: 0.4868 - accuracy: 0.8440 - val_loss: 0.3088 - val_accuracy: 0.9055\n",
            "Epoch 17/50\n",
            "73/73 [==============================] - ETA: 0s - loss: 0.4745 - accuracy: 0.8491\n",
            "Epoch 00017: val_loss did not improve from 0.30877\n",
            "73/73 [==============================] - 9s 126ms/step - loss: 0.4745 - accuracy: 0.8491 - val_loss: 0.3120 - val_accuracy: 0.9039\n",
            "Epoch 18/50\n",
            "73/73 [==============================] - ETA: 0s - loss: 0.4793 - accuracy: 0.8462\n",
            "Epoch 00018: val_loss improved from 0.30877 to 0.30595, saving model to svnh_cnn_checkpoint_18_loss0.3060.h5\n",
            "73/73 [==============================] - 9s 125ms/step - loss: 0.4793 - accuracy: 0.8462 - val_loss: 0.3060 - val_accuracy: 0.9041\n",
            "Epoch 19/50\n",
            "73/73 [==============================] - ETA: 0s - loss: 0.4770 - accuracy: 0.8475\n",
            "Epoch 00019: val_loss did not improve from 0.30595\n",
            "73/73 [==============================] - 9s 125ms/step - loss: 0.4770 - accuracy: 0.8475 - val_loss: 0.3156 - val_accuracy: 0.9023\n",
            "Epoch 20/50\n",
            "73/73 [==============================] - ETA: 0s - loss: 0.4732 - accuracy: 0.8478\n",
            "Epoch 00020: val_loss did not improve from 0.30595\n",
            "73/73 [==============================] - 9s 125ms/step - loss: 0.4732 - accuracy: 0.8478 - val_loss: 0.3065 - val_accuracy: 0.9063\n",
            "Epoch 21/50\n",
            "73/73 [==============================] - ETA: 0s - loss: 0.4717 - accuracy: 0.8488\n",
            "Epoch 00021: val_loss did not improve from 0.30595\n",
            "73/73 [==============================] - 9s 126ms/step - loss: 0.4717 - accuracy: 0.8488 - val_loss: 0.3061 - val_accuracy: 0.9058\n",
            "Epoch 22/50\n",
            "73/73 [==============================] - ETA: 0s - loss: 0.4665 - accuracy: 0.8510\n",
            "Epoch 00022: val_loss did not improve from 0.30595\n",
            "73/73 [==============================] - 9s 126ms/step - loss: 0.4665 - accuracy: 0.8510 - val_loss: 0.3179 - val_accuracy: 0.8996\n",
            "Epoch 23/50\n",
            "73/73 [==============================] - ETA: 0s - loss: 0.4655 - accuracy: 0.8499\n",
            "Epoch 00023: val_loss did not improve from 0.30595\n",
            "73/73 [==============================] - 9s 129ms/step - loss: 0.4655 - accuracy: 0.8499 - val_loss: 0.3112 - val_accuracy: 0.9043\n",
            "Epoch 24/50\n",
            "73/73 [==============================] - ETA: 0s - loss: 0.4560 - accuracy: 0.8532\n",
            "Epoch 00024: val_loss improved from 0.30595 to 0.30576, saving model to svnh_cnn_checkpoint_24_loss0.3058.h5\n",
            "73/73 [==============================] - 9s 130ms/step - loss: 0.4560 - accuracy: 0.8532 - val_loss: 0.3058 - val_accuracy: 0.9056\n",
            "Epoch 25/50\n",
            "73/73 [==============================] - ETA: 0s - loss: 0.4564 - accuracy: 0.8538\n",
            "Epoch 00025: val_loss improved from 0.30576 to 0.30399, saving model to svnh_cnn_checkpoint_25_loss0.3040.h5\n",
            "73/73 [==============================] - 9s 124ms/step - loss: 0.4564 - accuracy: 0.8538 - val_loss: 0.3040 - val_accuracy: 0.9067\n",
            "Epoch 26/50\n",
            "73/73 [==============================] - ETA: 0s - loss: 0.4578 - accuracy: 0.8534\n",
            "Epoch 00026: val_loss did not improve from 0.30399\n",
            "73/73 [==============================] - 9s 124ms/step - loss: 0.4578 - accuracy: 0.8534 - val_loss: 0.3177 - val_accuracy: 0.9019\n",
            "Epoch 27/50\n",
            "73/73 [==============================] - ETA: 0s - loss: 0.4550 - accuracy: 0.8534\n",
            "Epoch 00027: val_loss did not improve from 0.30399\n",
            "73/73 [==============================] - 9s 124ms/step - loss: 0.4550 - accuracy: 0.8534 - val_loss: 0.3095 - val_accuracy: 0.9053\n",
            "Epoch 28/50\n",
            "73/73 [==============================] - ETA: 0s - loss: 0.4518 - accuracy: 0.8545\n",
            "Epoch 00028: val_loss did not improve from 0.30399\n",
            "73/73 [==============================] - 9s 124ms/step - loss: 0.4518 - accuracy: 0.8545 - val_loss: 0.3167 - val_accuracy: 0.9030\n",
            "Epoch 29/50\n",
            "73/73 [==============================] - ETA: 0s - loss: 0.4556 - accuracy: 0.8541\n",
            "Epoch 00029: val_loss did not improve from 0.30399\n",
            "73/73 [==============================] - 9s 124ms/step - loss: 0.4556 - accuracy: 0.8541 - val_loss: 0.3104 - val_accuracy: 0.9048\n",
            "Epoch 30/50\n",
            "73/73 [==============================] - ETA: 0s - loss: 0.4545 - accuracy: 0.8557\n",
            "Epoch 00030: val_loss did not improve from 0.30399\n",
            "73/73 [==============================] - 9s 123ms/step - loss: 0.4545 - accuracy: 0.8557 - val_loss: 0.3059 - val_accuracy: 0.9057\n",
            "Epoch 31/50\n",
            "73/73 [==============================] - ETA: 0s - loss: 0.4533 - accuracy: 0.8538\n",
            "Epoch 00031: val_loss improved from 0.30399 to 0.29216, saving model to svnh_cnn_checkpoint_31_loss0.2922.h5\n",
            "73/73 [==============================] - 9s 125ms/step - loss: 0.4533 - accuracy: 0.8538 - val_loss: 0.2922 - val_accuracy: 0.9103\n",
            "Epoch 32/50\n",
            "73/73 [==============================] - ETA: 0s - loss: 0.4522 - accuracy: 0.8549\n",
            "Epoch 00032: val_loss did not improve from 0.29216\n",
            "73/73 [==============================] - 9s 125ms/step - loss: 0.4522 - accuracy: 0.8549 - val_loss: 0.3054 - val_accuracy: 0.9056\n",
            "Epoch 33/50\n",
            "73/73 [==============================] - ETA: 0s - loss: 0.4467 - accuracy: 0.8575\n",
            "Epoch 00033: val_loss did not improve from 0.29216\n",
            "73/73 [==============================] - 9s 123ms/step - loss: 0.4467 - accuracy: 0.8575 - val_loss: 0.2980 - val_accuracy: 0.9099\n",
            "Epoch 34/50\n",
            "73/73 [==============================] - ETA: 0s - loss: 0.4422 - accuracy: 0.8594\n",
            "Epoch 00034: val_loss did not improve from 0.29216\n",
            "73/73 [==============================] - 9s 124ms/step - loss: 0.4422 - accuracy: 0.8594 - val_loss: 0.2932 - val_accuracy: 0.9116\n",
            "Epoch 35/50\n",
            "73/73 [==============================] - ETA: 0s - loss: 0.4460 - accuracy: 0.8592\n",
            "Epoch 00035: val_loss did not improve from 0.29216\n",
            "73/73 [==============================] - 9s 125ms/step - loss: 0.4460 - accuracy: 0.8592 - val_loss: 0.2979 - val_accuracy: 0.9084\n",
            "Epoch 36/50\n",
            "73/73 [==============================] - ETA: 0s - loss: 0.4396 - accuracy: 0.8594\n",
            "Epoch 00036: val_loss did not improve from 0.29216\n",
            "73/73 [==============================] - 9s 124ms/step - loss: 0.4396 - accuracy: 0.8594 - val_loss: 0.2927 - val_accuracy: 0.9103\n",
            "Epoch 37/50\n",
            "73/73 [==============================] - ETA: 0s - loss: 0.4453 - accuracy: 0.8596\n",
            "Epoch 00037: val_loss improved from 0.29216 to 0.28588, saving model to svnh_cnn_checkpoint_37_loss0.2859.h5\n",
            "73/73 [==============================] - 9s 124ms/step - loss: 0.4453 - accuracy: 0.8596 - val_loss: 0.2859 - val_accuracy: 0.9118\n",
            "Epoch 38/50\n",
            "73/73 [==============================] - ETA: 0s - loss: 0.4294 - accuracy: 0.8621\n",
            "Epoch 00038: val_loss did not improve from 0.28588\n",
            "73/73 [==============================] - 9s 124ms/step - loss: 0.4294 - accuracy: 0.8621 - val_loss: 0.2919 - val_accuracy: 0.9117\n",
            "Epoch 39/50\n",
            "73/73 [==============================] - ETA: 0s - loss: 0.4396 - accuracy: 0.8597\n",
            "Epoch 00039: val_loss did not improve from 0.28588\n",
            "73/73 [==============================] - 9s 124ms/step - loss: 0.4396 - accuracy: 0.8597 - val_loss: 0.2864 - val_accuracy: 0.9137\n",
            "Epoch 40/50\n",
            "73/73 [==============================] - ETA: 0s - loss: 0.4343 - accuracy: 0.8615\n",
            "Epoch 00040: val_loss did not improve from 0.28588\n",
            "73/73 [==============================] - 9s 124ms/step - loss: 0.4343 - accuracy: 0.8615 - val_loss: 0.2942 - val_accuracy: 0.9106\n",
            "Epoch 41/50\n",
            "73/73 [==============================] - ETA: 0s - loss: 0.4337 - accuracy: 0.8583\n",
            "Epoch 00041: val_loss did not improve from 0.28588\n",
            "73/73 [==============================] - 9s 125ms/step - loss: 0.4337 - accuracy: 0.8583 - val_loss: 0.2910 - val_accuracy: 0.9116\n",
            "Epoch 42/50\n",
            "73/73 [==============================] - ETA: 0s - loss: 0.4319 - accuracy: 0.8620\n",
            "Epoch 00042: val_loss did not improve from 0.28588\n",
            "73/73 [==============================] - 9s 123ms/step - loss: 0.4319 - accuracy: 0.8620 - val_loss: 0.2952 - val_accuracy: 0.9083\n",
            "Epoch 43/50\n",
            "73/73 [==============================] - ETA: 0s - loss: 0.4352 - accuracy: 0.8595\n",
            "Epoch 00043: val_loss did not improve from 0.28588\n",
            "73/73 [==============================] - 9s 125ms/step - loss: 0.4352 - accuracy: 0.8595 - val_loss: 0.2927 - val_accuracy: 0.9122\n",
            "Epoch 44/50\n",
            "73/73 [==============================] - ETA: 0s - loss: 0.4307 - accuracy: 0.8630\n",
            "Epoch 00044: val_loss did not improve from 0.28588\n",
            "73/73 [==============================] - 9s 124ms/step - loss: 0.4307 - accuracy: 0.8630 - val_loss: 0.2896 - val_accuracy: 0.9117\n",
            "Epoch 45/50\n",
            "73/73 [==============================] - ETA: 0s - loss: 0.4253 - accuracy: 0.8634\n",
            "Epoch 00045: val_loss improved from 0.28588 to 0.28467, saving model to svnh_cnn_checkpoint_45_loss0.2847.h5\n",
            "73/73 [==============================] - 9s 124ms/step - loss: 0.4253 - accuracy: 0.8634 - val_loss: 0.2847 - val_accuracy: 0.9135\n",
            "Epoch 46/50\n",
            "73/73 [==============================] - ETA: 0s - loss: 0.4328 - accuracy: 0.8613\n",
            "Epoch 00046: val_loss did not improve from 0.28467\n",
            "73/73 [==============================] - 9s 124ms/step - loss: 0.4328 - accuracy: 0.8613 - val_loss: 0.2961 - val_accuracy: 0.9107\n",
            "Epoch 47/50\n",
            "73/73 [==============================] - ETA: 0s - loss: 0.4248 - accuracy: 0.8635\n",
            "Epoch 00047: val_loss did not improve from 0.28467\n",
            "73/73 [==============================] - 9s 124ms/step - loss: 0.4248 - accuracy: 0.8635 - val_loss: 0.2886 - val_accuracy: 0.9122\n",
            "Epoch 48/50\n",
            "73/73 [==============================] - ETA: 0s - loss: 0.4253 - accuracy: 0.8626\n",
            "Epoch 00048: val_loss did not improve from 0.28467\n",
            "73/73 [==============================] - 9s 125ms/step - loss: 0.4253 - accuracy: 0.8626 - val_loss: 0.2944 - val_accuracy: 0.9106\n",
            "Epoch 49/50\n",
            "73/73 [==============================] - ETA: 0s - loss: 0.4185 - accuracy: 0.8661\n",
            "Epoch 00049: val_loss improved from 0.28467 to 0.28360, saving model to svnh_cnn_checkpoint_49_loss0.2836.h5\n",
            "73/73 [==============================] - 9s 124ms/step - loss: 0.4185 - accuracy: 0.8661 - val_loss: 0.2836 - val_accuracy: 0.9154\n",
            "Epoch 50/50\n",
            "73/73 [==============================] - ETA: 0s - loss: 0.4259 - accuracy: 0.8634\n",
            "Epoch 00050: val_loss did not improve from 0.28360\n",
            "73/73 [==============================] - 9s 124ms/step - loss: 0.4259 - accuracy: 0.8634 - val_loss: 0.2863 - val_accuracy: 0.9132\n"
          ],
          "name": "stdout"
        }
      ]
    },
    {
      "cell_type": "code",
      "metadata": {
        "id": "Gd7EBuz__f8g",
        "outputId": "52eccdae-fe37-404f-af67-b0d32bcb4dac",
        "colab": {
          "base_uri": "https://localhost:8080/",
          "height": 34
        }
      },
      "source": [
        "results = model.evaluate(val_X, val_y)"
      ],
      "execution_count": null,
      "outputs": [
        {
          "output_type": "stream",
          "text": [
            "132/132 [==============================] - 0s 3ms/step - loss: 0.2981 - accuracy: 0.9064\n"
          ],
          "name": "stdout"
        }
      ]
    },
    {
      "cell_type": "code",
      "metadata": {
        "id": "7kb_Gyyt5tfp",
        "outputId": "81275073-d82f-403b-ba49-d1b102a026d6",
        "colab": {
          "base_uri": "https://localhost:8080/",
          "height": 351
        }
      },
      "source": [
        "model_val_loss = history.history['val_loss']\n",
        "model_train_loss = history.history['loss']\n",
        "model_val_acc = history.history['val_accuracy']\n",
        "model_train_acc = history.history['accuracy']\n",
        "\n",
        "\n",
        "epochs = range(1,51)\n",
        "plt.figure(figsize=(10,5))\n",
        "plt.subplot(1,2,1)\n",
        "plt.plot(epochs, model_val_loss, 'b', label='Validation Loss')\n",
        "plt.plot(epochs, model_train_loss, 'r', label='Training Loss')\n",
        "plt.xlabel('Epochs')\n",
        "plt.ylabel('Loss')\n",
        "plt.legend()\n",
        "\n",
        "plt.subplot(1,2,2)\n",
        "plt.plot(epochs, model_val_acc, 'b', label='Validation Acc')\n",
        "plt.plot(epochs, model_train_acc, 'r', label='Training Acc')\n",
        "plt.xlabel('Epochs')\n",
        "plt.ylabel('Accuracy')\n",
        "plt.legend()"
      ],
      "execution_count": null,
      "outputs": [
        {
          "output_type": "execute_result",
          "data": {
            "text/plain": [
              "<matplotlib.legend.Legend at 0x7fed2d253f60>"
            ]
          },
          "metadata": {
            "tags": []
          },
          "execution_count": 43
        },
        {
          "output_type": "display_data",
          "data": {
            "image/png": "[encoded data removed]",
            "text/plain": [
              "<Figure size 720x360 with 2 Axes>"
            ]
          },
          "metadata": {
            "tags": [],
            "needs_background": "light"
          }
        }
      ]
    },
    {
      "cell_type": "code",
      "metadata": {
        "id": "LGeWB6oQ5tq6"
      },
      "source": [
        ""
      ],
      "execution_count": null,
      "outputs": []
    },
    {
      "cell_type": "markdown",
      "metadata": {
        "id": "-OUU1schIVgZ"
      },
      "source": [
        "### Vizualizing Test Predictions"
      ]
    },
    {
      "cell_type": "code",
      "metadata": {
        "id": "IYK53xqz5tyF",
        "outputId": "730300f2-9137-4fa0-fc02-fbe635fee222",
        "colab": {
          "base_uri": "https://localhost:8080/",
          "height": 494
        }
      },
      "source": [
        "import numpy as np\n",
        "\n",
        "plt.figure(figsize=(2,2))\n",
        "plt.imshow(X_test[50])\n",
        "plt.show()\n",
        "print( \"Actual Digit is: \",np.argmax(model.predict(test_X)[50]))\n",
        "\n",
        "plt.figure(figsize=(2,2))\n",
        "plt.imshow(X_test[500])\n",
        "plt.show()\n",
        "print( \"Actual Digit is: \",np.argmax(model.predict(test_X)[500]))\n",
        "\n",
        "plt.figure(figsize=(2,2))\n",
        "plt.imshow(X_test[1500])\n",
        "plt.show()\n",
        "print( \"Actual Digit is: \",np.argmax(model.predict(test_X)[1500]))\n",
        "#print(np.argmax(model.predict(X_test[3].reshape(784,1))))"
      ],
      "execution_count": null,
      "outputs": [
        {
          "output_type": "display_data",
          "data": {
            "image/png": "[encoded data removed]",
            "text/plain": [
              "<Figure size 144x144 with 1 Axes>"
            ]
          },
          "metadata": {
            "tags": [],
            "needs_background": "light"
          }
        },
        {
          "output_type": "stream",
          "text": [
            "Actual Digit is:  5\n"
          ],
          "name": "stdout"
        },
        {
          "output_type": "display_data",
          "data": {
            "image/png": "[encoded data removed]",
            "text/plain": [
              "<Figure size 144x144 with 1 Axes>"
            ]
          },
          "metadata": {
            "tags": [],
            "needs_background": "light"
          }
        },
        {
          "output_type": "stream",
          "text": [
            "Actual Digit is:  6\n"
          ],
          "name": "stdout"
        },
        {
          "output_type": "display_data",
          "data": {
            "image/png": "[encoded data removed]",
            "text/plain": [
              "<Figure size 144x144 with 1 Axes>"
            ]
          },
          "metadata": {
            "tags": [],
            "needs_background": "light"
          }
        },
        {
          "output_type": "stream",
          "text": [
            "Actual Digit is:  2\n"
          ],
          "name": "stdout"
        }
      ]
    },
    {
      "cell_type": "code",
      "metadata": {
        "id": "fEaaiyYO5t2q"
      },
      "source": [
        ""
      ],
      "execution_count": null,
      "outputs": []
    },
    {
      "cell_type": "markdown",
      "metadata": {
        "id": "wxyTlbT0IcGT"
      },
      "source": [
        "## Save the model to be able to upload the weights later and predict"
      ]
    },
    {
      "cell_type": "code",
      "metadata": {
        "id": "kh2fxCbh5t6s"
      },
      "source": [
        "#Set the path where you want to store the model and weights. \n",
        "model.save('/content/drive/My Drive/Colab Notebooks/AIML/ANN/CNN_svnh.h5')\n",
        "model.save_weights('/content/drive/My Drive/Colab Notebooks/AIML/ANN/CNN_svnh_weights.h5')"
      ],
      "execution_count": null,
      "outputs": []
    },
    {
      "cell_type": "markdown",
      "metadata": {
        "id": "jtXnCr17yv2Z"
      },
      "source": [
        "## Load the model and the weights"
      ]
    },
    {
      "cell_type": "code",
      "metadata": {
        "id": "WMTM-Kkrz95u",
        "outputId": "5dbe96b0-5b6c-4488-db25-d6e5cc2dc8fb",
        "colab": {
          "base_uri": "https://localhost:8080/",
          "height": 890
        }
      },
      "source": [
        "from tensorflow import keras\n",
        "model1 = keras.models.load_model('/content/drive/My Drive/Colab Notebooks/AIML/ANN/CNN_svnh.h5')\n",
        "model1.summary()"
      ],
      "execution_count": null,
      "outputs": [
        {
          "output_type": "stream",
          "text": [
            "Model: \"sequential\"\n",
            "_________________________________________________________________\n",
            "Layer (type)                 Output Shape              Param #   \n",
            "=================================================================\n",
            "conv2d (Conv2D)              (None, 32, 32, 64)        1664      \n",
            "_________________________________________________________________\n",
            "max_pooling2d (MaxPooling2D) (None, 10, 10, 64)        0         \n",
            "_________________________________________________________________\n",
            "dropout (Dropout)            (None, 10, 10, 64)        0         \n",
            "_________________________________________________________________\n",
            "gaussian_noise (GaussianNois (None, 10, 10, 64)        0         \n",
            "_________________________________________________________________\n",
            "conv2d_1 (Conv2D)            (None, 10, 10, 64)        36928     \n",
            "_________________________________________________________________\n",
            "max_pooling2d_1 (MaxPooling2 (None, 5, 5, 64)          0         \n",
            "_________________________________________________________________\n",
            "dropout_1 (Dropout)          (None, 5, 5, 64)          0         \n",
            "_________________________________________________________________\n",
            "gaussian_noise_1 (GaussianNo (None, 5, 5, 64)          0         \n",
            "_________________________________________________________________\n",
            "conv2d_2 (Conv2D)            (None, 5, 5, 32)          18464     \n",
            "_________________________________________________________________\n",
            "max_pooling2d_2 (MaxPooling2 (None, 2, 2, 32)          0         \n",
            "_________________________________________________________________\n",
            "dropout_2 (Dropout)          (None, 2, 2, 32)          0         \n",
            "_________________________________________________________________\n",
            "gaussian_noise_2 (GaussianNo (None, 2, 2, 32)          0         \n",
            "_________________________________________________________________\n",
            "flatten (Flatten)            (None, 128)               0         \n",
            "_________________________________________________________________\n",
            "dropout_3 (Dropout)          (None, 128)               0         \n",
            "_________________________________________________________________\n",
            "dense (Dense)                (None, 512)               66048     \n",
            "_________________________________________________________________\n",
            "batch_normalization (BatchNo (None, 512)               2048      \n",
            "_________________________________________________________________\n",
            "dropout_4 (Dropout)          (None, 512)               0         \n",
            "_________________________________________________________________\n",
            "gaussian_noise_3 (GaussianNo (None, 512)               0         \n",
            "_________________________________________________________________\n",
            "dense_1 (Dense)              (None, 128)               65664     \n",
            "_________________________________________________________________\n",
            "dropout_5 (Dropout)          (None, 128)               0         \n",
            "_________________________________________________________________\n",
            "gaussian_noise_4 (GaussianNo (None, 128)               0         \n",
            "_________________________________________________________________\n",
            "dense_2 (Dense)              (None, 10)                1290      \n",
            "=================================================================\n",
            "Total params: 192,106\n",
            "Trainable params: 191,082\n",
            "Non-trainable params: 1,024\n",
            "_________________________________________________________________\n"
          ],
          "name": "stdout"
        }
      ]
    },
    {
      "cell_type": "code",
      "metadata": {
        "id": "9NgKJnvos-HV"
      },
      "source": [
        "#The pre-trained weights must exist in the current folder\n",
        "model1.load_weights('/content/drive/My Drive/Colab Notebooks/AIML/ANN/CNN_svnh_weights.h5')"
      ],
      "execution_count": null,
      "outputs": []
    },
    {
      "cell_type": "code",
      "metadata": {
        "id": "7Z1YGFe0s9QI"
      },
      "source": [
        "opt= optimizers.Adam(learning_rate=0.001)\n",
        "model1.compile(optimizer = opt, loss='categorical_crossentropy', metrics=['accuracy'])"
      ],
      "execution_count": null,
      "outputs": []
    },
    {
      "cell_type": "code",
      "metadata": {
        "id": "MV_1E1EN9R8M",
        "outputId": "48ac73dd-2f55-4b0c-d615-84a333fde79b",
        "colab": {
          "base_uri": "https://localhost:8080/",
          "height": 50
        }
      },
      "source": [
        "model1.evaluate(val_X,val_y)"
      ],
      "execution_count": null,
      "outputs": [
        {
          "output_type": "stream",
          "text": [
            "132/132 [==============================] - 0s 3ms/step - loss: 0.2981 - accuracy: 0.9064\n"
          ],
          "name": "stdout"
        },
        {
          "output_type": "execute_result",
          "data": {
            "text/plain": [
              "[0.298083633184433, 0.9064285755157471]"
            ]
          },
          "metadata": {
            "tags": []
          },
          "execution_count": 57
        }
      ]
    },
    {
      "cell_type": "markdown",
      "metadata": {
        "id": "s4qdLICr-MSm"
      },
      "source": [
        "## Visualize predictions"
      ]
    },
    {
      "cell_type": "code",
      "metadata": {
        "id": "YpSOWUuf9X_W",
        "outputId": "e7ed2bdd-0693-4cd1-fe67-1a3cb587669a",
        "colab": {
          "base_uri": "https://localhost:8080/",
          "height": 494
        }
      },
      "source": [
        "import numpy as np\n",
        "\n",
        "plt.figure(figsize=(2,2))\n",
        "plt.imshow(X_test[25])\n",
        "plt.show()\n",
        "print( \"Actual Digit is: \",np.argmax(model1.predict(test_X)[25]))\n",
        "\n",
        "plt.figure(figsize=(2,2))\n",
        "plt.imshow(X_test[105])\n",
        "plt.show()\n",
        "print( \"Actual Digit is: \",np.argmax(model1.predict(test_X)[105]))\n",
        "\n",
        "plt.figure(figsize=(2,2))\n",
        "plt.imshow(X_test[1010])\n",
        "plt.show()\n",
        "print( \"Actual Digit is: \",np.argmax(model1.predict(test_X)[1010]))"
      ],
      "execution_count": null,
      "outputs": [
        {
          "output_type": "display_data",
          "data": {
            "image/png": "[encoded data removed]",
            "text/plain": [
              "<Figure size 144x144 with 1 Axes>"
            ]
          },
          "metadata": {
            "tags": [],
            "needs_background": "light"
          }
        },
        {
          "output_type": "stream",
          "text": [
            "Actual Digit is:  2\n"
          ],
          "name": "stdout"
        },
        {
          "output_type": "display_data",
          "data": {
            "image/png": "[encoded data removed]",
            "text/plain": [
              "<Figure size 144x144 with 1 Axes>"
            ]
          },
          "metadata": {
            "tags": [],
            "needs_background": "light"
          }
        },
        {
          "output_type": "stream",
          "text": [
            "Actual Digit is:  4\n"
          ],
          "name": "stdout"
        },
        {
          "output_type": "display_data",
          "data": {
            "image/png": "[encoded data removed]",
            "text/plain": [
              "<Figure size 144x144 with 1 Axes>"
            ]
          },
          "metadata": {
            "tags": [],
            "needs_background": "light"
          }
        },
        {
          "output_type": "stream",
          "text": [
            "Actual Digit is:  2\n"
          ],
          "name": "stdout"
        }
      ]
    },
    {
      "cell_type": "markdown",
      "metadata": {
        "id": "dxFEya7-LhQ4"
      },
      "source": [
        "## Calculate the model performance metrics on both test and val data sets"
      ]
    },
    {
      "cell_type": "code",
      "metadata": {
        "id": "OS8dZBQg5t-d"
      },
      "source": [
        "results = model1.predict(test_X)\n",
        "results = np.argmax(results,axis = 1)"
      ],
      "execution_count": null,
      "outputs": []
    },
    {
      "cell_type": "code",
      "metadata": {
        "id": "lWeZW0Kl5uGE",
        "outputId": "1591890b-b148-49a6-ffe1-a5f24212dad5",
        "colab": {
          "base_uri": "https://localhost:8080/",
          "height": 302
        }
      },
      "source": [
        "from sklearn.metrics import classification_report\n",
        "print(classification_report(results, y_test))"
      ],
      "execution_count": null,
      "outputs": [
        {
          "output_type": "stream",
          "text": [
            "              precision    recall  f1-score   support\n",
            "\n",
            "           0       0.95      0.90      0.93      1926\n",
            "           1       0.92      0.90      0.91      1877\n",
            "           2       0.93      0.92      0.92      1825\n",
            "           3       0.88      0.86      0.87      1760\n",
            "           4       0.94      0.94      0.94      1812\n",
            "           5       0.89      0.91      0.90      1716\n",
            "           6       0.89      0.91      0.90      1790\n",
            "           7       0.92      0.95      0.94      1758\n",
            "           8       0.90      0.92      0.91      1779\n",
            "           9       0.91      0.93      0.92      1757\n",
            "\n",
            "    accuracy                           0.91     18000\n",
            "   macro avg       0.91      0.91      0.91     18000\n",
            "weighted avg       0.91      0.91      0.91     18000\n",
            "\n"
          ],
          "name": "stdout"
        }
      ]
    },
    {
      "cell_type": "code",
      "metadata": {
        "id": "xFlc9iw1L-5B",
        "outputId": "243750af-712d-4292-ad11-ebe4de488d71",
        "colab": {
          "base_uri": "https://localhost:8080/",
          "height": 34
        }
      },
      "source": [
        "y_val = np.argmax(val_y,axis = 1)\n",
        "y_val[11]"
      ],
      "execution_count": null,
      "outputs": [
        {
          "output_type": "execute_result",
          "data": {
            "text/plain": [
              "3"
            ]
          },
          "metadata": {
            "tags": []
          },
          "execution_count": 63
        }
      ]
    },
    {
      "cell_type": "code",
      "metadata": {
        "id": "tRoiL4bf5uXi",
        "outputId": "34370278-e26c-4829-c5d4-b413361c8c44",
        "colab": {
          "base_uri": "https://localhost:8080/",
          "height": 302
        }
      },
      "source": [
        "results = model1.predict(val_X)\n",
        "results = np.argmax(results,axis = 1)\n",
        "print(classification_report(results, y_val))"
      ],
      "execution_count": null,
      "outputs": [
        {
          "output_type": "stream",
          "text": [
            "              precision    recall  f1-score   support\n",
            "\n",
            "           0       0.94      0.91      0.92       428\n",
            "           1       0.93      0.89      0.91       436\n",
            "           2       0.94      0.91      0.92       432\n",
            "           3       0.89      0.86      0.87       440\n",
            "           4       0.93      0.94      0.94       417\n",
            "           5       0.87      0.91      0.89       405\n",
            "           6       0.84      0.91      0.87       384\n",
            "           7       0.93      0.94      0.93       415\n",
            "           8       0.88      0.89      0.88       413\n",
            "           9       0.93      0.90      0.92       430\n",
            "\n",
            "    accuracy                           0.91      4200\n",
            "   macro avg       0.91      0.91      0.91      4200\n",
            "weighted avg       0.91      0.91      0.91      4200\n",
            "\n"
          ],
          "name": "stdout"
        }
      ]
    },
    {
      "cell_type": "code",
      "metadata": {
        "id": "IAjS4eRb3IZk"
      },
      "source": [
        ""
      ],
      "execution_count": null,
      "outputs": []
    },
    {
      "cell_type": "markdown",
      "metadata": {
        "id": "VWvdLdCAy0_5"
      },
      "source": [
        ""
      ]
    }
  ]
}